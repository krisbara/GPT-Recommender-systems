{
 "cells": [
  {
   "cell_type": "code",
   "execution_count": 62,
   "metadata": {},
   "outputs": [],
   "source": [
    "# imports\n",
    "import pandas as pd\n",
    "import numpy as np\n",
    "from scipy.stats import pearsonr\n",
    "import os"
   ]
  },
  {
   "cell_type": "code",
   "execution_count": 2,
   "metadata": {},
   "outputs": [
    {
     "data": {
      "text/html": [
       "<div>\n",
       "<style scoped>\n",
       "    .dataframe tbody tr th:only-of-type {\n",
       "        vertical-align: middle;\n",
       "    }\n",
       "\n",
       "    .dataframe tbody tr th {\n",
       "        vertical-align: top;\n",
       "    }\n",
       "\n",
       "    .dataframe thead th {\n",
       "        text-align: right;\n",
       "    }\n",
       "</style>\n",
       "<table border=\"1\" class=\"dataframe\">\n",
       "  <thead>\n",
       "    <tr style=\"text-align: right;\">\n",
       "      <th></th>\n",
       "      <th>User</th>\n",
       "      <th>ID</th>\n",
       "      <th>Interactions_emb</th>\n",
       "    </tr>\n",
       "  </thead>\n",
       "  <tbody>\n",
       "    <tr>\n",
       "      <th>0</th>\n",
       "      <td>U244</td>\n",
       "      <td>N17157 N38621 N35022 N50578 N264 N9120 N23907 ...</td>\n",
       "      <td>[-0.005149974951877837, -0.013250857458654631,...</td>\n",
       "    </tr>\n",
       "    <tr>\n",
       "      <th>1</th>\n",
       "      <td>U68369</td>\n",
       "      <td>N19381 N54536</td>\n",
       "      <td>[0.0025621717686590273, 0.004183989018201828, ...</td>\n",
       "    </tr>\n",
       "    <tr>\n",
       "      <th>2</th>\n",
       "      <td>U50236</td>\n",
       "      <td>N4020 N44292 N50292 N40772 N57737 N33969 N4054...</td>\n",
       "      <td>[-0.010138329240492436, -0.01179651383115145, ...</td>\n",
       "    </tr>\n",
       "    <tr>\n",
       "      <th>3</th>\n",
       "      <td>U77060</td>\n",
       "      <td>N23105 N41375</td>\n",
       "      <td>[-0.005568941123783588, -0.025914330035448074,...</td>\n",
       "    </tr>\n",
       "    <tr>\n",
       "      <th>4</th>\n",
       "      <td>U5596</td>\n",
       "      <td>N459 N56253 N62931 N55846 N29849 N45729 N62834...</td>\n",
       "      <td>[-0.012533644353970886, -0.011675744312297967,...</td>\n",
       "    </tr>\n",
       "  </tbody>\n",
       "</table>\n",
       "</div>"
      ],
      "text/plain": [
       "     User                                                 ID  \\\n",
       "0    U244  N17157 N38621 N35022 N50578 N264 N9120 N23907 ...   \n",
       "1  U68369                                      N19381 N54536   \n",
       "2  U50236  N4020 N44292 N50292 N40772 N57737 N33969 N4054...   \n",
       "3  U77060                                      N23105 N41375   \n",
       "4   U5596  N459 N56253 N62931 N55846 N29849 N45729 N62834...   \n",
       "\n",
       "                                    Interactions_emb  \n",
       "0  [-0.005149974951877837, -0.013250857458654631,...  \n",
       "1  [0.0025621717686590273, 0.004183989018201828, ...  \n",
       "2  [-0.010138329240492436, -0.01179651383115145, ...  \n",
       "3  [-0.005568941123783588, -0.025914330035448074,...  \n",
       "4  [-0.012533644353970886, -0.011675744312297967,...  "
      ]
     },
     "execution_count": 2,
     "metadata": {},
     "output_type": "execute_result"
    }
   ],
   "source": [
    "#users = interactions_emb\n",
    "interactions = pd.read_csv(\"embeddings/users_filtered_final.csv\") #document with user interactions\n",
    "interactions.head()"
   ]
  },
  {
   "cell_type": "code",
   "execution_count": 3,
   "metadata": {},
   "outputs": [
    {
     "data": {
      "text/html": [
       "<div>\n",
       "<style scoped>\n",
       "    .dataframe tbody tr th:only-of-type {\n",
       "        vertical-align: middle;\n",
       "    }\n",
       "\n",
       "    .dataframe tbody tr th {\n",
       "        vertical-align: top;\n",
       "    }\n",
       "\n",
       "    .dataframe thead th {\n",
       "        text-align: right;\n",
       "    }\n",
       "</style>\n",
       "<table border=\"1\" class=\"dataframe\">\n",
       "  <thead>\n",
       "    <tr style=\"text-align: right;\">\n",
       "      <th></th>\n",
       "      <th>ID</th>\n",
       "      <th>Category</th>\n",
       "      <th>SubCategory</th>\n",
       "      <th>Content</th>\n",
       "      <th>Content_emb</th>\n",
       "    </tr>\n",
       "  </thead>\n",
       "  <tbody>\n",
       "    <tr>\n",
       "      <th>0</th>\n",
       "      <td>N55528</td>\n",
       "      <td>lifestyle</td>\n",
       "      <td>lifestyleroyals</td>\n",
       "      <td>The Brands Queen Elizabeth, Prince Charles, an...</td>\n",
       "      <td>[0.005885085556656122, -0.007782096974551678, ...</td>\n",
       "    </tr>\n",
       "    <tr>\n",
       "      <th>1</th>\n",
       "      <td>N19639</td>\n",
       "      <td>health</td>\n",
       "      <td>weightloss</td>\n",
       "      <td>50 Worst Habits For Belly Fat These seemingly ...</td>\n",
       "      <td>[-0.004876355174928904, -0.007969613187015057,...</td>\n",
       "    </tr>\n",
       "    <tr>\n",
       "      <th>2</th>\n",
       "      <td>N61837</td>\n",
       "      <td>news</td>\n",
       "      <td>newsworld</td>\n",
       "      <td>The Cost of Trump's Aid Freeze in the Trenches...</td>\n",
       "      <td>[-0.02760046347975731, -0.013719998300075531, ...</td>\n",
       "    </tr>\n",
       "    <tr>\n",
       "      <th>3</th>\n",
       "      <td>N53526</td>\n",
       "      <td>health</td>\n",
       "      <td>voices</td>\n",
       "      <td>I Was An NBA Wife. Here's How It Affected My M...</td>\n",
       "      <td>[-0.0297758337110281, -0.014837449416518211, 0...</td>\n",
       "    </tr>\n",
       "    <tr>\n",
       "      <th>4</th>\n",
       "      <td>N38324</td>\n",
       "      <td>health</td>\n",
       "      <td>medical</td>\n",
       "      <td>How to Get Rid of Skin Tags, According to a De...</td>\n",
       "      <td>[0.005073545966297388, 0.004160495940595865, 0...</td>\n",
       "    </tr>\n",
       "  </tbody>\n",
       "</table>\n",
       "</div>"
      ],
      "text/plain": [
       "       ID   Category      SubCategory  \\\n",
       "0  N55528  lifestyle  lifestyleroyals   \n",
       "1  N19639     health       weightloss   \n",
       "2  N61837       news        newsworld   \n",
       "3  N53526     health           voices   \n",
       "4  N38324     health          medical   \n",
       "\n",
       "                                             Content  \\\n",
       "0  The Brands Queen Elizabeth, Prince Charles, an...   \n",
       "1  50 Worst Habits For Belly Fat These seemingly ...   \n",
       "2  The Cost of Trump's Aid Freeze in the Trenches...   \n",
       "3  I Was An NBA Wife. Here's How It Affected My M...   \n",
       "4  How to Get Rid of Skin Tags, According to a De...   \n",
       "\n",
       "                                         Content_emb  \n",
       "0  [0.005885085556656122, -0.007782096974551678, ...  \n",
       "1  [-0.004876355174928904, -0.007969613187015057,...  \n",
       "2  [-0.02760046347975731, -0.013719998300075531, ...  \n",
       "3  [-0.0297758337110281, -0.014837449416518211, 0...  \n",
       "4  [0.005073545966297388, 0.004160495940595865, 0...  "
      ]
     },
     "execution_count": 3,
     "metadata": {},
     "output_type": "execute_result"
    }
   ],
   "source": [
    "#load the data with news articles\n",
    "news = pd.read_csv(\"embeddings/news_emb_final.csv\") #document with news content\n",
    "news.head()"
   ]
  },
  {
   "cell_type": "code",
   "execution_count": 60,
   "metadata": {},
   "outputs": [],
   "source": [
    "def list_ids_in_folder(folder_path):\n",
    "    ids = set()\n",
    "    \n",
    "    for filename in os.listdir(folder_path):\n",
    "        if filename.endswith(\".csv\"):\n",
    "            # Extracting the ID from the filename\n",
    "            file_id = filename.split(\"_\")[0][1:]\n",
    "            ids.add(file_id)\n",
    "    \n",
    "    return list(ids)"
   ]
  },
  {
   "cell_type": "code",
   "execution_count": 64,
   "metadata": {},
   "outputs": [
    {
     "data": {
      "text/plain": [
       "3009"
      ]
     },
     "execution_count": 64,
     "metadata": {},
     "output_type": "execute_result"
    }
   ],
   "source": [
    "folder_path = 'content_recommendations'\n",
    "users_list = list_ids_in_folder(folder_path)\n",
    "users_list = ['U' + num for num in users_list]\n",
    "len(users_list)"
   ]
  },
  {
   "cell_type": "code",
   "execution_count": 82,
   "metadata": {},
   "outputs": [],
   "source": [
    "def category_correlation(method, n_recommend):\n",
    "    \n",
    "    all_pearson = []\n",
    "    all_pvalue = []\n",
    "    \n",
    "    if method == \"content\":\n",
    "        folder_path = 'content_recommendations'\n",
    "    \n",
    "    users_list = list_ids_in_folder(folder_path)\n",
    "    users_list = ['U' + num for num in users_list]\n",
    "    \n",
    "    for user_id in users_list:\n",
    "        if method == \"content\":\n",
    "            item_path = \"content_recommendations/\" + user_id + \"_content.csv\"\n",
    "        read_articles = interactions[interactions['User'] == user_id]['ID'].str.split().explode().tolist()\n",
    "        user_news_df = news[news['ID'].isin(read_articles)]\n",
    "        categ_counts_user = user_news_df['Category'].value_counts()\n",
    "            \n",
    "        recommendation_df = pd.read_csv(item_path)\n",
    "        recpmmendations = recommendation_df.head(n_recommend)\n",
    "        rec_list = recpmmendations['ID'].tolist() \n",
    "        user_news_rec = news[news['ID'].isin(rec_list)]\n",
    "        recom_counts_user = user_news_rec['Category'].value_counts()\n",
    "            \n",
    "        merged_df = pd.concat([recom_counts_user, categ_counts_user], axis=1, sort=False).fillna(0)\n",
    "        merged_df.columns = ['recommend', 'profiles']\n",
    "        \n",
    "        try:\n",
    "            correlation, p_value = pearsonr(merged_df['recommend'], merged_df['profiles'])\n",
    "            all_pearson.append(correlation)\n",
    "            all_pvalue.append(p_value)\n",
    "        except ValueError as e:\n",
    "            print(\"An error occurred:\", e)\n",
    "            print(\"Skipping correlation calculation due to insufficient data.\")\n",
    "        \n",
    "    print(\"Pearson correlation coefficient:\", np.nanmean(all_pearson))\n",
    "    print(\"P-value:\", np.nanmean(all_pvalue))"
   ]
  },
  {
   "cell_type": "code",
   "execution_count": 84,
   "metadata": {},
   "outputs": [
    {
     "name": "stdout",
     "output_type": "stream",
     "text": [
      "An error occurred: x and y must have length at least 2.\n",
      "Skipping correlation calculation due to insufficient data.\n",
      "An error occurred: x and y must have length at least 2.\n",
      "Skipping correlation calculation due to insufficient data.\n",
      "An error occurred: x and y must have length at least 2.\n",
      "Skipping correlation calculation due to insufficient data.\n",
      "An error occurred: x and y must have length at least 2.\n",
      "Skipping correlation calculation due to insufficient data.\n",
      "An error occurred: x and y must have length at least 2.\n",
      "Skipping correlation calculation due to insufficient data.\n",
      "An error occurred: x and y must have length at least 2.\n",
      "Skipping correlation calculation due to insufficient data.\n",
      "An error occurred: x and y must have length at least 2.\n",
      "Skipping correlation calculation due to insufficient data.\n",
      "An error occurred: x and y must have length at least 2.\n",
      "Skipping correlation calculation due to insufficient data.\n",
      "An error occurred: x and y must have length at least 2.\n",
      "Skipping correlation calculation due to insufficient data.\n",
      "Pearson correlation coefficient: 0.6907041679552399\n",
      "P-value: 0.1557165963072621\n"
     ]
    }
   ],
   "source": [
    "category_correlation(\"content\", 20)"
   ]
  },
  {
   "cell_type": "code",
   "execution_count": null,
   "metadata": {},
   "outputs": [],
   "source": []
  },
  {
   "cell_type": "code",
   "execution_count": 4,
   "metadata": {},
   "outputs": [],
   "source": [
    "user_id = \"U244\""
   ]
  },
  {
   "cell_type": "code",
   "execution_count": 12,
   "metadata": {},
   "outputs": [],
   "source": [
    "recommendation_df = pd.read_csv(\"collaborative_recommendations/\" + user_id + \"_collab.csv\")"
   ]
  },
  {
   "cell_type": "code",
   "execution_count": 41,
   "metadata": {},
   "outputs": [],
   "source": [
    "read_articles = interactions[interactions['User'] == user_id]['ID'].str.split().explode().tolist()\n",
    "user_news_df = news[news['ID'].isin(read_articles)]\n",
    "categories_user = user_news_df['Category'].unique()\n",
    "categ_counts_user = user_news_df['Category'].value_counts()"
   ]
  },
  {
   "cell_type": "code",
   "execution_count": 42,
   "metadata": {},
   "outputs": [
    {
     "data": {
      "text/plain": [
       "news            8\n",
       "lifestyle       5\n",
       "health          3\n",
       "foodanddrink    3\n",
       "tv              3\n",
       "movies          2\n",
       "autos           2\n",
       "finance         2\n",
       "video           1\n",
       "Name: Category, dtype: int64"
      ]
     },
     "execution_count": 42,
     "metadata": {},
     "output_type": "execute_result"
    }
   ],
   "source": [
    "categ_counts_user"
   ]
  },
  {
   "cell_type": "code",
   "execution_count": 44,
   "metadata": {},
   "outputs": [],
   "source": [
    "recpmmendations_20 = recommendation_df.head(20)\n",
    "rec_list = recpmmendations_20['ID'].tolist() \n",
    "user_news_rec = news[news['ID'].isin(rec_list)]\n",
    "recom_user = user_news_rec['Category'].unique()\n",
    "recom_counts_user = user_news_rec['Category'].value_counts()"
   ]
  },
  {
   "cell_type": "code",
   "execution_count": 48,
   "metadata": {},
   "outputs": [
    {
     "data": {
      "text/plain": [
       "foodanddrink    7\n",
       "news            7\n",
       "sports          1\n",
       "music           1\n",
       "travel          1\n",
       "lifestyle       1\n",
       "finance         1\n",
       "health          1\n",
       "Name: Category, dtype: int64"
      ]
     },
     "execution_count": 48,
     "metadata": {},
     "output_type": "execute_result"
    }
   ],
   "source": [
    "recom_counts_user"
   ]
  },
  {
   "cell_type": "code",
   "execution_count": 54,
   "metadata": {},
   "outputs": [],
   "source": [
    "merged_df = pd.concat([recom_counts_user, categ_counts_user], axis=1, sort=False).fillna(0)\n"
   ]
  },
  {
   "cell_type": "code",
   "execution_count": 56,
   "metadata": {},
   "outputs": [],
   "source": [
    "merged_df.columns = ['recommend', 'profiles']"
   ]
  },
  {
   "cell_type": "code",
   "execution_count": 57,
   "metadata": {},
   "outputs": [
    {
     "data": {
      "text/html": [
       "<div>\n",
       "<style scoped>\n",
       "    .dataframe tbody tr th:only-of-type {\n",
       "        vertical-align: middle;\n",
       "    }\n",
       "\n",
       "    .dataframe tbody tr th {\n",
       "        vertical-align: top;\n",
       "    }\n",
       "\n",
       "    .dataframe thead th {\n",
       "        text-align: right;\n",
       "    }\n",
       "</style>\n",
       "<table border=\"1\" class=\"dataframe\">\n",
       "  <thead>\n",
       "    <tr style=\"text-align: right;\">\n",
       "      <th></th>\n",
       "      <th>recommend</th>\n",
       "      <th>profiles</th>\n",
       "    </tr>\n",
       "  </thead>\n",
       "  <tbody>\n",
       "    <tr>\n",
       "      <th>foodanddrink</th>\n",
       "      <td>7.0</td>\n",
       "      <td>3.0</td>\n",
       "    </tr>\n",
       "    <tr>\n",
       "      <th>news</th>\n",
       "      <td>7.0</td>\n",
       "      <td>8.0</td>\n",
       "    </tr>\n",
       "    <tr>\n",
       "      <th>sports</th>\n",
       "      <td>1.0</td>\n",
       "      <td>0.0</td>\n",
       "    </tr>\n",
       "    <tr>\n",
       "      <th>music</th>\n",
       "      <td>1.0</td>\n",
       "      <td>0.0</td>\n",
       "    </tr>\n",
       "    <tr>\n",
       "      <th>travel</th>\n",
       "      <td>1.0</td>\n",
       "      <td>0.0</td>\n",
       "    </tr>\n",
       "    <tr>\n",
       "      <th>lifestyle</th>\n",
       "      <td>1.0</td>\n",
       "      <td>5.0</td>\n",
       "    </tr>\n",
       "    <tr>\n",
       "      <th>finance</th>\n",
       "      <td>1.0</td>\n",
       "      <td>2.0</td>\n",
       "    </tr>\n",
       "    <tr>\n",
       "      <th>health</th>\n",
       "      <td>1.0</td>\n",
       "      <td>3.0</td>\n",
       "    </tr>\n",
       "    <tr>\n",
       "      <th>tv</th>\n",
       "      <td>0.0</td>\n",
       "      <td>3.0</td>\n",
       "    </tr>\n",
       "    <tr>\n",
       "      <th>movies</th>\n",
       "      <td>0.0</td>\n",
       "      <td>2.0</td>\n",
       "    </tr>\n",
       "    <tr>\n",
       "      <th>autos</th>\n",
       "      <td>0.0</td>\n",
       "      <td>2.0</td>\n",
       "    </tr>\n",
       "    <tr>\n",
       "      <th>video</th>\n",
       "      <td>0.0</td>\n",
       "      <td>1.0</td>\n",
       "    </tr>\n",
       "  </tbody>\n",
       "</table>\n",
       "</div>"
      ],
      "text/plain": [
       "              recommend  profiles\n",
       "foodanddrink        7.0       3.0\n",
       "news                7.0       8.0\n",
       "sports              1.0       0.0\n",
       "music               1.0       0.0\n",
       "travel              1.0       0.0\n",
       "lifestyle           1.0       5.0\n",
       "finance             1.0       2.0\n",
       "health              1.0       3.0\n",
       "tv                  0.0       3.0\n",
       "movies              0.0       2.0\n",
       "autos               0.0       2.0\n",
       "video               0.0       1.0"
      ]
     },
     "execution_count": 57,
     "metadata": {},
     "output_type": "execute_result"
    }
   ],
   "source": [
    "merged_df"
   ]
  },
  {
   "cell_type": "code",
   "execution_count": 59,
   "metadata": {},
   "outputs": [
    {
     "name": "stdout",
     "output_type": "stream",
     "text": [
      "Pearson correlation coefficient: 0.599253180257948\n",
      "P-value: 0.03947208893764183\n"
     ]
    }
   ],
   "source": [
    "# Calculating Pearson correlation coefficient and p-value\n",
    "correlation, p_value = pearsonr(merged_df['recommend'], merged_df['profiles'])\n",
    "\n",
    "print(\"Pearson correlation coefficient:\", correlation)\n",
    "print(\"P-value:\", p_value)"
   ]
  }
 ],
 "metadata": {
  "kernelspec": {
   "display_name": "Python 3",
   "language": "python",
   "name": "python3"
  },
  "language_info": {
   "codemirror_mode": {
    "name": "ipython",
    "version": 3
   },
   "file_extension": ".py",
   "mimetype": "text/x-python",
   "name": "python",
   "nbconvert_exporter": "python",
   "pygments_lexer": "ipython3",
   "version": "3.10.7"
  },
  "orig_nbformat": 4
 },
 "nbformat": 4,
 "nbformat_minor": 2
}
