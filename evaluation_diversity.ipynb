{
 "cells": [
  {
   "cell_type": "code",
   "execution_count": 1,
   "metadata": {},
   "outputs": [],
   "source": [
    "# imports\n",
    "import pandas as pd\n",
    "import numpy as np\n",
    "from scipy.stats import pearsonr\n",
    "import os"
   ]
  },
  {
   "cell_type": "code",
   "execution_count": 2,
   "metadata": {},
   "outputs": [
    {
     "data": {
      "text/html": [
       "<div>\n",
       "<style scoped>\n",
       "    .dataframe tbody tr th:only-of-type {\n",
       "        vertical-align: middle;\n",
       "    }\n",
       "\n",
       "    .dataframe tbody tr th {\n",
       "        vertical-align: top;\n",
       "    }\n",
       "\n",
       "    .dataframe thead th {\n",
       "        text-align: right;\n",
       "    }\n",
       "</style>\n",
       "<table border=\"1\" class=\"dataframe\">\n",
       "  <thead>\n",
       "    <tr style=\"text-align: right;\">\n",
       "      <th></th>\n",
       "      <th>User</th>\n",
       "      <th>ID</th>\n",
       "      <th>Interactions_emb</th>\n",
       "    </tr>\n",
       "  </thead>\n",
       "  <tbody>\n",
       "    <tr>\n",
       "      <th>0</th>\n",
       "      <td>U244</td>\n",
       "      <td>N17157 N38621 N35022 N50578 N264 N9120 N23907 ...</td>\n",
       "      <td>[-0.005149974951877837, -0.013250857458654631,...</td>\n",
       "    </tr>\n",
       "    <tr>\n",
       "      <th>1</th>\n",
       "      <td>U68369</td>\n",
       "      <td>N19381 N54536</td>\n",
       "      <td>[0.0025621717686590273, 0.004183989018201828, ...</td>\n",
       "    </tr>\n",
       "    <tr>\n",
       "      <th>2</th>\n",
       "      <td>U50236</td>\n",
       "      <td>N4020 N44292 N50292 N40772 N57737 N33969 N4054...</td>\n",
       "      <td>[-0.010138329240492436, -0.01179651383115145, ...</td>\n",
       "    </tr>\n",
       "    <tr>\n",
       "      <th>3</th>\n",
       "      <td>U77060</td>\n",
       "      <td>N23105 N41375</td>\n",
       "      <td>[-0.005568941123783588, -0.025914330035448074,...</td>\n",
       "    </tr>\n",
       "    <tr>\n",
       "      <th>4</th>\n",
       "      <td>U5596</td>\n",
       "      <td>N459 N56253 N62931 N55846 N29849 N45729 N62834...</td>\n",
       "      <td>[-0.012533644353970886, -0.011675744312297967,...</td>\n",
       "    </tr>\n",
       "  </tbody>\n",
       "</table>\n",
       "</div>"
      ],
      "text/plain": [
       "     User                                                 ID  \\\n",
       "0    U244  N17157 N38621 N35022 N50578 N264 N9120 N23907 ...   \n",
       "1  U68369                                      N19381 N54536   \n",
       "2  U50236  N4020 N44292 N50292 N40772 N57737 N33969 N4054...   \n",
       "3  U77060                                      N23105 N41375   \n",
       "4   U5596  N459 N56253 N62931 N55846 N29849 N45729 N62834...   \n",
       "\n",
       "                                    Interactions_emb  \n",
       "0  [-0.005149974951877837, -0.013250857458654631,...  \n",
       "1  [0.0025621717686590273, 0.004183989018201828, ...  \n",
       "2  [-0.010138329240492436, -0.01179651383115145, ...  \n",
       "3  [-0.005568941123783588, -0.025914330035448074,...  \n",
       "4  [-0.012533644353970886, -0.011675744312297967,...  "
      ]
     },
     "execution_count": 2,
     "metadata": {},
     "output_type": "execute_result"
    }
   ],
   "source": [
    "#users = interactions_emb\n",
    "interactions = pd.read_csv(\"embeddings/users_filtered_final.csv\") #document with user interactions\n",
    "interactions.head()"
   ]
  },
  {
   "cell_type": "code",
   "execution_count": 3,
   "metadata": {},
   "outputs": [
    {
     "data": {
      "text/html": [
       "<div>\n",
       "<style scoped>\n",
       "    .dataframe tbody tr th:only-of-type {\n",
       "        vertical-align: middle;\n",
       "    }\n",
       "\n",
       "    .dataframe tbody tr th {\n",
       "        vertical-align: top;\n",
       "    }\n",
       "\n",
       "    .dataframe thead th {\n",
       "        text-align: right;\n",
       "    }\n",
       "</style>\n",
       "<table border=\"1\" class=\"dataframe\">\n",
       "  <thead>\n",
       "    <tr style=\"text-align: right;\">\n",
       "      <th></th>\n",
       "      <th>ID</th>\n",
       "      <th>Category</th>\n",
       "      <th>SubCategory</th>\n",
       "      <th>Content</th>\n",
       "      <th>Sentiment</th>\n",
       "    </tr>\n",
       "  </thead>\n",
       "  <tbody>\n",
       "    <tr>\n",
       "      <th>0</th>\n",
       "      <td>N55528</td>\n",
       "      <td>lifestyle</td>\n",
       "      <td>lifestyleroyals</td>\n",
       "      <td>The Brands Queen Elizabeth, Prince Charles, an...</td>\n",
       "      <td>Positive</td>\n",
       "    </tr>\n",
       "    <tr>\n",
       "      <th>1</th>\n",
       "      <td>N19639</td>\n",
       "      <td>health</td>\n",
       "      <td>weightloss</td>\n",
       "      <td>50 Worst Habits For Belly Fat These seemingly ...</td>\n",
       "      <td>Negative</td>\n",
       "    </tr>\n",
       "    <tr>\n",
       "      <th>2</th>\n",
       "      <td>N61837</td>\n",
       "      <td>news</td>\n",
       "      <td>newsworld</td>\n",
       "      <td>The Cost of Trump's Aid Freeze in the Trenches...</td>\n",
       "      <td>Negative</td>\n",
       "    </tr>\n",
       "    <tr>\n",
       "      <th>3</th>\n",
       "      <td>N53526</td>\n",
       "      <td>health</td>\n",
       "      <td>voices</td>\n",
       "      <td>I Was An NBA Wife. Here's How It Affected My M...</td>\n",
       "      <td>Neutral</td>\n",
       "    </tr>\n",
       "    <tr>\n",
       "      <th>4</th>\n",
       "      <td>N38324</td>\n",
       "      <td>health</td>\n",
       "      <td>medical</td>\n",
       "      <td>How to Get Rid of Skin Tags, According to a De...</td>\n",
       "      <td>Positive</td>\n",
       "    </tr>\n",
       "  </tbody>\n",
       "</table>\n",
       "</div>"
      ],
      "text/plain": [
       "       ID   Category      SubCategory  \\\n",
       "0  N55528  lifestyle  lifestyleroyals   \n",
       "1  N19639     health       weightloss   \n",
       "2  N61837       news        newsworld   \n",
       "3  N53526     health           voices   \n",
       "4  N38324     health          medical   \n",
       "\n",
       "                                             Content Sentiment  \n",
       "0  The Brands Queen Elizabeth, Prince Charles, an...  Positive  \n",
       "1  50 Worst Habits For Belly Fat These seemingly ...  Negative  \n",
       "2  The Cost of Trump's Aid Freeze in the Trenches...  Negative  \n",
       "3  I Was An NBA Wife. Here's How It Affected My M...   Neutral  \n",
       "4  How to Get Rid of Skin Tags, According to a De...  Positive  "
      ]
     },
     "execution_count": 3,
     "metadata": {},
     "output_type": "execute_result"
    }
   ],
   "source": [
    "#load the data with news articles\n",
    "news = pd.read_csv(\"sentiment_analysis/sentiment_final.csv\") #document with user interactions\n",
    "news = news.iloc[:, 1:] \n",
    "news = news.drop(['Content_emb'], axis=1)\n",
    "news.head()"
   ]
  },
  {
   "cell_type": "code",
   "execution_count": 4,
   "metadata": {},
   "outputs": [],
   "source": [
    "def list_ids_in_folder(folder_path):\n",
    "    ids = set()\n",
    "    \n",
    "    for filename in os.listdir(folder_path):\n",
    "        if filename.endswith(\".csv\"):\n",
    "            # Extracting the ID from the filename\n",
    "            file_id = filename.split(\"_\")[0][1:]\n",
    "            ids.add(file_id)\n",
    "    \n",
    "    ids = ['U' + num for num in ids]       \n",
    "    \n",
    "    return list(ids)"
   ]
  },
  {
   "cell_type": "code",
   "execution_count": 5,
   "metadata": {},
   "outputs": [
    {
     "data": {
      "text/plain": [
       "49053"
      ]
     },
     "execution_count": 5,
     "metadata": {},
     "output_type": "execute_result"
    }
   ],
   "source": [
    "folder_path = 'content_recommendations'\n",
    "users_list = list_ids_in_folder(folder_path)\n",
    "len(users_list)"
   ]
  },
  {
   "attachments": {},
   "cell_type": "markdown",
   "metadata": {},
   "source": [
    "Category correlation"
   ]
  },
  {
   "cell_type": "code",
   "execution_count": 5,
   "metadata": {},
   "outputs": [],
   "source": [
    "def create_category_df(specific_category, n_rec, rec_type):\n",
    "    category_dfs = pd.DataFrame(columns=['User ID', 'Recommend', 'Profiles'])\n",
    "    if rec_type == \"collaborative\":\n",
    "        users_list = list_ids_in_folder('collaborative_recommendations')\n",
    "    \n",
    "    if rec_type == \"content\": \n",
    "        users_list = list_ids_in_folder('content_recommendations')\n",
    "    \n",
    "    #for user_id in users_list[2500:5000]:\n",
    "    for user_id in users_list:\n",
    "        if rec_type == \"collaborative\":\n",
    "            item_path = \"collaborative_recommendations/\" + user_id + \"_collab.csv\"\n",
    "            \n",
    "        if rec_type == \"content\":\n",
    "            item_path = \"content_recommendations/\" + user_id + \"_content.csv\"      \n",
    "        \n",
    "        read_articles = interactions[interactions['User'] == user_id]['ID'].str.split().explode().tolist()\n",
    "        user_news_df = news[news['ID'].isin(read_articles)]\n",
    "\n",
    "        #ratio for articles, user interacted with\n",
    "        user_spec_df = user_news_df[user_news_df['Category'] == specific_category]\n",
    "        \n",
    "        categ_counts_user = user_spec_df['Category'].value_counts()\n",
    "        total_counts = user_news_df['Category'].value_counts().sum()\n",
    "        user_cat_ratio = categ_counts_user/total_counts\n",
    "        \n",
    "        #ratio for recommended articles\n",
    "        recommendation_df = pd.read_csv(item_path)\n",
    "        recommendations = recommendation_df.head(n_rec)\n",
    "        rec_list = recommendations['ID'].tolist() \n",
    "        user_news_rec = news[news['ID'].isin(rec_list)]      \n",
    "        user_news_rec = user_news_rec[user_news_rec['Category'] == specific_category]\n",
    "\n",
    "        rec_counts_user = user_news_rec['Category'].value_counts()\n",
    "        rec_ratio = rec_counts_user/n_rec\n",
    "        \n",
    "        merged_df = pd.concat([user_cat_ratio, rec_ratio], axis=1, sort=False).fillna(0)\n",
    "        merged_df.columns = ['Recommend', 'Profiles']\n",
    "        merged_df['User ID'] = user_id\n",
    "        \n",
    "        category_dfs = pd.concat([category_dfs, merged_df], ignore_index=True)\n",
    "        \n",
    "    return category_dfs"
   ]
  },
  {
   "cell_type": "code",
   "execution_count": 6,
   "metadata": {},
   "outputs": [],
   "source": [
    "def calculate_category_correlation(specific_category, n_rec, rec_type):\n",
    "    category_df = create_category_df(specific_category, n_rec, rec_type)\n",
    "    recommend = category_df['Recommend']\n",
    "    profiles = category_df['Profiles']\n",
    "    \n",
    "    correlation, p_value = pearsonr(recommend, profiles)\n",
    "\n",
    "    print(\"Pearson correlation coefficient:\", correlation)\n",
    "    print(\"P-value:\", p_value)\n",
    "    \n",
    "    return correlation, p_value\n",
    "    "
   ]
  },
  {
   "cell_type": "code",
   "execution_count": 9,
   "metadata": {},
   "outputs": [],
   "source": [
    "unique_categories = news['Category'].unique()"
   ]
  },
  {
   "cell_type": "code",
   "execution_count": 10,
   "metadata": {},
   "outputs": [
    {
     "data": {
      "text/plain": [
       "array(['lifestyle', 'health', 'news', 'sports', 'weather',\n",
       "       'entertainment', 'autos', 'travel', 'foodanddrink', 'tv',\n",
       "       'finance', 'movies', 'video', 'music', 'kids', 'middleeast',\n",
       "       'northamerica'], dtype=object)"
      ]
     },
     "execution_count": 10,
     "metadata": {},
     "output_type": "execute_result"
    }
   ],
   "source": [
    "unique_categories"
   ]
  },
  {
   "attachments": {},
   "cell_type": "markdown",
   "metadata": {},
   "source": [
    "Subcategory correlation "
   ]
  },
  {
   "cell_type": "code",
   "execution_count": 10,
   "metadata": {},
   "outputs": [],
   "source": [
    "def create_subcategory_df(specific_category, n_rec, rec_type):\n",
    "    category_dfs = pd.DataFrame(columns=['User ID', 'Recommend', 'Profiles'])\n",
    "    if rec_type == \"collaborative\":\n",
    "        users_list = list_ids_in_folder('collaborative_recommendations')\n",
    "    \n",
    "    if rec_type == \"content\": \n",
    "        users_list = list_ids_in_folder('content_recommendations')\n",
    "    \n",
    "    for user_id in users_list[:100]:\n",
    "    # for user_id in users_list:\n",
    "        if rec_type == \"collaborative\":\n",
    "            item_path = \"collaborative_recommendations/\" + user_id + \"_collab.csv\"\n",
    "            \n",
    "        if rec_type == \"content\":\n",
    "            item_path = \"content_recommendations/\" + user_id + \"_content.csv\"      \n",
    "        \n",
    "        read_articles = interactions[interactions['User'] == user_id]['ID'].str.split().explode().tolist()\n",
    "        user_news_df = news[news['ID'].isin(read_articles)]\n",
    "\n",
    "        #ratio for articles, user interacted with\n",
    "        user_spec_df = user_news_df[user_news_df['SubCategory'] == specific_category]\n",
    "        \n",
    "        categ_counts_user = user_spec_df['SubCategory'].value_counts()\n",
    "        total_counts = user_news_df['SubCategory'].value_counts().sum()\n",
    "        user_cat_ratio = categ_counts_user/total_counts\n",
    "        \n",
    "        #ratio for recommended articles\n",
    "        recommendation_df = pd.read_csv(item_path)\n",
    "        recommendations = recommendation_df.head(n_rec)\n",
    "        rec_list = recommendations['ID'].tolist() \n",
    "        user_news_rec = news[news['ID'].isin(rec_list)]      \n",
    "        user_news_rec = user_news_rec[user_news_rec['SubCategory'] == specific_category]\n",
    "\n",
    "        rec_counts_user = user_news_rec['SubCategory'].value_counts()\n",
    "        rec_ratio = rec_counts_user/n_rec\n",
    "        \n",
    "        merged_df = pd.concat([user_cat_ratio, rec_ratio], axis=1, sort=False).fillna(0)\n",
    "        merged_df.columns = ['Recommend', 'Profiles']\n",
    "        merged_df['User ID'] = user_id\n",
    "        \n",
    "        category_dfs = pd.concat([category_dfs, merged_df], ignore_index=True)\n",
    "        \n",
    "    return category_dfs"
   ]
  },
  {
   "cell_type": "code",
   "execution_count": 6,
   "metadata": {},
   "outputs": [],
   "source": [
    "def calculate_subcategory_correlation(specific_category, n_rec, rec_type):\n",
    "    category_df = create_subcategory_df(specific_category, n_rec, rec_type)\n",
    "    recommend = category_df['Recommend']\n",
    "    profiles = category_df['Profiles']\n",
    "    \n",
    "    correlation, p_value = pearsonr(recommend, profiles)\n",
    "\n",
    "    print(\"Pearson correlation coefficient:\", correlation)\n",
    "    print(\"P-value:\", p_value)\n",
    "    \n",
    "    return correlation, p_value"
   ]
  },
  {
   "cell_type": "code",
   "execution_count": 13,
   "metadata": {},
   "outputs": [
    {
     "name": "stdout",
     "output_type": "stream",
     "text": [
      "Top 10 most frequent categories:\n",
      "newsus                      6564\n",
      "football_nfl                5420\n",
      "newspolitics                2826\n",
      "newscrime                   2254\n",
      "weathertopstories           2047\n",
      "newsworld                   1720\n",
      "football_ncaa               1665\n",
      "baseball_mlb                1661\n",
      "basketball_nba              1555\n",
      "newsscienceandtechnology    1210\n",
      "Name: SubCategory, dtype: int64\n"
     ]
    }
   ],
   "source": [
    "category_counts = news['SubCategory'].value_counts()\n",
    "\n",
    "# Sort the categories by their counts in descending order\n",
    "sorted_categories = category_counts.sort_values(ascending=False)\n",
    "\n",
    "# Print the n most frequent categories\n",
    "n = 10  # Change this to your desired number of most frequent categories\n",
    "top_n_subcategories = sorted_categories.head(n)\n",
    "print(\"Top\", n, \"most frequent categories:\")\n",
    "print(top_n_subcategories)"
   ]
  },
  {
   "cell_type": "code",
   "execution_count": 11,
   "metadata": {},
   "outputs": [
    {
     "name": "stdout",
     "output_type": "stream",
     "text": [
      "Requirement already satisfied: line_profiler in /Library/Frameworks/Python.framework/Versions/3.10/lib/python3.10/site-packages (4.1.2)\n",
      "\n",
      "\u001b[1m[\u001b[0m\u001b[34;49mnotice\u001b[0m\u001b[1;39;49m]\u001b[0m\u001b[39;49m A new release of pip is available: \u001b[0m\u001b[31;49m23.1.2\u001b[0m\u001b[39;49m -> \u001b[0m\u001b[32;49m24.0\u001b[0m\n",
      "\u001b[1m[\u001b[0m\u001b[34;49mnotice\u001b[0m\u001b[1;39;49m]\u001b[0m\u001b[39;49m To update, run: \u001b[0m\u001b[32;49mpip3.10 install --upgrade pip\u001b[0m\n",
      "Note: you may need to restart the kernel to use updated packages.\n"
     ]
    }
   ],
   "source": [
    "%pip install line_profiler\n",
    "%load_ext line_profiler"
   ]
  },
  {
   "cell_type": "code",
   "execution_count": 13,
   "metadata": {},
   "outputs": [
    {
     "name": "stdout",
     "output_type": "stream",
     "text": [
      "Pearson correlation coefficient: 0.5165406844978205\n",
      "P-value: 3.3125629833558116e-05\n"
     ]
    },
    {
     "name": "stdout",
     "output_type": "stream",
     "text": [
      "Timer unit: 1e-09 s\n",
      "\n",
      "Total time: 2.23115 s\n",
      "File: /var/folders/g9/2c0wblnx7c3cn9jcdv86d_cm0000gn/T/ipykernel_1569/1007592041.py\n",
      "Function: create_subcategory_df at line 1\n",
      "\n",
      "Line #      Hits         Time  Per Hit   % Time  Line Contents\n",
      "==============================================================\n",
      "     1                                           def create_subcategory_df(specific_category, n_rec, rec_type):\n",
      "     2         1    1764000.0    2e+06      0.1      category_dfs = pd.DataFrame(columns=['User ID', 'Recommend', 'Profiles'])\n",
      "     3         1       1000.0   1000.0      0.0      if rec_type == \"collaborative\":\n",
      "     4                                                   users_list = list_ids_in_folder('collaborative_recommendations')\n",
      "     5                                               \n",
      "     6         1          0.0      0.0      0.0      if rec_type == \"content\": \n",
      "     7         1   69965000.0    7e+07      3.1          users_list = list_ids_in_folder('content_recommendations')\n",
      "     8                                               \n",
      "     9       101      39000.0    386.1      0.0      for user_id in users_list[:100]:\n",
      "    10                                               # for user_id in users_list:\n",
      "    11       100      15000.0    150.0      0.0          if rec_type == \"collaborative\":\n",
      "    12                                                       item_path = \"collaborative_recommendations/\" + user_id + \"_collab.csv\"\n",
      "    13                                                       \n",
      "    14       100      19000.0    190.0      0.0          if rec_type == \"content\":\n",
      "    15       100      85000.0    850.0      0.0              item_path = \"content_recommendations/\" + user_id + \"_content.csv\"      \n",
      "    16                                                   \n",
      "    17       100  198672000.0    2e+06      8.9          read_articles = interactions[interactions['User'] == user_id]['ID'].str.split().explode().tolist()\n",
      "    18       100  159117000.0    2e+06      7.1          user_news_df = news[news['ID'].isin(read_articles)]\n",
      "    19                                           \n",
      "    20                                                   #ratio for articles, user interacted with\n",
      "    21       100   17309000.0 173090.0      0.8          user_spec_df = user_news_df[user_news_df['SubCategory'] == specific_category]\n",
      "    22                                                   \n",
      "    23       100   18780000.0 187800.0      0.8          categ_counts_user = user_spec_df['SubCategory'].value_counts()\n",
      "    24       100   17768000.0 177680.0      0.8          total_counts = user_news_df['SubCategory'].value_counts().sum()\n",
      "    25       100    6259000.0  62590.0      0.3          user_cat_ratio = categ_counts_user/total_counts\n",
      "    26                                                   \n",
      "    27                                                   #ratio for recommended articles\n",
      "    28       100 1371215000.0    1e+07     61.5          recommendation_df = pd.read_csv(item_path)\n",
      "    29       100   39255000.0 392550.0      1.8          recommendations = recommendation_df.head(n_rec)\n",
      "    30       100    9568000.0  95680.0      0.4          rec_list = recommendations['ID'].tolist() \n",
      "    31       100  183707000.0    2e+06      8.2          user_news_rec = news[news['ID'].isin(rec_list)]      \n",
      "    32       100   18786000.0 187860.0      0.8          user_news_rec = user_news_rec[user_news_rec['SubCategory'] == specific_category]\n",
      "    33                                           \n",
      "    34       100   20730000.0 207300.0      0.9          rec_counts_user = user_news_rec['SubCategory'].value_counts()\n",
      "    35       100    6583000.0  65830.0      0.3          rec_ratio = rec_counts_user/n_rec\n",
      "    36                                                   \n",
      "    37       100   36930000.0 369300.0      1.7          merged_df = pd.concat([user_cat_ratio, rec_ratio], axis=1, sort=False).fillna(0)\n",
      "    38       100    3374000.0  33740.0      0.2          merged_df.columns = ['Recommend', 'Profiles']\n",
      "    39       100   15511000.0 155110.0      0.7          merged_df['User ID'] = user_id\n",
      "    40                                                   \n",
      "    41       100   35699000.0 356990.0      1.6          category_dfs = pd.concat([category_dfs, merged_df], ignore_index=True)\n",
      "    42                                                   \n",
      "    43         1          0.0      0.0      0.0      return category_dfs"
     ]
    }
   ],
   "source": [
    "%lprun -f create_subcategory_df calculate_subcategory_correlation(\"newscrime\", 20, \"content\")"
   ]
  },
  {
   "attachments": {},
   "cell_type": "markdown",
   "metadata": {},
   "source": [
    "Sentiment correlation"
   ]
  },
  {
   "cell_type": "code",
   "execution_count": 28,
   "metadata": {},
   "outputs": [],
   "source": [
    "def create_sentiment_df(specific_category, n_rec, rec_type):\n",
    "    category_dfs = pd.DataFrame(columns=['User ID', 'Recommend', 'Profiles'])\n",
    "    if rec_type == \"collaborative\":\n",
    "        users_list = list_ids_in_folder('collaborative_recommendations')\n",
    "    \n",
    "    if rec_type == \"content\": \n",
    "        users_list = list_ids_in_folder('content_recommendations')\n",
    "    \n",
    "    for user_id in users_list[5000:6000]:\n",
    "    #for user_id in users_list:\n",
    "        if rec_type == \"collaborative\":\n",
    "            item_path = \"collaborative_recommendations/\" + user_id + \"_collab.csv\"\n",
    "            \n",
    "        if rec_type == \"content\":\n",
    "            item_path = \"content_recommendations/\" + user_id + \"_content.csv\"      \n",
    "        \n",
    "        read_articles = interactions[interactions['User'] == user_id]['ID'].str.split().explode().tolist()\n",
    "        user_news_df = news[news['ID'].isin(read_articles)]\n",
    "\n",
    "        #ratio for articles, user interacted with\n",
    "        user_spec_df = user_news_df[user_news_df['Sentiment'] == specific_category]\n",
    "        \n",
    "        categ_counts_user = user_spec_df['Sentiment'].value_counts()\n",
    "        total_counts = user_news_df['Sentiment'].value_counts().sum()\n",
    "        user_cat_ratio = categ_counts_user/total_counts\n",
    "        \n",
    "        #ratio for recommended articles\n",
    "        recommendation_df = pd.read_csv(item_path)\n",
    "        recommendations = recommendation_df.head(n_rec)\n",
    "        rec_list = recommendations['ID'].tolist() \n",
    "        user_news_rec = news[news['ID'].isin(rec_list)]      \n",
    "        user_news_rec = user_news_rec[user_news_rec['Sentiment'] == specific_category]\n",
    "\n",
    "        rec_counts_user = user_news_rec['Sentiment'].value_counts()\n",
    "        rec_ratio = rec_counts_user/n_rec\n",
    "        \n",
    "        merged_df = pd.concat([user_cat_ratio, rec_ratio], axis=1, sort=False).fillna(0)\n",
    "        merged_df.columns = ['Recommend', 'Profiles']\n",
    "        merged_df['User ID'] = user_id\n",
    "        \n",
    "        category_dfs = pd.concat([category_dfs, merged_df], ignore_index=True)\n",
    "        \n",
    "    return category_dfs"
   ]
  },
  {
   "cell_type": "code",
   "execution_count": 11,
   "metadata": {},
   "outputs": [],
   "source": [
    "def calculate_sentiment_correlation(specific_category, n_rec, rec_type):\n",
    "    category_df = create_sentiment_df(specific_category, n_rec, rec_type)\n",
    "    recommend = category_df['Recommend']\n",
    "    profiles = category_df['Profiles']\n",
    "    \n",
    "    correlation, p_value = pearsonr(recommend, profiles)\n",
    "\n",
    "    print(\"Pearson correlation coefficient:\", correlation)\n",
    "    print(\"P-value:\", p_value)\n",
    "    \n",
    "    return correlation, p_value"
   ]
  },
  {
   "cell_type": "code",
   "execution_count": 8,
   "metadata": {},
   "outputs": [],
   "source": [
    "unique_sentiments = news['Sentiment'].unique()"
   ]
  },
  {
   "cell_type": "code",
   "execution_count": 9,
   "metadata": {},
   "outputs": [
    {
     "data": {
      "text/plain": [
       "array(['Positive', 'Negative', 'Neutral'], dtype=object)"
      ]
     },
     "execution_count": 9,
     "metadata": {},
     "output_type": "execute_result"
    }
   ],
   "source": [
    "unique_sentiments"
   ]
  },
  {
   "cell_type": "code",
   "execution_count": 25,
   "metadata": {},
   "outputs": [
    {
     "name": "stdout",
     "output_type": "stream",
     "text": [
      "Pearson correlation coefficient: -0.03102053269937157\n",
      "P-value: 0.3300307435412626\n"
     ]
    },
    {
     "data": {
      "text/plain": [
       "(-0.03102053269937157, 0.3300307435412626)"
      ]
     },
     "execution_count": 25,
     "metadata": {},
     "output_type": "execute_result"
    }
   ],
   "source": [
    "calculate_sentiment_correlation(\"Neutral\", 20, \"collaborative\")"
   ]
  }
 ],
 "metadata": {
  "kernelspec": {
   "display_name": "Python 3",
   "language": "python",
   "name": "python3"
  },
  "language_info": {
   "codemirror_mode": {
    "name": "ipython",
    "version": 3
   },
   "file_extension": ".py",
   "mimetype": "text/x-python",
   "name": "python",
   "nbconvert_exporter": "python",
   "pygments_lexer": "ipython3",
   "version": "3.10.7"
  },
  "orig_nbformat": 4
 },
 "nbformat": 4,
 "nbformat_minor": 2
}
