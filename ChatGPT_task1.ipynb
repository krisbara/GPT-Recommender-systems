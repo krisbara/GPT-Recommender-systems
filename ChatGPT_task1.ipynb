{
 "cells": [
  {
   "cell_type": "code",
   "execution_count": 1,
   "metadata": {},
   "outputs": [],
   "source": [
    "import pandas as pd\n",
    "import random\n",
    "import openai \n",
    "import ast\n",
    "from scipy.stats import pearsonr\n",
    "import numpy as np"
   ]
  },
  {
   "cell_type": "code",
   "execution_count": 2,
   "metadata": {},
   "outputs": [
    {
     "data": {
      "text/html": [
       "<div>\n",
       "<style scoped>\n",
       "    .dataframe tbody tr th:only-of-type {\n",
       "        vertical-align: middle;\n",
       "    }\n",
       "\n",
       "    .dataframe tbody tr th {\n",
       "        vertical-align: top;\n",
       "    }\n",
       "\n",
       "    .dataframe thead th {\n",
       "        text-align: right;\n",
       "    }\n",
       "</style>\n",
       "<table border=\"1\" class=\"dataframe\">\n",
       "  <thead>\n",
       "    <tr style=\"text-align: right;\">\n",
       "      <th></th>\n",
       "      <th>User</th>\n",
       "      <th>ID</th>\n",
       "    </tr>\n",
       "  </thead>\n",
       "  <tbody>\n",
       "    <tr>\n",
       "      <th>0</th>\n",
       "      <td>U13740</td>\n",
       "      <td>N55189 N42782 N34694 N45794 N18445 N63302 N104...</td>\n",
       "    </tr>\n",
       "    <tr>\n",
       "      <th>1</th>\n",
       "      <td>U91836</td>\n",
       "      <td>N31739 N6072 N63045 N23979 N35656 N43353 N8129...</td>\n",
       "    </tr>\n",
       "    <tr>\n",
       "      <th>2</th>\n",
       "      <td>U73700</td>\n",
       "      <td>N10732 N25792 N7563 N21087 N41087 N5445 N60384...</td>\n",
       "    </tr>\n",
       "    <tr>\n",
       "      <th>3</th>\n",
       "      <td>U34670</td>\n",
       "      <td>N45729 N2203 N871 N53880 N41375 N43142 N33013 ...</td>\n",
       "    </tr>\n",
       "    <tr>\n",
       "      <th>4</th>\n",
       "      <td>U8125</td>\n",
       "      <td>N10078 N56514 N14904 N33740</td>\n",
       "    </tr>\n",
       "  </tbody>\n",
       "</table>\n",
       "</div>"
      ],
      "text/plain": [
       "     User                                                 ID\n",
       "0  U13740  N55189 N42782 N34694 N45794 N18445 N63302 N104...\n",
       "1  U91836  N31739 N6072 N63045 N23979 N35656 N43353 N8129...\n",
       "2  U73700  N10732 N25792 N7563 N21087 N41087 N5445 N60384...\n",
       "3  U34670  N45729 N2203 N871 N53880 N41375 N43142 N33013 ...\n",
       "4   U8125                        N10078 N56514 N14904 N33740"
      ]
     },
     "execution_count": 2,
     "metadata": {},
     "output_type": "execute_result"
    }
   ],
   "source": [
    "#load the data with user behaviors\n",
    "behaviors = pd.read_csv(\"MIND/behaviors.tsv\",sep='\\t',  header=None)\n",
    "behaviors.columns =['User', 'Time', 'ID', 'Impressions'] \n",
    "behaviors = behaviors.drop(['Time', 'Impressions'], axis=1)\n",
    "behaviors.head()"
   ]
  },
  {
   "cell_type": "code",
   "execution_count": 3,
   "metadata": {},
   "outputs": [
    {
     "data": {
      "text/html": [
       "<div>\n",
       "<style scoped>\n",
       "    .dataframe tbody tr th:only-of-type {\n",
       "        vertical-align: middle;\n",
       "    }\n",
       "\n",
       "    .dataframe tbody tr th {\n",
       "        vertical-align: top;\n",
       "    }\n",
       "\n",
       "    .dataframe thead th {\n",
       "        text-align: right;\n",
       "    }\n",
       "</style>\n",
       "<table border=\"1\" class=\"dataframe\">\n",
       "  <thead>\n",
       "    <tr style=\"text-align: right;\">\n",
       "      <th></th>\n",
       "      <th>ID</th>\n",
       "      <th>Category</th>\n",
       "      <th>SubCategory</th>\n",
       "      <th>Content</th>\n",
       "      <th>Sentiment</th>\n",
       "    </tr>\n",
       "  </thead>\n",
       "  <tbody>\n",
       "    <tr>\n",
       "      <th>0</th>\n",
       "      <td>N55528</td>\n",
       "      <td>lifestyle</td>\n",
       "      <td>lifestyleroyals</td>\n",
       "      <td>The Brands Queen Elizabeth, Prince Charles, an...</td>\n",
       "      <td>Positive</td>\n",
       "    </tr>\n",
       "    <tr>\n",
       "      <th>1</th>\n",
       "      <td>N19639</td>\n",
       "      <td>health</td>\n",
       "      <td>weightloss</td>\n",
       "      <td>50 Worst Habits For Belly Fat These seemingly ...</td>\n",
       "      <td>Negative</td>\n",
       "    </tr>\n",
       "    <tr>\n",
       "      <th>2</th>\n",
       "      <td>N61837</td>\n",
       "      <td>news</td>\n",
       "      <td>newsworld</td>\n",
       "      <td>The Cost of Trump's Aid Freeze in the Trenches...</td>\n",
       "      <td>Negative</td>\n",
       "    </tr>\n",
       "    <tr>\n",
       "      <th>3</th>\n",
       "      <td>N53526</td>\n",
       "      <td>health</td>\n",
       "      <td>voices</td>\n",
       "      <td>I Was An NBA Wife. Here's How It Affected My M...</td>\n",
       "      <td>Neutral</td>\n",
       "    </tr>\n",
       "    <tr>\n",
       "      <th>4</th>\n",
       "      <td>N38324</td>\n",
       "      <td>health</td>\n",
       "      <td>medical</td>\n",
       "      <td>How to Get Rid of Skin Tags, According to a De...</td>\n",
       "      <td>Positive</td>\n",
       "    </tr>\n",
       "  </tbody>\n",
       "</table>\n",
       "</div>"
      ],
      "text/plain": [
       "       ID   Category      SubCategory  \\\n",
       "0  N55528  lifestyle  lifestyleroyals   \n",
       "1  N19639     health       weightloss   \n",
       "2  N61837       news        newsworld   \n",
       "3  N53526     health           voices   \n",
       "4  N38324     health          medical   \n",
       "\n",
       "                                             Content Sentiment  \n",
       "0  The Brands Queen Elizabeth, Prince Charles, an...  Positive  \n",
       "1  50 Worst Habits For Belly Fat These seemingly ...  Negative  \n",
       "2  The Cost of Trump's Aid Freeze in the Trenches...  Negative  \n",
       "3  I Was An NBA Wife. Here's How It Affected My M...   Neutral  \n",
       "4  How to Get Rid of Skin Tags, According to a De...  Positive  "
      ]
     },
     "execution_count": 3,
     "metadata": {},
     "output_type": "execute_result"
    }
   ],
   "source": [
    "news = pd.read_csv(\"sentiment_analysis/sentiment_final.csv\") #document with user interactions\n",
    "news = news.iloc[:, 1:] \n",
    "news = news.drop(['Content_emb'], axis=1)\n",
    "news.head()"
   ]
  },
  {
   "cell_type": "code",
   "execution_count": 4,
   "metadata": {},
   "outputs": [],
   "source": [
    "def get_user_related_content(user):\n",
    "    user_row = behaviors[behaviors['User'] == user]\n",
    "    \n",
    "    if user_row.empty:\n",
    "        return [(\"No data found for user\", user)]\n",
    "    \n",
    "    user_ids = user_row['ID'].iloc[0].split()\n",
    "    \n",
    "    result = []\n",
    "    \n",
    "    for user_id in user_ids:\n",
    "        id_row = news[news['ID'] == user_id]\n",
    "        \n",
    "        if not id_row.empty:\n",
    "            content = id_row['Content'].iloc[0]\n",
    "            result.append((user_id, content))\n",
    "    \n",
    "    return result"
   ]
  },
  {
   "cell_type": "code",
   "execution_count": 14,
   "metadata": {},
   "outputs": [],
   "source": [
    "def get_random_news(n):\n",
    "    random_news = random.sample(list(news.itertuples(index=False, name=None)), n)\n",
    "    return [(news[0], news[3]) for news in random_news]\n"
   ]
  },
  {
   "attachments": {},
   "cell_type": "markdown",
   "metadata": {},
   "source": [
    "Testing with ChatGPT"
   ]
  },
  {
   "cell_type": "code",
   "execution_count": 6,
   "metadata": {},
   "outputs": [],
   "source": [
    "# Set your OpenAI API key\n",
    "openai.api_key = \"your key\""
   ]
  },
  {
   "cell_type": "code",
   "execution_count": 7,
   "metadata": {},
   "outputs": [],
   "source": [
    "# Function to chat with GPT\n",
    "def chat_with_chatgpt(prompt, model=\"gpt-3.5-turbo\"):\n",
    "    response = openai.ChatCompletion.create(\n",
    "        model=model,\n",
    "        messages=[\n",
    "            {\"role\": \"system\", \"content\": \"You are a helpful assistant.\"},\n",
    "            {\"role\": \"user\", \"content\": prompt},\n",
    "        ],\n",
    "    )\n",
    "    message = response['choices'][0]['message']['content'].strip()\n",
    "    return message"
   ]
  },
  {
   "cell_type": "code",
   "execution_count": 104,
   "metadata": {},
   "outputs": [],
   "source": [
    "def gpt_task1 (user, n_news):\n",
    "    user_output = get_user_related_content(user)\n",
    "    random_news = get_random_news (n_news)\n",
    "    formatted_random_news = [f'{item[0]}: {item[1]}' for item in random_news]\n",
    "    formatted_user_output = [f'{item[0]}: {item[1]}' for item in user_output]\n",
    "    user_prompt = (f\"The user has interacted with the following items (in no particular order): {formatted_user_output}. Basing on user interactions, sort items from this list {formatted_random_news} in order of priority, from highest to lowest. Output format: a python list with news index (e.g., N12345). Do not explain the reason or include any other words.\")\n",
    "    \n",
    "    chatbot_response = chat_with_chatgpt(user_prompt)\n",
    "    \n",
    "    # Remove leading and trailing whitespaces and newline characters\n",
    "    cleaned_string = chatbot_response.strip()\n",
    "\n",
    "    # Use ast.literal_eval to safely evaluate the string as a literal expression\n",
    "    result_list = ast.literal_eval(cleaned_string)\n",
    "    set1 = set(formatted_user_output)\n",
    "    set2 = set(result_list[:10])\n",
    "    if not set1.intersection(set2):\n",
    "        print(\"The lists do not intercross (have no common elements).\")\n",
    "    else:\n",
    "        print(\"The lists intercross (have common elements).\")\n",
    "    return (result_list[:10])"
   ]
  },
  {
   "cell_type": "code",
   "execution_count": 177,
   "metadata": {},
   "outputs": [
    {
     "name": "stdout",
     "output_type": "stream",
     "text": [
      "['U77998', 'U65373', 'U56177', 'U92420', 'U33354', 'U82167', 'U742', 'U25153', 'U67080', 'U52004', 'U29672', 'U28036', 'U12491', 'U36887', 'U7042']\n"
     ]
    }
   ],
   "source": [
    "# n is the number of random user IDs you want to select\n",
    "n = 15\n",
    "# Select n random user IDs from the DataFrame\n",
    "random_user_ids = behaviors['User'].sample(n).tolist()\n",
    "print(random_user_ids)"
   ]
  },
  {
   "cell_type": "code",
   "execution_count": 182,
   "metadata": {},
   "outputs": [],
   "source": [
    "user_input = 'U65373'\n",
    "n=20"
   ]
  },
  {
   "cell_type": "code",
   "execution_count": 179,
   "metadata": {},
   "outputs": [
    {
     "name": "stdout",
     "output_type": "stream",
     "text": [
      "The lists do not intercross (have no common elements).\n"
     ]
    },
    {
     "data": {
      "text/plain": [
       "['N11177',\n",
       " 'N49365',\n",
       " 'N18109',\n",
       " 'N995',\n",
       " 'N63906',\n",
       " 'N16606',\n",
       " 'N60615',\n",
       " 'N21242',\n",
       " 'N36751',\n",
       " 'N24298']"
      ]
     },
     "execution_count": 179,
     "metadata": {},
     "output_type": "execute_result"
    }
   ],
   "source": [
    "gpt_task1(user_input, 20)"
   ]
  },
  {
   "attachments": {},
   "cell_type": "markdown",
   "metadata": {},
   "source": [
    "Category correlation"
   ]
  },
  {
   "cell_type": "code",
   "execution_count": 16,
   "metadata": {},
   "outputs": [],
   "source": [
    "def user_news_ids(user_id,):\n",
    "    # Find the row corresponding to the user ID\n",
    "    user_row = behaviors[behaviors['User'] == user_id]\n",
    "\n",
    "    # If the user ID exists in the DataFrame\n",
    "    if not user_row.empty:\n",
    "        # Split the IDs from the 'ID' column\n",
    "        news_ids = user_row['ID'].iloc[0].split()\n",
    "        return news_ids\n",
    "    else:\n",
    "        print(f\"User ID {user_id} not found in the DataFrame.\")\n",
    "        return []"
   ]
  },
  {
   "cell_type": "code",
   "execution_count": 49,
   "metadata": {},
   "outputs": [],
   "source": [
    "def category_correlation(user, n_news):\n",
    "    user_output = user_news_ids(user)\n",
    "    user_news_df = news[news['ID'].isin(user_output)]\n",
    "    categ_counts_user = user_news_df['Category'].value_counts()\n",
    "    total_counts = user_news_df['Category'].value_counts().sum()\n",
    "    user_ration = categ_counts_user/total_counts\n",
    "    \n",
    "    list_of_recommebdations_t1 = gpt_task1(user, n_news)\n",
    "    user_recom_df = news[news['ID'].isin(list_of_recommebdations_t1)]\n",
    "    categ_counts_recom = user_recom_df['Category'].value_counts()\n",
    "    ratio_recom = categ_counts_recom/10\n",
    "    \n",
    "    merged_df = pd.concat([ratio_recom, user_ration], axis=1, sort=False).fillna(0)\n",
    "    merged_df.columns = ['recommend', 'profiles']\n",
    "    \n",
    "    try:\n",
    "        correlation, p_value = pearsonr(merged_df['recommend'], merged_df['profiles'])\n",
    "    except ValueError as e:\n",
    "         print(\"An error occurred:\", e)\n",
    "         print(\"Skipping correlation calculation due to insufficient data.\")\n",
    "    \n",
    "    #print(categ_counts_user)\n",
    "    print(merged_df)\n",
    "    print(correlation, p_value )\n",
    "    \n",
    "    return correlation, p_value"
   ]
  },
  {
   "cell_type": "code",
   "execution_count": 183,
   "metadata": {},
   "outputs": [
    {
     "name": "stdout",
     "output_type": "stream",
     "text": [
      "The lists do not intercross (have no common elements).\n",
      "              recommend  profiles\n",
      "news                0.6  0.500000\n",
      "sports              0.2  0.166667\n",
      "travel              0.1  0.083333\n",
      "foodanddrink        0.0  0.083333\n",
      "finance             0.0  0.083333\n",
      "lifestyle           0.0  0.083333\n",
      "0.9807232952358079 0.0005538054915083992\n"
     ]
    },
    {
     "data": {
      "text/plain": [
       "(0.9807232952358079, 0.0005538054915083992)"
      ]
     },
     "execution_count": 183,
     "metadata": {},
     "output_type": "execute_result"
    }
   ],
   "source": [
    "category_correlation(user_input, n)"
   ]
  },
  {
   "attachments": {},
   "cell_type": "markdown",
   "metadata": {},
   "source": [
    "Subcategory correlation "
   ]
  },
  {
   "cell_type": "code",
   "execution_count": 73,
   "metadata": {},
   "outputs": [],
   "source": [
    "def subcategory_correlation(user, n_news):\n",
    "    user_output = user_news_ids(user)\n",
    "    user_news_df = news[news['ID'].isin(user_output)]\n",
    "    categ_counts_user = user_news_df['SubCategory'].value_counts()\n",
    "    total_counts = user_news_df['SubCategory'].value_counts().sum()\n",
    "    user_ratio = categ_counts_user/total_counts\n",
    "    \n",
    "    list_of_recommebdations_t1 = gpt_task1(user, n_news)\n",
    "    user_recom_df = news[news['ID'].isin(list_of_recommebdations_t1)]\n",
    "    categ_counts_recom = user_recom_df['SubCategory'].value_counts()\n",
    "    ratio_recom = categ_counts_recom/10\n",
    "    \n",
    "    merged_df = pd.concat([ratio_recom, user_ratio], axis=1, sort=False).fillna(0)\n",
    "    merged_df.columns = ['recommend', 'profiles']\n",
    "    \n",
    "    try:\n",
    "        correlation, p_value = pearsonr(merged_df['recommend'], merged_df['profiles'])\n",
    "    except ValueError as e:\n",
    "         print(\"An error occurred:\", e)\n",
    "         print(\"Skipping correlation calculation due to insufficient data.\")\n",
    "    \n",
    "    print(merged_df)\n",
    "    print(correlation, p_value )\n",
    "    "
   ]
  },
  {
   "cell_type": "code",
   "execution_count": 184,
   "metadata": {},
   "outputs": [
    {
     "name": "stdout",
     "output_type": "stream",
     "text": [
      "The lists do not intercross (have no common elements).\n",
      "                   recommend  profiles\n",
      "newsus                   0.3  0.250000\n",
      "tipsandtricks            0.1  0.083333\n",
      "football_nfl             0.1  0.000000\n",
      "finance-education        0.1  0.083333\n",
      "lifestyleroyals          0.1  0.083333\n",
      "newscrime                0.1  0.250000\n",
      "football_ncaa            0.1  0.166667\n",
      "weathertopstories        0.1  0.000000\n",
      "travelnews               0.0  0.083333\n",
      "0.5244044240850756 0.14723645680908504\n"
     ]
    }
   ],
   "source": [
    "subcategory_correlation(user_input, n)"
   ]
  },
  {
   "attachments": {},
   "cell_type": "markdown",
   "metadata": {},
   "source": [
    "Sentiment correlation"
   ]
  },
  {
   "cell_type": "code",
   "execution_count": 76,
   "metadata": {},
   "outputs": [],
   "source": [
    "def sentiment_correlation(user, n_news):\n",
    "    user_output = user_news_ids(user)\n",
    "    user_news_df = news[news['ID'].isin(user_output)]\n",
    "    categ_counts_user = user_news_df['Sentiment'].value_counts()\n",
    "    total_counts = user_news_df['Sentiment'].value_counts().sum()\n",
    "    user_ratio = categ_counts_user/total_counts\n",
    "    \n",
    "    list_of_recommebdations_t1 = gpt_task1(user, n_news)\n",
    "    user_recom_df = news[news['ID'].isin(list_of_recommebdations_t1)]\n",
    "    categ_counts_recom = user_recom_df['Sentiment'].value_counts()\n",
    "    ratio_recom = categ_counts_recom/10\n",
    "    \n",
    "    merged_df = pd.concat([ratio_recom, user_ratio], axis=1, sort=False).fillna(0)\n",
    "    merged_df.columns = ['recommend', 'profiles']\n",
    "    \n",
    "    try:\n",
    "        correlation, p_value = pearsonr(merged_df['recommend'], merged_df['profiles'])\n",
    "    except ValueError as e:\n",
    "         print(\"An error occurred:\", e)\n",
    "         print(\"Skipping correlation calculation due to insufficient data.\")\n",
    "    \n",
    "    print(merged_df)\n",
    "    print(correlation, p_value )\n",
    "    "
   ]
  },
  {
   "cell_type": "code",
   "execution_count": null,
   "metadata": {},
   "outputs": [],
   "source": [
    "sentiment_correlation(user_input, n)"
   ]
  },
  {
   "attachments": {},
   "cell_type": "markdown",
   "metadata": {},
   "source": [
    "Results: all"
   ]
  },
  {
   "cell_type": "code",
   "execution_count": 3,
   "metadata": {},
   "outputs": [],
   "source": [
    "chatGPT_task1 = pd.read_csv(\"ChatGPT_results/ChatGPT_task1.csv\", sep=';') #document with user interactions"
   ]
  },
  {
   "cell_type": "code",
   "execution_count": 4,
   "metadata": {},
   "outputs": [
    {
     "data": {
      "text/html": [
       "<div>\n",
       "<style scoped>\n",
       "    .dataframe tbody tr th:only-of-type {\n",
       "        vertical-align: middle;\n",
       "    }\n",
       "\n",
       "    .dataframe tbody tr th {\n",
       "        vertical-align: top;\n",
       "    }\n",
       "\n",
       "    .dataframe thead th {\n",
       "        text-align: right;\n",
       "    }\n",
       "</style>\n",
       "<table border=\"1\" class=\"dataframe\">\n",
       "  <thead>\n",
       "    <tr style=\"text-align: right;\">\n",
       "      <th></th>\n",
       "      <th>User</th>\n",
       "      <th>Category (cor)</th>\n",
       "      <th>Category (p-value)</th>\n",
       "      <th>Subcategory (cor)</th>\n",
       "      <th>Subcategory (p-value)</th>\n",
       "      <th>Sentiment (cor)</th>\n",
       "      <th>Sentiment (p-value)</th>\n",
       "    </tr>\n",
       "  </thead>\n",
       "  <tbody>\n",
       "    <tr>\n",
       "      <th>0</th>\n",
       "      <td>U32982</td>\n",
       "      <td>0.647</td>\n",
       "      <td>0.0430</td>\n",
       "      <td>0.404</td>\n",
       "      <td>0.049</td>\n",
       "      <td>0.998</td>\n",
       "      <td>0.029</td>\n",
       "    </tr>\n",
       "    <tr>\n",
       "      <th>1</th>\n",
       "      <td>U73479</td>\n",
       "      <td>0.746</td>\n",
       "      <td>0.0210</td>\n",
       "      <td>0.336</td>\n",
       "      <td>0.187</td>\n",
       "      <td>0.866</td>\n",
       "      <td>0.333</td>\n",
       "    </tr>\n",
       "    <tr>\n",
       "      <th>2</th>\n",
       "      <td>U22148</td>\n",
       "      <td>-0.090</td>\n",
       "      <td>0.8300</td>\n",
       "      <td>-0.001</td>\n",
       "      <td>0.999</td>\n",
       "      <td>0.628</td>\n",
       "      <td>0.567</td>\n",
       "    </tr>\n",
       "    <tr>\n",
       "      <th>3</th>\n",
       "      <td>U31366</td>\n",
       "      <td>0.731</td>\n",
       "      <td>0.0393</td>\n",
       "      <td>0.684</td>\n",
       "      <td>0.009</td>\n",
       "      <td>0.755</td>\n",
       "      <td>0.454</td>\n",
       "    </tr>\n",
       "    <tr>\n",
       "      <th>4</th>\n",
       "      <td>U39842</td>\n",
       "      <td>0.404</td>\n",
       "      <td>0.1520</td>\n",
       "      <td>0.816</td>\n",
       "      <td>0.001</td>\n",
       "      <td>0.992</td>\n",
       "      <td>0.080</td>\n",
       "    </tr>\n",
       "    <tr>\n",
       "      <th>5</th>\n",
       "      <td>U25752</td>\n",
       "      <td>-0.311</td>\n",
       "      <td>0.3230</td>\n",
       "      <td>-0.345</td>\n",
       "      <td>0.061</td>\n",
       "      <td>0.861</td>\n",
       "      <td>0.338</td>\n",
       "    </tr>\n",
       "    <tr>\n",
       "      <th>6</th>\n",
       "      <td>U71024</td>\n",
       "      <td>0.494</td>\n",
       "      <td>0.1020</td>\n",
       "      <td>0.145</td>\n",
       "      <td>0.478</td>\n",
       "      <td>0.755</td>\n",
       "      <td>0.454</td>\n",
       "    </tr>\n",
       "    <tr>\n",
       "      <th>7</th>\n",
       "      <td>U41501</td>\n",
       "      <td>-0.359</td>\n",
       "      <td>0.3070</td>\n",
       "      <td>0.024</td>\n",
       "      <td>0.917</td>\n",
       "      <td>0.590</td>\n",
       "      <td>0.598</td>\n",
       "    </tr>\n",
       "    <tr>\n",
       "      <th>8</th>\n",
       "      <td>U62086</td>\n",
       "      <td>0.989</td>\n",
       "      <td>0.0003</td>\n",
       "      <td>0.476</td>\n",
       "      <td>0.118</td>\n",
       "      <td>0.826</td>\n",
       "      <td>0.381</td>\n",
       "    </tr>\n",
       "    <tr>\n",
       "      <th>9</th>\n",
       "      <td>U33947</td>\n",
       "      <td>-0.171</td>\n",
       "      <td>0.7450</td>\n",
       "      <td>-0.745</td>\n",
       "      <td>0.008</td>\n",
       "      <td>0.944</td>\n",
       "      <td>0.212</td>\n",
       "    </tr>\n",
       "    <tr>\n",
       "      <th>10</th>\n",
       "      <td>U30875</td>\n",
       "      <td>0.001</td>\n",
       "      <td>0.9990</td>\n",
       "      <td>-0.175</td>\n",
       "      <td>0.651</td>\n",
       "      <td>-0.999</td>\n",
       "      <td>1.000</td>\n",
       "    </tr>\n",
       "    <tr>\n",
       "      <th>11</th>\n",
       "      <td>U70480</td>\n",
       "      <td>-0.296</td>\n",
       "      <td>0.3760</td>\n",
       "      <td>0.613</td>\n",
       "      <td>0.033</td>\n",
       "      <td>1.000</td>\n",
       "      <td>1.000</td>\n",
       "    </tr>\n",
       "    <tr>\n",
       "      <th>12</th>\n",
       "      <td>U27354</td>\n",
       "      <td>0.299</td>\n",
       "      <td>0.4340</td>\n",
       "      <td>-0.477</td>\n",
       "      <td>0.061</td>\n",
       "      <td>0.957</td>\n",
       "      <td>0.186</td>\n",
       "    </tr>\n",
       "    <tr>\n",
       "      <th>13</th>\n",
       "      <td>U77998</td>\n",
       "      <td>0.685</td>\n",
       "      <td>0.0890</td>\n",
       "      <td>0.520</td>\n",
       "      <td>0.231</td>\n",
       "      <td>0.917</td>\n",
       "      <td>0.260</td>\n",
       "    </tr>\n",
       "    <tr>\n",
       "      <th>14</th>\n",
       "      <td>U65373</td>\n",
       "      <td>0.981</td>\n",
       "      <td>0.0006</td>\n",
       "      <td>0.524</td>\n",
       "      <td>0.147</td>\n",
       "      <td>0.866</td>\n",
       "      <td>0.333</td>\n",
       "    </tr>\n",
       "  </tbody>\n",
       "</table>\n",
       "</div>"
      ],
      "text/plain": [
       "      User  Category (cor)  Category (p-value)  Subcategory (cor)  \\\n",
       "0   U32982           0.647              0.0430              0.404   \n",
       "1   U73479           0.746              0.0210              0.336   \n",
       "2   U22148          -0.090              0.8300             -0.001   \n",
       "3   U31366           0.731              0.0393              0.684   \n",
       "4   U39842           0.404              0.1520              0.816   \n",
       "5   U25752          -0.311              0.3230             -0.345   \n",
       "6   U71024           0.494              0.1020              0.145   \n",
       "7   U41501          -0.359              0.3070              0.024   \n",
       "8   U62086           0.989              0.0003              0.476   \n",
       "9   U33947          -0.171              0.7450             -0.745   \n",
       "10  U30875           0.001              0.9990             -0.175   \n",
       "11  U70480          -0.296              0.3760              0.613   \n",
       "12  U27354           0.299              0.4340             -0.477   \n",
       "13  U77998           0.685              0.0890              0.520   \n",
       "14  U65373           0.981              0.0006              0.524   \n",
       "\n",
       "    Subcategory (p-value)  Sentiment (cor)  Sentiment (p-value)  \n",
       "0                   0.049            0.998                0.029  \n",
       "1                   0.187            0.866                0.333  \n",
       "2                   0.999            0.628                0.567  \n",
       "3                   0.009            0.755                0.454  \n",
       "4                   0.001            0.992                0.080  \n",
       "5                   0.061            0.861                0.338  \n",
       "6                   0.478            0.755                0.454  \n",
       "7                   0.917            0.590                0.598  \n",
       "8                   0.118            0.826                0.381  \n",
       "9                   0.008            0.944                0.212  \n",
       "10                  0.651           -0.999                1.000  \n",
       "11                  0.033            1.000                1.000  \n",
       "12                  0.061            0.957                0.186  \n",
       "13                  0.231            0.917                0.260  \n",
       "14                  0.147            0.866                0.333  "
      ]
     },
     "execution_count": 4,
     "metadata": {},
     "output_type": "execute_result"
    }
   ],
   "source": [
    "chatGPT_task1"
   ]
  },
  {
   "cell_type": "code",
   "execution_count": 5,
   "metadata": {},
   "outputs": [
    {
     "data": {
      "text/plain": [
       "0.31666666666666665"
      ]
     },
     "execution_count": 5,
     "metadata": {},
     "output_type": "execute_result"
    }
   ],
   "source": [
    "mean_category_cor = chatGPT_task1['Category (cor)'].mean()\n",
    "mean_category_cor"
   ]
  },
  {
   "cell_type": "code",
   "execution_count": 6,
   "metadata": {},
   "outputs": [
    {
     "data": {
      "text/plain": [
       "0.29741333333333336"
      ]
     },
     "execution_count": 6,
     "metadata": {},
     "output_type": "execute_result"
    }
   ],
   "source": [
    "mean_category_p = chatGPT_task1['Category (p-value)'].mean()\n",
    "mean_category_p "
   ]
  },
  {
   "cell_type": "code",
   "execution_count": null,
   "metadata": {},
   "outputs": [],
   "source": []
  }
 ],
 "metadata": {
  "kernelspec": {
   "display_name": "Python 3",
   "language": "python",
   "name": "python3"
  },
  "language_info": {
   "codemirror_mode": {
    "name": "ipython",
    "version": 3
   },
   "file_extension": ".py",
   "mimetype": "text/x-python",
   "name": "python",
   "nbconvert_exporter": "python",
   "pygments_lexer": "ipython3",
   "version": "3.10.7"
  },
  "orig_nbformat": 4
 },
 "nbformat": 4,
 "nbformat_minor": 2
}
