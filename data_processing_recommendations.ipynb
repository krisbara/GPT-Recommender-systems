{
 "cells": [
  {
   "cell_type": "code",
   "execution_count": 7,
   "metadata": {},
   "outputs": [],
   "source": [
    "import pandas as pd\n",
    "import os"
   ]
  },
  {
   "cell_type": "code",
   "execution_count": 10,
   "metadata": {},
   "outputs": [
    {
     "name": "stdout",
     "output_type": "stream",
     "text": [
      "U757_hybrid.csv\n",
      "Processed 1 out of 49052 files.\n",
      "   User_ID      ID    hybrid\n",
      "0     U757  N35242  0.080857\n",
      "1     U757  N20583  0.081383\n",
      "2     U757  N30842  0.082452\n",
      "3     U757   N4670  0.082629\n",
      "4     U757  N27803  0.083003\n",
      "5     U757  N27851  0.083156\n",
      "6     U757  N49624  0.083762\n",
      "7     U757  N46397  0.084046\n",
      "8     U757   N1854  0.084165\n",
      "9     U757   N6616  0.084222\n",
      "10    U757  N51741  0.084249\n",
      "11    U757  N49846  0.084271\n",
      "12    U757  N27007  0.084633\n",
      "13    U757   N1345  0.084677\n",
      "14    U757  N51676  0.084886\n",
      "15    U757  N33797  0.085061\n",
      "16    U757  N23925  0.085099\n",
      "17    U757  N31422  0.085103\n",
      "18    U757  N59177  0.085134\n",
      "19    U757  N17671  0.085192\n"
     ]
    }
   ],
   "source": [
    "\n",
    "# Path to the folder containing the CSV files\n",
    "folder_path = \"hybrid_recommendations/\"\n",
    "\n",
    "# Initialize an empty DataFrame to store the data\n",
    "combined_df = pd.DataFrame(columns=[\"User_ID\", \"ID\", \"hybrid\"])\n",
    "\n",
    "# Get the total number of files in the folder\n",
    "total_files = len([filename for filename in os.listdir(folder_path) if filename.endswith(\".csv\")])\n",
    "file_count = 0\n",
    "\n",
    "# Iterate through each file in the folder\n",
    "for filename in os.listdir(folder_path)[40000:]:\n",
    "    if filename.endswith(\".csv\"):\n",
    "        user_id = filename.split(\"_\")[0]  # Extract user ID from the filename\n",
    "        file_path = os.path.join(folder_path, filename)\n",
    "        \n",
    "        # Read the CSV file and skip the first row (header)\n",
    "        #df = pd.read_csv(file_path, sep='\\t', skiprows=1, names=[\"ID\", \"hybrid\"])\n",
    "        df = pd.read_csv(file_path)\n",
    "        df = df.sort_values(by='hybrid')\n",
    "        \n",
    "        # Splitting the \"ID\" column based on comma and creating separate rows\n",
    "        #df[['ID', 'hybrid']] = df['ID'].str.split(',', expand=True)\n",
    "        \n",
    "        # Add the user ID to the DataFrame\n",
    "        df.insert(0, \"User_ID\", user_id)\n",
    "        \n",
    "        # Append the data to the combined DataFrame\n",
    "        combined_df = pd.concat([combined_df, df.head(20)], ignore_index=True)\n",
    "        \n",
    "        # Increment file count and print progress\n",
    "        file_count += 1\n",
    "        print(f\"Processed {file_count} out of {total_files} files.\")\n",
    "\n",
    "# Display the combined DataFrame\n",
    "print(combined_df)"
   ]
  },
  {
   "cell_type": "code",
   "execution_count": 75,
   "metadata": {},
   "outputs": [],
   "source": [
    "combined_df.to_csv (\"recommendations_20/hybrid_rec_20_5.csv\", index = None)"
   ]
  },
  {
   "cell_type": "code",
   "execution_count": null,
   "metadata": {},
   "outputs": [],
   "source": []
  },
  {
   "cell_type": "code",
   "execution_count": 76,
   "metadata": {},
   "outputs": [],
   "source": [
    "# Directory where your files are located\n",
    "directory = 'recommendations_20/'\n",
    "\n",
    "# Get a list of all files in the directory that start with 'hybrid_rec_20_'\n",
    "files = [file for file in os.listdir(directory) if file.startswith('hybrid_rec_20_')]"
   ]
  },
  {
   "cell_type": "code",
   "execution_count": 77,
   "metadata": {},
   "outputs": [],
   "source": [
    "# Read and concatenate all files\n",
    "dfs = []\n",
    "for file in files:\n",
    "    # Specify dtype as 'object' to preserve all strings\n",
    "    df = pd.read_csv(os.path.join(directory, file), dtype='object')\n",
    "    dfs.append(df)\n",
    "\n",
    "# Concatenate all dataframes into one\n",
    "merged_df = pd.concat(dfs, ignore_index=True)\n"
   ]
  },
  {
   "cell_type": "code",
   "execution_count": 78,
   "metadata": {},
   "outputs": [
    {
     "data": {
      "text/html": [
       "<div>\n",
       "<style scoped>\n",
       "    .dataframe tbody tr th:only-of-type {\n",
       "        vertical-align: middle;\n",
       "    }\n",
       "\n",
       "    .dataframe tbody tr th {\n",
       "        vertical-align: top;\n",
       "    }\n",
       "\n",
       "    .dataframe thead th {\n",
       "        text-align: right;\n",
       "    }\n",
       "</style>\n",
       "<table border=\"1\" class=\"dataframe\">\n",
       "  <thead>\n",
       "    <tr style=\"text-align: right;\">\n",
       "      <th></th>\n",
       "      <th>User_ID</th>\n",
       "      <th>ID</th>\n",
       "      <th>hybrid</th>\n",
       "    </tr>\n",
       "  </thead>\n",
       "  <tbody>\n",
       "    <tr>\n",
       "      <th>0</th>\n",
       "      <td>U19377</td>\n",
       "      <td>N9873</td>\n",
       "      <td>0.1236624769364614</td>\n",
       "    </tr>\n",
       "    <tr>\n",
       "      <th>1</th>\n",
       "      <td>U19377</td>\n",
       "      <td>N57318</td>\n",
       "      <td>0.1241306004730366</td>\n",
       "    </tr>\n",
       "    <tr>\n",
       "      <th>2</th>\n",
       "      <td>U19377</td>\n",
       "      <td>N28434</td>\n",
       "      <td>0.125565901939416</td>\n",
       "    </tr>\n",
       "    <tr>\n",
       "      <th>3</th>\n",
       "      <td>U19377</td>\n",
       "      <td>N42816</td>\n",
       "      <td>0.1255770729873681</td>\n",
       "    </tr>\n",
       "    <tr>\n",
       "      <th>4</th>\n",
       "      <td>U19377</td>\n",
       "      <td>N26288</td>\n",
       "      <td>0.1294539190183991</td>\n",
       "    </tr>\n",
       "    <tr>\n",
       "      <th>...</th>\n",
       "      <td>...</td>\n",
       "      <td>...</td>\n",
       "      <td>...</td>\n",
       "    </tr>\n",
       "    <tr>\n",
       "      <th>981035</th>\n",
       "      <td>U74193</td>\n",
       "      <td>N10781</td>\n",
       "      <td>0.070944852112255</td>\n",
       "    </tr>\n",
       "    <tr>\n",
       "      <th>981036</th>\n",
       "      <td>U74193</td>\n",
       "      <td>N10476</td>\n",
       "      <td>0.0711201243970514</td>\n",
       "    </tr>\n",
       "    <tr>\n",
       "      <th>981037</th>\n",
       "      <td>U74193</td>\n",
       "      <td>N41996</td>\n",
       "      <td>0.0712235531389711</td>\n",
       "    </tr>\n",
       "    <tr>\n",
       "      <th>981038</th>\n",
       "      <td>U74193</td>\n",
       "      <td>N50246</td>\n",
       "      <td>0.0712313823103673</td>\n",
       "    </tr>\n",
       "    <tr>\n",
       "      <th>981039</th>\n",
       "      <td>U74193</td>\n",
       "      <td>N42509</td>\n",
       "      <td>0.0712581633561396</td>\n",
       "    </tr>\n",
       "  </tbody>\n",
       "</table>\n",
       "<p>981040 rows × 3 columns</p>\n",
       "</div>"
      ],
      "text/plain": [
       "       User_ID      ID              hybrid\n",
       "0       U19377   N9873  0.1236624769364614\n",
       "1       U19377  N57318  0.1241306004730366\n",
       "2       U19377  N28434   0.125565901939416\n",
       "3       U19377  N42816  0.1255770729873681\n",
       "4       U19377  N26288  0.1294539190183991\n",
       "...        ...     ...                 ...\n",
       "981035  U74193  N10781   0.070944852112255\n",
       "981036  U74193  N10476  0.0711201243970514\n",
       "981037  U74193  N41996  0.0712235531389711\n",
       "981038  U74193  N50246  0.0712313823103673\n",
       "981039  U74193  N42509  0.0712581633561396\n",
       "\n",
       "[981040 rows x 3 columns]"
      ]
     },
     "execution_count": 78,
     "metadata": {},
     "output_type": "execute_result"
    }
   ],
   "source": [
    "merged_df"
   ]
  },
  {
   "cell_type": "code",
   "execution_count": 79,
   "metadata": {},
   "outputs": [],
   "source": [
    "users_list = merged_df['User_ID'].unique().tolist()"
   ]
  },
  {
   "cell_type": "code",
   "execution_count": 80,
   "metadata": {},
   "outputs": [
    {
     "data": {
      "text/plain": [
       "49052"
      ]
     },
     "execution_count": 80,
     "metadata": {},
     "output_type": "execute_result"
    }
   ],
   "source": [
    "len(users_list)"
   ]
  },
  {
   "cell_type": "code",
   "execution_count": 81,
   "metadata": {},
   "outputs": [],
   "source": [
    "# Write the merged dataframe to a new CSV file\n",
    "merged_df.to_csv('recommendations_20/hybrid_rec_20.csv', index=False)"
   ]
  },
  {
   "cell_type": "code",
   "execution_count": 82,
   "metadata": {},
   "outputs": [],
   "source": [
    "hyb = pd.read_csv(\"recommendations_20/hybrid_rec_20.csv\")"
   ]
  },
  {
   "cell_type": "code",
   "execution_count": 85,
   "metadata": {},
   "outputs": [],
   "source": [
    "cont = pd.read_csv(\"recommendations_20/content_rec_20.csv\")"
   ]
  },
  {
   "cell_type": "code",
   "execution_count": 84,
   "metadata": {},
   "outputs": [
    {
     "name": "stdout",
     "output_type": "stream",
     "text": [
      "   User_ID      ID    hybrid\n",
      "0   U19377   N9873  0.123662\n",
      "1   U19377  N57318  0.124131\n",
      "2   U19377  N28434  0.125566\n",
      "3   U19377  N42816  0.125577\n",
      "4   U19377  N26288  0.129454\n",
      "5   U19377  N53693  0.130186\n",
      "6   U19377  N57964  0.130747\n",
      "7   U19377  N35092  0.131154\n",
      "8   U19377  N27969  0.131484\n",
      "9   U19377  N38005  0.131504\n",
      "10  U19377  N43233  0.132157\n",
      "11  U19377  N47329  0.132786\n",
      "12  U19377  N26265  0.132928\n",
      "13  U19377  N15607  0.133395\n",
      "14  U19377  N41279  0.133461\n",
      "15  U19377   N9647  0.133816\n",
      "16  U19377  N15981  0.133936\n",
      "17  U19377  N35724  0.134238\n",
      "18  U19377  N31729  0.134442\n",
      "19  U19377  N39364  0.134641\n"
     ]
    }
   ],
   "source": [
    "# Assuming df is your DataFrame containing the data\n",
    "user_id = 'U19377'\n",
    "user_df = hyb[hyb['User_ID'] == user_id]\n",
    "print(user_df)\n"
   ]
  },
  {
   "cell_type": "code",
   "execution_count": 86,
   "metadata": {},
   "outputs": [
    {
     "name": "stdout",
     "output_type": "stream",
     "text": [
      "       User_ID      ID  Distance\n",
      "181080  U19377  N57318  0.138467\n",
      "181081  U19377   N9873  0.146890\n",
      "181082  U19377  N28434  0.152147\n",
      "181083  U19377  N26288  0.152188\n",
      "181084  U19377   N3497  0.152599\n",
      "181085  U19377  N28496  0.153291\n",
      "181086  U19377  N24985  0.153776\n",
      "181087  U19377  N52295  0.156101\n",
      "181088  U19377  N26265  0.156601\n",
      "181089  U19377  N57964  0.157568\n",
      "181090  U19377  N52907  0.158670\n",
      "181091  U19377   N9647  0.160442\n",
      "181092  U19377  N39364  0.161577\n",
      "181093  U19377  N27969  0.161821\n",
      "181094  U19377  N47329  0.162613\n",
      "181095  U19377  N39634  0.162684\n",
      "181096  U19377  N51909  0.163049\n",
      "181097  U19377  N15607  0.163178\n",
      "181098  U19377  N61692  0.163271\n",
      "181099  U19377  N10095  0.163412\n"
     ]
    }
   ],
   "source": [
    "# Assuming df is your DataFrame containing the data\n",
    "user_df1 = cont[cont['User_ID'] == user_id]\n",
    "print(user_df1)"
   ]
  }
 ],
 "metadata": {
  "kernelspec": {
   "display_name": "Python 3",
   "language": "python",
   "name": "python3"
  },
  "language_info": {
   "codemirror_mode": {
    "name": "ipython",
    "version": 3
   },
   "file_extension": ".py",
   "mimetype": "text/x-python",
   "name": "python",
   "nbconvert_exporter": "python",
   "pygments_lexer": "ipython3",
   "version": "3.10.7"
  },
  "orig_nbformat": 4
 },
 "nbformat": 4,
 "nbformat_minor": 2
}
