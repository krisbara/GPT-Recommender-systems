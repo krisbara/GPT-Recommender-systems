{
 "cells": [
  {
   "cell_type": "code",
   "execution_count": 25,
   "metadata": {},
   "outputs": [],
   "source": [
    "# imports\n",
    "import pandas as pd\n",
    "import numpy as np\n",
    "from typing import List\n",
    "import os\n",
    "from sklearn.metrics import precision_score\n",
    "from sklearn.metrics import recall_score\n",
    "import warnings\n"
   ]
  },
  {
   "cell_type": "code",
   "execution_count": 45,
   "metadata": {},
   "outputs": [
    {
     "data": {
      "text/html": [
       "<div>\n",
       "<style scoped>\n",
       "    .dataframe tbody tr th:only-of-type {\n",
       "        vertical-align: middle;\n",
       "    }\n",
       "\n",
       "    .dataframe tbody tr th {\n",
       "        vertical-align: top;\n",
       "    }\n",
       "\n",
       "    .dataframe thead th {\n",
       "        text-align: right;\n",
       "    }\n",
       "</style>\n",
       "<table border=\"1\" class=\"dataframe\">\n",
       "  <thead>\n",
       "    <tr style=\"text-align: right;\">\n",
       "      <th></th>\n",
       "      <th>User</th>\n",
       "      <th>ID1</th>\n",
       "      <th>ID</th>\n",
       "    </tr>\n",
       "  </thead>\n",
       "  <tbody>\n",
       "    <tr>\n",
       "      <th>0</th>\n",
       "      <td>U13000</td>\n",
       "      <td>N42782 N18445 N49749</td>\n",
       "      <td>N7482-1 N6379-0</td>\n",
       "    </tr>\n",
       "    <tr>\n",
       "      <th>1</th>\n",
       "      <td>U14000</td>\n",
       "      <td>N9721 N61358 N11360 N64593 N9900 N46688</td>\n",
       "      <td>N1145-1 N34930-1 N53526-0 N3574-0 N751-0 N2202...</td>\n",
       "    </tr>\n",
       "    <tr>\n",
       "      <th>2</th>\n",
       "      <td>U15000</td>\n",
       "      <td>N42474 N41013 N45970 N4015 N56461 N11161 N31633</td>\n",
       "      <td>N4303-1 N58730-0 N64130-0 N38064-0 N49210-0 N92-0</td>\n",
       "    </tr>\n",
       "    <tr>\n",
       "      <th>3</th>\n",
       "      <td>U13740</td>\n",
       "      <td>N55189 N42782 N34694 N45794 N18445 N63302 N104...</td>\n",
       "      <td>N55689-1 N35729-0</td>\n",
       "    </tr>\n",
       "    <tr>\n",
       "      <th>4</th>\n",
       "      <td>U91836</td>\n",
       "      <td>N31739 N6072 N63045 N23979 N35656 N43353 N8129...</td>\n",
       "      <td>N20678-0 N39317-0 N58114-0 N20495-0 N42977-0 N...</td>\n",
       "    </tr>\n",
       "  </tbody>\n",
       "</table>\n",
       "</div>"
      ],
      "text/plain": [
       "     User                                                ID1  \\\n",
       "0  U13000                               N42782 N18445 N49749   \n",
       "1  U14000            N9721 N61358 N11360 N64593 N9900 N46688   \n",
       "2  U15000    N42474 N41013 N45970 N4015 N56461 N11161 N31633   \n",
       "3  U13740  N55189 N42782 N34694 N45794 N18445 N63302 N104...   \n",
       "4  U91836  N31739 N6072 N63045 N23979 N35656 N43353 N8129...   \n",
       "\n",
       "                                                  ID  \n",
       "0                                    N7482-1 N6379-0  \n",
       "1  N1145-1 N34930-1 N53526-0 N3574-0 N751-0 N2202...  \n",
       "2  N4303-1 N58730-0 N64130-0 N38064-0 N49210-0 N92-0  \n",
       "3                                  N55689-1 N35729-0  \n",
       "4  N20678-0 N39317-0 N58114-0 N20495-0 N42977-0 N...  "
      ]
     },
     "execution_count": 45,
     "metadata": {},
     "output_type": "execute_result"
    }
   ],
   "source": [
    "behaviors = pd.read_csv(\"MIND/behaviors_testdataset.csv\", sep=';', header=None)\n",
    "behaviors.columns =['User', 'Time', 'ID', 'Impressions'] \n",
    "behaviors = behaviors.drop(['Time'], axis=1)\n",
    "behaviors.head()"
   ]
  },
  {
   "cell_type": "code",
   "execution_count": 27,
   "metadata": {},
   "outputs": [
    {
     "data": {
      "text/html": [
       "<div>\n",
       "<style scoped>\n",
       "    .dataframe tbody tr th:only-of-type {\n",
       "        vertical-align: middle;\n",
       "    }\n",
       "\n",
       "    .dataframe tbody tr th {\n",
       "        vertical-align: top;\n",
       "    }\n",
       "\n",
       "    .dataframe thead th {\n",
       "        text-align: right;\n",
       "    }\n",
       "</style>\n",
       "<table border=\"1\" class=\"dataframe\">\n",
       "  <thead>\n",
       "    <tr style=\"text-align: right;\">\n",
       "      <th></th>\n",
       "      <th>ID</th>\n",
       "      <th>Category</th>\n",
       "      <th>SubCategory</th>\n",
       "      <th>Content</th>\n",
       "    </tr>\n",
       "  </thead>\n",
       "  <tbody>\n",
       "    <tr>\n",
       "      <th>0</th>\n",
       "      <td>N53526</td>\n",
       "      <td>health</td>\n",
       "      <td>voices</td>\n",
       "      <td>I Was An NBA Wife. Here's How It Affected My M...</td>\n",
       "    </tr>\n",
       "    <tr>\n",
       "      <th>1</th>\n",
       "      <td>N9721</td>\n",
       "      <td>health</td>\n",
       "      <td>nutrition</td>\n",
       "      <td>50 Foods You Should Never Eat, According to He...</td>\n",
       "    </tr>\n",
       "    <tr>\n",
       "      <th>2</th>\n",
       "      <td>N39758</td>\n",
       "      <td>health</td>\n",
       "      <td>nutrition</td>\n",
       "      <td>25 Biggest Grocery Store Mistakes Making You G...</td>\n",
       "    </tr>\n",
       "    <tr>\n",
       "      <th>3</th>\n",
       "      <td>N3574</td>\n",
       "      <td>autos</td>\n",
       "      <td>autosnews</td>\n",
       "      <td>Ford Bronco Test Mule Spotted Flexing Its Musc...</td>\n",
       "    </tr>\n",
       "    <tr>\n",
       "      <th>4</th>\n",
       "      <td>N42474</td>\n",
       "      <td>news</td>\n",
       "      <td>newsbusiness</td>\n",
       "      <td>Trump's Trustbusters Bring Microsoft Lessons t...</td>\n",
       "    </tr>\n",
       "  </tbody>\n",
       "</table>\n",
       "</div>"
      ],
      "text/plain": [
       "       ID Category   SubCategory  \\\n",
       "0  N53526   health        voices   \n",
       "1   N9721   health     nutrition   \n",
       "2  N39758   health     nutrition   \n",
       "3   N3574    autos     autosnews   \n",
       "4  N42474     news  newsbusiness   \n",
       "\n",
       "                                             Content  \n",
       "0  I Was An NBA Wife. Here's How It Affected My M...  \n",
       "1  50 Foods You Should Never Eat, According to He...  \n",
       "2  25 Biggest Grocery Store Mistakes Making You G...  \n",
       "3  Ford Bronco Test Mule Spotted Flexing Its Musc...  \n",
       "4  Trump's Trustbusters Bring Microsoft Lessons t...  "
      ]
     },
     "execution_count": 27,
     "metadata": {},
     "output_type": "execute_result"
    }
   ],
   "source": [
    "news = pd.read_csv(\"MIND/news_testdataset.csv\") \n",
    "news.head()"
   ]
  },
  {
   "cell_type": "code",
   "execution_count": 38,
   "metadata": {},
   "outputs": [
    {
     "name": "stdout",
     "output_type": "stream",
     "text": [
      "[N42782: Three takeaways from Yankees' ALCS Game 5 victory over the Astros The Yankees kept hope alive thanks to some impressive starting pitching and a pair of early home runs.] [N18445: Michigan sends breakup tweet to Notre Dame as series goes on hold Parting is such sweet sorrow, say the Wolverines.] [N49749: 'Unbelievable.' Chiefs fans stunned, mad after loss to the Titans What the heck happened? The Chiefs were lining up for a field goal that would have given them and eight-point lead late in Sunday's game against the Tennessee Titans in Nashville. The snap came before holder Dustin Colquitt was ready and he threw the ball away. Colquitt was called for intentional grounding and the Titans took over. They drove down the field for a touchdown, two-point ...] "
     ]
    }
   ],
   "source": [
    "def get_user_related_content(user):\n",
    "    user_row = behaviors[behaviors['User'] == user]\n",
    "    \n",
    "    if user_row.empty:\n",
    "        return [(\"No data found for user\", user)]\n",
    "    \n",
    "    user_ids = user_row['ID'].iloc[0].split()\n",
    "    \n",
    "    result = []\n",
    "    \n",
    "    for user_id in user_ids:\n",
    "        id_row = news[news['ID'] == user_id]\n",
    "        \n",
    "        if not id_row.empty:\n",
    "            content = id_row['Content'].iloc[0]\n",
    "            result.append((user_id, content))\n",
    "    \n",
    "    return result"
   ]
  },
  {
   "cell_type": "code",
   "execution_count": 40,
   "metadata": {},
   "outputs": [
    {
     "name": "stdout",
     "output_type": "stream",
     "text": [
      "[N42782: Three takeaways from Yankees' ALCS Game 5 victory over the Astros The Yankees kept hope alive thanks to some impressive starting pitching and a pair of early home runs.] [N18445: Michigan sends breakup tweet to Notre Dame as series goes on hold Parting is such sweet sorrow, say the Wolverines.] [N49749: 'Unbelievable.' Chiefs fans stunned, mad after loss to the Titans What the heck happened? The Chiefs were lining up for a field goal that would have given them and eight-point lead late in Sunday's game against the Tennessee Titans in Nashville. The snap came before holder Dustin Colquitt was ready and he threw the ball away. Colquitt was called for intentional grounding and the Titans took over. They drove down the field for a touchdown, two-point ...] "
     ]
    }
   ],
   "source": [
    "user_input = 'U13000'\n",
    "output = get_user_related_content(user_input)\n",
    "\n",
    "#print(f\"User: {user_input}\", end=\" \")\n",
    "for user_id, content in output:\n",
    "    print(f\"[{user_id}: {content}]\", end=\" \")"
   ]
  },
  {
   "cell_type": "code",
   "execution_count": 43,
   "metadata": {},
   "outputs": [],
   "source": [
    "import random\n",
    "\n",
    "def get_random_news(n):\n",
    "    random_news = random.sample(list(news.itertuples(index=False, name=None)), n)\n",
    "    return [(news[0], news[3]) for news in random_news]\n"
   ]
  },
  {
   "cell_type": "code",
   "execution_count": 44,
   "metadata": {},
   "outputs": [
    {
     "name": "stdout",
     "output_type": "stream",
     "text": [
      "Random News:\n",
      "[N6695: 'He fought them,' father says of son killed on birthday defending his family in home Brenton Estorffe, an Australian living in Texas, was died defending his family.] [N43299: Tigers put All-Star P Matthew Boyd on trade block Coming off one of the worst seasons in franchise history, it sure looks like the Detroit Tigers are going to further blow things up.] [N21395: Drone video shows the devastated compound where al-Baghdadi died Drone video showed there was little left standing of the compound at Barisha, Syria, where ISIS leader Abu Bakr al-Baghdadi was killed.] "
     ]
    }
   ],
   "source": [
    "n_random_news = 3  # Change this to the desired number of random news\n",
    "random_news_output = get_random_news(n_random_news)\n",
    "\n",
    "print(\"Random News:\")\n",
    "for news_id, news_content in random_news_output:\n",
    "    print(f\"[{news_id}: {news_content}]\", end=\" \")"
   ]
  },
  {
   "attachments": {},
   "cell_type": "markdown",
   "metadata": {},
   "source": [
    "For Impressions"
   ]
  },
  {
   "cell_type": "code",
   "execution_count": 50,
   "metadata": {},
   "outputs": [
    {
     "data": {
      "text/html": [
       "<div>\n",
       "<style scoped>\n",
       "    .dataframe tbody tr th:only-of-type {\n",
       "        vertical-align: middle;\n",
       "    }\n",
       "\n",
       "    .dataframe tbody tr th {\n",
       "        vertical-align: top;\n",
       "    }\n",
       "\n",
       "    .dataframe thead th {\n",
       "        text-align: right;\n",
       "    }\n",
       "</style>\n",
       "<table border=\"1\" class=\"dataframe\">\n",
       "  <thead>\n",
       "    <tr style=\"text-align: right;\">\n",
       "      <th></th>\n",
       "      <th>User</th>\n",
       "      <th>Read</th>\n",
       "      <th>ID</th>\n",
       "    </tr>\n",
       "  </thead>\n",
       "  <tbody>\n",
       "    <tr>\n",
       "      <th>0</th>\n",
       "      <td>U13000</td>\n",
       "      <td>N42782 N18445 N49749</td>\n",
       "      <td>N7482-1 N6379-0</td>\n",
       "    </tr>\n",
       "    <tr>\n",
       "      <th>1</th>\n",
       "      <td>U14000</td>\n",
       "      <td>N9721 N61358 N11360 N64593 N9900 N46688</td>\n",
       "      <td>N1145-1 N34930-1 N53526-0 N3574-0 N751-0 N2202...</td>\n",
       "    </tr>\n",
       "    <tr>\n",
       "      <th>2</th>\n",
       "      <td>U15000</td>\n",
       "      <td>N42474 N41013 N45970 N4015 N56461 N11161 N31633</td>\n",
       "      <td>N4303-1 N58730-0 N64130-0 N38064-0 N49210-0 N92-0</td>\n",
       "    </tr>\n",
       "    <tr>\n",
       "      <th>3</th>\n",
       "      <td>U13740</td>\n",
       "      <td>N55189 N42782 N34694 N45794 N18445 N63302 N104...</td>\n",
       "      <td>N55689-1 N35729-0</td>\n",
       "    </tr>\n",
       "    <tr>\n",
       "      <th>4</th>\n",
       "      <td>U91836</td>\n",
       "      <td>N31739 N6072 N63045 N23979 N35656 N43353 N8129...</td>\n",
       "      <td>N20678-0 N39317-0 N58114-0 N20495-0 N42977-0 N...</td>\n",
       "    </tr>\n",
       "  </tbody>\n",
       "</table>\n",
       "</div>"
      ],
      "text/plain": [
       "     User                                               Read  \\\n",
       "0  U13000                               N42782 N18445 N49749   \n",
       "1  U14000            N9721 N61358 N11360 N64593 N9900 N46688   \n",
       "2  U15000    N42474 N41013 N45970 N4015 N56461 N11161 N31633   \n",
       "3  U13740  N55189 N42782 N34694 N45794 N18445 N63302 N104...   \n",
       "4  U91836  N31739 N6072 N63045 N23979 N35656 N43353 N8129...   \n",
       "\n",
       "                                                  ID  \n",
       "0                                    N7482-1 N6379-0  \n",
       "1  N1145-1 N34930-1 N53526-0 N3574-0 N751-0 N2202...  \n",
       "2  N4303-1 N58730-0 N64130-0 N38064-0 N49210-0 N92-0  \n",
       "3                                  N55689-1 N35729-0  \n",
       "4  N20678-0 N39317-0 N58114-0 N20495-0 N42977-0 N...  "
      ]
     },
     "execution_count": 50,
     "metadata": {},
     "output_type": "execute_result"
    }
   ],
   "source": [
    "behaviors = pd.read_csv(\"MIND/behaviors_testdataset.csv\", sep=';', header=None)\n",
    "behaviors.columns =['User', 'Time', 'Read', 'ID'] \n",
    "behaviors = behaviors.drop(['Time'], axis=1)\n",
    "behaviors.head()"
   ]
  },
  {
   "cell_type": "code",
   "execution_count": 53,
   "metadata": {},
   "outputs": [
    {
     "name": "stdout",
     "output_type": "stream",
     "text": [
      "[N7482: St. Dominic soccer player tries to kick cancer to the curb Sometimes, what happens on the sidelines can be even more important than what happens on the field. That was the case recently for the improving St. Dominic boys soccer team. \"We're led by some great seniors and they're learning a lot,\" said head soccer coach Greg Koeller. Since 2000, the Crusaders have won five state titles. And if that wasn't enough motivation, they have players who provide inspiration. Like No. 2, Clay North. \"Clay is just an...] [N6379: California cops respond to 2 homeless men shot with arrows: report Two homeless men living at an encampment near San Francisco were shot with arrows early Sunday in an attack that was not random, a report said.] "
     ]
    }
   ],
   "source": [
    "def clean_id(id_value):\n",
    "    # Remove index part (\"-1\" or \"-0\")\n",
    "    return id_value.rstrip('01').rstrip('-')\n",
    "\n",
    "def get_user_related_content(user):\n",
    "    user_row = behaviors[behaviors['User'] == user]\n",
    "    \n",
    "    if user_row.empty:\n",
    "        return [(\"No data found for user\", user)]\n",
    "    \n",
    "    user_ids = user_row['ID'].iloc[0].split()\n",
    "    \n",
    "    result = []\n",
    "    \n",
    "    for user_id in user_ids:\n",
    "        cleaned_id = clean_id(user_id)\n",
    "        id_row = news[news['ID'] == cleaned_id]\n",
    "        \n",
    "        if not id_row.empty:\n",
    "            content = id_row['Content'].iloc[0]\n",
    "            result.append((cleaned_id, content))\n",
    "    \n",
    "    return result\n",
    "\n",
    "# Example usage\n",
    "user_input = 'U13000'\n",
    "output = get_user_related_content(user_input)\n",
    "\n",
    "if output:\n",
    "    #print(f\"User: {user_input}\", end=\" \")\n",
    "    for user_id, content in output:\n",
    "        print(f\"[{user_id}: {content}]\", end=\" \")\n",
    "else:\n",
    "    print(f\"No data found for user {user_input}\")\n"
   ]
  }
 ],
 "metadata": {
  "kernelspec": {
   "display_name": "Python 3",
   "language": "python",
   "name": "python3"
  },
  "language_info": {
   "codemirror_mode": {
    "name": "ipython",
    "version": 3
   },
   "file_extension": ".py",
   "mimetype": "text/x-python",
   "name": "python",
   "nbconvert_exporter": "python",
   "pygments_lexer": "ipython3",
   "version": "3.10.7"
  },
  "orig_nbformat": 4
 },
 "nbformat": 4,
 "nbformat_minor": 2
}
