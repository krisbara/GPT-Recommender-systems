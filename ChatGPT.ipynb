{
 "cells": [
  {
   "cell_type": "code",
   "execution_count": 182,
   "metadata": {},
   "outputs": [],
   "source": [
    "# imports\n",
    "import pandas as pd\n",
    "import numpy as np\n",
    "import random\n",
    "\n"
   ]
  },
  {
   "cell_type": "code",
   "execution_count": 183,
   "metadata": {},
   "outputs": [],
   "source": [
    "user_input = 'U38627'"
   ]
  },
  {
   "cell_type": "code",
   "execution_count": 184,
   "metadata": {},
   "outputs": [
    {
     "data": {
      "text/html": [
       "<div>\n",
       "<style scoped>\n",
       "    .dataframe tbody tr th:only-of-type {\n",
       "        vertical-align: middle;\n",
       "    }\n",
       "\n",
       "    .dataframe tbody tr th {\n",
       "        vertical-align: top;\n",
       "    }\n",
       "\n",
       "    .dataframe thead th {\n",
       "        text-align: right;\n",
       "    }\n",
       "</style>\n",
       "<table border=\"1\" class=\"dataframe\">\n",
       "  <thead>\n",
       "    <tr style=\"text-align: right;\">\n",
       "      <th></th>\n",
       "      <th>User</th>\n",
       "      <th>ID</th>\n",
       "      <th>Impressions</th>\n",
       "    </tr>\n",
       "  </thead>\n",
       "  <tbody>\n",
       "    <tr>\n",
       "      <th>0</th>\n",
       "      <td>U13000</td>\n",
       "      <td>N42782 N18445 N49749</td>\n",
       "      <td>N7482-1 N6379-0</td>\n",
       "    </tr>\n",
       "    <tr>\n",
       "      <th>1</th>\n",
       "      <td>U14000</td>\n",
       "      <td>N9721 N61358 N11360 N64593 N9900 N46688</td>\n",
       "      <td>N1145-1 N34930-1 N53526-0 N3574-0 N751-0 N2202...</td>\n",
       "    </tr>\n",
       "    <tr>\n",
       "      <th>2</th>\n",
       "      <td>U15000</td>\n",
       "      <td>N42474 N41013 N45970 N4015 N56461 N11161 N31633</td>\n",
       "      <td>N4303-1 N58730-0 N64130-0 N38064-0 N49210-0 N92-0</td>\n",
       "    </tr>\n",
       "    <tr>\n",
       "      <th>3</th>\n",
       "      <td>U13740</td>\n",
       "      <td>N55189 N42782 N34694 N45794 N18445 N63302 N104...</td>\n",
       "      <td>N55689-1 N35729-0</td>\n",
       "    </tr>\n",
       "    <tr>\n",
       "      <th>4</th>\n",
       "      <td>U91836</td>\n",
       "      <td>N31739 N6072 N63045 N23979 N35656 N43353 N8129...</td>\n",
       "      <td>N20678-0 N39317-0 N58114-0 N20495-0 N42977-0 N...</td>\n",
       "    </tr>\n",
       "  </tbody>\n",
       "</table>\n",
       "</div>"
      ],
      "text/plain": [
       "     User                                                 ID  \\\n",
       "0  U13000                               N42782 N18445 N49749   \n",
       "1  U14000            N9721 N61358 N11360 N64593 N9900 N46688   \n",
       "2  U15000    N42474 N41013 N45970 N4015 N56461 N11161 N31633   \n",
       "3  U13740  N55189 N42782 N34694 N45794 N18445 N63302 N104...   \n",
       "4  U91836  N31739 N6072 N63045 N23979 N35656 N43353 N8129...   \n",
       "\n",
       "                                         Impressions  \n",
       "0                                    N7482-1 N6379-0  \n",
       "1  N1145-1 N34930-1 N53526-0 N3574-0 N751-0 N2202...  \n",
       "2  N4303-1 N58730-0 N64130-0 N38064-0 N49210-0 N92-0  \n",
       "3                                  N55689-1 N35729-0  \n",
       "4  N20678-0 N39317-0 N58114-0 N20495-0 N42977-0 N...  "
      ]
     },
     "execution_count": 184,
     "metadata": {},
     "output_type": "execute_result"
    }
   ],
   "source": [
    "behaviors = pd.read_csv(\"MIND/behaviors_testdataset.csv\", sep=';', header=None)\n",
    "behaviors.columns =['User', 'Time', 'ID', 'Impressions'] \n",
    "behaviors = behaviors.drop(['Time'], axis=1)\n",
    "behaviors.head()"
   ]
  },
  {
   "cell_type": "code",
   "execution_count": 185,
   "metadata": {},
   "outputs": [
    {
     "data": {
      "text/html": [
       "<div>\n",
       "<style scoped>\n",
       "    .dataframe tbody tr th:only-of-type {\n",
       "        vertical-align: middle;\n",
       "    }\n",
       "\n",
       "    .dataframe tbody tr th {\n",
       "        vertical-align: top;\n",
       "    }\n",
       "\n",
       "    .dataframe thead th {\n",
       "        text-align: right;\n",
       "    }\n",
       "</style>\n",
       "<table border=\"1\" class=\"dataframe\">\n",
       "  <thead>\n",
       "    <tr style=\"text-align: right;\">\n",
       "      <th></th>\n",
       "      <th>ID</th>\n",
       "      <th>Category</th>\n",
       "      <th>SubCategory</th>\n",
       "      <th>Content</th>\n",
       "    </tr>\n",
       "  </thead>\n",
       "  <tbody>\n",
       "    <tr>\n",
       "      <th>0</th>\n",
       "      <td>N53526</td>\n",
       "      <td>health</td>\n",
       "      <td>voices</td>\n",
       "      <td>I Was An NBA Wife. Here's How It Affected My M...</td>\n",
       "    </tr>\n",
       "    <tr>\n",
       "      <th>1</th>\n",
       "      <td>N9721</td>\n",
       "      <td>health</td>\n",
       "      <td>nutrition</td>\n",
       "      <td>50 Foods You Should Never Eat, According to He...</td>\n",
       "    </tr>\n",
       "    <tr>\n",
       "      <th>2</th>\n",
       "      <td>N39758</td>\n",
       "      <td>health</td>\n",
       "      <td>nutrition</td>\n",
       "      <td>25 Biggest Grocery Store Mistakes Making You G...</td>\n",
       "    </tr>\n",
       "    <tr>\n",
       "      <th>3</th>\n",
       "      <td>N3574</td>\n",
       "      <td>autos</td>\n",
       "      <td>autosnews</td>\n",
       "      <td>Ford Bronco Test Mule Spotted Flexing Its Musc...</td>\n",
       "    </tr>\n",
       "    <tr>\n",
       "      <th>4</th>\n",
       "      <td>N42474</td>\n",
       "      <td>news</td>\n",
       "      <td>newsbusiness</td>\n",
       "      <td>Trump's Trustbusters Bring Microsoft Lessons t...</td>\n",
       "    </tr>\n",
       "  </tbody>\n",
       "</table>\n",
       "</div>"
      ],
      "text/plain": [
       "       ID Category   SubCategory  \\\n",
       "0  N53526   health        voices   \n",
       "1   N9721   health     nutrition   \n",
       "2  N39758   health     nutrition   \n",
       "3   N3574    autos     autosnews   \n",
       "4  N42474     news  newsbusiness   \n",
       "\n",
       "                                             Content  \n",
       "0  I Was An NBA Wife. Here's How It Affected My M...  \n",
       "1  50 Foods You Should Never Eat, According to He...  \n",
       "2  25 Biggest Grocery Store Mistakes Making You G...  \n",
       "3  Ford Bronco Test Mule Spotted Flexing Its Musc...  \n",
       "4  Trump's Trustbusters Bring Microsoft Lessons t...  "
      ]
     },
     "execution_count": 185,
     "metadata": {},
     "output_type": "execute_result"
    }
   ],
   "source": [
    "news = pd.read_csv(\"MIND/news_testdataset.csv\") \n",
    "news.head()"
   ]
  },
  {
   "cell_type": "code",
   "execution_count": 186,
   "metadata": {},
   "outputs": [],
   "source": [
    "def get_user_related_content(user):\n",
    "    user_row = behaviors[behaviors['User'] == user]\n",
    "    \n",
    "    if user_row.empty:\n",
    "        return [(\"No data found for user\", user)]\n",
    "    \n",
    "    user_ids = user_row['ID'].iloc[0].split()\n",
    "    \n",
    "    result = []\n",
    "    \n",
    "    for user_id in user_ids:\n",
    "        id_row = news[news['ID'] == user_id]\n",
    "        \n",
    "        if not id_row.empty:\n",
    "            content = id_row['Content'].iloc[0]\n",
    "            result.append((user_id, content))\n",
    "    \n",
    "    return result"
   ]
  },
  {
   "cell_type": "code",
   "execution_count": 187,
   "metadata": {},
   "outputs": [
    {
     "name": "stdout",
     "output_type": "stream",
     "text": [
      "[N21136: Andy Cohen Says He Doesn't Feel Guilty About Joe and Teresa Giudice's Legal Fate After RHONJ Andy Cohen Doesn't Feel Guilt About Joe and Teresa Giudice] [N306: Kevin Spacey Won't Be Charged in Sexual Assault Case After Accuser Dies The Los Angeles County District Attorney's Office has formally dropped a case against actor Kevin Spacey, after the accuser died.] [N26026: Miranda Lambert Reveals the Real Reason Behind Her Secret Wedding: 'It's Not for Everybody Else' Miranda Lambert Reveals Why She Secretly Married Brendan McLoughlin] [N2309: James Van Der Beek and Wife Kimberly on Expecting Baby No. 6: It Often Requires an 'Explanation' James Van Der Beek and Wife Kimberly on Expecting Baby No. 6] [N36530: Property Brothers' J.D. Scott Marries Annalee Belle in Vintage Theatre-Themed Wedding J.D. Scott is Married! Third Property Brother Ties Knot] "
     ]
    }
   ],
   "source": [
    "output_content = get_user_related_content(user_input)\n",
    "\n",
    "#print(f\"User: {user_input}\", end=\" \")\n",
    "for user_id, content in output_content:\n",
    "    print(f\"[{user_id}: {content}]\", end=\" \")"
   ]
  },
  {
   "cell_type": "code",
   "execution_count": 188,
   "metadata": {},
   "outputs": [],
   "source": [
    "def get_random_news(n):\n",
    "    random_news = random.sample(list(news.itertuples(index=False, name=None)), n)\n",
    "    return [(news[0], news[3]) for news in random_news]\n"
   ]
  },
  {
   "cell_type": "code",
   "execution_count": 189,
   "metadata": {},
   "outputs": [
    {
     "name": "stdout",
     "output_type": "stream",
     "text": [
      "Random News:\n",
      "[N41172: Welcome to the World! All of the Celebrity Babies Who've Made Their Debuts in 2019 See who's made their debut so far this year] [N11855: New Jersey woman sues waiter for spilling wine on her Hermès handbag The woman is seeking $30,000 for the light-pink luxury handbag, which has been discontinued.] [N17686: Suspect in Henry County murder, kidnapping arraigned ] "
     ]
    }
   ],
   "source": [
    "n_random_news = 3  # Change this to the desired number of random news\n",
    "random_news_output = get_random_news(n_random_news)\n",
    "\n",
    "print(\"Random News:\")\n",
    "for news_id, news_content in random_news_output:\n",
    "    print(f\"[{news_id}: {news_content}]\", end=\" \")"
   ]
  },
  {
   "attachments": {},
   "cell_type": "markdown",
   "metadata": {},
   "source": [
    "For Impressions"
   ]
  },
  {
   "cell_type": "code",
   "execution_count": 190,
   "metadata": {},
   "outputs": [
    {
     "data": {
      "text/html": [
       "<div>\n",
       "<style scoped>\n",
       "    .dataframe tbody tr th:only-of-type {\n",
       "        vertical-align: middle;\n",
       "    }\n",
       "\n",
       "    .dataframe tbody tr th {\n",
       "        vertical-align: top;\n",
       "    }\n",
       "\n",
       "    .dataframe thead th {\n",
       "        text-align: right;\n",
       "    }\n",
       "</style>\n",
       "<table border=\"1\" class=\"dataframe\">\n",
       "  <thead>\n",
       "    <tr style=\"text-align: right;\">\n",
       "      <th></th>\n",
       "      <th>User</th>\n",
       "      <th>Read</th>\n",
       "      <th>ID</th>\n",
       "    </tr>\n",
       "  </thead>\n",
       "  <tbody>\n",
       "    <tr>\n",
       "      <th>0</th>\n",
       "      <td>U13000</td>\n",
       "      <td>N42782 N18445 N49749</td>\n",
       "      <td>N7482-1 N6379-0</td>\n",
       "    </tr>\n",
       "    <tr>\n",
       "      <th>1</th>\n",
       "      <td>U14000</td>\n",
       "      <td>N9721 N61358 N11360 N64593 N9900 N46688</td>\n",
       "      <td>N1145-1 N34930-1 N53526-0 N3574-0 N751-0 N2202...</td>\n",
       "    </tr>\n",
       "    <tr>\n",
       "      <th>2</th>\n",
       "      <td>U15000</td>\n",
       "      <td>N42474 N41013 N45970 N4015 N56461 N11161 N31633</td>\n",
       "      <td>N4303-1 N58730-0 N64130-0 N38064-0 N49210-0 N92-0</td>\n",
       "    </tr>\n",
       "    <tr>\n",
       "      <th>3</th>\n",
       "      <td>U13740</td>\n",
       "      <td>N55189 N42782 N34694 N45794 N18445 N63302 N104...</td>\n",
       "      <td>N55689-1 N35729-0</td>\n",
       "    </tr>\n",
       "    <tr>\n",
       "      <th>4</th>\n",
       "      <td>U91836</td>\n",
       "      <td>N31739 N6072 N63045 N23979 N35656 N43353 N8129...</td>\n",
       "      <td>N20678-0 N39317-0 N58114-0 N20495-0 N42977-0 N...</td>\n",
       "    </tr>\n",
       "  </tbody>\n",
       "</table>\n",
       "</div>"
      ],
      "text/plain": [
       "     User                                               Read  \\\n",
       "0  U13000                               N42782 N18445 N49749   \n",
       "1  U14000            N9721 N61358 N11360 N64593 N9900 N46688   \n",
       "2  U15000    N42474 N41013 N45970 N4015 N56461 N11161 N31633   \n",
       "3  U13740  N55189 N42782 N34694 N45794 N18445 N63302 N104...   \n",
       "4  U91836  N31739 N6072 N63045 N23979 N35656 N43353 N8129...   \n",
       "\n",
       "                                                  ID  \n",
       "0                                    N7482-1 N6379-0  \n",
       "1  N1145-1 N34930-1 N53526-0 N3574-0 N751-0 N2202...  \n",
       "2  N4303-1 N58730-0 N64130-0 N38064-0 N49210-0 N92-0  \n",
       "3                                  N55689-1 N35729-0  \n",
       "4  N20678-0 N39317-0 N58114-0 N20495-0 N42977-0 N...  "
      ]
     },
     "execution_count": 190,
     "metadata": {},
     "output_type": "execute_result"
    }
   ],
   "source": [
    "behaviors = pd.read_csv(\"MIND/behaviors_testdataset.csv\", sep=';', header=None)\n",
    "behaviors.columns =['User', 'Time', 'Read', 'ID'] \n",
    "behaviors = behaviors.drop(['Time'], axis=1)\n",
    "behaviors.head()"
   ]
  },
  {
   "cell_type": "code",
   "execution_count": 191,
   "metadata": {},
   "outputs": [],
   "source": [
    "def clean_id(id_value):\n",
    "    # Remove index part (\"-1\" or \"-0\")\n",
    "    return id_value.rstrip('01').rstrip('-')\n",
    "\n",
    "def get_user_related_content(user):\n",
    "    user_row = behaviors[behaviors['User'] == user]\n",
    "    \n",
    "    if user_row.empty:\n",
    "        return [(\"No data found for user\", user)]\n",
    "    \n",
    "    user_ids = user_row['ID'].iloc[0].split()\n",
    "    \n",
    "    result = []\n",
    "    \n",
    "    for user_id in user_ids:\n",
    "        cleaned_id = clean_id(user_id)\n",
    "        id_row = news[news['ID'] == cleaned_id]\n",
    "        \n",
    "        if not id_row.empty:\n",
    "            content = id_row['Content'].iloc[0]\n",
    "            result.append((cleaned_id, content))\n",
    "    \n",
    "    return result\n"
   ]
  },
  {
   "cell_type": "code",
   "execution_count": 192,
   "metadata": {},
   "outputs": [
    {
     "name": "stdout",
     "output_type": "stream",
     "text": [
      "[N4642: Kodak Black Sentenced to Over 3 Years in Prison in Weapons Case Rapper Kodak Black has been sentenced to more than three years in federal prison after pleading guilty to weapons charges stemming from his arrest just before a scheduled concert performance in May.] [N26025: Bannon calls Pelosi's impeachment strategy \"actually quite brilliant\" Bannon, the former White House chief strategist, called Pelosi a \"master at political warfare\"] [N4913: Don't be fooled: Costco says $75 coupon is a scam Wholesale retailer Costco is warning customers about a new scam that is promising shoppers a $75 coupon.] [N287: Three school workers charged in death of special needs student The student was reportedly restrained face-down for nearly an hour before becoming unresponsive] [N39010: Ruth Bader Ginsburg misses court due to illness Supreme Court Justice Ruth Bader Ginsburg was not on the bench for oral arguments Wednesday due to illness, according to Chief Justice John Roberts.] [N51048: Rep. Tim Ryan endorses Biden in Democratic primary ] [N21420: Lisa Vanderpump Reveals Why She Left RHOBH: 'I Don't Have Room in My Life for Nastiness' Lisa Vanderpump Reveals Why She Left RHOBH] [N34876: Jennifer Lopez Debuted the Sleek Seasonal Bob You'll Want to Copy *calling my hair stylist*] [N13907: 4 reasons you shouldn't max out your 401(k) Making high-dollar contributions to your 401(k) can cost you.] [N59673: Selena Gomez and Julia Michaels Share a Kiss Before Getting Matching Arrow Tattoos Selena Gomez and Julia Michaels Get Matching Arrow Tattoos] [N47061: 105 Black Friday Deals You Can Start Shopping Today Save with early bird deals from stores like Walmart, Target, Amazon, Costco, Sam's Club, Kohl's, Sears, JCPenney, and Macy's, which are offering deep Black Friday discounts on the hottest products on your Christmas list   and your wish list   starting on Thanksgiving, or even sooner.] "
     ]
    }
   ],
   "source": [
    "output_interactions = get_user_related_content(user_input)\n",
    "\n",
    "if output_interactions:\n",
    "    #print(f\"User: {user_input}\", end=\" \")\n",
    "    for user_id, content in output_interactions:\n",
    "        print(f\"[{user_id}: {content}]\", end=\" \")\n",
    "else:\n",
    "    print(f\"No data found for user {user_input}\")\n"
   ]
  },
  {
   "cell_type": "code",
   "execution_count": 193,
   "metadata": {},
   "outputs": [
    {
     "name": "stdout",
     "output_type": "stream",
     "text": [
      "The user has interacted with the items from List 1. You task is to choose items, which you could recommend for this user, from List 2. Output format: a python list. Do not explain the reason or include any other words. List 1: [('N21136', \"Andy Cohen Says He Doesn't Feel Guilty About Joe and Teresa Giudice's Legal Fate After RHONJ Andy Cohen Doesn't Feel Guilt About Joe and Teresa Giudice\"), ('N306', \"Kevin Spacey Won't Be Charged in Sexual Assault Case After Accuser Dies The Los Angeles County District Attorney's Office has formally dropped a case against actor Kevin Spacey, after the accuser died.\"), ('N26026', \"Miranda Lambert Reveals the Real Reason Behind Her Secret Wedding: 'It's Not for Everybody Else' Miranda Lambert Reveals Why She Secretly Married Brendan McLoughlin\"), ('N2309', \"James Van Der Beek and Wife Kimberly on Expecting Baby No. 6: It Often Requires an 'Explanation' James Van Der Beek and Wife Kimberly on Expecting Baby No. 6\"), ('N36530', \"Property Brothers' J.D. Scott Marries Annalee Belle in Vintage Theatre-Themed Wedding J.D. Scott is Married! Third Property Brother Ties Knot\")], List 2: [('N4642', 'Kodak Black Sentenced to Over 3 Years in Prison in Weapons Case Rapper Kodak Black has been sentenced to more than three years in federal prison after pleading guilty to weapons charges stemming from his arrest just before a scheduled concert performance in May.'), ('N26025', 'Bannon calls Pelosi\\'s impeachment strategy \"actually quite brilliant\" Bannon, the former White House chief strategist, called Pelosi a \"master at political warfare\"'), ('N4913', \"Don't be fooled: Costco says $75 coupon is a scam Wholesale retailer Costco is warning customers about a new scam that is promising shoppers a $75 coupon.\"), ('N287', 'Three school workers charged in death of special needs student The student was reportedly restrained face-down for nearly an hour before becoming unresponsive'), ('N39010', 'Ruth Bader Ginsburg misses court due to illness Supreme Court Justice Ruth Bader Ginsburg was not on the bench for oral arguments Wednesday due to illness, according to Chief Justice John Roberts.'), ('N51048', 'Rep. Tim Ryan endorses Biden in Democratic primary '), ('N21420', \"Lisa Vanderpump Reveals Why She Left RHOBH: 'I Don't Have Room in My Life for Nastiness' Lisa Vanderpump Reveals Why She Left RHOBH\"), ('N34876', \"Jennifer Lopez Debuted the Sleek Seasonal Bob You'll Want to Copy *calling my hair stylist*\"), ('N13907', \"4 reasons you shouldn't max out your 401(k) Making high-dollar contributions to your 401(k) can cost you.\"), ('N59673', 'Selena Gomez and Julia Michaels Share a Kiss Before Getting Matching Arrow Tattoos Selena Gomez and Julia Michaels Get Matching Arrow Tattoos'), ('N47061', \"105 Black Friday Deals You Can Start Shopping Today Save with early bird deals from stores like Walmart, Target, Amazon, Costco, Sam's Club, Kohl's, Sears, JCPenney, and Macy's, which are offering deep Black Friday discounts on the hottest products on your Christmas list   and your wish list   starting on Thanksgiving, or even sooner.\")]\n"
     ]
    }
   ],
   "source": [
    "print(f\"The user has interacted with the items from List 1. You task is to choose items, which you could recommend for this user, from List 2. Output format: a python list. Do not explain the reason or include any other words. List 1: {output_content}, List 2: {output_interactions}\")"
   ]
  },
  {
   "cell_type": "code",
   "execution_count": null,
   "metadata": {},
   "outputs": [],
   "source": []
  },
  {
   "cell_type": "code",
   "execution_count": 194,
   "metadata": {},
   "outputs": [
    {
     "data": {
      "text/html": [
       "<div>\n",
       "<style scoped>\n",
       "    .dataframe tbody tr th:only-of-type {\n",
       "        vertical-align: middle;\n",
       "    }\n",
       "\n",
       "    .dataframe tbody tr th {\n",
       "        vertical-align: top;\n",
       "    }\n",
       "\n",
       "    .dataframe thead th {\n",
       "        text-align: right;\n",
       "    }\n",
       "</style>\n",
       "<table border=\"1\" class=\"dataframe\">\n",
       "  <thead>\n",
       "    <tr style=\"text-align: right;\">\n",
       "      <th></th>\n",
       "      <th>User</th>\n",
       "      <th>True Positive</th>\n",
       "      <th>True Negative</th>\n",
       "      <th>False positive</th>\n",
       "      <th>False negative</th>\n",
       "    </tr>\n",
       "  </thead>\n",
       "  <tbody>\n",
       "    <tr>\n",
       "      <th>0</th>\n",
       "      <td>U13000</td>\n",
       "      <td>1</td>\n",
       "      <td>1</td>\n",
       "      <td>0</td>\n",
       "      <td>0</td>\n",
       "    </tr>\n",
       "    <tr>\n",
       "      <th>1</th>\n",
       "      <td>U14000</td>\n",
       "      <td>1</td>\n",
       "      <td>4</td>\n",
       "      <td>2</td>\n",
       "      <td>1</td>\n",
       "    </tr>\n",
       "    <tr>\n",
       "      <th>2</th>\n",
       "      <td>U15000</td>\n",
       "      <td>1</td>\n",
       "      <td>3</td>\n",
       "      <td>2</td>\n",
       "      <td>0</td>\n",
       "    </tr>\n",
       "    <tr>\n",
       "      <th>3</th>\n",
       "      <td>U13740</td>\n",
       "      <td>1</td>\n",
       "      <td>0</td>\n",
       "      <td>1</td>\n",
       "      <td>0</td>\n",
       "    </tr>\n",
       "    <tr>\n",
       "      <th>4</th>\n",
       "      <td>U91836</td>\n",
       "      <td>0</td>\n",
       "      <td>7</td>\n",
       "      <td>2</td>\n",
       "      <td>2</td>\n",
       "    </tr>\n",
       "  </tbody>\n",
       "</table>\n",
       "</div>"
      ],
      "text/plain": [
       "     User  True Positive  True Negative  False positive  False negative\n",
       "0  U13000              1              1               0               0\n",
       "1  U14000              1              4               2               1\n",
       "2  U15000              1              3               2               0\n",
       "3  U13740              1              0               1               0\n",
       "4  U91836              0              7               2               2"
      ]
     },
     "execution_count": 194,
     "metadata": {},
     "output_type": "execute_result"
    }
   ],
   "source": [
    "chatGPT = pd.read_csv(\"ChatGPT_results/ChatGPT_Task3.csv\", sep =\";\") \n",
    "chatGPT.head()"
   ]
  },
  {
   "cell_type": "code",
   "execution_count": 195,
   "metadata": {},
   "outputs": [
    {
     "name": "stdout",
     "output_type": "stream",
     "text": [
      "Mean Precision: 0.2879\n",
      "Mean Recall: 0.5455\n"
     ]
    }
   ],
   "source": [
    "import numpy as np\n",
    "from sklearn.metrics import precision_score, recall_score\n",
    "\n",
    "# Assuming df is your DataFrame\n",
    "true_positive = chatGPT['True Positive']\n",
    "false_positive = chatGPT['False positive']\n",
    "false_negative = chatGPT['False negative']\n",
    "\n",
    "# Calculate precision and recall with checks for division by zero\n",
    "precision = true_positive / np.where((true_positive + false_positive) == 0, 1, (true_positive + false_positive))\n",
    "recall = true_positive / np.where((true_positive + false_negative) == 0, 1, (true_positive + false_negative))\n",
    "\n",
    "# Calculate mean precision and recall\n",
    "mean_precision = np.mean(precision)\n",
    "mean_recall = np.mean(recall)\n",
    "\n",
    "print(f'Mean Precision: {mean_precision:.4f}')\n",
    "print(f'Mean Recall: {mean_recall:.4f}')\n"
   ]
  },
  {
   "cell_type": "code",
   "execution_count": 196,
   "metadata": {},
   "outputs": [
    {
     "name": "stdout",
     "output_type": "stream",
     "text": [
      "Weighted Precision: 0.3182\n",
      "Weighted Recall: 0.1742\n"
     ]
    }
   ],
   "source": [
    "# Create binary true labels (assuming 1 is the positive class)\n",
    "true_labels = np.ones(len(chatGPT))\n",
    "\n",
    "# Calculate weighted precision and recall\n",
    "weighted_precision = np.sum(precision * (true_positive + false_positive)) / np.sum(true_positive + false_positive)\n",
    "weighted_recall = np.sum(precision * (true_positive + false_negative)) / np.sum(true_positive + false_negative)\n",
    "\n",
    "print(f'Weighted Precision: {weighted_precision:.4f}')\n",
    "print(f'Weighted Recall: {weighted_recall:.4f}')\n"
   ]
  }
 ],
 "metadata": {
  "kernelspec": {
   "display_name": "Python 3",
   "language": "python",
   "name": "python3"
  },
  "language_info": {
   "codemirror_mode": {
    "name": "ipython",
    "version": 3
   },
   "file_extension": ".py",
   "mimetype": "text/x-python",
   "name": "python",
   "nbconvert_exporter": "python",
   "pygments_lexer": "ipython3",
   "version": "3.10.7"
  },
  "orig_nbformat": 4
 },
 "nbformat": 4,
 "nbformat_minor": 2
}
