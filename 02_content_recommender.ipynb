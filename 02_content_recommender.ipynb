{
 "cells": [
  {
   "cell_type": "code",
   "execution_count": 1,
   "metadata": {},
   "outputs": [],
   "source": [
    "# imports\n",
    "import pandas as pd\n",
    "import numpy as np\n",
    "from typing import List\n",
    "from openai.embeddings_utils import distances_from_embeddings\n",
    "import os\n"
   ]
  },
  {
   "cell_type": "code",
   "execution_count": 2,
   "metadata": {},
   "outputs": [
    {
     "data": {
      "text/html": [
       "<div>\n",
       "<style scoped>\n",
       "    .dataframe tbody tr th:only-of-type {\n",
       "        vertical-align: middle;\n",
       "    }\n",
       "\n",
       "    .dataframe tbody tr th {\n",
       "        vertical-align: top;\n",
       "    }\n",
       "\n",
       "    .dataframe thead th {\n",
       "        text-align: right;\n",
       "    }\n",
       "</style>\n",
       "<table border=\"1\" class=\"dataframe\">\n",
       "  <thead>\n",
       "    <tr style=\"text-align: right;\">\n",
       "      <th></th>\n",
       "      <th>User</th>\n",
       "      <th>ID</th>\n",
       "      <th>Interactions_emb</th>\n",
       "    </tr>\n",
       "  </thead>\n",
       "  <tbody>\n",
       "    <tr>\n",
       "      <th>0</th>\n",
       "      <td>U13740</td>\n",
       "      <td>N55189 N42782 N34694 N45794 N18445 N63302 N104...</td>\n",
       "      <td>[-0.015360403599010574, -0.022621901123784482,...</td>\n",
       "    </tr>\n",
       "    <tr>\n",
       "      <th>1</th>\n",
       "      <td>U91836</td>\n",
       "      <td>N31739 N6072 N63045 N23979 N35656 N43353 N8129...</td>\n",
       "      <td>[-0.005392600822233362, -0.004443325935426401,...</td>\n",
       "    </tr>\n",
       "    <tr>\n",
       "      <th>2</th>\n",
       "      <td>U73700</td>\n",
       "      <td>N10732 N25792 N7563 N21087 N41087 N5445 N60384...</td>\n",
       "      <td>[-0.004993118400064608, -0.008147992255787054,...</td>\n",
       "    </tr>\n",
       "  </tbody>\n",
       "</table>\n",
       "</div>"
      ],
      "text/plain": [
       "     User                                                 ID  \\\n",
       "0  U13740  N55189 N42782 N34694 N45794 N18445 N63302 N104...   \n",
       "1  U91836  N31739 N6072 N63045 N23979 N35656 N43353 N8129...   \n",
       "2  U73700  N10732 N25792 N7563 N21087 N41087 N5445 N60384...   \n",
       "\n",
       "                                    Interactions_emb  \n",
       "0  [-0.015360403599010574, -0.022621901123784482,...  \n",
       "1  [-0.005392600822233362, -0.004443325935426401,...  \n",
       "2  [-0.004993118400064608, -0.008147992255787054,...  "
      ]
     },
     "execution_count": 2,
     "metadata": {},
     "output_type": "execute_result"
    }
   ],
   "source": [
    "#upload data with user interactions\n",
    "users = pd.read_csv(\"embeddings/users_emb_TEST.csv\") #document with user interactions\n",
    "users.columns =['User', 'ID', 'Interactions_emb']\n",
    "users.head()"
   ]
  },
  {
   "cell_type": "code",
   "execution_count": 4,
   "metadata": {},
   "outputs": [
    {
     "data": {
      "text/html": [
       "<div>\n",
       "<style scoped>\n",
       "    .dataframe tbody tr th:only-of-type {\n",
       "        vertical-align: middle;\n",
       "    }\n",
       "\n",
       "    .dataframe tbody tr th {\n",
       "        vertical-align: top;\n",
       "    }\n",
       "\n",
       "    .dataframe thead th {\n",
       "        text-align: right;\n",
       "    }\n",
       "</style>\n",
       "<table border=\"1\" class=\"dataframe\">\n",
       "  <thead>\n",
       "    <tr style=\"text-align: right;\">\n",
       "      <th></th>\n",
       "      <th>ID</th>\n",
       "      <th>Content_emb</th>\n",
       "    </tr>\n",
       "  </thead>\n",
       "  <tbody>\n",
       "    <tr>\n",
       "      <th>0</th>\n",
       "      <td>N55189</td>\n",
       "      <td>[-0.020967688411474228, -0.020634232088923454,...</td>\n",
       "    </tr>\n",
       "    <tr>\n",
       "      <th>1</th>\n",
       "      <td>N42782</td>\n",
       "      <td>[-0.008319429121911526, 0.0013667173916473985,...</td>\n",
       "    </tr>\n",
       "    <tr>\n",
       "      <th>2</th>\n",
       "      <td>N34694</td>\n",
       "      <td>[-0.042908210307359695, -0.018993420526385307,...</td>\n",
       "    </tr>\n",
       "    <tr>\n",
       "      <th>3</th>\n",
       "      <td>N45794</td>\n",
       "      <td>[-0.007930373772978783, -0.0221870094537735, 0...</td>\n",
       "    </tr>\n",
       "    <tr>\n",
       "      <th>4</th>\n",
       "      <td>N18445</td>\n",
       "      <td>[-0.020153459161520004, -0.044797133654356, 0....</td>\n",
       "    </tr>\n",
       "  </tbody>\n",
       "</table>\n",
       "</div>"
      ],
      "text/plain": [
       "       ID                                        Content_emb\n",
       "0  N55189  [-0.020967688411474228, -0.020634232088923454,...\n",
       "1  N42782  [-0.008319429121911526, 0.0013667173916473985,...\n",
       "2  N34694  [-0.042908210307359695, -0.018993420526385307,...\n",
       "3  N45794  [-0.007930373772978783, -0.0221870094537735, 0...\n",
       "4  N18445  [-0.020153459161520004, -0.044797133654356, 0...."
      ]
     },
     "execution_count": 4,
     "metadata": {},
     "output_type": "execute_result"
    }
   ],
   "source": [
    "#upload the data with news articles\n",
    "news = pd.read_csv(\"embeddings/news_emb_TEST.csv\") #document with user interactions\n",
    "news = news.drop(['Content', 'Category', 'SubCategory'], axis=1)\n",
    "news.head()"
   ]
  },
  {
   "cell_type": "code",
   "execution_count": 5,
   "metadata": {},
   "outputs": [],
   "source": [
    "# Create a dictionary with user interactions\n",
    "user_dict = {}\n",
    "for index, row in users.iterrows():\n",
    "    user = row['User']\n",
    "    interactions = row['Interactions_emb']\n",
    "    user_dict[user] = ('Content', interactions)\n",
    "\n",
    "for user, (content, embeddings_str) in user_dict.items():\n",
    "    # Check for empty string before converting to float\n",
    "    embeddings_list = [float(value) if value.strip() else 0.0 for value in embeddings_str.strip('[]').split(',')]\n",
    "    user_dict[user] = (content, embeddings_list)\n"
   ]
  },
  {
   "cell_type": "code",
   "execution_count": 6,
   "metadata": {},
   "outputs": [],
   "source": [
    "# Create a dictionary with news interactions\n",
    "news_dict = {}\n",
    "for index, row in news.iterrows():\n",
    "    news_id = row['ID']\n",
    "    interactions = row['Content_emb']\n",
    "    news_dict[news_id] = ('Content', interactions)\n",
    "\n",
    "for news_id, (content, embeddings_str) in news_dict.items():\n",
    "    # Check for empty string before converting to float\n",
    "    embeddings_list = [float(value) if value.strip() else 0.0 for value in embeddings_str.strip('[]').split(',')]\n",
    "    news_dict[news_id] = (content, embeddings_list)"
   ]
  },
  {
   "cell_type": "code",
   "execution_count": 7,
   "metadata": {},
   "outputs": [],
   "source": [
    "#create list with interacted items for a particular user\n",
    "def user_list(user_id, df):\n",
    "    user_list = df.loc[df['User'] == user_id, 'ID'].tolist()\n",
    "    if len(user_list) > 0:\n",
    "        user_id_str = str(user_list[0])  # Convert to string\n",
    "        return user_id_str.split()\n",
    "    else:\n",
    "        return []"
   ]
  },
  {
   "cell_type": "code",
   "execution_count": 8,
   "metadata": {},
   "outputs": [],
   "source": [
    "#create content recommendations\n",
    "def distances_based_on_content(user_id: str):\n",
    "    user_embedding = user_dict[user_id][1]  # Get the embedding of the user\n",
    "    news_ids = list(news_dict.keys()) #list of news articles\n",
    "    news_embeddings = [news_dict[news_id][1] for news_id in news_ids]# Get the embedding of each news article\n",
    "\n",
    "    # Calculate distances from the user to each news article\n",
    "    distances = distances_from_embeddings(user_embedding, news_embeddings, distance_metric=\"cosine\")\n",
    "\n",
    "    # Create a DataFrame with news IDs and corresponding distances\n",
    "    df = pd.DataFrame({'ID': news_ids, 'Distance': distances})\n",
    "    sorted_df = df.sort_values(by='Distance', ascending=True)\n",
    "    \n",
    "    #delete articles already read by a user\n",
    "    items_to_delete = user_list(user_id, users)\n",
    "    filtered_df = sorted_df[~sorted_df['ID'].isin(items_to_delete)]\n",
    "    \n",
    "    #reset indexes in a new df \n",
    "    filtered_df.reset_index(drop=True, inplace=True)\n",
    "    \n",
    "    return filtered_df"
   ]
  },
  {
   "cell_type": "code",
   "execution_count": 9,
   "metadata": {},
   "outputs": [
    {
     "data": {
      "text/html": [
       "<div>\n",
       "<style scoped>\n",
       "    .dataframe tbody tr th:only-of-type {\n",
       "        vertical-align: middle;\n",
       "    }\n",
       "\n",
       "    .dataframe tbody tr th {\n",
       "        vertical-align: top;\n",
       "    }\n",
       "\n",
       "    .dataframe thead th {\n",
       "        text-align: right;\n",
       "    }\n",
       "</style>\n",
       "<table border=\"1\" class=\"dataframe\">\n",
       "  <thead>\n",
       "    <tr style=\"text-align: right;\">\n",
       "      <th></th>\n",
       "      <th>ID</th>\n",
       "      <th>Distance</th>\n",
       "    </tr>\n",
       "  </thead>\n",
       "  <tbody>\n",
       "    <tr>\n",
       "      <th>0</th>\n",
       "      <td>N48031</td>\n",
       "      <td>0.138946</td>\n",
       "    </tr>\n",
       "    <tr>\n",
       "      <th>1</th>\n",
       "      <td>N39317</td>\n",
       "      <td>0.143167</td>\n",
       "    </tr>\n",
       "    <tr>\n",
       "      <th>2</th>\n",
       "      <td>N43353</td>\n",
       "      <td>0.146500</td>\n",
       "    </tr>\n",
       "    <tr>\n",
       "      <th>3</th>\n",
       "      <td>N47020</td>\n",
       "      <td>0.150886</td>\n",
       "    </tr>\n",
       "    <tr>\n",
       "      <th>4</th>\n",
       "      <td>N42977</td>\n",
       "      <td>0.152021</td>\n",
       "    </tr>\n",
       "    <tr>\n",
       "      <th>...</th>\n",
       "      <td>...</td>\n",
       "      <td>...</td>\n",
       "    </tr>\n",
       "    <tr>\n",
       "      <th>126</th>\n",
       "      <td>N13131</td>\n",
       "      <td>0.202738</td>\n",
       "    </tr>\n",
       "    <tr>\n",
       "      <th>127</th>\n",
       "      <td>N18870</td>\n",
       "      <td>0.216875</td>\n",
       "    </tr>\n",
       "    <tr>\n",
       "      <th>128</th>\n",
       "      <td>N24233</td>\n",
       "      <td>0.218297</td>\n",
       "    </tr>\n",
       "    <tr>\n",
       "      <th>129</th>\n",
       "      <td>N45509</td>\n",
       "      <td>0.222987</td>\n",
       "    </tr>\n",
       "    <tr>\n",
       "      <th>130</th>\n",
       "      <td>N16844</td>\n",
       "      <td>0.227150</td>\n",
       "    </tr>\n",
       "  </tbody>\n",
       "</table>\n",
       "<p>131 rows × 2 columns</p>\n",
       "</div>"
      ],
      "text/plain": [
       "         ID  Distance\n",
       "0    N48031  0.138946\n",
       "1    N39317  0.143167\n",
       "2    N43353  0.146500\n",
       "3    N47020  0.150886\n",
       "4    N42977  0.152021\n",
       "..      ...       ...\n",
       "126  N13131  0.202738\n",
       "127  N18870  0.216875\n",
       "128  N24233  0.218297\n",
       "129  N45509  0.222987\n",
       "130  N16844  0.227150\n",
       "\n",
       "[131 rows x 2 columns]"
      ]
     },
     "execution_count": 9,
     "metadata": {},
     "output_type": "execute_result"
    }
   ],
   "source": [
    "distances_based_on_content('U13740')"
   ]
  },
  {
   "attachments": {},
   "cell_type": "markdown",
   "metadata": {},
   "source": [
    "Saving recommendations for each user"
   ]
  },
  {
   "cell_type": "code",
   "execution_count": 12,
   "metadata": {},
   "outputs": [],
   "source": [
    "# Assuming you have a DataFrame named 'users' with a 'User' column\n",
    "users_list = users['User'].tolist()"
   ]
  },
  {
   "cell_type": "code",
   "execution_count": 13,
   "metadata": {},
   "outputs": [],
   "source": [
    "def list_ids_in_folder(folder_path):\n",
    "    ids = set()\n",
    "    \n",
    "    for filename in os.listdir(folder_path):\n",
    "        if filename.endswith(\".csv\"):\n",
    "            # Extracting the ID from the filename\n",
    "            file_id = filename.split(\"_\")[0][1:]\n",
    "            ids.add(file_id)\n",
    "    \n",
    "    return list(ids)\n"
   ]
  },
  {
   "cell_type": "code",
   "execution_count": 14,
   "metadata": {},
   "outputs": [],
   "source": [
    "for i in users_list:\n",
    "    #Example usage\n",
    "    recommendations = distances_based_on_content(user_id=i)\n",
    "    recommendations.to_csv('content_recommendations_test/' + i + '_content.csv', index=False)"
   ]
  }
 ],
 "metadata": {
  "kernelspec": {
   "display_name": "Python 3.10.7 64-bit",
   "language": "python",
   "name": "python3"
  },
  "language_info": {
   "codemirror_mode": {
    "name": "ipython",
    "version": 3
   },
   "file_extension": ".py",
   "mimetype": "text/x-python",
   "name": "python",
   "nbconvert_exporter": "python",
   "pygments_lexer": "ipython3",
   "version": "3.10.10"
  },
  "orig_nbformat": 4,
  "vscode": {
   "interpreter": {
    "hash": "aee8b7b246df8f9039afb4144a1f6fd8d2ca17a180786b69acc140d282b71a49"
   }
  }
 },
 "nbformat": 4,
 "nbformat_minor": 2
}
