{
 "cells": [
  {
   "cell_type": "code",
   "execution_count": 1,
   "metadata": {},
   "outputs": [],
   "source": [
    "###example https://www.mlq.ai/fine-tuning-gpt-3-recommendations/###"
   ]
  },
  {
   "cell_type": "code",
   "execution_count": 2,
   "metadata": {},
   "outputs": [],
   "source": [
    "# imports\n",
    "import pandas as pd\n",
    "import openai\n",
    "import numpy as np\n",
    "from typing import List\n",
    "import ast\n",
    "from openai.embeddings_utils import distances_from_embeddings\n",
    "import os\n"
   ]
  },
  {
   "cell_type": "code",
   "execution_count": 3,
   "metadata": {},
   "outputs": [
    {
     "data": {
      "text/html": [
       "<div>\n",
       "<style scoped>\n",
       "    .dataframe tbody tr th:only-of-type {\n",
       "        vertical-align: middle;\n",
       "    }\n",
       "\n",
       "    .dataframe tbody tr th {\n",
       "        vertical-align: top;\n",
       "    }\n",
       "\n",
       "    .dataframe thead th {\n",
       "        text-align: right;\n",
       "    }\n",
       "</style>\n",
       "<table border=\"1\" class=\"dataframe\">\n",
       "  <thead>\n",
       "    <tr style=\"text-align: right;\">\n",
       "      <th></th>\n",
       "      <th>User</th>\n",
       "      <th>ID</th>\n",
       "      <th>Interactions_emb</th>\n",
       "    </tr>\n",
       "  </thead>\n",
       "  <tbody>\n",
       "    <tr>\n",
       "      <th>0</th>\n",
       "      <td>U244</td>\n",
       "      <td>N17157 N38621 N35022 N50578 N264 N9120 N23907 ...</td>\n",
       "      <td>[-0.005149974951877837, -0.013250857458654631,...</td>\n",
       "    </tr>\n",
       "    <tr>\n",
       "      <th>1</th>\n",
       "      <td>U68369</td>\n",
       "      <td>N19381 N54536</td>\n",
       "      <td>[0.0025621717686590273, 0.004183989018201828, ...</td>\n",
       "    </tr>\n",
       "    <tr>\n",
       "      <th>2</th>\n",
       "      <td>U50236</td>\n",
       "      <td>N4020 N44292 N50292 N40772 N57737 N33969 N4054...</td>\n",
       "      <td>[-0.010138329240492436, -0.01179651383115145, ...</td>\n",
       "    </tr>\n",
       "    <tr>\n",
       "      <th>3</th>\n",
       "      <td>U77060</td>\n",
       "      <td>N23105 N41375</td>\n",
       "      <td>[-0.005568941123783588, -0.025914330035448074,...</td>\n",
       "    </tr>\n",
       "    <tr>\n",
       "      <th>4</th>\n",
       "      <td>U5596</td>\n",
       "      <td>N459 N56253 N62931 N55846 N29849 N45729 N62834...</td>\n",
       "      <td>[-0.012533644353970886, -0.011675744312297967,...</td>\n",
       "    </tr>\n",
       "  </tbody>\n",
       "</table>\n",
       "</div>"
      ],
      "text/plain": [
       "     User                                                 ID  \\\n",
       "0    U244  N17157 N38621 N35022 N50578 N264 N9120 N23907 ...   \n",
       "1  U68369                                      N19381 N54536   \n",
       "2  U50236  N4020 N44292 N50292 N40772 N57737 N33969 N4054...   \n",
       "3  U77060                                      N23105 N41375   \n",
       "4   U5596  N459 N56253 N62931 N55846 N29849 N45729 N62834...   \n",
       "\n",
       "                                    Interactions_emb  \n",
       "0  [-0.005149974951877837, -0.013250857458654631,...  \n",
       "1  [0.0025621717686590273, 0.004183989018201828, ...  \n",
       "2  [-0.010138329240492436, -0.01179651383115145, ...  \n",
       "3  [-0.005568941123783588, -0.025914330035448074,...  \n",
       "4  [-0.012533644353970886, -0.011675744312297967,...  "
      ]
     },
     "execution_count": 3,
     "metadata": {},
     "output_type": "execute_result"
    }
   ],
   "source": [
    "#upload data with user interactions\n",
    "users = pd.read_csv(\"embeddings/users_filtered_final.csv\") #document with user interactions\n",
    "users.columns =['User', 'ID', 'Interactions_emb']\n",
    "users.head()"
   ]
  },
  {
   "cell_type": "code",
   "execution_count": 4,
   "metadata": {},
   "outputs": [
    {
     "data": {
      "text/html": [
       "<div>\n",
       "<style scoped>\n",
       "    .dataframe tbody tr th:only-of-type {\n",
       "        vertical-align: middle;\n",
       "    }\n",
       "\n",
       "    .dataframe tbody tr th {\n",
       "        vertical-align: top;\n",
       "    }\n",
       "\n",
       "    .dataframe thead th {\n",
       "        text-align: right;\n",
       "    }\n",
       "</style>\n",
       "<table border=\"1\" class=\"dataframe\">\n",
       "  <thead>\n",
       "    <tr style=\"text-align: right;\">\n",
       "      <th></th>\n",
       "      <th>ID</th>\n",
       "      <th>Content_emb</th>\n",
       "    </tr>\n",
       "  </thead>\n",
       "  <tbody>\n",
       "    <tr>\n",
       "      <th>0</th>\n",
       "      <td>N55528</td>\n",
       "      <td>[0.005885085556656122, -0.007782096974551678, ...</td>\n",
       "    </tr>\n",
       "    <tr>\n",
       "      <th>1</th>\n",
       "      <td>N19639</td>\n",
       "      <td>[-0.004876355174928904, -0.007969613187015057,...</td>\n",
       "    </tr>\n",
       "    <tr>\n",
       "      <th>2</th>\n",
       "      <td>N61837</td>\n",
       "      <td>[-0.02760046347975731, -0.013719998300075531, ...</td>\n",
       "    </tr>\n",
       "    <tr>\n",
       "      <th>3</th>\n",
       "      <td>N53526</td>\n",
       "      <td>[-0.0297758337110281, -0.014837449416518211, 0...</td>\n",
       "    </tr>\n",
       "    <tr>\n",
       "      <th>4</th>\n",
       "      <td>N38324</td>\n",
       "      <td>[0.005073545966297388, 0.004160495940595865, 0...</td>\n",
       "    </tr>\n",
       "  </tbody>\n",
       "</table>\n",
       "</div>"
      ],
      "text/plain": [
       "       ID                                        Content_emb\n",
       "0  N55528  [0.005885085556656122, -0.007782096974551678, ...\n",
       "1  N19639  [-0.004876355174928904, -0.007969613187015057,...\n",
       "2  N61837  [-0.02760046347975731, -0.013719998300075531, ...\n",
       "3  N53526  [-0.0297758337110281, -0.014837449416518211, 0...\n",
       "4  N38324  [0.005073545966297388, 0.004160495940595865, 0..."
      ]
     },
     "execution_count": 4,
     "metadata": {},
     "output_type": "execute_result"
    }
   ],
   "source": [
    "#upload the data with news articles\n",
    "news = pd.read_csv(\"embeddings/news_emb_final.csv\") #document with user interactions\n",
    "news = news.drop(['Content', 'Category', 'SubCategory'], axis=1)\n",
    "news.head()"
   ]
  },
  {
   "cell_type": "code",
   "execution_count": 5,
   "metadata": {},
   "outputs": [],
   "source": [
    "# Create a dictionary with user interactions\n",
    "user_dict = {}\n",
    "for index, row in users.iterrows():\n",
    "    user = row['User']\n",
    "    interactions = row['Interactions_emb']\n",
    "    user_dict[user] = ('Content', interactions)\n",
    "\n",
    "for user, (content, embeddings_str) in user_dict.items():\n",
    "    # Check for empty string before converting to float\n",
    "    embeddings_list = [float(value) if value.strip() else 0.0 for value in embeddings_str.strip('[]').split(',')]\n",
    "    user_dict[user] = (content, embeddings_list)\n"
   ]
  },
  {
   "cell_type": "code",
   "execution_count": 6,
   "metadata": {},
   "outputs": [],
   "source": [
    "# Create a dictionary with news interactions\n",
    "news_dict = {}\n",
    "for index, row in news.iterrows():\n",
    "    news_id = row['ID']\n",
    "    interactions = row['Content_emb']\n",
    "    news_dict[news_id] = ('Content', interactions)\n",
    "\n",
    "for news_id, (content, embeddings_str) in news_dict.items():\n",
    "    # Check for empty string before converting to float\n",
    "    embeddings_list = [float(value) if value.strip() else 0.0 for value in embeddings_str.strip('[]').split(',')]\n",
    "    news_dict[news_id] = (content, embeddings_list)"
   ]
  },
  {
   "cell_type": "code",
   "execution_count": 7,
   "metadata": {},
   "outputs": [],
   "source": [
    "#create list with interacted items for a particular user\n",
    "def user_list(user_id, df):\n",
    "    user_list = df.loc[df['User'] == user_id, 'ID'].tolist()\n",
    "    if len(user_list) > 0:\n",
    "        user_id_str = str(user_list[0])  # Convert to string\n",
    "        return user_id_str.split()\n",
    "    else:\n",
    "        return []"
   ]
  },
  {
   "cell_type": "code",
   "execution_count": 8,
   "metadata": {},
   "outputs": [],
   "source": [
    "#create content recommendations\n",
    "def distances_based_on_content(user_id: str):\n",
    "    user_embedding = user_dict[user_id][1]  # Get the embedding of the user\n",
    "    news_ids = list(news_dict.keys()) #list of news articles\n",
    "    news_embeddings = [news_dict[news_id][1] for news_id in news_ids]# Get the embedding of each news article\n",
    "\n",
    "    # Calculate distances from the user to each news article\n",
    "    distances = distances_from_embeddings(user_embedding, news_embeddings, distance_metric=\"cosine\")\n",
    "\n",
    "    # Create a DataFrame with news IDs and corresponding distances\n",
    "    df = pd.DataFrame({'ID': news_ids, 'Distance': distances})\n",
    "    sorted_df = df.sort_values(by='Distance', ascending=True)\n",
    "    \n",
    "    #delete articles already read by a user\n",
    "    items_to_delete = user_list(user_id, users)\n",
    "    filtered_df = sorted_df[~sorted_df['ID'].isin(items_to_delete)]\n",
    "    \n",
    "    #reset indexes in a new df \n",
    "    filtered_df.reset_index(drop=True, inplace=True)\n",
    "    \n",
    "    return filtered_df"
   ]
  },
  {
   "cell_type": "code",
   "execution_count": 9,
   "metadata": {},
   "outputs": [
    {
     "data": {
      "text/html": [
       "<div>\n",
       "<style scoped>\n",
       "    .dataframe tbody tr th:only-of-type {\n",
       "        vertical-align: middle;\n",
       "    }\n",
       "\n",
       "    .dataframe tbody tr th {\n",
       "        vertical-align: top;\n",
       "    }\n",
       "\n",
       "    .dataframe thead th {\n",
       "        text-align: right;\n",
       "    }\n",
       "</style>\n",
       "<table border=\"1\" class=\"dataframe\">\n",
       "  <thead>\n",
       "    <tr style=\"text-align: right;\">\n",
       "      <th></th>\n",
       "      <th>ID</th>\n",
       "      <th>Distance</th>\n",
       "    </tr>\n",
       "  </thead>\n",
       "  <tbody>\n",
       "    <tr>\n",
       "      <th>0</th>\n",
       "      <td>N37526</td>\n",
       "      <td>0.120128</td>\n",
       "    </tr>\n",
       "    <tr>\n",
       "      <th>1</th>\n",
       "      <td>N372</td>\n",
       "      <td>0.124554</td>\n",
       "    </tr>\n",
       "    <tr>\n",
       "      <th>2</th>\n",
       "      <td>N47440</td>\n",
       "      <td>0.124870</td>\n",
       "    </tr>\n",
       "    <tr>\n",
       "      <th>3</th>\n",
       "      <td>N40767</td>\n",
       "      <td>0.125969</td>\n",
       "    </tr>\n",
       "    <tr>\n",
       "      <th>4</th>\n",
       "      <td>N2208</td>\n",
       "      <td>0.126796</td>\n",
       "    </tr>\n",
       "    <tr>\n",
       "      <th>...</th>\n",
       "      <td>...</td>\n",
       "      <td>...</td>\n",
       "    </tr>\n",
       "    <tr>\n",
       "      <th>51275</th>\n",
       "      <td>N10305</td>\n",
       "      <td>0.995382</td>\n",
       "    </tr>\n",
       "    <tr>\n",
       "      <th>51276</th>\n",
       "      <td>N63770</td>\n",
       "      <td>0.997056</td>\n",
       "    </tr>\n",
       "    <tr>\n",
       "      <th>51277</th>\n",
       "      <td>N6175</td>\n",
       "      <td>1.006691</td>\n",
       "    </tr>\n",
       "    <tr>\n",
       "      <th>51278</th>\n",
       "      <td>N9846</td>\n",
       "      <td>1.019749</td>\n",
       "    </tr>\n",
       "    <tr>\n",
       "      <th>51279</th>\n",
       "      <td>N33653</td>\n",
       "      <td>1.025813</td>\n",
       "    </tr>\n",
       "  </tbody>\n",
       "</table>\n",
       "<p>51280 rows × 2 columns</p>\n",
       "</div>"
      ],
      "text/plain": [
       "           ID  Distance\n",
       "0      N37526  0.120128\n",
       "1        N372  0.124554\n",
       "2      N47440  0.124870\n",
       "3      N40767  0.125969\n",
       "4       N2208  0.126796\n",
       "...       ...       ...\n",
       "51275  N10305  0.995382\n",
       "51276  N63770  0.997056\n",
       "51277   N6175  1.006691\n",
       "51278   N9846  1.019749\n",
       "51279  N33653  1.025813\n",
       "\n",
       "[51280 rows x 2 columns]"
      ]
     },
     "execution_count": 9,
     "metadata": {},
     "output_type": "execute_result"
    }
   ],
   "source": [
    "distances_based_on_content('U68369')"
   ]
  },
  {
   "attachments": {},
   "cell_type": "markdown",
   "metadata": {},
   "source": [
    "Saving recommendations for each user"
   ]
  },
  {
   "cell_type": "code",
   "execution_count": 10,
   "metadata": {},
   "outputs": [
    {
     "data": {
      "text/plain": [
       "49945"
      ]
     },
     "execution_count": 10,
     "metadata": {},
     "output_type": "execute_result"
    }
   ],
   "source": [
    "# Assuming you have a DataFrame named 'users' with a 'User' column\n",
    "users_list = users['User'].tolist()\n",
    "len(users_list)"
   ]
  },
  {
   "cell_type": "code",
   "execution_count": 11,
   "metadata": {},
   "outputs": [],
   "source": [
    "# Calculate the size of each part\n",
    "part_size = len(users_list) // 3\n",
    "\n",
    "# Divide the list into three parts\n",
    "part1 = users_list[:part_size]\n",
    "part2 = users_list[part_size:2*part_size]\n",
    "part3 = users_list[2*part_size:]"
   ]
  },
  {
   "cell_type": "code",
   "execution_count": 17,
   "metadata": {},
   "outputs": [],
   "source": [
    "mypart = part3"
   ]
  },
  {
   "cell_type": "code",
   "execution_count": 18,
   "metadata": {},
   "outputs": [],
   "source": [
    "def list_ids_in_folder(folder_path):\n",
    "    ids = set()\n",
    "    \n",
    "    for filename in os.listdir(folder_path):\n",
    "        if filename.endswith(\".csv\"):\n",
    "            # Extracting the ID from the filename\n",
    "            file_id = filename.split(\"_\")[0][1:]\n",
    "            ids.add(file_id)\n",
    "    \n",
    "    return list(ids)\n"
   ]
  },
  {
   "cell_type": "code",
   "execution_count": 27,
   "metadata": {},
   "outputs": [
    {
     "data": {
      "text/plain": [
       "23153"
      ]
     },
     "execution_count": 27,
     "metadata": {},
     "output_type": "execute_result"
    }
   ],
   "source": [
    "folder_path = 'content_recommendations'\n",
    "ids_list = list_ids_in_folder(folder_path)\n",
    "ids_list = ['U' + num for num in ids_list]\n",
    "len(ids_list)"
   ]
  },
  {
   "cell_type": "code",
   "execution_count": 28,
   "metadata": {},
   "outputs": [
    {
     "data": {
      "text/plain": [
       "10144"
      ]
     },
     "execution_count": 28,
     "metadata": {},
     "output_type": "execute_result"
    }
   ],
   "source": [
    "set2 = set(ids_list)\n",
    "rest_users = [item for item in mypart if item.strip() not in set2]\n",
    "len(rest_users)"
   ]
  },
  {
   "cell_type": "code",
   "execution_count": 29,
   "metadata": {},
   "outputs": [
    {
     "ename": "KeyboardInterrupt",
     "evalue": "",
     "output_type": "error",
     "traceback": [
      "\u001b[0;31m---------------------------------------------------------------------------\u001b[0m",
      "\u001b[0;31mKeyboardInterrupt\u001b[0m                         Traceback (most recent call last)",
      "\u001b[1;32m/Users/krisbara/Documents/master's thesis/codes/GPT-Recommender-systems/02_content_recommender.ipynb Cell 17\u001b[0m in \u001b[0;36m3\n\u001b[1;32m      <a href='vscode-notebook-cell:/Users/krisbara/Documents/master%27s%20thesis/codes/GPT-Recommender-systems/02_content_recommender.ipynb#X22sZmlsZQ%3D%3D?line=0'>1</a>\u001b[0m \u001b[39mfor\u001b[39;00m i \u001b[39min\u001b[39;00m rest_users:\n\u001b[1;32m      <a href='vscode-notebook-cell:/Users/krisbara/Documents/master%27s%20thesis/codes/GPT-Recommender-systems/02_content_recommender.ipynb#X22sZmlsZQ%3D%3D?line=1'>2</a>\u001b[0m     \u001b[39m#Example usage\u001b[39;00m\n\u001b[0;32m----> <a href='vscode-notebook-cell:/Users/krisbara/Documents/master%27s%20thesis/codes/GPT-Recommender-systems/02_content_recommender.ipynb#X22sZmlsZQ%3D%3D?line=2'>3</a>\u001b[0m     recommendations \u001b[39m=\u001b[39m distances_based_on_content(user_id\u001b[39m=\u001b[39;49mi)\n\u001b[1;32m      <a href='vscode-notebook-cell:/Users/krisbara/Documents/master%27s%20thesis/codes/GPT-Recommender-systems/02_content_recommender.ipynb#X22sZmlsZQ%3D%3D?line=3'>4</a>\u001b[0m     recommendations\u001b[39m.\u001b[39mto_csv(\u001b[39m'\u001b[39m\u001b[39mcontent_recommendations/\u001b[39m\u001b[39m'\u001b[39m \u001b[39m+\u001b[39m i \u001b[39m+\u001b[39m \u001b[39m'\u001b[39m\u001b[39m_content.csv\u001b[39m\u001b[39m'\u001b[39m, index\u001b[39m=\u001b[39m\u001b[39mFalse\u001b[39;00m)\n",
      "\u001b[1;32m/Users/krisbara/Documents/master's thesis/codes/GPT-Recommender-systems/02_content_recommender.ipynb Cell 17\u001b[0m in \u001b[0;36m8\n\u001b[1;32m      <a href='vscode-notebook-cell:/Users/krisbara/Documents/master%27s%20thesis/codes/GPT-Recommender-systems/02_content_recommender.ipynb#X22sZmlsZQ%3D%3D?line=4'>5</a>\u001b[0m news_embeddings \u001b[39m=\u001b[39m [news_dict[news_id][\u001b[39m1\u001b[39m] \u001b[39mfor\u001b[39;00m news_id \u001b[39min\u001b[39;00m news_ids]\u001b[39m# Get the embedding of each news article\u001b[39;00m\n\u001b[1;32m      <a href='vscode-notebook-cell:/Users/krisbara/Documents/master%27s%20thesis/codes/GPT-Recommender-systems/02_content_recommender.ipynb#X22sZmlsZQ%3D%3D?line=6'>7</a>\u001b[0m \u001b[39m# Calculate distances from the user to each news article\u001b[39;00m\n\u001b[0;32m----> <a href='vscode-notebook-cell:/Users/krisbara/Documents/master%27s%20thesis/codes/GPT-Recommender-systems/02_content_recommender.ipynb#X22sZmlsZQ%3D%3D?line=7'>8</a>\u001b[0m distances \u001b[39m=\u001b[39m distances_from_embeddings(user_embedding, news_embeddings, distance_metric\u001b[39m=\u001b[39;49m\u001b[39m\"\u001b[39;49m\u001b[39mcosine\u001b[39;49m\u001b[39m\"\u001b[39;49m)\n\u001b[1;32m     <a href='vscode-notebook-cell:/Users/krisbara/Documents/master%27s%20thesis/codes/GPT-Recommender-systems/02_content_recommender.ipynb#X22sZmlsZQ%3D%3D?line=9'>10</a>\u001b[0m \u001b[39m# Create a DataFrame with news IDs and corresponding distances\u001b[39;00m\n\u001b[1;32m     <a href='vscode-notebook-cell:/Users/krisbara/Documents/master%27s%20thesis/codes/GPT-Recommender-systems/02_content_recommender.ipynb#X22sZmlsZQ%3D%3D?line=10'>11</a>\u001b[0m df \u001b[39m=\u001b[39m pd\u001b[39m.\u001b[39mDataFrame({\u001b[39m'\u001b[39m\u001b[39mID\u001b[39m\u001b[39m'\u001b[39m: news_ids, \u001b[39m'\u001b[39m\u001b[39mDistance\u001b[39m\u001b[39m'\u001b[39m: distances})\n",
      "File \u001b[0;32m/Library/Frameworks/Python.framework/Versions/3.10/lib/python3.10/site-packages/openai/embeddings_utils.py:151\u001b[0m, in \u001b[0;36mdistances_from_embeddings\u001b[0;34m(query_embedding, embeddings, distance_metric)\u001b[0m\n\u001b[1;32m    144\u001b[0m \u001b[39m\"\"\"Return the distances between a query embedding and a list of embeddings.\"\"\"\u001b[39;00m\n\u001b[1;32m    145\u001b[0m distance_metrics \u001b[39m=\u001b[39m {\n\u001b[1;32m    146\u001b[0m     \u001b[39m\"\u001b[39m\u001b[39mcosine\u001b[39m\u001b[39m\"\u001b[39m: spatial\u001b[39m.\u001b[39mdistance\u001b[39m.\u001b[39mcosine,\n\u001b[1;32m    147\u001b[0m     \u001b[39m\"\u001b[39m\u001b[39mL1\u001b[39m\u001b[39m\"\u001b[39m: spatial\u001b[39m.\u001b[39mdistance\u001b[39m.\u001b[39mcityblock,\n\u001b[1;32m    148\u001b[0m     \u001b[39m\"\u001b[39m\u001b[39mL2\u001b[39m\u001b[39m\"\u001b[39m: spatial\u001b[39m.\u001b[39mdistance\u001b[39m.\u001b[39meuclidean,\n\u001b[1;32m    149\u001b[0m     \u001b[39m\"\u001b[39m\u001b[39mLinf\u001b[39m\u001b[39m\"\u001b[39m: spatial\u001b[39m.\u001b[39mdistance\u001b[39m.\u001b[39mchebyshev,\n\u001b[1;32m    150\u001b[0m }\n\u001b[0;32m--> 151\u001b[0m distances \u001b[39m=\u001b[39m [\n\u001b[1;32m    152\u001b[0m     distance_metrics[distance_metric](query_embedding, embedding)\n\u001b[1;32m    153\u001b[0m     \u001b[39mfor\u001b[39;00m embedding \u001b[39min\u001b[39;00m embeddings\n\u001b[1;32m    154\u001b[0m ]\n\u001b[1;32m    155\u001b[0m \u001b[39mreturn\u001b[39;00m distances\n",
      "File \u001b[0;32m/Library/Frameworks/Python.framework/Versions/3.10/lib/python3.10/site-packages/openai/embeddings_utils.py:152\u001b[0m, in \u001b[0;36m<listcomp>\u001b[0;34m(.0)\u001b[0m\n\u001b[1;32m    144\u001b[0m \u001b[39m\"\"\"Return the distances between a query embedding and a list of embeddings.\"\"\"\u001b[39;00m\n\u001b[1;32m    145\u001b[0m distance_metrics \u001b[39m=\u001b[39m {\n\u001b[1;32m    146\u001b[0m     \u001b[39m\"\u001b[39m\u001b[39mcosine\u001b[39m\u001b[39m\"\u001b[39m: spatial\u001b[39m.\u001b[39mdistance\u001b[39m.\u001b[39mcosine,\n\u001b[1;32m    147\u001b[0m     \u001b[39m\"\u001b[39m\u001b[39mL1\u001b[39m\u001b[39m\"\u001b[39m: spatial\u001b[39m.\u001b[39mdistance\u001b[39m.\u001b[39mcityblock,\n\u001b[1;32m    148\u001b[0m     \u001b[39m\"\u001b[39m\u001b[39mL2\u001b[39m\u001b[39m\"\u001b[39m: spatial\u001b[39m.\u001b[39mdistance\u001b[39m.\u001b[39meuclidean,\n\u001b[1;32m    149\u001b[0m     \u001b[39m\"\u001b[39m\u001b[39mLinf\u001b[39m\u001b[39m\"\u001b[39m: spatial\u001b[39m.\u001b[39mdistance\u001b[39m.\u001b[39mchebyshev,\n\u001b[1;32m    150\u001b[0m }\n\u001b[1;32m    151\u001b[0m distances \u001b[39m=\u001b[39m [\n\u001b[0;32m--> 152\u001b[0m     distance_metrics[distance_metric](query_embedding, embedding)\n\u001b[1;32m    153\u001b[0m     \u001b[39mfor\u001b[39;00m embedding \u001b[39min\u001b[39;00m embeddings\n\u001b[1;32m    154\u001b[0m ]\n\u001b[1;32m    155\u001b[0m \u001b[39mreturn\u001b[39;00m distances\n",
      "File \u001b[0;32m/Library/Frameworks/Python.framework/Versions/3.10/lib/python3.10/site-packages/scipy/spatial/distance.py:668\u001b[0m, in \u001b[0;36mcosine\u001b[0;34m(u, v, w)\u001b[0m\n\u001b[1;32m    626\u001b[0m \u001b[39m\"\"\"\u001b[39;00m\n\u001b[1;32m    627\u001b[0m \u001b[39mCompute the Cosine distance between 1-D arrays.\u001b[39;00m\n\u001b[1;32m    628\u001b[0m \n\u001b[0;32m   (...)\u001b[0m\n\u001b[1;32m    663\u001b[0m \n\u001b[1;32m    664\u001b[0m \u001b[39m\"\"\"\u001b[39;00m\n\u001b[1;32m    665\u001b[0m \u001b[39m# cosine distance is also referred to as 'uncentered correlation',\u001b[39;00m\n\u001b[1;32m    666\u001b[0m \u001b[39m#   or 'reflective correlation'\u001b[39;00m\n\u001b[1;32m    667\u001b[0m \u001b[39m# clamp the result to 0-2\u001b[39;00m\n\u001b[0;32m--> 668\u001b[0m \u001b[39mreturn\u001b[39;00m \u001b[39mmax\u001b[39m(\u001b[39m0\u001b[39m, \u001b[39mmin\u001b[39m(correlation(u, v, w\u001b[39m=\u001b[39;49mw, centered\u001b[39m=\u001b[39;49m\u001b[39mFalse\u001b[39;49;00m), \u001b[39m2.0\u001b[39m))\n",
      "File \u001b[0;32m/Library/Frameworks/Python.framework/Versions/3.10/lib/python3.10/site-packages/scipy/spatial/distance.py:609\u001b[0m, in \u001b[0;36mcorrelation\u001b[0;34m(u, v, w, centered)\u001b[0m\n\u001b[1;32m    576\u001b[0m \u001b[39m\"\"\"\u001b[39;00m\n\u001b[1;32m    577\u001b[0m \u001b[39mCompute the correlation distance between two 1-D arrays.\u001b[39;00m\n\u001b[1;32m    578\u001b[0m \n\u001b[0;32m   (...)\u001b[0m\n\u001b[1;32m    606\u001b[0m \n\u001b[1;32m    607\u001b[0m \u001b[39m\"\"\"\u001b[39;00m\n\u001b[1;32m    608\u001b[0m u \u001b[39m=\u001b[39m _validate_vector(u)\n\u001b[0;32m--> 609\u001b[0m v \u001b[39m=\u001b[39m _validate_vector(v)\n\u001b[1;32m    610\u001b[0m \u001b[39mif\u001b[39;00m w \u001b[39mis\u001b[39;00m \u001b[39mnot\u001b[39;00m \u001b[39mNone\u001b[39;00m:\n\u001b[1;32m    611\u001b[0m     w \u001b[39m=\u001b[39m _validate_weights(w)\n",
      "File \u001b[0;32m/Library/Frameworks/Python.framework/Versions/3.10/lib/python3.10/site-packages/scipy/spatial/distance.py:298\u001b[0m, in \u001b[0;36m_validate_vector\u001b[0;34m(u, dtype)\u001b[0m\n\u001b[1;32m    296\u001b[0m \u001b[39mdef\u001b[39;00m \u001b[39m_validate_vector\u001b[39m(u, dtype\u001b[39m=\u001b[39m\u001b[39mNone\u001b[39;00m):\n\u001b[1;32m    297\u001b[0m     \u001b[39m# XXX Is order='c' really necessary?\u001b[39;00m\n\u001b[0;32m--> 298\u001b[0m     u \u001b[39m=\u001b[39m np\u001b[39m.\u001b[39;49masarray(u, dtype\u001b[39m=\u001b[39;49mdtype, order\u001b[39m=\u001b[39;49m\u001b[39m'\u001b[39;49m\u001b[39mc\u001b[39;49m\u001b[39m'\u001b[39;49m)\n\u001b[1;32m    299\u001b[0m     \u001b[39mif\u001b[39;00m u\u001b[39m.\u001b[39mndim \u001b[39m==\u001b[39m \u001b[39m1\u001b[39m:\n\u001b[1;32m    300\u001b[0m         \u001b[39mreturn\u001b[39;00m u\n",
      "\u001b[0;31mKeyboardInterrupt\u001b[0m: "
     ]
    }
   ],
   "source": [
    "for i in rest_users:\n",
    "    #Example usage\n",
    "    recommendations = distances_based_on_content(user_id=i)\n",
    "    recommendations.to_csv('content_recommendations/' + i + '_content.csv', index=False)"
   ]
  }
 ],
 "metadata": {
  "kernelspec": {
   "display_name": "Python 3.10.7 64-bit",
   "language": "python",
   "name": "python3"
  },
  "language_info": {
   "codemirror_mode": {
    "name": "ipython",
    "version": 3
   },
   "file_extension": ".py",
   "mimetype": "text/x-python",
   "name": "python",
   "nbconvert_exporter": "python",
   "pygments_lexer": "ipython3",
   "version": "3.10.7"
  },
  "orig_nbformat": 4,
  "vscode": {
   "interpreter": {
    "hash": "aee8b7b246df8f9039afb4144a1f6fd8d2ca17a180786b69acc140d282b71a49"
   }
  }
 },
 "nbformat": 4,
 "nbformat_minor": 2
}
