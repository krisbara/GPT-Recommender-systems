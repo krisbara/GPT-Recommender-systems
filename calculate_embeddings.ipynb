{
 "cells": [
  {
   "cell_type": "code",
   "execution_count": 6,
   "metadata": {},
   "outputs": [],
   "source": [
    "import pandas as pd\n",
    "import openai\n",
    "from openai.embeddings_utils import get_embedding\n",
    "import os"
   ]
  },
  {
   "cell_type": "code",
   "execution_count": 26,
   "metadata": {},
   "outputs": [],
   "source": [
    "openai.api_key = \"key\""
   ]
  },
  {
   "cell_type": "code",
   "execution_count": 27,
   "metadata": {},
   "outputs": [
    {
     "data": {
      "text/html": [
       "<div>\n",
       "<style scoped>\n",
       "    .dataframe tbody tr th:only-of-type {\n",
       "        vertical-align: middle;\n",
       "    }\n",
       "\n",
       "    .dataframe tbody tr th {\n",
       "        vertical-align: top;\n",
       "    }\n",
       "\n",
       "    .dataframe thead th {\n",
       "        text-align: right;\n",
       "    }\n",
       "</style>\n",
       "<table border=\"1\" class=\"dataframe\">\n",
       "  <thead>\n",
       "    <tr style=\"text-align: right;\">\n",
       "      <th></th>\n",
       "      <th>ID</th>\n",
       "      <th>Category</th>\n",
       "      <th>SubCategory</th>\n",
       "      <th>Content</th>\n",
       "    </tr>\n",
       "  </thead>\n",
       "  <tbody>\n",
       "    <tr>\n",
       "      <th>0</th>\n",
       "      <td>N55189</td>\n",
       "      <td>tv</td>\n",
       "      <td>tvnews</td>\n",
       "      <td>'Wheel Of Fortune' Guest Delivers Hilarious, O...</td>\n",
       "    </tr>\n",
       "    <tr>\n",
       "      <th>1</th>\n",
       "      <td>N42782</td>\n",
       "      <td>sports</td>\n",
       "      <td>baseball_mlb</td>\n",
       "      <td>Three takeaways from Yankees' ALCS Game 5 vict...</td>\n",
       "    </tr>\n",
       "    <tr>\n",
       "      <th>2</th>\n",
       "      <td>N34694</td>\n",
       "      <td>tv</td>\n",
       "      <td>tvnews</td>\n",
       "      <td>Rosie O'Donnell: Barbara Walters Isn't 'Up to ...</td>\n",
       "    </tr>\n",
       "    <tr>\n",
       "      <th>3</th>\n",
       "      <td>N45794</td>\n",
       "      <td>news</td>\n",
       "      <td>newscrime</td>\n",
       "      <td>Four flight attendants were arrested in Miami'...</td>\n",
       "    </tr>\n",
       "    <tr>\n",
       "      <th>4</th>\n",
       "      <td>N18445</td>\n",
       "      <td>sports</td>\n",
       "      <td>football_ncaa</td>\n",
       "      <td>Michigan sends breakup tweet to Notre Dame as ...</td>\n",
       "    </tr>\n",
       "  </tbody>\n",
       "</table>\n",
       "</div>"
      ],
      "text/plain": [
       "       ID Category    SubCategory  \\\n",
       "0  N55189       tv         tvnews   \n",
       "1  N42782   sports   baseball_mlb   \n",
       "2  N34694       tv         tvnews   \n",
       "3  N45794     news      newscrime   \n",
       "4  N18445   sports  football_ncaa   \n",
       "\n",
       "                                             Content  \n",
       "0  'Wheel Of Fortune' Guest Delivers Hilarious, O...  \n",
       "1  Three takeaways from Yankees' ALCS Game 5 vict...  \n",
       "2  Rosie O'Donnell: Barbara Walters Isn't 'Up to ...  \n",
       "3  Four flight attendants were arrested in Miami'...  \n",
       "4  Michigan sends breakup tweet to Notre Dame as ...  "
      ]
     },
     "execution_count": 27,
     "metadata": {},
     "output_type": "execute_result"
    }
   ],
   "source": [
    "#load the data with news articles\n",
    "news = pd.read_csv(\"MIND/newsTEST.tsv\", sep='\\t', header=None) #document with news description\n",
    "news.columns =['ID', 'Category', 'SubCategory', 'Title', 'Abstract', 'URL', 'Title Entities', 'Abstract Entities']\n",
    "news['Content'] = news['Title'].fillna('') + ' ' + news['Abstract'].fillna('')\n",
    "news = news.drop(['URL', 'Title Entities', 'Abstract Entities', 'Title', 'Abstract'], axis=1)\n",
    "news.head()"
   ]
  },
  {
   "cell_type": "code",
   "execution_count": 28,
   "metadata": {},
   "outputs": [],
   "source": [
    "#function transforms the values of column from text into embeddings\n",
    "def hashable_column(column_value):\n",
    "    if isinstance(column_value, dict):\n",
    "        hashable_items = []\n",
    "        \n",
    "        for key, value in column_value.items():\n",
    "            if key == 'Content':\n",
    "                # Convert 'Content' value to embedding\n",
    "                value = get_embedding(value, engine=\"text-embedding-ada-002\")\n",
    "            elif isinstance(value, dict):\n",
    "                value = hashable_column(value)\n",
    "            elif isinstance(value, list):\n",
    "                print(\"Unhashable list value at key:\", key, \"with value:\", value)\n",
    "            elif isinstance(value, str):\n",
    "                value = value.replace(\"\\n\", \" \")\n",
    "            hashable_items.append((key, value))\n",
    "        return tuple(sorted(hashable_items))\n",
    "    else:\n",
    "        if isinstance(column_value, str):\n",
    "            return get_embedding(column_value, engine=\"text-embedding-ada-002\")\n",
    "        else:\n",
    "            return column_value"
   ]
  },
  {
   "cell_type": "code",
   "execution_count": 29,
   "metadata": {},
   "outputs": [],
   "source": [
    "#save news embeddings \n",
    "news['Content_emb'] = news['Content'].apply(hashable_column)"
   ]
  },
  {
   "cell_type": "code",
   "execution_count": 30,
   "metadata": {},
   "outputs": [],
   "source": [
    "news.to_csv('embeddings/news_emb_TEST.csv', index=False)"
   ]
  },
  {
   "cell_type": "code",
   "execution_count": 31,
   "metadata": {},
   "outputs": [
    {
     "data": {
      "text/html": [
       "<div>\n",
       "<style scoped>\n",
       "    .dataframe tbody tr th:only-of-type {\n",
       "        vertical-align: middle;\n",
       "    }\n",
       "\n",
       "    .dataframe tbody tr th {\n",
       "        vertical-align: top;\n",
       "    }\n",
       "\n",
       "    .dataframe thead th {\n",
       "        text-align: right;\n",
       "    }\n",
       "</style>\n",
       "<table border=\"1\" class=\"dataframe\">\n",
       "  <thead>\n",
       "    <tr style=\"text-align: right;\">\n",
       "      <th></th>\n",
       "      <th>ID</th>\n",
       "      <th>Category</th>\n",
       "      <th>SubCategory</th>\n",
       "      <th>Content</th>\n",
       "      <th>Content_emb</th>\n",
       "    </tr>\n",
       "  </thead>\n",
       "  <tbody>\n",
       "    <tr>\n",
       "      <th>0</th>\n",
       "      <td>N55189</td>\n",
       "      <td>tv</td>\n",
       "      <td>tvnews</td>\n",
       "      <td>'Wheel Of Fortune' Guest Delivers Hilarious, O...</td>\n",
       "      <td>[-0.020967688411474228, -0.020634232088923454,...</td>\n",
       "    </tr>\n",
       "    <tr>\n",
       "      <th>1</th>\n",
       "      <td>N42782</td>\n",
       "      <td>sports</td>\n",
       "      <td>baseball_mlb</td>\n",
       "      <td>Three takeaways from Yankees' ALCS Game 5 vict...</td>\n",
       "      <td>[-0.008319429121911526, 0.0013667173916473985,...</td>\n",
       "    </tr>\n",
       "    <tr>\n",
       "      <th>2</th>\n",
       "      <td>N34694</td>\n",
       "      <td>tv</td>\n",
       "      <td>tvnews</td>\n",
       "      <td>Rosie O'Donnell: Barbara Walters Isn't 'Up to ...</td>\n",
       "      <td>[-0.042908210307359695, -0.018993420526385307,...</td>\n",
       "    </tr>\n",
       "    <tr>\n",
       "      <th>3</th>\n",
       "      <td>N45794</td>\n",
       "      <td>news</td>\n",
       "      <td>newscrime</td>\n",
       "      <td>Four flight attendants were arrested in Miami'...</td>\n",
       "      <td>[-0.007930373772978783, -0.0221870094537735, 0...</td>\n",
       "    </tr>\n",
       "    <tr>\n",
       "      <th>4</th>\n",
       "      <td>N18445</td>\n",
       "      <td>sports</td>\n",
       "      <td>football_ncaa</td>\n",
       "      <td>Michigan sends breakup tweet to Notre Dame as ...</td>\n",
       "      <td>[-0.020153459161520004, -0.044797133654356, 0....</td>\n",
       "    </tr>\n",
       "  </tbody>\n",
       "</table>\n",
       "</div>"
      ],
      "text/plain": [
       "       ID Category    SubCategory  \\\n",
       "0  N55189       tv         tvnews   \n",
       "1  N42782   sports   baseball_mlb   \n",
       "2  N34694       tv         tvnews   \n",
       "3  N45794     news      newscrime   \n",
       "4  N18445   sports  football_ncaa   \n",
       "\n",
       "                                             Content  \\\n",
       "0  'Wheel Of Fortune' Guest Delivers Hilarious, O...   \n",
       "1  Three takeaways from Yankees' ALCS Game 5 vict...   \n",
       "2  Rosie O'Donnell: Barbara Walters Isn't 'Up to ...   \n",
       "3  Four flight attendants were arrested in Miami'...   \n",
       "4  Michigan sends breakup tweet to Notre Dame as ...   \n",
       "\n",
       "                                         Content_emb  \n",
       "0  [-0.020967688411474228, -0.020634232088923454,...  \n",
       "1  [-0.008319429121911526, 0.0013667173916473985,...  \n",
       "2  [-0.042908210307359695, -0.018993420526385307,...  \n",
       "3  [-0.007930373772978783, -0.0221870094537735, 0...  \n",
       "4  [-0.020153459161520004, -0.044797133654356, 0....  "
      ]
     },
     "execution_count": 31,
     "metadata": {},
     "output_type": "execute_result"
    }
   ],
   "source": [
    "news = pd.read_csv(\"embeddings/news_emb_TEST.csv\") #document with news content\n",
    "news.head()"
   ]
  }
 ],
 "metadata": {
  "kernelspec": {
   "display_name": "Python 3",
   "language": "python",
   "name": "python3"
  },
  "language_info": {
   "codemirror_mode": {
    "name": "ipython",
    "version": 3
   },
   "file_extension": ".py",
   "mimetype": "text/x-python",
   "name": "python",
   "nbconvert_exporter": "python",
   "pygments_lexer": "ipython3",
   "version": "3.10.10"
  }
 },
 "nbformat": 4,
 "nbformat_minor": 2
}
