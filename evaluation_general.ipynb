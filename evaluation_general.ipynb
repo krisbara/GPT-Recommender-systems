{
 "cells": [
  {
   "attachments": {},
   "cell_type": "markdown",
   "metadata": {},
   "source": [
    "Precision and recall\n",
    "https://insidelearningmachines.com/precisionk_and_recallk/#:~:text=Precision%40k%20and%20Recall%40k%20are%20metrics%20used%20to%20evaluate,end%20user%20by%20the%20model."
   ]
  },
  {
   "cell_type": "code",
   "execution_count": 43,
   "metadata": {},
   "outputs": [],
   "source": [
    "# imports\n",
    "import pandas as pd\n",
    "import openai\n",
    "import numpy as np\n",
    "from typing import List\n",
    "import ast"
   ]
  },
  {
   "cell_type": "code",
   "execution_count": 2,
   "metadata": {},
   "outputs": [
    {
     "data": {
      "text/html": [
       "<div>\n",
       "<style scoped>\n",
       "    .dataframe tbody tr th:only-of-type {\n",
       "        vertical-align: middle;\n",
       "    }\n",
       "\n",
       "    .dataframe tbody tr th {\n",
       "        vertical-align: top;\n",
       "    }\n",
       "\n",
       "    .dataframe thead th {\n",
       "        text-align: right;\n",
       "    }\n",
       "</style>\n",
       "<table border=\"1\" class=\"dataframe\">\n",
       "  <thead>\n",
       "    <tr style=\"text-align: right;\">\n",
       "      <th></th>\n",
       "      <th>ID</th>\n",
       "      <th>category</th>\n",
       "      <th>sub_category</th>\n",
       "      <th>content</th>\n",
       "      <th>collaborative_rec</th>\n",
       "      <th>content_rec</th>\n",
       "      <th>mean</th>\n",
       "      <th>two_one</th>\n",
       "    </tr>\n",
       "  </thead>\n",
       "  <tbody>\n",
       "    <tr>\n",
       "      <th>0</th>\n",
       "      <td>N18445</td>\n",
       "      <td>sports</td>\n",
       "      <td>football_ncaa</td>\n",
       "      <td>Michigan sends breakup tweet to Notre Dame as ...</td>\n",
       "      <td>0.198320</td>\n",
       "      <td>0.159909</td>\n",
       "      <td>0.179114</td>\n",
       "      <td>0.172712</td>\n",
       "    </tr>\n",
       "    <tr>\n",
       "      <th>1</th>\n",
       "      <td>N42782</td>\n",
       "      <td>sports</td>\n",
       "      <td>baseball_mlb</td>\n",
       "      <td>Three takeaways from Yankees' ALCS Game 5 vict...</td>\n",
       "      <td>0.216016</td>\n",
       "      <td>0.061615</td>\n",
       "      <td>0.138816</td>\n",
       "      <td>0.113082</td>\n",
       "    </tr>\n",
       "    <tr>\n",
       "      <th>2</th>\n",
       "      <td>N10414</td>\n",
       "      <td>movies</td>\n",
       "      <td>movienews</td>\n",
       "      <td>Robert Evans, 'Chinatown' Producer and Paramou...</td>\n",
       "      <td>0.246655</td>\n",
       "      <td>0.274041</td>\n",
       "      <td>0.260348</td>\n",
       "      <td>0.264912</td>\n",
       "    </tr>\n",
       "    <tr>\n",
       "      <th>3</th>\n",
       "      <td>N53526</td>\n",
       "      <td>health</td>\n",
       "      <td>voices</td>\n",
       "      <td>I Was An NBA Wife. Here's How It Affected My M...</td>\n",
       "      <td>0.256467</td>\n",
       "      <td>0.263025</td>\n",
       "      <td>0.259746</td>\n",
       "      <td>0.260839</td>\n",
       "    </tr>\n",
       "    <tr>\n",
       "      <th>4</th>\n",
       "      <td>N63302</td>\n",
       "      <td>lifestyle</td>\n",
       "      <td>lifestylebuzz</td>\n",
       "      <td>This Wedding Photo of a Canine Best Man Captur...</td>\n",
       "      <td>0.259769</td>\n",
       "      <td>0.281452</td>\n",
       "      <td>0.270611</td>\n",
       "      <td>0.274225</td>\n",
       "    </tr>\n",
       "  </tbody>\n",
       "</table>\n",
       "</div>"
      ],
      "text/plain": [
       "       ID   category   sub_category  \\\n",
       "0  N18445     sports  football_ncaa   \n",
       "1  N42782     sports   baseball_mlb   \n",
       "2  N10414     movies      movienews   \n",
       "3  N53526     health         voices   \n",
       "4  N63302  lifestyle  lifestylebuzz   \n",
       "\n",
       "                                             content  collaborative_rec  \\\n",
       "0  Michigan sends breakup tweet to Notre Dame as ...           0.198320   \n",
       "1  Three takeaways from Yankees' ALCS Game 5 vict...           0.216016   \n",
       "2  Robert Evans, 'Chinatown' Producer and Paramou...           0.246655   \n",
       "3  I Was An NBA Wife. Here's How It Affected My M...           0.256467   \n",
       "4  This Wedding Photo of a Canine Best Man Captur...           0.259769   \n",
       "\n",
       "   content_rec      mean   two_one  \n",
       "0     0.159909  0.179114  0.172712  \n",
       "1     0.061615  0.138816  0.113082  \n",
       "2     0.274041  0.260348  0.264912  \n",
       "3     0.263025  0.259746  0.260839  \n",
       "4     0.281452  0.270611  0.274225  "
      ]
     },
     "execution_count": 2,
     "metadata": {},
     "output_type": "execute_result"
    }
   ],
   "source": [
    "news = pd.read_csv(\"evaluation/hybrid.csv\") \n",
    "news.head()"
   ]
  },
  {
   "cell_type": "code",
   "execution_count": 40,
   "metadata": {},
   "outputs": [
    {
     "name": "stdout",
     "output_type": "stream",
     "text": [
      "Mean of 'content_rec' column: 0.2501734171562433\n"
     ]
    }
   ],
   "source": [
    "# Calculating the mean of 'content_rec' column\n",
    "mean_content_rec = news['content_rec'].mean() \n",
    "\n",
    "print(\"Mean of 'content_rec' column:\", mean_content_rec)"
   ]
  },
  {
   "cell_type": "code",
   "execution_count": 46,
   "metadata": {},
   "outputs": [
    {
     "name": "stdout",
     "output_type": "stream",
     "text": [
      "Value at 4% of the sorted 'content_rec' data: 0.185792921450654\n"
     ]
    }
   ],
   "source": [
    "# Sorting the 'content_rec' column in ascending order\n",
    "sorted_content_rec = news['content_rec'].sort_values(ascending=True)\n",
    "\n",
    "# Calculating the index for the value representing the maximum of 4% of the sorted data\n",
    "index_4_percent = int(len(sorted_content_rec) * 0.04)  # 4% of the data\n",
    "\n",
    "# Getting the value at the calculated index\n",
    "value_at_4_percent = sorted_content_rec.iloc[index_4_percent]\n",
    "\n",
    "print(\"Value at 4% of the sorted 'content_rec' data:\", value_at_4_percent)\n"
   ]
  },
  {
   "cell_type": "code",
   "execution_count": 22,
   "metadata": {},
   "outputs": [
    {
     "data": {
      "text/html": [
       "<div>\n",
       "<style scoped>\n",
       "    .dataframe tbody tr th:only-of-type {\n",
       "        vertical-align: middle;\n",
       "    }\n",
       "\n",
       "    .dataframe tbody tr th {\n",
       "        vertical-align: top;\n",
       "    }\n",
       "\n",
       "    .dataframe thead th {\n",
       "        text-align: right;\n",
       "    }\n",
       "</style>\n",
       "<table border=\"1\" class=\"dataframe\">\n",
       "  <thead>\n",
       "    <tr style=\"text-align: right;\">\n",
       "      <th></th>\n",
       "      <th>0</th>\n",
       "      <th>1</th>\n",
       "      <th>2</th>\n",
       "      <th>3</th>\n",
       "      <th>4</th>\n",
       "    </tr>\n",
       "  </thead>\n",
       "  <tbody>\n",
       "    <tr>\n",
       "      <th>0</th>\n",
       "      <td>0</td>\n",
       "      <td>U13000</td>\n",
       "      <td>11/11/2019 9:05:58 AM</td>\n",
       "      <td>N42782 N18445 N49749</td>\n",
       "      <td>N7482-1 N6379-0</td>\n",
       "    </tr>\n",
       "    <tr>\n",
       "      <th>1</th>\n",
       "      <td>1</td>\n",
       "      <td>U13740</td>\n",
       "      <td>11/11/2019 9:05:58 AM</td>\n",
       "      <td>N55189 N42782 N34694 N45794 N18445 N63302 N104...</td>\n",
       "      <td>N55689-1 N35729-0</td>\n",
       "    </tr>\n",
       "    <tr>\n",
       "      <th>2</th>\n",
       "      <td>2</td>\n",
       "      <td>U91836</td>\n",
       "      <td>11/12/2019 6:11:30 PM</td>\n",
       "      <td>N31739 N6072 N63045 N23979 N35656 N43353 N8129...</td>\n",
       "      <td>N20678-0 N39317-0 N58114-0 N20495-0 N42977-0 N...</td>\n",
       "    </tr>\n",
       "    <tr>\n",
       "      <th>3</th>\n",
       "      <td>3</td>\n",
       "      <td>U73700</td>\n",
       "      <td>11/14/2019 7:01:48 AM</td>\n",
       "      <td>N10732 N25792 N7563 N21087 N41087 N5445 N60384...</td>\n",
       "      <td>N50014-0 N23877-0 N35389-0 N49712-0 N16844-0 N...</td>\n",
       "    </tr>\n",
       "    <tr>\n",
       "      <th>4</th>\n",
       "      <td>4</td>\n",
       "      <td>U34670</td>\n",
       "      <td>11/11/2019 5:28:05 AM</td>\n",
       "      <td>N45729 N2203 N871 N53880 N41375 N43142 N33013 ...</td>\n",
       "      <td>N35729-0 N33632-0 N49685-1 N27581-0</td>\n",
       "    </tr>\n",
       "  </tbody>\n",
       "</table>\n",
       "</div>"
      ],
      "text/plain": [
       "   0       1                      2  \\\n",
       "0  0  U13000  11/11/2019 9:05:58 AM   \n",
       "1  1  U13740  11/11/2019 9:05:58 AM   \n",
       "2  2  U91836  11/12/2019 6:11:30 PM   \n",
       "3  3  U73700  11/14/2019 7:01:48 AM   \n",
       "4  4  U34670  11/11/2019 5:28:05 AM   \n",
       "\n",
       "                                                   3  \\\n",
       "0                               N42782 N18445 N49749   \n",
       "1  N55189 N42782 N34694 N45794 N18445 N63302 N104...   \n",
       "2  N31739 N6072 N63045 N23979 N35656 N43353 N8129...   \n",
       "3  N10732 N25792 N7563 N21087 N41087 N5445 N60384...   \n",
       "4  N45729 N2203 N871 N53880 N41375 N43142 N33013 ...   \n",
       "\n",
       "                                                   4  \n",
       "0                                    N7482-1 N6379-0  \n",
       "1                                  N55689-1 N35729-0  \n",
       "2  N20678-0 N39317-0 N58114-0 N20495-0 N42977-0 N...  \n",
       "3  N50014-0 N23877-0 N35389-0 N49712-0 N16844-0 N...  \n",
       "4                N35729-0 N33632-0 N49685-1 N27581-0  "
      ]
     },
     "execution_count": 22,
     "metadata": {},
     "output_type": "execute_result"
    }
   ],
   "source": [
    "data = pd.read_csv(\"MIND/behaviors_test.csv\", sep = ';') \n",
    "data.head()"
   ]
  },
  {
   "cell_type": "code",
   "execution_count": 23,
   "metadata": {},
   "outputs": [
    {
     "data": {
      "text/html": [
       "<div>\n",
       "<style scoped>\n",
       "    .dataframe tbody tr th:only-of-type {\n",
       "        vertical-align: middle;\n",
       "    }\n",
       "\n",
       "    .dataframe tbody tr th {\n",
       "        vertical-align: top;\n",
       "    }\n",
       "\n",
       "    .dataframe thead th {\n",
       "        text-align: right;\n",
       "    }\n",
       "</style>\n",
       "<table border=\"1\" class=\"dataframe\">\n",
       "  <thead>\n",
       "    <tr style=\"text-align: right;\">\n",
       "      <th></th>\n",
       "      <th>1</th>\n",
       "      <th>4</th>\n",
       "    </tr>\n",
       "  </thead>\n",
       "  <tbody>\n",
       "    <tr>\n",
       "      <th>0</th>\n",
       "      <td>U13000</td>\n",
       "      <td>N7482-1 N6379-0</td>\n",
       "    </tr>\n",
       "    <tr>\n",
       "      <th>1</th>\n",
       "      <td>U13740</td>\n",
       "      <td>N55689-1 N35729-0</td>\n",
       "    </tr>\n",
       "    <tr>\n",
       "      <th>2</th>\n",
       "      <td>U91836</td>\n",
       "      <td>N20678-0 N39317-0 N58114-0 N20495-0 N42977-0 N...</td>\n",
       "    </tr>\n",
       "    <tr>\n",
       "      <th>3</th>\n",
       "      <td>U73700</td>\n",
       "      <td>N50014-0 N23877-0 N35389-0 N49712-0 N16844-0 N...</td>\n",
       "    </tr>\n",
       "    <tr>\n",
       "      <th>4</th>\n",
       "      <td>U34670</td>\n",
       "      <td>N35729-0 N33632-0 N49685-1 N27581-0</td>\n",
       "    </tr>\n",
       "  </tbody>\n",
       "</table>\n",
       "</div>"
      ],
      "text/plain": [
       "        1                                                  4\n",
       "0  U13000                                    N7482-1 N6379-0\n",
       "1  U13740                                  N55689-1 N35729-0\n",
       "2  U91836  N20678-0 N39317-0 N58114-0 N20495-0 N42977-0 N...\n",
       "3  U73700  N50014-0 N23877-0 N35389-0 N49712-0 N16844-0 N...\n",
       "4  U34670                N35729-0 N33632-0 N49685-1 N27581-0"
      ]
     },
     "execution_count": 23,
     "metadata": {},
     "output_type": "execute_result"
    }
   ],
   "source": [
    "data = data.drop(['0', '2', '3'], axis=1)\n",
    "data.head()"
   ]
  },
  {
   "cell_type": "code",
   "execution_count": 24,
   "metadata": {},
   "outputs": [
    {
     "data": {
      "text/html": [
       "<div>\n",
       "<style scoped>\n",
       "    .dataframe tbody tr th:only-of-type {\n",
       "        vertical-align: middle;\n",
       "    }\n",
       "\n",
       "    .dataframe tbody tr th {\n",
       "        vertical-align: top;\n",
       "    }\n",
       "\n",
       "    .dataframe thead th {\n",
       "        text-align: right;\n",
       "    }\n",
       "</style>\n",
       "<table border=\"1\" class=\"dataframe\">\n",
       "  <thead>\n",
       "    <tr style=\"text-align: right;\">\n",
       "      <th></th>\n",
       "      <th>User</th>\n",
       "      <th>Impressions</th>\n",
       "    </tr>\n",
       "  </thead>\n",
       "  <tbody>\n",
       "    <tr>\n",
       "      <th>0</th>\n",
       "      <td>U13000</td>\n",
       "      <td>N7482-1 N6379-0</td>\n",
       "    </tr>\n",
       "    <tr>\n",
       "      <th>1</th>\n",
       "      <td>U13740</td>\n",
       "      <td>N55689-1 N35729-0</td>\n",
       "    </tr>\n",
       "    <tr>\n",
       "      <th>2</th>\n",
       "      <td>U91836</td>\n",
       "      <td>N20678-0 N39317-0 N58114-0 N20495-0 N42977-0 N...</td>\n",
       "    </tr>\n",
       "    <tr>\n",
       "      <th>3</th>\n",
       "      <td>U73700</td>\n",
       "      <td>N50014-0 N23877-0 N35389-0 N49712-0 N16844-0 N...</td>\n",
       "    </tr>\n",
       "    <tr>\n",
       "      <th>4</th>\n",
       "      <td>U34670</td>\n",
       "      <td>N35729-0 N33632-0 N49685-1 N27581-0</td>\n",
       "    </tr>\n",
       "  </tbody>\n",
       "</table>\n",
       "</div>"
      ],
      "text/plain": [
       "     User                                        Impressions\n",
       "0  U13000                                    N7482-1 N6379-0\n",
       "1  U13740                                  N55689-1 N35729-0\n",
       "2  U91836  N20678-0 N39317-0 N58114-0 N20495-0 N42977-0 N...\n",
       "3  U73700  N50014-0 N23877-0 N35389-0 N49712-0 N16844-0 N...\n",
       "4  U34670                N35729-0 N33632-0 N49685-1 N27581-0"
      ]
     },
     "execution_count": 24,
     "metadata": {},
     "output_type": "execute_result"
    }
   ],
   "source": [
    "data.columns =['User', 'Impressions']\n",
    "data.head()"
   ]
  },
  {
   "cell_type": "code",
   "execution_count": 25,
   "metadata": {},
   "outputs": [
    {
     "data": {
      "text/html": [
       "<div>\n",
       "<style scoped>\n",
       "    .dataframe tbody tr th:only-of-type {\n",
       "        vertical-align: middle;\n",
       "    }\n",
       "\n",
       "    .dataframe tbody tr th {\n",
       "        vertical-align: top;\n",
       "    }\n",
       "\n",
       "    .dataframe thead th {\n",
       "        text-align: right;\n",
       "    }\n",
       "</style>\n",
       "<table border=\"1\" class=\"dataframe\">\n",
       "  <thead>\n",
       "    <tr style=\"text-align: right;\">\n",
       "      <th></th>\n",
       "      <th>User</th>\n",
       "      <th>Impressions</th>\n",
       "    </tr>\n",
       "  </thead>\n",
       "  <tbody>\n",
       "    <tr>\n",
       "      <th>0</th>\n",
       "      <td>U13000</td>\n",
       "      <td>N7482-1 N6379-0</td>\n",
       "    </tr>\n",
       "    <tr>\n",
       "      <th>1</th>\n",
       "      <td>U13740</td>\n",
       "      <td>N55689-1 N35729-0</td>\n",
       "    </tr>\n",
       "    <tr>\n",
       "      <th>2</th>\n",
       "      <td>U91836</td>\n",
       "      <td>N20678-0 N39317-0 N58114-0 N20495-0 N42977-0 N...</td>\n",
       "    </tr>\n",
       "    <tr>\n",
       "      <th>3</th>\n",
       "      <td>U73700</td>\n",
       "      <td>N50014-0 N23877-0 N35389-0 N49712-0 N16844-0 N...</td>\n",
       "    </tr>\n",
       "    <tr>\n",
       "      <th>4</th>\n",
       "      <td>U34670</td>\n",
       "      <td>N35729-0 N33632-0 N49685-1 N27581-0</td>\n",
       "    </tr>\n",
       "    <tr>\n",
       "      <th>...</th>\n",
       "      <td>...</td>\n",
       "      <td>...</td>\n",
       "    </tr>\n",
       "    <tr>\n",
       "      <th>95</th>\n",
       "      <td>U85027</td>\n",
       "      <td>N51048-0 N28072-1</td>\n",
       "    </tr>\n",
       "    <tr>\n",
       "      <th>96</th>\n",
       "      <td>U10585</td>\n",
       "      <td>N14592-0 N12029-0 N45704-0 N9806-0 N37497-0 N5...</td>\n",
       "    </tr>\n",
       "    <tr>\n",
       "      <th>97</th>\n",
       "      <td>U89839</td>\n",
       "      <td>N12042-0 N35729-0 N49685-0 N62729-1</td>\n",
       "    </tr>\n",
       "    <tr>\n",
       "      <th>98</th>\n",
       "      <td>U47761</td>\n",
       "      <td>N9734-0 N25949-0 N47061-0 N14726-0 N59272-0 N3...</td>\n",
       "    </tr>\n",
       "    <tr>\n",
       "      <th>99</th>\n",
       "      <td>U13227</td>\n",
       "      <td>N45422-0 N49123-0 N16096-0 N20678-0 N39317-0 N...</td>\n",
       "    </tr>\n",
       "  </tbody>\n",
       "</table>\n",
       "<p>100 rows × 2 columns</p>\n",
       "</div>"
      ],
      "text/plain": [
       "      User                                        Impressions\n",
       "0   U13000                                    N7482-1 N6379-0\n",
       "1   U13740                                  N55689-1 N35729-0\n",
       "2   U91836  N20678-0 N39317-0 N58114-0 N20495-0 N42977-0 N...\n",
       "3   U73700  N50014-0 N23877-0 N35389-0 N49712-0 N16844-0 N...\n",
       "4   U34670                N35729-0 N33632-0 N49685-1 N27581-0\n",
       "..     ...                                                ...\n",
       "95  U85027                                  N51048-0 N28072-1\n",
       "96  U10585  N14592-0 N12029-0 N45704-0 N9806-0 N37497-0 N5...\n",
       "97  U89839                N12042-0 N35729-0 N49685-0 N62729-1\n",
       "98  U47761  N9734-0 N25949-0 N47061-0 N14726-0 N59272-0 N3...\n",
       "99  U13227  N45422-0 N49123-0 N16096-0 N20678-0 N39317-0 N...\n",
       "\n",
       "[100 rows x 2 columns]"
      ]
     },
     "execution_count": 25,
     "metadata": {},
     "output_type": "execute_result"
    }
   ],
   "source": [
    "data"
   ]
  },
  {
   "cell_type": "code",
   "execution_count": 33,
   "metadata": {},
   "outputs": [
    {
     "name": "stdout",
     "output_type": "stream",
     "text": [
      "Total -1 count: 137\n",
      "Total -0 count: 3670\n"
     ]
    }
   ],
   "source": [
    "# Function to count the number of suffixes\n",
    "def count_suffixes(row, suffix):\n",
    "    impressions = row['Impressions'].split()\n",
    "    count = sum(1 for imp in impressions if imp.endswith(suffix))\n",
    "    return count\n",
    "\n",
    "# Counting \"-1\" and \"-0\" suffixes\n",
    "data['-1 Count'] = data.apply(lambda row: count_suffixes(row, '-1'), axis=1)\n",
    "data['-0 Count'] = data.apply(lambda row: count_suffixes(row, '-0'), axis=1)\n",
    "\n",
    "# Total count across all users\n",
    "total_minus_1 = data['-1 Count'].sum()\n",
    "total_minus_0 = data['-0 Count'].sum()\n",
    "\n",
    "print(\"Total -1 count:\", total_minus_1)\n",
    "print(\"Total -0 count:\", total_minus_0)"
   ]
  },
  {
   "cell_type": "code",
   "execution_count": 41,
   "metadata": {},
   "outputs": [
    {
     "data": {
      "text/plain": [
       "0.03732970027247957"
      ]
     },
     "execution_count": 41,
     "metadata": {},
     "output_type": "execute_result"
    }
   ],
   "source": [
    "total_minus_1/total_minus_0"
   ]
  },
  {
   "cell_type": "code",
   "execution_count": 26,
   "metadata": {},
   "outputs": [],
   "source": [
    "def create_user_df(input_df, user):\n",
    "    user_row = input_df[input_df['User'] == user]\n",
    "\n",
    "    if user_row.empty:\n",
    "        return None\n",
    "\n",
    "    impressions = user_row['Impressions'].values[0].split()\n",
    "\n",
    "    news_ids = []\n",
    "    true_values = []\n",
    "\n",
    "    for impression in impressions:\n",
    "        news_id, true_value = impression.split('-')\n",
    "        news_ids.append(news_id)\n",
    "        true_values.append(int(true_value))\n",
    "\n",
    "    user_df = pd.DataFrame({'ID': news_ids, 'true_value': true_values})\n",
    "    return user_df"
   ]
  },
  {
   "cell_type": "code",
   "execution_count": 34,
   "metadata": {},
   "outputs": [
    {
     "name": "stdout",
     "output_type": "stream",
     "text": [
      "      ID  true_value\n",
      "0  N7482           1\n",
      "1  N6379           0\n"
     ]
    }
   ],
   "source": [
    "user_input = 'U13000'\n",
    "user_df = create_user_df(data, user_input)\n",
    "print(user_df)\n"
   ]
  },
  {
   "cell_type": "code",
   "execution_count": 35,
   "metadata": {},
   "outputs": [
    {
     "name": "stdout",
     "output_type": "stream",
     "text": [
      "      ID  true_value  content_rec\n",
      "0  N7482           1     0.224894\n",
      "1  N6379           0     0.261450\n"
     ]
    }
   ],
   "source": [
    "# Create a dictionary mapping IDs to new column values from df2\n",
    "id_to_new_column = news.set_index('ID')['content_rec'].to_dict()\n",
    "\n",
    "# Add the new column to df1 based on the mapping\n",
    "user_df['content_rec'] = user_df['ID'].map(id_to_new_column)\n",
    "\n",
    "print(user_df)"
   ]
  },
  {
   "cell_type": "code",
   "execution_count": 10,
   "metadata": {},
   "outputs": [],
   "source": [
    "###precision###"
   ]
  },
  {
   "cell_type": "code",
   "execution_count": 11,
   "metadata": {},
   "outputs": [],
   "source": [
    "###recall###"
   ]
  },
  {
   "cell_type": "code",
   "execution_count": 12,
   "metadata": {},
   "outputs": [],
   "source": [
    "###F1###"
   ]
  },
  {
   "attachments": {},
   "cell_type": "markdown",
   "metadata": {},
   "source": [
    "Intra-list Similarity and others https://github.com/statisticianinstilettos/recmetrics"
   ]
  }
 ],
 "metadata": {
  "kernelspec": {
   "display_name": "Python 3",
   "language": "python",
   "name": "python3"
  },
  "language_info": {
   "codemirror_mode": {
    "name": "ipython",
    "version": 3
   },
   "file_extension": ".py",
   "mimetype": "text/x-python",
   "name": "python",
   "nbconvert_exporter": "python",
   "pygments_lexer": "ipython3",
   "version": "3.10.7"
  },
  "orig_nbformat": 4
 },
 "nbformat": 4,
 "nbformat_minor": 2
}
