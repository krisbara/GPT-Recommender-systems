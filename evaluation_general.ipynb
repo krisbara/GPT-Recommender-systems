{
 "cells": [
  {
   "attachments": {},
   "cell_type": "markdown",
   "metadata": {},
   "source": [
    "Precision and recall\n",
    "https://insidelearningmachines.com/precisionk_and_recallk/#:~:text=Precision%40k%20and%20Recall%40k%20are%20metrics%20used%20to%20evaluate,end%20user%20by%20the%20model."
   ]
  },
  {
   "cell_type": "code",
   "execution_count": 66,
   "metadata": {},
   "outputs": [],
   "source": [
    "# imports\n",
    "import pandas as pd\n",
    "import numpy as np\n",
    "from typing import List\n",
    "import os"
   ]
  },
  {
   "cell_type": "code",
   "execution_count": 115,
   "metadata": {},
   "outputs": [],
   "source": [
    "behaviors = pd.read_csv(\"MIND/behaviors_test.csv\") \n",
    "behaviors = behaviors.drop(['0', '2', '3'], axis=1)\n",
    "behaviors.columns =['User', 'Impressions']"
   ]
  },
  {
   "cell_type": "code",
   "execution_count": 116,
   "metadata": {},
   "outputs": [
    {
     "data": {
      "text/html": [
       "<div>\n",
       "<style scoped>\n",
       "    .dataframe tbody tr th:only-of-type {\n",
       "        vertical-align: middle;\n",
       "    }\n",
       "\n",
       "    .dataframe tbody tr th {\n",
       "        vertical-align: top;\n",
       "    }\n",
       "\n",
       "    .dataframe thead th {\n",
       "        text-align: right;\n",
       "    }\n",
       "</style>\n",
       "<table border=\"1\" class=\"dataframe\">\n",
       "  <thead>\n",
       "    <tr style=\"text-align: right;\">\n",
       "      <th></th>\n",
       "      <th>User</th>\n",
       "      <th>Impressions</th>\n",
       "    </tr>\n",
       "  </thead>\n",
       "  <tbody>\n",
       "    <tr>\n",
       "      <th>0</th>\n",
       "      <td>U13000</td>\n",
       "      <td>N7482-1 N6379-0</td>\n",
       "    </tr>\n",
       "    <tr>\n",
       "      <th>1</th>\n",
       "      <td>U13740</td>\n",
       "      <td>N55689-1 N35729-0</td>\n",
       "    </tr>\n",
       "    <tr>\n",
       "      <th>2</th>\n",
       "      <td>U91836</td>\n",
       "      <td>N20678-0 N39317-0 N58114-0 N20495-0 N42977-0 N...</td>\n",
       "    </tr>\n",
       "    <tr>\n",
       "      <th>3</th>\n",
       "      <td>U73700</td>\n",
       "      <td>N50014-0 N23877-0 N35389-0 N49712-0 N16844-0 N...</td>\n",
       "    </tr>\n",
       "    <tr>\n",
       "      <th>4</th>\n",
       "      <td>U34670</td>\n",
       "      <td>N35729-0 N33632-0 N49685-1 N27581-0</td>\n",
       "    </tr>\n",
       "    <tr>\n",
       "      <th>...</th>\n",
       "      <td>...</td>\n",
       "      <td>...</td>\n",
       "    </tr>\n",
       "    <tr>\n",
       "      <th>95</th>\n",
       "      <td>U85027</td>\n",
       "      <td>N51048-0 N28072-1</td>\n",
       "    </tr>\n",
       "    <tr>\n",
       "      <th>96</th>\n",
       "      <td>U10585</td>\n",
       "      <td>N14592-0 N12029-0 N45704-0 N9806-0 N37497-0 N5...</td>\n",
       "    </tr>\n",
       "    <tr>\n",
       "      <th>97</th>\n",
       "      <td>U89839</td>\n",
       "      <td>N12042-0 N35729-0 N49685-0 N62729-1</td>\n",
       "    </tr>\n",
       "    <tr>\n",
       "      <th>98</th>\n",
       "      <td>U47761</td>\n",
       "      <td>N9734-0 N25949-0 N47061-0 N14726-0 N59272-0 N3...</td>\n",
       "    </tr>\n",
       "    <tr>\n",
       "      <th>99</th>\n",
       "      <td>U13227</td>\n",
       "      <td>N45422-0 N49123-0 N16096-0 N20678-0 N39317-0 N...</td>\n",
       "    </tr>\n",
       "  </tbody>\n",
       "</table>\n",
       "<p>100 rows × 2 columns</p>\n",
       "</div>"
      ],
      "text/plain": [
       "      User                                        Impressions\n",
       "0   U13000                                    N7482-1 N6379-0\n",
       "1   U13740                                  N55689-1 N35729-0\n",
       "2   U91836  N20678-0 N39317-0 N58114-0 N20495-0 N42977-0 N...\n",
       "3   U73700  N50014-0 N23877-0 N35389-0 N49712-0 N16844-0 N...\n",
       "4   U34670                N35729-0 N33632-0 N49685-1 N27581-0\n",
       "..     ...                                                ...\n",
       "95  U85027                                  N51048-0 N28072-1\n",
       "96  U10585  N14592-0 N12029-0 N45704-0 N9806-0 N37497-0 N5...\n",
       "97  U89839                N12042-0 N35729-0 N49685-0 N62729-1\n",
       "98  U47761  N9734-0 N25949-0 N47061-0 N14726-0 N59272-0 N3...\n",
       "99  U13227  N45422-0 N49123-0 N16096-0 N20678-0 N39317-0 N...\n",
       "\n",
       "[100 rows x 2 columns]"
      ]
     },
     "execution_count": 116,
     "metadata": {},
     "output_type": "execute_result"
    }
   ],
   "source": [
    "behaviors"
   ]
  },
  {
   "cell_type": "code",
   "execution_count": 136,
   "metadata": {},
   "outputs": [],
   "source": [
    "behaviors = pd.read_csv(\"MIND/behaviors_testdataset.csv\", sep=';', header=None)\n",
    "behaviors.columns =['User', 'Time', 'ID', 'Impressions'] \n",
    "behaviors = behaviors.drop(['Time', 'ID'], axis=1)"
   ]
  },
  {
   "cell_type": "code",
   "execution_count": 137,
   "metadata": {},
   "outputs": [
    {
     "data": {
      "text/html": [
       "<div>\n",
       "<style scoped>\n",
       "    .dataframe tbody tr th:only-of-type {\n",
       "        vertical-align: middle;\n",
       "    }\n",
       "\n",
       "    .dataframe tbody tr th {\n",
       "        vertical-align: top;\n",
       "    }\n",
       "\n",
       "    .dataframe thead th {\n",
       "        text-align: right;\n",
       "    }\n",
       "</style>\n",
       "<table border=\"1\" class=\"dataframe\">\n",
       "  <thead>\n",
       "    <tr style=\"text-align: right;\">\n",
       "      <th></th>\n",
       "      <th>User</th>\n",
       "      <th>Impressions</th>\n",
       "    </tr>\n",
       "  </thead>\n",
       "  <tbody>\n",
       "    <tr>\n",
       "      <th>0</th>\n",
       "      <td>U13000</td>\n",
       "      <td>N7482-1 N6379-0</td>\n",
       "    </tr>\n",
       "    <tr>\n",
       "      <th>1</th>\n",
       "      <td>U14000</td>\n",
       "      <td>N1145-1 N34930-1 N53526-0 N3574-0 N751-0 N2202...</td>\n",
       "    </tr>\n",
       "    <tr>\n",
       "      <th>2</th>\n",
       "      <td>U15000</td>\n",
       "      <td>N4303-1 N58730-0 N64130-0 N38064-0 N49210-0 N92-0</td>\n",
       "    </tr>\n",
       "    <tr>\n",
       "      <th>3</th>\n",
       "      <td>U13740</td>\n",
       "      <td>N55689-1 N35729-0</td>\n",
       "    </tr>\n",
       "    <tr>\n",
       "      <th>4</th>\n",
       "      <td>U91836</td>\n",
       "      <td>N20678-0 N39317-0 N58114-0 N20495-0 N42977-0 N...</td>\n",
       "    </tr>\n",
       "    <tr>\n",
       "      <th>5</th>\n",
       "      <td>U73700</td>\n",
       "      <td>N50014-0 N23877-0 N35389-0 N49712-0 N16844-0 N...</td>\n",
       "    </tr>\n",
       "    <tr>\n",
       "      <th>6</th>\n",
       "      <td>U34670</td>\n",
       "      <td>N35729-0 N33632-0 N49685-1 N27581-0</td>\n",
       "    </tr>\n",
       "    <tr>\n",
       "      <th>7</th>\n",
       "      <td>U8125</td>\n",
       "      <td>N39985-0 N36050-0 N16096-0 N8400-1 N22407-0 N6...</td>\n",
       "    </tr>\n",
       "    <tr>\n",
       "      <th>8</th>\n",
       "      <td>U19739</td>\n",
       "      <td>N21119-1 N53696-0 N33619-1 N25722-0 N2869-0</td>\n",
       "    </tr>\n",
       "    <tr>\n",
       "      <th>9</th>\n",
       "      <td>U8355</td>\n",
       "      <td>N51346-0 N33848-0 N15132-0 N10688-0 N6342-0 N6...</td>\n",
       "    </tr>\n",
       "    <tr>\n",
       "      <th>10</th>\n",
       "      <td>U46596</td>\n",
       "      <td>N7821-0 N24898-0 N12029-0 N13579-0 N42977-0 N3...</td>\n",
       "    </tr>\n",
       "    <tr>\n",
       "      <th>11</th>\n",
       "      <td>U79199</td>\n",
       "      <td>N51048-1 N64094-0 N13907-0 N39010-0</td>\n",
       "    </tr>\n",
       "    <tr>\n",
       "      <th>12</th>\n",
       "      <td>U53231</td>\n",
       "      <td>N53585-1 N55689-0</td>\n",
       "    </tr>\n",
       "    <tr>\n",
       "      <th>13</th>\n",
       "      <td>U89744</td>\n",
       "      <td>N47572-0 N45523-0 N64560-0 N53245-0 N8509-0 N5...</td>\n",
       "    </tr>\n",
       "    <tr>\n",
       "      <th>14</th>\n",
       "      <td>U10045</td>\n",
       "      <td>N59673-0 N34876-0 N14592-0 N53470-0 N39010-0 N...</td>\n",
       "    </tr>\n",
       "    <tr>\n",
       "      <th>15</th>\n",
       "      <td>U92486</td>\n",
       "      <td>N25138-0 N61214-0 N62570-0 N36712-0 N15830-0 N...</td>\n",
       "    </tr>\n",
       "    <tr>\n",
       "      <th>16</th>\n",
       "      <td>U29155</td>\n",
       "      <td>N44698-0 N37204-0 N36612-0 N64174-0 N29212-0 N...</td>\n",
       "    </tr>\n",
       "    <tr>\n",
       "      <th>17</th>\n",
       "      <td>U63162</td>\n",
       "      <td>N42977-0 N29468-0 N14726-0 N18887-0 N45704-0 N...</td>\n",
       "    </tr>\n",
       "    <tr>\n",
       "      <th>18</th>\n",
       "      <td>U17841</td>\n",
       "      <td>N39587-0 N19542-1 N53214-0 N33848-0 N31763-0 N...</td>\n",
       "    </tr>\n",
       "    <tr>\n",
       "      <th>19</th>\n",
       "      <td>U8312</td>\n",
       "      <td>N1604-0 N1034-0 N64916-0 N61145-0 N14520-0 N56...</td>\n",
       "    </tr>\n",
       "    <tr>\n",
       "      <th>20</th>\n",
       "      <td>U11306</td>\n",
       "      <td>N20811-0 N44399-0 N38783-0 N50005-0 N36703-0 N...</td>\n",
       "    </tr>\n",
       "    <tr>\n",
       "      <th>21</th>\n",
       "      <td>U38627</td>\n",
       "      <td>N4642-0 N26025-0 N4913-0 N287-1 N39010-0 N5104...</td>\n",
       "    </tr>\n",
       "  </tbody>\n",
       "</table>\n",
       "</div>"
      ],
      "text/plain": [
       "      User                                        Impressions\n",
       "0   U13000                                    N7482-1 N6379-0\n",
       "1   U14000  N1145-1 N34930-1 N53526-0 N3574-0 N751-0 N2202...\n",
       "2   U15000  N4303-1 N58730-0 N64130-0 N38064-0 N49210-0 N92-0\n",
       "3   U13740                                  N55689-1 N35729-0\n",
       "4   U91836  N20678-0 N39317-0 N58114-0 N20495-0 N42977-0 N...\n",
       "5   U73700  N50014-0 N23877-0 N35389-0 N49712-0 N16844-0 N...\n",
       "6   U34670                N35729-0 N33632-0 N49685-1 N27581-0\n",
       "7    U8125  N39985-0 N36050-0 N16096-0 N8400-1 N22407-0 N6...\n",
       "8   U19739        N21119-1 N53696-0 N33619-1 N25722-0 N2869-0\n",
       "9    U8355  N51346-0 N33848-0 N15132-0 N10688-0 N6342-0 N6...\n",
       "10  U46596  N7821-0 N24898-0 N12029-0 N13579-0 N42977-0 N3...\n",
       "11  U79199                N51048-1 N64094-0 N13907-0 N39010-0\n",
       "12  U53231                                  N53585-1 N55689-0\n",
       "13  U89744  N47572-0 N45523-0 N64560-0 N53245-0 N8509-0 N5...\n",
       "14  U10045  N59673-0 N34876-0 N14592-0 N53470-0 N39010-0 N...\n",
       "15  U92486  N25138-0 N61214-0 N62570-0 N36712-0 N15830-0 N...\n",
       "16  U29155  N44698-0 N37204-0 N36612-0 N64174-0 N29212-0 N...\n",
       "17  U63162  N42977-0 N29468-0 N14726-0 N18887-0 N45704-0 N...\n",
       "18  U17841  N39587-0 N19542-1 N53214-0 N33848-0 N31763-0 N...\n",
       "19   U8312  N1604-0 N1034-0 N64916-0 N61145-0 N14520-0 N56...\n",
       "20  U11306  N20811-0 N44399-0 N38783-0 N50005-0 N36703-0 N...\n",
       "21  U38627  N4642-0 N26025-0 N4913-0 N287-1 N39010-0 N5104..."
      ]
     },
     "execution_count": 137,
     "metadata": {},
     "output_type": "execute_result"
    }
   ],
   "source": [
    "behaviors"
   ]
  },
  {
   "cell_type": "code",
   "execution_count": 141,
   "metadata": {},
   "outputs": [
    {
     "data": {
      "text/html": [
       "<div>\n",
       "<style scoped>\n",
       "    .dataframe tbody tr th:only-of-type {\n",
       "        vertical-align: middle;\n",
       "    }\n",
       "\n",
       "    .dataframe tbody tr th {\n",
       "        vertical-align: top;\n",
       "    }\n",
       "\n",
       "    .dataframe thead th {\n",
       "        text-align: right;\n",
       "    }\n",
       "</style>\n",
       "<table border=\"1\" class=\"dataframe\">\n",
       "  <thead>\n",
       "    <tr style=\"text-align: right;\">\n",
       "      <th></th>\n",
       "      <th>User</th>\n",
       "      <th>ID</th>\n",
       "      <th>Interactions_emb</th>\n",
       "    </tr>\n",
       "  </thead>\n",
       "  <tbody>\n",
       "    <tr>\n",
       "      <th>0</th>\n",
       "      <td>U10045</td>\n",
       "      <td>N52865 N22570 N37481 N55189 N16158 N63276 N150...</td>\n",
       "      <td>[-0.016643907874822617, -0.011585889384150505,...</td>\n",
       "    </tr>\n",
       "    <tr>\n",
       "      <th>1</th>\n",
       "      <td>U10585</td>\n",
       "      <td>N59873 N60894 N19760 N44018 N29499 N24002 N350...</td>\n",
       "      <td>[-0.008049571886658669, -0.016986606642603874,...</td>\n",
       "    </tr>\n",
       "    <tr>\n",
       "      <th>2</th>\n",
       "      <td>U11306</td>\n",
       "      <td>N18064 N38868 N60340 N31801 N39778 N54842 N110...</td>\n",
       "      <td>[-0.03472215309739113, -0.024884670972824097, ...</td>\n",
       "    </tr>\n",
       "    <tr>\n",
       "      <th>3</th>\n",
       "      <td>U12328</td>\n",
       "      <td>N1150 N13008 N12833 N1570 N48914 N15254 N27448...</td>\n",
       "      <td>[-0.015663105994462967, -0.009945932775735855,...</td>\n",
       "    </tr>\n",
       "    <tr>\n",
       "      <th>4</th>\n",
       "      <td>U12957</td>\n",
       "      <td>N41308 N12900 N45020 N22544 N61106 N44940 N520...</td>\n",
       "      <td>[0.0014848418068140745, -0.02082444727420807, ...</td>\n",
       "    </tr>\n",
       "  </tbody>\n",
       "</table>\n",
       "</div>"
      ],
      "text/plain": [
       "     User                                                 ID  \\\n",
       "0  U10045  N52865 N22570 N37481 N55189 N16158 N63276 N150...   \n",
       "1  U10585  N59873 N60894 N19760 N44018 N29499 N24002 N350...   \n",
       "2  U11306  N18064 N38868 N60340 N31801 N39778 N54842 N110...   \n",
       "3  U12328  N1150 N13008 N12833 N1570 N48914 N15254 N27448...   \n",
       "4  U12957  N41308 N12900 N45020 N22544 N61106 N44940 N520...   \n",
       "\n",
       "                                    Interactions_emb  \n",
       "0  [-0.016643907874822617, -0.011585889384150505,...  \n",
       "1  [-0.008049571886658669, -0.016986606642603874,...  \n",
       "2  [-0.03472215309739113, -0.024884670972824097, ...  \n",
       "3  [-0.015663105994462967, -0.009945932775735855,...  \n",
       "4  [0.0014848418068140745, -0.02082444727420807, ...  "
      ]
     },
     "execution_count": 141,
     "metadata": {},
     "output_type": "execute_result"
    }
   ],
   "source": [
    "users = pd.read_csv(\"data_embeddings/users_emb_test.csv\") #document with user interactions\n",
    "users.head()"
   ]
  },
  {
   "cell_type": "code",
   "execution_count": 142,
   "metadata": {},
   "outputs": [
    {
     "data": {
      "text/html": [
       "<div>\n",
       "<style scoped>\n",
       "    .dataframe tbody tr th:only-of-type {\n",
       "        vertical-align: middle;\n",
       "    }\n",
       "\n",
       "    .dataframe tbody tr th {\n",
       "        vertical-align: top;\n",
       "    }\n",
       "\n",
       "    .dataframe thead th {\n",
       "        text-align: right;\n",
       "    }\n",
       "</style>\n",
       "<table border=\"1\" class=\"dataframe\">\n",
       "  <thead>\n",
       "    <tr style=\"text-align: right;\">\n",
       "      <th></th>\n",
       "      <th>User</th>\n",
       "      <th>ID</th>\n",
       "      <th>Interactions_emb</th>\n",
       "    </tr>\n",
       "  </thead>\n",
       "  <tbody>\n",
       "    <tr>\n",
       "      <th>0</th>\n",
       "      <td>U10045</td>\n",
       "      <td>N52865 N22570 N37481 N55189 N16158 N63276 N150...</td>\n",
       "      <td>[-0.016643907874822617, -0.011585889384150505,...</td>\n",
       "    </tr>\n",
       "    <tr>\n",
       "      <th>1</th>\n",
       "      <td>U10585</td>\n",
       "      <td>N59873 N60894 N19760 N44018 N29499 N24002 N350...</td>\n",
       "      <td>[-0.008049571886658669, -0.016986606642603874,...</td>\n",
       "    </tr>\n",
       "    <tr>\n",
       "      <th>2</th>\n",
       "      <td>U11306</td>\n",
       "      <td>N18064 N38868 N60340 N31801 N39778 N54842 N110...</td>\n",
       "      <td>[-0.03472215309739113, -0.024884670972824097, ...</td>\n",
       "    </tr>\n",
       "    <tr>\n",
       "      <th>3</th>\n",
       "      <td>U12328</td>\n",
       "      <td>N1150 N13008 N12833 N1570 N48914 N15254 N27448...</td>\n",
       "      <td>[-0.015663105994462967, -0.009945932775735855,...</td>\n",
       "    </tr>\n",
       "    <tr>\n",
       "      <th>4</th>\n",
       "      <td>U12957</td>\n",
       "      <td>N41308 N12900 N45020 N22544 N61106 N44940 N520...</td>\n",
       "      <td>[0.0014848418068140745, -0.02082444727420807, ...</td>\n",
       "    </tr>\n",
       "    <tr>\n",
       "      <th>...</th>\n",
       "      <td>...</td>\n",
       "      <td>...</td>\n",
       "      <td>...</td>\n",
       "    </tr>\n",
       "    <tr>\n",
       "      <th>87</th>\n",
       "      <td>U92093</td>\n",
       "      <td>N27142 N41997 N18536 N58615 N7606 N16111 N8042...</td>\n",
       "      <td>[-0.00812975037842989, -0.01030223909765482, 0...</td>\n",
       "    </tr>\n",
       "    <tr>\n",
       "      <th>88</th>\n",
       "      <td>U92183</td>\n",
       "      <td>N61864 N49436 N56253 N5034 N19638 N37859 N4608...</td>\n",
       "      <td>[0.0004798177978955209, -0.033475104719400406,...</td>\n",
       "    </tr>\n",
       "    <tr>\n",
       "      <th>89</th>\n",
       "      <td>U92486</td>\n",
       "      <td>N45388 N14238 N28467 N24724 N56446 N770 N20933...</td>\n",
       "      <td>[-0.013589943759143353, -0.004382555838674307,...</td>\n",
       "    </tr>\n",
       "    <tr>\n",
       "      <th>90</th>\n",
       "      <td>U9306</td>\n",
       "      <td>N4099 N17953 N29177 N53636 N43295 N58936 N7714...</td>\n",
       "      <td>[-0.02283596619963646, -0.009937874041497707, ...</td>\n",
       "    </tr>\n",
       "    <tr>\n",
       "      <th>91</th>\n",
       "      <td>U9312</td>\n",
       "      <td>N19131 N61797 N40944 N20975 N24517 N47722 N462...</td>\n",
       "      <td>[0.00023337858146987855, -0.008534012362360954...</td>\n",
       "    </tr>\n",
       "  </tbody>\n",
       "</table>\n",
       "<p>92 rows × 3 columns</p>\n",
       "</div>"
      ],
      "text/plain": [
       "      User                                                 ID  \\\n",
       "0   U10045  N52865 N22570 N37481 N55189 N16158 N63276 N150...   \n",
       "1   U10585  N59873 N60894 N19760 N44018 N29499 N24002 N350...   \n",
       "2   U11306  N18064 N38868 N60340 N31801 N39778 N54842 N110...   \n",
       "3   U12328  N1150 N13008 N12833 N1570 N48914 N15254 N27448...   \n",
       "4   U12957  N41308 N12900 N45020 N22544 N61106 N44940 N520...   \n",
       "..     ...                                                ...   \n",
       "87  U92093  N27142 N41997 N18536 N58615 N7606 N16111 N8042...   \n",
       "88  U92183  N61864 N49436 N56253 N5034 N19638 N37859 N4608...   \n",
       "89  U92486  N45388 N14238 N28467 N24724 N56446 N770 N20933...   \n",
       "90   U9306  N4099 N17953 N29177 N53636 N43295 N58936 N7714...   \n",
       "91   U9312  N19131 N61797 N40944 N20975 N24517 N47722 N462...   \n",
       "\n",
       "                                     Interactions_emb  \n",
       "0   [-0.016643907874822617, -0.011585889384150505,...  \n",
       "1   [-0.008049571886658669, -0.016986606642603874,...  \n",
       "2   [-0.03472215309739113, -0.024884670972824097, ...  \n",
       "3   [-0.015663105994462967, -0.009945932775735855,...  \n",
       "4   [0.0014848418068140745, -0.02082444727420807, ...  \n",
       "..                                                ...  \n",
       "87  [-0.00812975037842989, -0.01030223909765482, 0...  \n",
       "88  [0.0004798177978955209, -0.033475104719400406,...  \n",
       "89  [-0.013589943759143353, -0.004382555838674307,...  \n",
       "90  [-0.02283596619963646, -0.009937874041497707, ...  \n",
       "91  [0.00023337858146987855, -0.008534012362360954...  \n",
       "\n",
       "[92 rows x 3 columns]"
      ]
     },
     "execution_count": 142,
     "metadata": {},
     "output_type": "execute_result"
    }
   ],
   "source": [
    "users"
   ]
  },
  {
   "cell_type": "code",
   "execution_count": 80,
   "metadata": {},
   "outputs": [
    {
     "data": {
      "text/html": [
       "<div>\n",
       "<style scoped>\n",
       "    .dataframe tbody tr th:only-of-type {\n",
       "        vertical-align: middle;\n",
       "    }\n",
       "\n",
       "    .dataframe tbody tr th {\n",
       "        vertical-align: top;\n",
       "    }\n",
       "\n",
       "    .dataframe thead th {\n",
       "        text-align: right;\n",
       "    }\n",
       "</style>\n",
       "<table border=\"1\" class=\"dataframe\">\n",
       "  <thead>\n",
       "    <tr style=\"text-align: right;\">\n",
       "      <th></th>\n",
       "      <th>ID</th>\n",
       "      <th>category</th>\n",
       "      <th>sub_category</th>\n",
       "      <th>content</th>\n",
       "      <th>collaborative_rec</th>\n",
       "      <th>content_rec</th>\n",
       "      <th>mean</th>\n",
       "      <th>two_one</th>\n",
       "    </tr>\n",
       "  </thead>\n",
       "  <tbody>\n",
       "    <tr>\n",
       "      <th>0</th>\n",
       "      <td>N45824</td>\n",
       "      <td>sports</td>\n",
       "      <td>football_nfl_videos</td>\n",
       "      <td>Ian Rapoport: MRI results are good news for Pa...</td>\n",
       "      <td>0.163646</td>\n",
       "      <td>0.223880</td>\n",
       "      <td>0.193763</td>\n",
       "      <td>0.203802</td>\n",
       "    </tr>\n",
       "    <tr>\n",
       "      <th>1</th>\n",
       "      <td>N37835</td>\n",
       "      <td>sports</td>\n",
       "      <td>football_nfl</td>\n",
       "      <td>Giants will not go back to Eli Manning after D...</td>\n",
       "      <td>0.163646</td>\n",
       "      <td>0.216472</td>\n",
       "      <td>0.190059</td>\n",
       "      <td>0.198863</td>\n",
       "    </tr>\n",
       "    <tr>\n",
       "      <th>2</th>\n",
       "      <td>N10270</td>\n",
       "      <td>autos</td>\n",
       "      <td>autossports</td>\n",
       "      <td>What Do Old-School Mustang Guys Think of the K...</td>\n",
       "      <td>0.163646</td>\n",
       "      <td>0.252712</td>\n",
       "      <td>0.208179</td>\n",
       "      <td>0.223024</td>\n",
       "    </tr>\n",
       "    <tr>\n",
       "      <th>3</th>\n",
       "      <td>N62055</td>\n",
       "      <td>news</td>\n",
       "      <td>newspolitics</td>\n",
       "      <td>Trump campaign threatens to sue CNN, citing Pr...</td>\n",
       "      <td>0.163646</td>\n",
       "      <td>0.299503</td>\n",
       "      <td>0.231574</td>\n",
       "      <td>0.254217</td>\n",
       "    </tr>\n",
       "    <tr>\n",
       "      <th>4</th>\n",
       "      <td>N5019</td>\n",
       "      <td>sports</td>\n",
       "      <td>football_nfl</td>\n",
       "      <td>Winners, losers from Cowboys' win over Giants ...</td>\n",
       "      <td>0.163646</td>\n",
       "      <td>0.195934</td>\n",
       "      <td>0.179790</td>\n",
       "      <td>0.185171</td>\n",
       "    </tr>\n",
       "  </tbody>\n",
       "</table>\n",
       "</div>"
      ],
      "text/plain": [
       "       ID category         sub_category  \\\n",
       "0  N45824   sports  football_nfl_videos   \n",
       "1  N37835   sports         football_nfl   \n",
       "2  N10270    autos          autossports   \n",
       "3  N62055     news         newspolitics   \n",
       "4   N5019   sports         football_nfl   \n",
       "\n",
       "                                             content  collaborative_rec  \\\n",
       "0  Ian Rapoport: MRI results are good news for Pa...           0.163646   \n",
       "1  Giants will not go back to Eli Manning after D...           0.163646   \n",
       "2  What Do Old-School Mustang Guys Think of the K...           0.163646   \n",
       "3  Trump campaign threatens to sue CNN, citing Pr...           0.163646   \n",
       "4  Winners, losers from Cowboys' win over Giants ...           0.163646   \n",
       "\n",
       "   content_rec      mean   two_one  \n",
       "0     0.223880  0.193763  0.203802  \n",
       "1     0.216472  0.190059  0.198863  \n",
       "2     0.252712  0.208179  0.223024  \n",
       "3     0.299503  0.231574  0.254217  \n",
       "4     0.195934  0.179790  0.185171  "
      ]
     },
     "execution_count": 80,
     "metadata": {},
     "output_type": "execute_result"
    }
   ],
   "source": [
    "news = pd.read_csv(\"hybrid_test.csv\") \n",
    "news.head()"
   ]
  },
  {
   "cell_type": "code",
   "execution_count": 126,
   "metadata": {},
   "outputs": [],
   "source": [
    "# Function to count the number of suffixes\n",
    "def count_suffixes(row, suffix):\n",
    "    impressions = row['Impressions'].split()\n",
    "    count = sum(1 for imp in impressions if imp.endswith(suffix))\n",
    "    return count"
   ]
  },
  {
   "cell_type": "code",
   "execution_count": 127,
   "metadata": {},
   "outputs": [
    {
     "name": "stdout",
     "output_type": "stream",
     "text": [
      "Total -1 count: 29\n",
      "Total -0 count: 1018\n"
     ]
    }
   ],
   "source": [
    "# Counting \"-1\" and \"-0\" suffixes\n",
    "behaviors['-1 Count'] = behaviors.apply(lambda row: count_suffixes(row, '-1'), axis=1)\n",
    "behaviors['-0 Count'] = behaviors.apply(lambda row: count_suffixes(row, '-0'), axis=1)\n",
    "\n",
    "# Total count across all users\n",
    "total_minus_1 = behaviors['-1 Count'].sum()\n",
    "total_minus_0 = behaviors['-0 Count'].sum()\n",
    "\n",
    "print(\"Total -1 count:\", total_minus_1)\n",
    "print(\"Total -0 count:\", total_minus_0)"
   ]
  },
  {
   "cell_type": "code",
   "execution_count": 128,
   "metadata": {},
   "outputs": [
    {
     "data": {
      "text/plain": [
       "0.02848722986247544"
      ]
     },
     "execution_count": 128,
     "metadata": {},
     "output_type": "execute_result"
    }
   ],
   "source": [
    "total_minus_1/total_minus_0"
   ]
  },
  {
   "cell_type": "code",
   "execution_count": null,
   "metadata": {},
   "outputs": [],
   "source": []
  },
  {
   "cell_type": "code",
   "execution_count": 129,
   "metadata": {},
   "outputs": [],
   "source": [
    "def create_user_df(input_df, user):\n",
    "    user_row = input_df[input_df['User'] == user]\n",
    "\n",
    "    if user_row.empty:\n",
    "        return None\n",
    "\n",
    "    impressions = user_row['Impressions'].values[0].split()\n",
    "\n",
    "    news_ids = []\n",
    "    true_values = []\n",
    "\n",
    "    for impression in impressions:\n",
    "        news_id, true_value = impression.split('-')\n",
    "        news_ids.append(news_id)\n",
    "        true_values.append(int(true_value))\n",
    "\n",
    "    user_df = pd.DataFrame({'ID': news_ids, 'true_value': true_values})\n",
    "    return user_df"
   ]
  },
  {
   "cell_type": "code",
   "execution_count": 130,
   "metadata": {},
   "outputs": [
    {
     "name": "stdout",
     "output_type": "stream",
     "text": [
      "['U10045', 'U10585', 'U11306', 'U12328', 'U12957', 'U13000', 'U13227', 'U13740', 'U1376', 'U15141', 'U15363', 'U16402', 'U1700', 'U17841', 'U19722', 'U19739', 'U22930', 'U23485', 'U24775', 'U2579', 'U27024', 'U27804', 'U29155', 'U2935', 'U34670', 'U36009', 'U3616', 'U37127', 'U37844', 'U38627', 'U38865', 'U39029', 'U39222', 'U39643', 'U39703', 'U39868', 'U40466', 'U40937', 'U44808', 'U45798', 'U46596', 'U47477', 'U47654', 'U47761', 'U47892', 'U49572', 'U50562', 'U50695', 'U5286', 'U52914', 'U53159', 'U53231', 'U53276', 'U54128', 'U5627', 'U60663', 'U61371', 'U61875', 'U63162', 'U63808', 'U66486', 'U67119', 'U67565', 'U69950', 'U700', 'U70879', 'U73329', 'U73700', 'U7471', 'U78244', 'U78765', 'U78954', 'U79199', 'U7932', 'U80709', 'U80798', 'U8125', 'U81585', 'U8312', 'U8355', 'U83994', 'U85394', 'U86017', 'U89744', 'U91389', 'U91678', 'U91836', 'U92093', 'U92183', 'U92486', 'U9306', 'U9312']\n"
     ]
    }
   ],
   "source": [
    "# Assuming you have a DataFrame named 'users' with a 'User' column\n",
    "users_list = users['User'].unique().tolist()\n",
    "\n",
    "# Print the resulting list\n",
    "print(users_list)"
   ]
  },
  {
   "cell_type": "code",
   "execution_count": 131,
   "metadata": {},
   "outputs": [
    {
     "name": "stdout",
     "output_type": "stream",
     "text": [
      "0.2194236720405587\n"
     ]
    }
   ],
   "source": [
    "four_perc = []\n",
    "for i in users_list:\n",
    "    # Example usage\n",
    "    user_df = create_user_df(behaviors, i)\n",
    "    news = pd.read_csv(\"hybrid_recommendations/\" + i + \"_hybr.csv\") \n",
    "    \n",
    "    # Sorting the 'content_rec' column in ascending order\n",
    "    sorted_content_rec = news['content_rec'].sort_values(ascending=True)\n",
    "\n",
    "    # Calculating the index for the value representing the maximum of 4% of the sorted data\n",
    "    index_4_percent = int(len(sorted_content_rec) * 0.04)  # 4% of the data\n",
    "\n",
    "    # Getting the value at the calculated index\n",
    "    value_at_4_percent = sorted_content_rec.iloc[index_4_percent]\n",
    "    four_perc.append(value_at_4_percent)\n",
    "    \n",
    "print (np.mean(four_perc))\n",
    "    \n",
    "    "
   ]
  },
  {
   "cell_type": "code",
   "execution_count": 135,
   "metadata": {},
   "outputs": [
    {
     "name": "stdout",
     "output_type": "stream",
     "text": [
      "        ID  true_value  content_rec\n",
      "0   N59673           0     0.262192\n",
      "1   N34876           0     0.255486\n",
      "2   N14592           0     0.220823\n",
      "3   N53470           0     0.253616\n",
      "4   N39010           0     0.248672\n",
      "5   N51048           0     0.240312\n",
      "6   N47061           0     0.257189\n",
      "7   N64094           0     0.236628\n",
      "8    N4913           0     0.272986\n",
      "9   N35233           0     0.232990\n",
      "10  N13907           0     0.266646\n",
      "11  N26795           0     0.251631\n",
      "12  N28213           0     0.299537\n",
      "13    N287           0     0.256859\n",
      "14  N21420           1     0.229333\n",
      "15  N22417           0     0.280089\n"
     ]
    },
    {
     "ename": "TypeError",
     "evalue": "'NoneType' object is not subscriptable",
     "output_type": "error",
     "traceback": [
      "\u001b[0;31m---------------------------------------------------------------------------\u001b[0m",
      "\u001b[0;31mTypeError\u001b[0m                                 Traceback (most recent call last)",
      "\u001b[1;32m/Users/krisbara/Documents/master's thesis/codes/GPT-Recommender-systems/evaluation_general.ipynb Cell 15\u001b[0m in \u001b[0;36m7\n\u001b[1;32m      <a href='vscode-notebook-cell:/Users/krisbara/Documents/master%27s%20thesis/codes/GPT-Recommender-systems/evaluation_general.ipynb#X61sZmlsZQ%3D%3D?line=3'>4</a>\u001b[0m news \u001b[39m=\u001b[39m pd\u001b[39m.\u001b[39mread_csv(\u001b[39m\"\u001b[39m\u001b[39mhybrid_recommendations/\u001b[39m\u001b[39m\"\u001b[39m \u001b[39m+\u001b[39m i \u001b[39m+\u001b[39m \u001b[39m\"\u001b[39m\u001b[39m_hybr.csv\u001b[39m\u001b[39m\"\u001b[39m) \n\u001b[1;32m      <a href='vscode-notebook-cell:/Users/krisbara/Documents/master%27s%20thesis/codes/GPT-Recommender-systems/evaluation_general.ipynb#X61sZmlsZQ%3D%3D?line=5'>6</a>\u001b[0m id_to_new_column \u001b[39m=\u001b[39m news\u001b[39m.\u001b[39mset_index(\u001b[39m'\u001b[39m\u001b[39mID\u001b[39m\u001b[39m'\u001b[39m)[\u001b[39m'\u001b[39m\u001b[39mcontent_rec\u001b[39m\u001b[39m'\u001b[39m]\u001b[39m.\u001b[39mto_dict()\n\u001b[0;32m----> <a href='vscode-notebook-cell:/Users/krisbara/Documents/master%27s%20thesis/codes/GPT-Recommender-systems/evaluation_general.ipynb#X61sZmlsZQ%3D%3D?line=6'>7</a>\u001b[0m user_df[\u001b[39m'\u001b[39m\u001b[39mcontent_rec\u001b[39m\u001b[39m'\u001b[39m] \u001b[39m=\u001b[39m user_df[\u001b[39m'\u001b[39;49m\u001b[39mID\u001b[39;49m\u001b[39m'\u001b[39;49m]\u001b[39m.\u001b[39mmap(id_to_new_column)\n\u001b[1;32m      <a href='vscode-notebook-cell:/Users/krisbara/Documents/master%27s%20thesis/codes/GPT-Recommender-systems/evaluation_general.ipynb#X61sZmlsZQ%3D%3D?line=8'>9</a>\u001b[0m \u001b[39mprint\u001b[39m(user_df)\n",
      "\u001b[0;31mTypeError\u001b[0m: 'NoneType' object is not subscriptable"
     ]
    }
   ],
   "source": [
    "for i in users_list:\n",
    "    # Example usage\n",
    "    user_df = create_user_df(behaviors, i)\n",
    "    news = pd.read_csv(\"hybrid_recommendations/\" + i + \"_hybr.csv\") \n",
    "    \n",
    "    id_to_new_column = news.set_index('ID')['content_rec'].to_dict()\n",
    "    user_df['content_rec'] = user_df['ID'].map(id_to_new_column)\n",
    "    \n",
    "    print(user_df)"
   ]
  },
  {
   "cell_type": "code",
   "execution_count": null,
   "metadata": {},
   "outputs": [],
   "source": []
  },
  {
   "cell_type": "code",
   "execution_count": null,
   "metadata": {},
   "outputs": [],
   "source": []
  },
  {
   "cell_type": "code",
   "execution_count": null,
   "metadata": {},
   "outputs": [],
   "source": []
  },
  {
   "cell_type": "code",
   "execution_count": null,
   "metadata": {},
   "outputs": [],
   "source": []
  },
  {
   "cell_type": "code",
   "execution_count": 108,
   "metadata": {},
   "outputs": [
    {
     "data": {
      "text/html": [
       "<div>\n",
       "<style scoped>\n",
       "    .dataframe tbody tr th:only-of-type {\n",
       "        vertical-align: middle;\n",
       "    }\n",
       "\n",
       "    .dataframe tbody tr th {\n",
       "        vertical-align: top;\n",
       "    }\n",
       "\n",
       "    .dataframe thead th {\n",
       "        text-align: right;\n",
       "    }\n",
       "</style>\n",
       "<table border=\"1\" class=\"dataframe\">\n",
       "  <thead>\n",
       "    <tr style=\"text-align: right;\">\n",
       "      <th></th>\n",
       "      <th>ID</th>\n",
       "      <th>category</th>\n",
       "      <th>sub_category</th>\n",
       "      <th>content</th>\n",
       "      <th>collaborative_rec</th>\n",
       "      <th>content_rec</th>\n",
       "      <th>mean</th>\n",
       "      <th>two_one</th>\n",
       "    </tr>\n",
       "  </thead>\n",
       "  <tbody>\n",
       "    <tr>\n",
       "      <th>0</th>\n",
       "      <td>N45824</td>\n",
       "      <td>sports</td>\n",
       "      <td>football_nfl_videos</td>\n",
       "      <td>Ian Rapoport: MRI results are good news for Pa...</td>\n",
       "      <td>0.163646</td>\n",
       "      <td>0.223880</td>\n",
       "      <td>0.193763</td>\n",
       "      <td>0.203802</td>\n",
       "    </tr>\n",
       "    <tr>\n",
       "      <th>1</th>\n",
       "      <td>N37835</td>\n",
       "      <td>sports</td>\n",
       "      <td>football_nfl</td>\n",
       "      <td>Giants will not go back to Eli Manning after D...</td>\n",
       "      <td>0.163646</td>\n",
       "      <td>0.216472</td>\n",
       "      <td>0.190059</td>\n",
       "      <td>0.198863</td>\n",
       "    </tr>\n",
       "    <tr>\n",
       "      <th>2</th>\n",
       "      <td>N10270</td>\n",
       "      <td>autos</td>\n",
       "      <td>autossports</td>\n",
       "      <td>What Do Old-School Mustang Guys Think of the K...</td>\n",
       "      <td>0.163646</td>\n",
       "      <td>0.252712</td>\n",
       "      <td>0.208179</td>\n",
       "      <td>0.223024</td>\n",
       "    </tr>\n",
       "    <tr>\n",
       "      <th>3</th>\n",
       "      <td>N62055</td>\n",
       "      <td>news</td>\n",
       "      <td>newspolitics</td>\n",
       "      <td>Trump campaign threatens to sue CNN, citing Pr...</td>\n",
       "      <td>0.163646</td>\n",
       "      <td>0.299503</td>\n",
       "      <td>0.231574</td>\n",
       "      <td>0.254217</td>\n",
       "    </tr>\n",
       "    <tr>\n",
       "      <th>4</th>\n",
       "      <td>N5019</td>\n",
       "      <td>sports</td>\n",
       "      <td>football_nfl</td>\n",
       "      <td>Winners, losers from Cowboys' win over Giants ...</td>\n",
       "      <td>0.163646</td>\n",
       "      <td>0.195934</td>\n",
       "      <td>0.179790</td>\n",
       "      <td>0.185171</td>\n",
       "    </tr>\n",
       "  </tbody>\n",
       "</table>\n",
       "</div>"
      ],
      "text/plain": [
       "       ID category         sub_category  \\\n",
       "0  N45824   sports  football_nfl_videos   \n",
       "1  N37835   sports         football_nfl   \n",
       "2  N10270    autos          autossports   \n",
       "3  N62055     news         newspolitics   \n",
       "4   N5019   sports         football_nfl   \n",
       "\n",
       "                                             content  collaborative_rec  \\\n",
       "0  Ian Rapoport: MRI results are good news for Pa...           0.163646   \n",
       "1  Giants will not go back to Eli Manning after D...           0.163646   \n",
       "2  What Do Old-School Mustang Guys Think of the K...           0.163646   \n",
       "3  Trump campaign threatens to sue CNN, citing Pr...           0.163646   \n",
       "4  Winners, losers from Cowboys' win over Giants ...           0.163646   \n",
       "\n",
       "   content_rec      mean   two_one  \n",
       "0     0.223880  0.193763  0.203802  \n",
       "1     0.216472  0.190059  0.198863  \n",
       "2     0.252712  0.208179  0.223024  \n",
       "3     0.299503  0.231574  0.254217  \n",
       "4     0.195934  0.179790  0.185171  "
      ]
     },
     "execution_count": 108,
     "metadata": {},
     "output_type": "execute_result"
    }
   ],
   "source": [
    "news = pd.read_csv(\"hybrid_test.csv\") \n",
    "news.head()"
   ]
  },
  {
   "cell_type": "code",
   "execution_count": 60,
   "metadata": {},
   "outputs": [
    {
     "data": {
      "text/html": [
       "<div>\n",
       "<style scoped>\n",
       "    .dataframe tbody tr th:only-of-type {\n",
       "        vertical-align: middle;\n",
       "    }\n",
       "\n",
       "    .dataframe tbody tr th {\n",
       "        vertical-align: top;\n",
       "    }\n",
       "\n",
       "    .dataframe thead th {\n",
       "        text-align: right;\n",
       "    }\n",
       "</style>\n",
       "<table border=\"1\" class=\"dataframe\">\n",
       "  <thead>\n",
       "    <tr style=\"text-align: right;\">\n",
       "      <th></th>\n",
       "      <th>User</th>\n",
       "      <th>Impressions</th>\n",
       "    </tr>\n",
       "  </thead>\n",
       "  <tbody>\n",
       "    <tr>\n",
       "      <th>0</th>\n",
       "      <td>U13000</td>\n",
       "      <td>N7482-1 N6379-0</td>\n",
       "    </tr>\n",
       "    <tr>\n",
       "      <th>1</th>\n",
       "      <td>U13740</td>\n",
       "      <td>N55689-1 N35729-0</td>\n",
       "    </tr>\n",
       "    <tr>\n",
       "      <th>2</th>\n",
       "      <td>U91836</td>\n",
       "      <td>N20678-0 N39317-0 N58114-0 N20495-0 N42977-0 N...</td>\n",
       "    </tr>\n",
       "    <tr>\n",
       "      <th>3</th>\n",
       "      <td>U73700</td>\n",
       "      <td>N50014-0 N23877-0 N35389-0 N49712-0 N16844-0 N...</td>\n",
       "    </tr>\n",
       "    <tr>\n",
       "      <th>4</th>\n",
       "      <td>U34670</td>\n",
       "      <td>N35729-0 N33632-0 N49685-1 N27581-0</td>\n",
       "    </tr>\n",
       "  </tbody>\n",
       "</table>\n",
       "</div>"
      ],
      "text/plain": [
       "     User                                        Impressions\n",
       "0  U13000                                    N7482-1 N6379-0\n",
       "1  U13740                                  N55689-1 N35729-0\n",
       "2  U91836  N20678-0 N39317-0 N58114-0 N20495-0 N42977-0 N...\n",
       "3  U73700  N50014-0 N23877-0 N35389-0 N49712-0 N16844-0 N...\n",
       "4  U34670                N35729-0 N33632-0 N49685-1 N27581-0"
      ]
     },
     "execution_count": 60,
     "metadata": {},
     "output_type": "execute_result"
    }
   ],
   "source": [
    "behaviors = pd.read_csv(\"MIND/behaviors_test.csv\") \n",
    "behaviors = behaviors.drop(['0', '2', '3'], axis=1)\n",
    "behaviors.columns =['User', 'Impressions']\n",
    "behaviors.head()"
   ]
  },
  {
   "cell_type": "code",
   "execution_count": 20,
   "metadata": {},
   "outputs": [
    {
     "name": "stdout",
     "output_type": "stream",
     "text": [
      "Mean of 'content_rec' column: 0.2556758361506847\n"
     ]
    }
   ],
   "source": [
    "# Calculating the mean of 'content_rec' column\n",
    "mean_content_rec = news['content_rec'].mean() \n",
    "\n",
    "print(\"Mean of 'content_rec' column:\", mean_content_rec)"
   ]
  },
  {
   "cell_type": "code",
   "execution_count": 47,
   "metadata": {},
   "outputs": [
    {
     "name": "stdout",
     "output_type": "stream",
     "text": [
      "Value at 4% of the sorted 'content_rec' data: 0.2474820252069627\n"
     ]
    }
   ],
   "source": [
    "# Sorting the 'content_rec' column in ascending order\n",
    "sorted_content_rec = news['content_rec'].sort_values(ascending=True)\n",
    "\n",
    "# Calculating the index for the value representing the maximum of 4% of the sorted data\n",
    "index_4_percent = int(len(sorted_content_rec) * 0.04)  # 4% of the data\n",
    "\n",
    "# Getting the value at the calculated index\n",
    "value_at_4_percent = sorted_content_rec.iloc[index_4_percent]\n",
    "\n",
    "print(\"Value at 4% of the sorted 'content_rec' data:\", value_at_4_percent)\n"
   ]
  },
  {
   "cell_type": "code",
   "execution_count": 22,
   "metadata": {},
   "outputs": [],
   "source": [
    "# Function to count the number of suffixes\n",
    "def count_suffixes(row, suffix):\n",
    "    impressions = row['Impressions'].split()\n",
    "    count = sum(1 for imp in impressions if imp.endswith(suffix))\n",
    "    return count"
   ]
  },
  {
   "cell_type": "code",
   "execution_count": 23,
   "metadata": {},
   "outputs": [
    {
     "name": "stdout",
     "output_type": "stream",
     "text": [
      "Total -1 count: 137\n",
      "Total -0 count: 3670\n"
     ]
    }
   ],
   "source": [
    "# Counting \"-1\" and \"-0\" suffixes\n",
    "behaviors['-1 Count'] = behaviors.apply(lambda row: count_suffixes(row, '-1'), axis=1)\n",
    "behaviors['-0 Count'] = behaviors.apply(lambda row: count_suffixes(row, '-0'), axis=1)\n",
    "\n",
    "# Total count across all users\n",
    "total_minus_1 = behaviors['-1 Count'].sum()\n",
    "total_minus_0 = behaviors['-0 Count'].sum()\n",
    "\n",
    "print(\"Total -1 count:\", total_minus_1)\n",
    "print(\"Total -0 count:\", total_minus_0)"
   ]
  },
  {
   "cell_type": "code",
   "execution_count": 24,
   "metadata": {},
   "outputs": [
    {
     "data": {
      "text/plain": [
       "0.03732970027247957"
      ]
     },
     "execution_count": 24,
     "metadata": {},
     "output_type": "execute_result"
    }
   ],
   "source": [
    "total_minus_1/total_minus_0"
   ]
  },
  {
   "cell_type": "code",
   "execution_count": 109,
   "metadata": {},
   "outputs": [],
   "source": [
    "def create_user_df(input_df, user):\n",
    "    user_row = input_df[input_df['User'] == user]\n",
    "\n",
    "    if user_row.empty:\n",
    "        return None\n",
    "\n",
    "    impressions = user_row['Impressions'].values[0].split()\n",
    "\n",
    "    news_ids = []\n",
    "    true_values = []\n",
    "\n",
    "    for impression in impressions:\n",
    "        news_id, true_value = impression.split('-')\n",
    "        news_ids.append(news_id)\n",
    "        true_values.append(int(true_value))\n",
    "\n",
    "    user_df = pd.DataFrame({'ID': news_ids, 'true_value': true_values})\n",
    "    return user_df"
   ]
  },
  {
   "cell_type": "code",
   "execution_count": 110,
   "metadata": {},
   "outputs": [
    {
     "name": "stdout",
     "output_type": "stream",
     "text": [
      "      ID  true_value\n",
      "0  N7482           1\n",
      "1  N6379           0\n"
     ]
    }
   ],
   "source": [
    "user_input = 'U13000'\n",
    "user_df = create_user_df(behaviors, user_input)\n",
    "print(user_df)\n"
   ]
  },
  {
   "cell_type": "code",
   "execution_count": 111,
   "metadata": {},
   "outputs": [
    {
     "name": "stdout",
     "output_type": "stream",
     "text": [
      "      ID  true_value  content_rec\n",
      "0  N7482           1     0.224403\n",
      "1  N6379           0     0.261430\n"
     ]
    }
   ],
   "source": [
    "# Create a dictionary mapping IDs to new column values from df2\n",
    "id_to_new_column = news.set_index('ID')['content_rec'].to_dict()\n",
    "\n",
    "# Add the new column to df1 based on the mapping\n",
    "user_df['content_rec'] = user_df['ID'].map(id_to_new_column)\n",
    "\n",
    "print(user_df)"
   ]
  },
  {
   "cell_type": "code",
   "execution_count": 112,
   "metadata": {},
   "outputs": [
    {
     "name": "stdout",
     "output_type": "stream",
     "text": [
      "      ID  true_value  content_rec  predicted_value\n",
      "0  N7482           1     0.224403                0\n",
      "1  N6379           0     0.261430                0\n"
     ]
    }
   ],
   "source": [
    "# Assuming df is your DataFrame\n",
    "user_df['predicted_value'] = user_df['content_rec'].apply(lambda x: 0 if x >= 0.04 else 1)\n",
    "\n",
    "# Display the modified DataFrame\n",
    "print(user_df)\n"
   ]
  },
  {
   "cell_type": "code",
   "execution_count": 29,
   "metadata": {},
   "outputs": [],
   "source": [
    "###precision###"
   ]
  },
  {
   "cell_type": "code",
   "execution_count": 113,
   "metadata": {},
   "outputs": [
    {
     "name": "stdout",
     "output_type": "stream",
     "text": [
      "Mean Precision: 0.0\n"
     ]
    },
    {
     "name": "stderr",
     "output_type": "stream",
     "text": [
      "/Library/Frameworks/Python.framework/Versions/3.10/lib/python3.10/site-packages/sklearn/metrics/_classification.py:1318: UndefinedMetricWarning: Precision is ill-defined and being set to 0.0 due to no predicted samples. Use `zero_division` parameter to control this behavior.\n",
      "  _warn_prf(average, modifier, msg_start, len(result))\n"
     ]
    }
   ],
   "source": [
    "import pandas as pd\n",
    "from sklearn.metrics import precision_score\n",
    "from sklearn.metrics import recall_score\n",
    "\n",
    "# Assuming df is your DataFrame\n",
    "true_values = user_df['true_value']\n",
    "predicted_values = user_df['predicted_value']\n",
    "\n",
    "# Calculate precision\n",
    "precision = precision_score(true_values, predicted_values, average='binary')\n",
    "recall =recall_score(true_values, predicted_values, average='macro')\n",
    "# Display the mean precision\n",
    "print(f\"Mean Precision: {precision}\")"
   ]
  },
  {
   "cell_type": "code",
   "execution_count": 114,
   "metadata": {},
   "outputs": [
    {
     "name": "stdout",
     "output_type": "stream",
     "text": [
      "Mean Recall: 0.5\n"
     ]
    }
   ],
   "source": [
    "print(f\"Mean Recall: {recall}\")"
   ]
  },
  {
   "cell_type": "code",
   "execution_count": 31,
   "metadata": {},
   "outputs": [],
   "source": [
    "###recall###"
   ]
  }
 ],
 "metadata": {
  "kernelspec": {
   "display_name": "Python 3",
   "language": "python",
   "name": "python3"
  },
  "language_info": {
   "codemirror_mode": {
    "name": "ipython",
    "version": 3
   },
   "file_extension": ".py",
   "mimetype": "text/x-python",
   "name": "python",
   "nbconvert_exporter": "python",
   "pygments_lexer": "ipython3",
   "version": "3.10.7"
  },
  "orig_nbformat": 4
 },
 "nbformat": 4,
 "nbformat_minor": 2
}
