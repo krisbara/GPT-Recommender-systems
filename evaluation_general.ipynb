{
 "cells": [
  {
   "attachments": {},
   "cell_type": "markdown",
   "metadata": {},
   "source": [
    "Precision and recall\n",
    "https://insidelearningmachines.com/precisionk_and_recallk/#:~:text=Precision%40k%20and%20Recall%40k%20are%20metrics%20used%20to%20evaluate,end%20user%20by%20the%20model."
   ]
  },
  {
   "cell_type": "code",
   "execution_count": 17,
   "metadata": {},
   "outputs": [],
   "source": [
    "# imports\n",
    "import pandas as pd\n",
    "import numpy as np\n",
    "from typing import List"
   ]
  },
  {
   "cell_type": "code",
   "execution_count": 18,
   "metadata": {},
   "outputs": [
    {
     "data": {
      "text/html": [
       "<div>\n",
       "<style scoped>\n",
       "    .dataframe tbody tr th:only-of-type {\n",
       "        vertical-align: middle;\n",
       "    }\n",
       "\n",
       "    .dataframe tbody tr th {\n",
       "        vertical-align: top;\n",
       "    }\n",
       "\n",
       "    .dataframe thead th {\n",
       "        text-align: right;\n",
       "    }\n",
       "</style>\n",
       "<table border=\"1\" class=\"dataframe\">\n",
       "  <thead>\n",
       "    <tr style=\"text-align: right;\">\n",
       "      <th></th>\n",
       "      <th>ID</th>\n",
       "      <th>category</th>\n",
       "      <th>sub_category</th>\n",
       "      <th>content</th>\n",
       "      <th>collaborative_rec</th>\n",
       "      <th>content_rec</th>\n",
       "      <th>mean</th>\n",
       "      <th>two_one</th>\n",
       "    </tr>\n",
       "  </thead>\n",
       "  <tbody>\n",
       "    <tr>\n",
       "      <th>0</th>\n",
       "      <td>N10414</td>\n",
       "      <td>movies</td>\n",
       "      <td>movienews</td>\n",
       "      <td>Robert Evans, 'Chinatown' Producer and Paramou...</td>\n",
       "      <td>0.246655</td>\n",
       "      <td>0.273961</td>\n",
       "      <td>0.260308</td>\n",
       "      <td>0.264859</td>\n",
       "    </tr>\n",
       "    <tr>\n",
       "      <th>1</th>\n",
       "      <td>N53526</td>\n",
       "      <td>health</td>\n",
       "      <td>voices</td>\n",
       "      <td>I Was An NBA Wife. Here's How It Affected My M...</td>\n",
       "      <td>0.256467</td>\n",
       "      <td>0.263150</td>\n",
       "      <td>0.259809</td>\n",
       "      <td>0.260922</td>\n",
       "    </tr>\n",
       "    <tr>\n",
       "      <th>2</th>\n",
       "      <td>N63302</td>\n",
       "      <td>lifestyle</td>\n",
       "      <td>lifestylebuzz</td>\n",
       "      <td>This Wedding Photo of a Canine Best Man Captur...</td>\n",
       "      <td>0.259734</td>\n",
       "      <td>0.281452</td>\n",
       "      <td>0.270593</td>\n",
       "      <td>0.274213</td>\n",
       "    </tr>\n",
       "    <tr>\n",
       "      <th>3</th>\n",
       "      <td>N55189</td>\n",
       "      <td>tv</td>\n",
       "      <td>tvnews</td>\n",
       "      <td>'Wheel Of Fortune' Guest Delivers Hilarious, O...</td>\n",
       "      <td>0.263554</td>\n",
       "      <td>0.271511</td>\n",
       "      <td>0.267533</td>\n",
       "      <td>0.268859</td>\n",
       "    </tr>\n",
       "    <tr>\n",
       "      <th>4</th>\n",
       "      <td>N45794</td>\n",
       "      <td>news</td>\n",
       "      <td>newscrime</td>\n",
       "      <td>Four flight attendants were arrested in Miami'...</td>\n",
       "      <td>0.266187</td>\n",
       "      <td>0.272487</td>\n",
       "      <td>0.269337</td>\n",
       "      <td>0.270387</td>\n",
       "    </tr>\n",
       "  </tbody>\n",
       "</table>\n",
       "</div>"
      ],
      "text/plain": [
       "       ID   category   sub_category  \\\n",
       "0  N10414     movies      movienews   \n",
       "1  N53526     health         voices   \n",
       "2  N63302  lifestyle  lifestylebuzz   \n",
       "3  N55189         tv         tvnews   \n",
       "4  N45794       news      newscrime   \n",
       "\n",
       "                                             content  collaborative_rec  \\\n",
       "0  Robert Evans, 'Chinatown' Producer and Paramou...           0.246655   \n",
       "1  I Was An NBA Wife. Here's How It Affected My M...           0.256467   \n",
       "2  This Wedding Photo of a Canine Best Man Captur...           0.259734   \n",
       "3  'Wheel Of Fortune' Guest Delivers Hilarious, O...           0.263554   \n",
       "4  Four flight attendants were arrested in Miami'...           0.266187   \n",
       "\n",
       "   content_rec      mean   two_one  \n",
       "0     0.273961  0.260308  0.264859  \n",
       "1     0.263150  0.259809  0.260922  \n",
       "2     0.281452  0.270593  0.274213  \n",
       "3     0.271511  0.267533  0.268859  \n",
       "4     0.272487  0.269337  0.270387  "
      ]
     },
     "execution_count": 18,
     "metadata": {},
     "output_type": "execute_result"
    }
   ],
   "source": [
    "news = pd.read_csv(\"hybrid_test.csv\") \n",
    "news.head()"
   ]
  },
  {
   "cell_type": "code",
   "execution_count": 19,
   "metadata": {},
   "outputs": [
    {
     "data": {
      "text/html": [
       "<div>\n",
       "<style scoped>\n",
       "    .dataframe tbody tr th:only-of-type {\n",
       "        vertical-align: middle;\n",
       "    }\n",
       "\n",
       "    .dataframe tbody tr th {\n",
       "        vertical-align: top;\n",
       "    }\n",
       "\n",
       "    .dataframe thead th {\n",
       "        text-align: right;\n",
       "    }\n",
       "</style>\n",
       "<table border=\"1\" class=\"dataframe\">\n",
       "  <thead>\n",
       "    <tr style=\"text-align: right;\">\n",
       "      <th></th>\n",
       "      <th>User</th>\n",
       "      <th>Impressions</th>\n",
       "    </tr>\n",
       "  </thead>\n",
       "  <tbody>\n",
       "    <tr>\n",
       "      <th>0</th>\n",
       "      <td>U13000</td>\n",
       "      <td>N7482-1 N6379-0</td>\n",
       "    </tr>\n",
       "    <tr>\n",
       "      <th>1</th>\n",
       "      <td>U13740</td>\n",
       "      <td>N55689-1 N35729-0</td>\n",
       "    </tr>\n",
       "    <tr>\n",
       "      <th>2</th>\n",
       "      <td>U91836</td>\n",
       "      <td>N20678-0 N39317-0 N58114-0 N20495-0 N42977-0 N...</td>\n",
       "    </tr>\n",
       "    <tr>\n",
       "      <th>3</th>\n",
       "      <td>U73700</td>\n",
       "      <td>N50014-0 N23877-0 N35389-0 N49712-0 N16844-0 N...</td>\n",
       "    </tr>\n",
       "    <tr>\n",
       "      <th>4</th>\n",
       "      <td>U34670</td>\n",
       "      <td>N35729-0 N33632-0 N49685-1 N27581-0</td>\n",
       "    </tr>\n",
       "  </tbody>\n",
       "</table>\n",
       "</div>"
      ],
      "text/plain": [
       "     User                                        Impressions\n",
       "0  U13000                                    N7482-1 N6379-0\n",
       "1  U13740                                  N55689-1 N35729-0\n",
       "2  U91836  N20678-0 N39317-0 N58114-0 N20495-0 N42977-0 N...\n",
       "3  U73700  N50014-0 N23877-0 N35389-0 N49712-0 N16844-0 N...\n",
       "4  U34670                N35729-0 N33632-0 N49685-1 N27581-0"
      ]
     },
     "execution_count": 19,
     "metadata": {},
     "output_type": "execute_result"
    }
   ],
   "source": [
    "behaviors = pd.read_csv(\"MIND/behaviors_test.csv\") \n",
    "behaviors = behaviors.drop(['0', '2', '3'], axis=1)\n",
    "behaviors.columns =['User', 'Impressions']\n",
    "behaviors.head()"
   ]
  },
  {
   "cell_type": "code",
   "execution_count": 20,
   "metadata": {},
   "outputs": [
    {
     "name": "stdout",
     "output_type": "stream",
     "text": [
      "Mean of 'content_rec' column: 0.2556758361506847\n"
     ]
    }
   ],
   "source": [
    "# Calculating the mean of 'content_rec' column\n",
    "mean_content_rec = news['content_rec'].mean() \n",
    "\n",
    "print(\"Mean of 'content_rec' column:\", mean_content_rec)"
   ]
  },
  {
   "cell_type": "code",
   "execution_count": 21,
   "metadata": {},
   "outputs": [
    {
     "name": "stdout",
     "output_type": "stream",
     "text": [
      "Value at 4% of the sorted 'content_rec' data: 0.190394657876728\n"
     ]
    }
   ],
   "source": [
    "# Sorting the 'content_rec' column in ascending order\n",
    "sorted_content_rec = news['content_rec'].sort_values(ascending=True)\n",
    "\n",
    "# Calculating the index for the value representing the maximum of 4% of the sorted data\n",
    "index_4_percent = int(len(sorted_content_rec) * 0.04)  # 4% of the data\n",
    "\n",
    "# Getting the value at the calculated index\n",
    "value_at_4_percent = sorted_content_rec.iloc[index_4_percent]\n",
    "\n",
    "print(\"Value at 4% of the sorted 'content_rec' data:\", value_at_4_percent)\n"
   ]
  },
  {
   "cell_type": "code",
   "execution_count": 22,
   "metadata": {},
   "outputs": [],
   "source": [
    "# Function to count the number of suffixes\n",
    "def count_suffixes(row, suffix):\n",
    "    impressions = row['Impressions'].split()\n",
    "    count = sum(1 for imp in impressions if imp.endswith(suffix))\n",
    "    return count"
   ]
  },
  {
   "cell_type": "code",
   "execution_count": 23,
   "metadata": {},
   "outputs": [
    {
     "name": "stdout",
     "output_type": "stream",
     "text": [
      "Total -1 count: 137\n",
      "Total -0 count: 3670\n"
     ]
    }
   ],
   "source": [
    "# Counting \"-1\" and \"-0\" suffixes\n",
    "behaviors['-1 Count'] = behaviors.apply(lambda row: count_suffixes(row, '-1'), axis=1)\n",
    "behaviors['-0 Count'] = behaviors.apply(lambda row: count_suffixes(row, '-0'), axis=1)\n",
    "\n",
    "# Total count across all users\n",
    "total_minus_1 = behaviors['-1 Count'].sum()\n",
    "total_minus_0 = behaviors['-0 Count'].sum()\n",
    "\n",
    "print(\"Total -1 count:\", total_minus_1)\n",
    "print(\"Total -0 count:\", total_minus_0)"
   ]
  },
  {
   "cell_type": "code",
   "execution_count": 24,
   "metadata": {},
   "outputs": [
    {
     "data": {
      "text/plain": [
       "0.03732970027247957"
      ]
     },
     "execution_count": 24,
     "metadata": {},
     "output_type": "execute_result"
    }
   ],
   "source": [
    "total_minus_1/total_minus_0"
   ]
  },
  {
   "cell_type": "code",
   "execution_count": 25,
   "metadata": {},
   "outputs": [],
   "source": [
    "def create_user_df(input_df, user):\n",
    "    user_row = input_df[input_df['User'] == user]\n",
    "\n",
    "    if user_row.empty:\n",
    "        return None\n",
    "\n",
    "    impressions = user_row['Impressions'].values[0].split()\n",
    "\n",
    "    news_ids = []\n",
    "    true_values = []\n",
    "\n",
    "    for impression in impressions:\n",
    "        news_id, true_value = impression.split('-')\n",
    "        news_ids.append(news_id)\n",
    "        true_values.append(int(true_value))\n",
    "\n",
    "    user_df = pd.DataFrame({'ID': news_ids, 'true_value': true_values})\n",
    "    return user_df"
   ]
  },
  {
   "cell_type": "code",
   "execution_count": 26,
   "metadata": {},
   "outputs": [
    {
     "name": "stdout",
     "output_type": "stream",
     "text": [
      "      ID  true_value\n",
      "0  N7482           1\n",
      "1  N6379           0\n"
     ]
    }
   ],
   "source": [
    "user_input = 'U13000'\n",
    "user_df = create_user_df(behaviors, user_input)\n",
    "print(user_df)\n"
   ]
  },
  {
   "cell_type": "code",
   "execution_count": 27,
   "metadata": {},
   "outputs": [
    {
     "name": "stdout",
     "output_type": "stream",
     "text": [
      "      ID  true_value  content_rec\n",
      "0  N7482           1     0.224888\n",
      "1  N6379           0     0.261376\n"
     ]
    }
   ],
   "source": [
    "# Create a dictionary mapping IDs to new column values from df2\n",
    "id_to_new_column = news.set_index('ID')['content_rec'].to_dict()\n",
    "\n",
    "# Add the new column to df1 based on the mapping\n",
    "user_df['content_rec'] = user_df['ID'].map(id_to_new_column)\n",
    "\n",
    "print(user_df)"
   ]
  },
  {
   "cell_type": "code",
   "execution_count": 28,
   "metadata": {},
   "outputs": [
    {
     "name": "stdout",
     "output_type": "stream",
     "text": [
      "      ID  true_value  content_rec  predicted_value\n",
      "0  N7482           1     0.224888                0\n",
      "1  N6379           0     0.261376                0\n"
     ]
    }
   ],
   "source": [
    "# Assuming df is your DataFrame\n",
    "user_df['predicted_value'] = user_df['content_rec'].apply(lambda x: 0 if x >= 0.04 else 1)\n",
    "\n",
    "# Display the modified DataFrame\n",
    "print(user_df)\n"
   ]
  },
  {
   "cell_type": "code",
   "execution_count": 29,
   "metadata": {},
   "outputs": [],
   "source": [
    "###precision###"
   ]
  },
  {
   "cell_type": "code",
   "execution_count": 30,
   "metadata": {},
   "outputs": [
    {
     "name": "stdout",
     "output_type": "stream",
     "text": [
      "Mean Precision: 0.0\n"
     ]
    },
    {
     "name": "stderr",
     "output_type": "stream",
     "text": [
      "/Library/Frameworks/Python.framework/Versions/3.10/lib/python3.10/site-packages/sklearn/metrics/_classification.py:1318: UndefinedMetricWarning: Precision is ill-defined and being set to 0.0 due to no predicted samples. Use `zero_division` parameter to control this behavior.\n",
      "  _warn_prf(average, modifier, msg_start, len(result))\n"
     ]
    }
   ],
   "source": [
    "import pandas as pd\n",
    "from sklearn.metrics import precision_score\n",
    "\n",
    "# Assuming df is your DataFrame\n",
    "true_values = user_df['true_value']\n",
    "predicted_values = user_df['predicted_value']\n",
    "\n",
    "# Calculate precision\n",
    "precision = precision_score(true_values, predicted_values, average='binary')\n",
    "\n",
    "# Display the mean precision\n",
    "print(f\"Mean Precision: {precision}\")\n"
   ]
  },
  {
   "cell_type": "code",
   "execution_count": 31,
   "metadata": {},
   "outputs": [],
   "source": [
    "###recall###"
   ]
  }
 ],
 "metadata": {
  "kernelspec": {
   "display_name": "Python 3",
   "language": "python",
   "name": "python3"
  },
  "language_info": {
   "codemirror_mode": {
    "name": "ipython",
    "version": 3
   },
   "file_extension": ".py",
   "mimetype": "text/x-python",
   "name": "python",
   "nbconvert_exporter": "python",
   "pygments_lexer": "ipython3",
   "version": "3.10.7"
  },
  "orig_nbformat": 4
 },
 "nbformat": 4,
 "nbformat_minor": 2
}
