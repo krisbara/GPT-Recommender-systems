{
 "cells": [
  {
   "attachments": {},
   "cell_type": "markdown",
   "metadata": {},
   "source": [
    "Precision and recall\n",
    "https://insidelearningmachines.com/precisionk_and_recallk/#:~:text=Precision%40k%20and%20Recall%40k%20are%20metrics%20used%20to%20evaluate,end%20user%20by%20the%20model."
   ]
  },
  {
   "cell_type": "code",
   "execution_count": 1,
   "metadata": {},
   "outputs": [],
   "source": [
    "# imports\n",
    "import pandas as pd\n",
    "import numpy as np\n",
    "from typing import List\n",
    "import os\n",
    "from sklearn.metrics import precision_score\n",
    "from sklearn.metrics import recall_score\n",
    "import warnings\n"
   ]
  },
  {
   "cell_type": "code",
   "execution_count": 2,
   "metadata": {},
   "outputs": [
    {
     "data": {
      "text/html": [
       "<div>\n",
       "<style scoped>\n",
       "    .dataframe tbody tr th:only-of-type {\n",
       "        vertical-align: middle;\n",
       "    }\n",
       "\n",
       "    .dataframe tbody tr th {\n",
       "        vertical-align: top;\n",
       "    }\n",
       "\n",
       "    .dataframe thead th {\n",
       "        text-align: right;\n",
       "    }\n",
       "</style>\n",
       "<table border=\"1\" class=\"dataframe\">\n",
       "  <thead>\n",
       "    <tr style=\"text-align: right;\">\n",
       "      <th></th>\n",
       "      <th>User</th>\n",
       "      <th>ID</th>\n",
       "      <th>Impressions</th>\n",
       "    </tr>\n",
       "  </thead>\n",
       "  <tbody>\n",
       "    <tr>\n",
       "      <th>0</th>\n",
       "      <td>U13740</td>\n",
       "      <td>N55189 N42782 N34694 N45794 N18445 N63302 N104...</td>\n",
       "      <td>N55689-1 N35729-0</td>\n",
       "    </tr>\n",
       "    <tr>\n",
       "      <th>1</th>\n",
       "      <td>U91836</td>\n",
       "      <td>N31739 N6072 N63045 N23979 N35656 N43353 N8129...</td>\n",
       "      <td>N20678-0 N39317-0 N58114-0 N20495-0 N42977-0 N...</td>\n",
       "    </tr>\n",
       "    <tr>\n",
       "      <th>2</th>\n",
       "      <td>U73700</td>\n",
       "      <td>N10732 N25792 N7563 N21087 N41087 N5445 N60384...</td>\n",
       "      <td>N50014-0 N23877-0 N35389-0 N49712-0 N16844-0 N...</td>\n",
       "    </tr>\n",
       "    <tr>\n",
       "      <th>3</th>\n",
       "      <td>U34670</td>\n",
       "      <td>N45729 N2203 N871 N53880 N41375 N43142 N33013 ...</td>\n",
       "      <td>N35729-0 N33632-0 N49685-1 N27581-0</td>\n",
       "    </tr>\n",
       "    <tr>\n",
       "      <th>4</th>\n",
       "      <td>U8125</td>\n",
       "      <td>N10078 N56514 N14904 N33740</td>\n",
       "      <td>N39985-0 N36050-0 N16096-0 N8400-1 N22407-0 N6...</td>\n",
       "    </tr>\n",
       "  </tbody>\n",
       "</table>\n",
       "</div>"
      ],
      "text/plain": [
       "     User                                                 ID  \\\n",
       "0  U13740  N55189 N42782 N34694 N45794 N18445 N63302 N104...   \n",
       "1  U91836  N31739 N6072 N63045 N23979 N35656 N43353 N8129...   \n",
       "2  U73700  N10732 N25792 N7563 N21087 N41087 N5445 N60384...   \n",
       "3  U34670  N45729 N2203 N871 N53880 N41375 N43142 N33013 ...   \n",
       "4   U8125                        N10078 N56514 N14904 N33740   \n",
       "\n",
       "                                         Impressions  \n",
       "0                                  N55689-1 N35729-0  \n",
       "1  N20678-0 N39317-0 N58114-0 N20495-0 N42977-0 N...  \n",
       "2  N50014-0 N23877-0 N35389-0 N49712-0 N16844-0 N...  \n",
       "3                N35729-0 N33632-0 N49685-1 N27581-0  \n",
       "4  N39985-0 N36050-0 N16096-0 N8400-1 N22407-0 N6...  "
      ]
     },
     "execution_count": 2,
     "metadata": {},
     "output_type": "execute_result"
    }
   ],
   "source": [
    "interactions = pd.read_csv(\"MIND/behaviors.tsv\",sep='\\t',  header=None)\n",
    "interactions.columns =['User', 'Time', 'ID', 'Impressions'] \n",
    "interactions = interactions.drop(['Time'], axis=1)\n",
    "interactions.head()"
   ]
  },
  {
   "cell_type": "code",
   "execution_count": 3,
   "metadata": {},
   "outputs": [
    {
     "data": {
      "text/html": [
       "<div>\n",
       "<style scoped>\n",
       "    .dataframe tbody tr th:only-of-type {\n",
       "        vertical-align: middle;\n",
       "    }\n",
       "\n",
       "    .dataframe tbody tr th {\n",
       "        vertical-align: top;\n",
       "    }\n",
       "\n",
       "    .dataframe thead th {\n",
       "        text-align: right;\n",
       "    }\n",
       "</style>\n",
       "<table border=\"1\" class=\"dataframe\">\n",
       "  <thead>\n",
       "    <tr style=\"text-align: right;\">\n",
       "      <th></th>\n",
       "      <th>User</th>\n",
       "      <th>ID</th>\n",
       "      <th>Interactions_emb</th>\n",
       "    </tr>\n",
       "  </thead>\n",
       "  <tbody>\n",
       "    <tr>\n",
       "      <th>0</th>\n",
       "      <td>U244</td>\n",
       "      <td>N17157 N38621 N35022 N50578 N264 N9120 N23907 ...</td>\n",
       "      <td>[-0.005149974951877837, -0.013250857458654631,...</td>\n",
       "    </tr>\n",
       "    <tr>\n",
       "      <th>1</th>\n",
       "      <td>U68369</td>\n",
       "      <td>N19381 N54536</td>\n",
       "      <td>[0.0025621717686590273, 0.004183989018201828, ...</td>\n",
       "    </tr>\n",
       "    <tr>\n",
       "      <th>2</th>\n",
       "      <td>U50236</td>\n",
       "      <td>N4020 N44292 N50292 N40772 N57737 N33969 N4054...</td>\n",
       "      <td>[-0.010138329240492436, -0.01179651383115145, ...</td>\n",
       "    </tr>\n",
       "    <tr>\n",
       "      <th>3</th>\n",
       "      <td>U77060</td>\n",
       "      <td>N23105 N41375</td>\n",
       "      <td>[-0.005568941123783588, -0.025914330035448074,...</td>\n",
       "    </tr>\n",
       "    <tr>\n",
       "      <th>4</th>\n",
       "      <td>U5596</td>\n",
       "      <td>N459 N56253 N62931 N55846 N29849 N45729 N62834...</td>\n",
       "      <td>[-0.012533644353970886, -0.011675744312297967,...</td>\n",
       "    </tr>\n",
       "  </tbody>\n",
       "</table>\n",
       "</div>"
      ],
      "text/plain": [
       "     User                                                 ID  \\\n",
       "0    U244  N17157 N38621 N35022 N50578 N264 N9120 N23907 ...   \n",
       "1  U68369                                      N19381 N54536   \n",
       "2  U50236  N4020 N44292 N50292 N40772 N57737 N33969 N4054...   \n",
       "3  U77060                                      N23105 N41375   \n",
       "4   U5596  N459 N56253 N62931 N55846 N29849 N45729 N62834...   \n",
       "\n",
       "                                    Interactions_emb  \n",
       "0  [-0.005149974951877837, -0.013250857458654631,...  \n",
       "1  [0.0025621717686590273, 0.004183989018201828, ...  \n",
       "2  [-0.010138329240492436, -0.01179651383115145, ...  \n",
       "3  [-0.005568941123783588, -0.025914330035448074,...  \n",
       "4  [-0.012533644353970886, -0.011675744312297967,...  "
      ]
     },
     "execution_count": 3,
     "metadata": {},
     "output_type": "execute_result"
    }
   ],
   "source": [
    "#users = interactions_emb\n",
    "interactions_emb = pd.read_csv(\"embeddings/users_filtered_final.csv\") #document with user interactions\n",
    "interactions_emb.head()"
   ]
  },
  {
   "cell_type": "code",
   "execution_count": 4,
   "metadata": {},
   "outputs": [
    {
     "data": {
      "text/html": [
       "<div>\n",
       "<style scoped>\n",
       "    .dataframe tbody tr th:only-of-type {\n",
       "        vertical-align: middle;\n",
       "    }\n",
       "\n",
       "    .dataframe tbody tr th {\n",
       "        vertical-align: top;\n",
       "    }\n",
       "\n",
       "    .dataframe thead th {\n",
       "        text-align: right;\n",
       "    }\n",
       "</style>\n",
       "<table border=\"1\" class=\"dataframe\">\n",
       "  <thead>\n",
       "    <tr style=\"text-align: right;\">\n",
       "      <th></th>\n",
       "      <th>ID</th>\n",
       "      <th>Category</th>\n",
       "      <th>SubCategory</th>\n",
       "      <th>Content</th>\n",
       "      <th>Content_emb</th>\n",
       "    </tr>\n",
       "  </thead>\n",
       "  <tbody>\n",
       "    <tr>\n",
       "      <th>0</th>\n",
       "      <td>N55528</td>\n",
       "      <td>lifestyle</td>\n",
       "      <td>lifestyleroyals</td>\n",
       "      <td>The Brands Queen Elizabeth, Prince Charles, an...</td>\n",
       "      <td>[0.005885085556656122, -0.007782096974551678, ...</td>\n",
       "    </tr>\n",
       "    <tr>\n",
       "      <th>1</th>\n",
       "      <td>N19639</td>\n",
       "      <td>health</td>\n",
       "      <td>weightloss</td>\n",
       "      <td>50 Worst Habits For Belly Fat These seemingly ...</td>\n",
       "      <td>[-0.004876355174928904, -0.007969613187015057,...</td>\n",
       "    </tr>\n",
       "    <tr>\n",
       "      <th>2</th>\n",
       "      <td>N61837</td>\n",
       "      <td>news</td>\n",
       "      <td>newsworld</td>\n",
       "      <td>The Cost of Trump's Aid Freeze in the Trenches...</td>\n",
       "      <td>[-0.02760046347975731, -0.013719998300075531, ...</td>\n",
       "    </tr>\n",
       "    <tr>\n",
       "      <th>3</th>\n",
       "      <td>N53526</td>\n",
       "      <td>health</td>\n",
       "      <td>voices</td>\n",
       "      <td>I Was An NBA Wife. Here's How It Affected My M...</td>\n",
       "      <td>[-0.0297758337110281, -0.014837449416518211, 0...</td>\n",
       "    </tr>\n",
       "    <tr>\n",
       "      <th>4</th>\n",
       "      <td>N38324</td>\n",
       "      <td>health</td>\n",
       "      <td>medical</td>\n",
       "      <td>How to Get Rid of Skin Tags, According to a De...</td>\n",
       "      <td>[0.005073545966297388, 0.004160495940595865, 0...</td>\n",
       "    </tr>\n",
       "  </tbody>\n",
       "</table>\n",
       "</div>"
      ],
      "text/plain": [
       "       ID   Category      SubCategory  \\\n",
       "0  N55528  lifestyle  lifestyleroyals   \n",
       "1  N19639     health       weightloss   \n",
       "2  N61837       news        newsworld   \n",
       "3  N53526     health           voices   \n",
       "4  N38324     health          medical   \n",
       "\n",
       "                                             Content  \\\n",
       "0  The Brands Queen Elizabeth, Prince Charles, an...   \n",
       "1  50 Worst Habits For Belly Fat These seemingly ...   \n",
       "2  The Cost of Trump's Aid Freeze in the Trenches...   \n",
       "3  I Was An NBA Wife. Here's How It Affected My M...   \n",
       "4  How to Get Rid of Skin Tags, According to a De...   \n",
       "\n",
       "                                         Content_emb  \n",
       "0  [0.005885085556656122, -0.007782096974551678, ...  \n",
       "1  [-0.004876355174928904, -0.007969613187015057,...  \n",
       "2  [-0.02760046347975731, -0.013719998300075531, ...  \n",
       "3  [-0.0297758337110281, -0.014837449416518211, 0...  \n",
       "4  [0.005073545966297388, 0.004160495940595865, 0...  "
      ]
     },
     "execution_count": 4,
     "metadata": {},
     "output_type": "execute_result"
    }
   ],
   "source": [
    "#load the data with news articles\n",
    "news = pd.read_csv(\"embeddings/news_emb_final.csv\") #document with news content\n",
    "news.head()"
   ]
  },
  {
   "attachments": {},
   "cell_type": "markdown",
   "metadata": {},
   "source": [
    "Calculate the proportion of -1 and 0 in 'Impressions' "
   ]
  },
  {
   "cell_type": "code",
   "execution_count": 15,
   "metadata": {},
   "outputs": [],
   "source": [
    "# Function to count the number of suffixes\n",
    "def count_suffixes(row, suffix):\n",
    "    impressions = row['Impressions'].split()\n",
    "    count = sum(1 for imp in impressions if imp.endswith(suffix))\n",
    "    return count"
   ]
  },
  {
   "cell_type": "code",
   "execution_count": 16,
   "metadata": {},
   "outputs": [
    {
     "name": "stdout",
     "output_type": "stream",
     "text": [
      "Total -1 count: 236344\n",
      "Total -0 count: 5607100\n"
     ]
    }
   ],
   "source": [
    "# Counting \"-1\" and \"-0\" suffixes\n",
    "interactions['-1 Count'] = interactions.apply(lambda row: count_suffixes(row, '-1'), axis=1)\n",
    "interactions['-0 Count'] = interactions.apply(lambda row: count_suffixes(row, '-0'), axis=1)\n",
    "\n",
    "# Total count across all users\n",
    "total_minus_1 = interactions['-1 Count'].sum()\n",
    "total_minus_0 = interactions['-0 Count'].sum()\n",
    "\n",
    "print(\"Total -1 count:\", total_minus_1)\n",
    "print(\"Total -0 count:\", total_minus_0)"
   ]
  },
  {
   "cell_type": "code",
   "execution_count": 17,
   "metadata": {},
   "outputs": [
    {
     "data": {
      "text/plain": [
       "0.04215084446505324"
      ]
     },
     "execution_count": 17,
     "metadata": {},
     "output_type": "execute_result"
    }
   ],
   "source": [
    "total_minus_1/total_minus_0"
   ]
  },
  {
   "attachments": {},
   "cell_type": "markdown",
   "metadata": {},
   "source": [
    "Calculate precision and recall"
   ]
  },
  {
   "cell_type": "code",
   "execution_count": 7,
   "metadata": {},
   "outputs": [],
   "source": [
    "def create_user_df(input_df, user):\n",
    "    user_row = input_df[input_df['User'] == user]\n",
    "\n",
    "    if user_row.empty:\n",
    "        return None\n",
    "\n",
    "    impressions = user_row['Impressions'].values[0].split()\n",
    "\n",
    "    news_ids = []\n",
    "    true_values = []\n",
    "\n",
    "    for impression in impressions:\n",
    "        news_id, true_value = impression.split('-')\n",
    "        news_ids.append(news_id)\n",
    "        true_values.append(int(true_value))\n",
    "\n",
    "    user_df = pd.DataFrame({'ID': news_ids, 'true_value': true_values})\n",
    "    return user_df"
   ]
  },
  {
   "cell_type": "code",
   "execution_count": 8,
   "metadata": {},
   "outputs": [],
   "source": [
    "def list_ids_in_folder(folder_path):\n",
    "    ids = set()\n",
    "    \n",
    "    for filename in os.listdir(folder_path):\n",
    "        if filename.endswith(\".csv\"):\n",
    "            # Extracting the ID from the filename\n",
    "            file_id = filename.split(\"_\")[0][1:]\n",
    "            ids.add(file_id)\n",
    "    \n",
    "    return list(ids)"
   ]
  },
  {
   "cell_type": "code",
   "execution_count": 9,
   "metadata": {},
   "outputs": [
    {
     "data": {
      "text/plain": [
       "49053"
      ]
     },
     "execution_count": 9,
     "metadata": {},
     "output_type": "execute_result"
    }
   ],
   "source": [
    "folder_path = 'hybrid_recommendations'\n",
    "users_list = list_ids_in_folder(folder_path)\n",
    "users_list = ['U' + num for num in users_list]\n",
    "len(users_list)"
   ]
  },
  {
   "cell_type": "code",
   "execution_count": 34,
   "metadata": {},
   "outputs": [],
   "source": [
    "recommendations_hybrid = pd.read_csv(\"recommendations_20/hybrid_rec_20.csv\")"
   ]
  },
  {
   "cell_type": "code",
   "execution_count": 36,
   "metadata": {},
   "outputs": [],
   "source": [
    "users_list = recommendations_hybrid['User_ID'].unique().tolist()"
   ]
  },
  {
   "cell_type": "code",
   "execution_count": 39,
   "metadata": {},
   "outputs": [],
   "source": [
    "#recommder_type = [content, collab, hybrid]\n",
    "def precision_and_recall (list_name, recommender_type):\n",
    "\n",
    "    \n",
    "    all_precision = []\n",
    "    all_recall = []\n",
    "    \n",
    "    user_df = list_name\n",
    "    \n",
    "    for i in users_list[:10]:\n",
    "        if recommender_type == 'content':\n",
    "            column = 'Distance'\n",
    "            path = \"content_recommendations/\" + i + \"_content.csv\"\n",
    "        if recommender_type == 'collab':\n",
    "            column = 'article_distance'\n",
    "            path = \"collaborative_recommendations/\" + i + \"_collab.csv\"\n",
    "        if recommender_type == 'hybrid':\n",
    "            column = 'hybrid'\n",
    "            path = \"hybrid_recommendations/\" + i + \"_hybrid.csv\"\n",
    "        \n",
    "        user_df = create_user_df(interactions, i)\n",
    "        news = pd.read_csv(path) \n",
    "        #new sorting for hybrid\n",
    "        news = news.sort_values(by='hybrid')\n",
    "        \n",
    "        #print (news)\n",
    "        \n",
    "        id_to_new_column = news.set_index('ID')[column].to_dict()\n",
    "        user_df[column] = user_df['ID'].map(id_to_new_column)\n",
    "        \n",
    "        three_percent = np.percentile(news[column], 4)\n",
    "        \n",
    "        user_df['predicted_value'] = user_df[column].apply(lambda x: 0 if x >= three_percent else 1)\n",
    "        \n",
    "        # Assuming df is your DataFrame\n",
    "        true_values = user_df['true_value']\n",
    "        predicted_values = user_df['predicted_value']\n",
    "\n",
    "        # Calculate precision\n",
    "        precision = precision_score(true_values, predicted_values, average='macro') #'weighted' or 'macro'\n",
    "        recall =recall_score(true_values, predicted_values, average='macro') #'weighted' or 'macro'\n",
    "        \n",
    "        all_precision.append(precision)\n",
    "        all_recall.append(recall)\n",
    "        #print(user_df)\n",
    "    print(np.mean(all_precision))\n",
    "    print(np.mean(all_recall))"
   ]
  },
  {
   "cell_type": "code",
   "execution_count": 11,
   "metadata": {},
   "outputs": [],
   "source": [
    "warnings.filterwarnings(\"ignore\")"
   ]
  },
  {
   "cell_type": "code",
   "execution_count": 19,
   "metadata": {},
   "outputs": [
    {
     "name": "stdout",
     "output_type": "stream",
     "text": [
      "           ID    hybrid\n",
      "221    N36903  0.088961\n",
      "999    N17040  0.090797\n",
      "3427   N56248  0.091204\n",
      "3619   N61837  0.091298\n",
      "4537   N28856  0.092475\n",
      "...       ...       ...\n",
      "50044   N2544  0.982586\n",
      "49129  N10305  0.994560\n",
      "49736   N9846  0.995951\n",
      "39040   N2242  0.999277\n",
      "48975  N33653  1.018836\n",
      "\n",
      "[51277 rows x 2 columns]\n",
      "           ID    hybrid\n",
      "5480   N28419  0.080995\n",
      "5506   N11291  0.083885\n",
      "8636   N56586  0.085757\n",
      "2706   N40272  0.086323\n",
      "1287     N997  0.086766\n",
      "...       ...       ...\n",
      "41015   N3477  0.987285\n",
      "49192  N10305  0.999215\n",
      "39032   N2242  0.999810\n",
      "49774   N9846  1.000369\n",
      "49040  N33653  1.013458\n",
      "\n",
      "[51276 rows x 2 columns]\n",
      "           ID    hybrid\n",
      "2362   N53296  0.067126\n",
      "879    N34470  0.069150\n",
      "3294   N46064  0.070352\n",
      "2607    N1304  0.071439\n",
      "356    N16212  0.071722\n",
      "...       ...       ...\n",
      "49905   N2544  0.985885\n",
      "49742   N9846  0.998288\n",
      "38907   N2242  0.998700\n",
      "49164  N10305  1.000003\n",
      "49401  N33653  1.014500\n",
      "\n",
      "[51255 rows x 2 columns]\n",
      "           ID    hybrid\n",
      "6306   N55805  0.069053\n",
      "776    N27503  0.074824\n",
      "5836    N3280  0.075030\n",
      "2648   N31422  0.075467\n",
      "1305   N51676  0.076426\n",
      "...       ...       ...\n",
      "41020   N3477  0.987386\n",
      "49091  N10305  0.996976\n",
      "49695   N9846  1.000136\n",
      "39034   N2242  1.002722\n",
      "49045  N33653  1.013660\n",
      "\n",
      "[51271 rows x 2 columns]\n",
      "           ID    hybrid\n",
      "3566   N17955  0.072569\n",
      "32     N55710  0.074693\n",
      "1073   N20115  0.077676\n",
      "297    N64668  0.078547\n",
      "78       N966  0.079257\n",
      "...       ...       ...\n",
      "40710   N3477  0.989757\n",
      "49032  N10305  0.994931\n",
      "38880   N2242  1.002065\n",
      "49631   N9846  1.002724\n",
      "49435  N33653  1.014056\n",
      "\n",
      "[51271 rows x 2 columns]\n",
      "           ID    hybrid\n",
      "3078   N50535  0.064055\n",
      "2252   N31422  0.064966\n",
      "696    N29333  0.065022\n",
      "3123    N1304  0.065134\n",
      "2221   N40272  0.066085\n",
      "...       ...       ...\n",
      "40871   N3477  0.987420\n",
      "49080  N10305  0.996960\n",
      "38891   N2242  0.998027\n",
      "49603   N9846  1.001490\n",
      "48890  N33653  1.017222\n",
      "\n",
      "[51139 rows x 2 columns]\n",
      "           ID    hybrid\n",
      "482     N1304  0.072788\n",
      "4033   N62519  0.074656\n",
      "6554    N1825  0.074838\n",
      "110    N51436  0.075475\n",
      "3189   N46844  0.075862\n",
      "...       ...       ...\n",
      "49831   N2544  0.986936\n",
      "39030   N2242  0.996672\n",
      "49219  N10305  0.997463\n",
      "49753   N9846  1.005278\n",
      "49028  N33653  1.015716\n",
      "\n",
      "[51274 rows x 2 columns]\n",
      "           ID    hybrid\n",
      "997    N49624  0.072154\n",
      "2864   N50535  0.072172\n",
      "384    N36903  0.073393\n",
      "45     N40864  0.073815\n",
      "47     N30423  0.074293\n",
      "...       ...       ...\n",
      "40938   N3477  0.989827\n",
      "49152  N10305  0.997010\n",
      "39007   N2242  1.001838\n",
      "49750   N9846  1.002280\n",
      "49402  N33653  1.014413\n",
      "\n",
      "[51265 rows x 2 columns]\n",
      "           ID    hybrid\n",
      "649    N27927  0.076772\n",
      "45     N34470  0.078645\n",
      "676    N25205  0.079406\n",
      "566    N53296  0.079916\n",
      "631    N29911  0.080189\n",
      "...       ...       ...\n",
      "50397  N51996  0.984891\n",
      "49647   N9846  0.996908\n",
      "48942  N10305  0.999239\n",
      "38897   N2242  0.999570\n",
      "49491  N33653  1.016043\n",
      "\n",
      "[51277 rows x 2 columns]\n",
      "           ID    hybrid\n",
      "204    N31422  0.073208\n",
      "737    N15914  0.074273\n",
      "6952   N31565  0.074638\n",
      "7862    N3280  0.074658\n",
      "4      N16057  0.075043\n",
      "...       ...       ...\n",
      "41011   N3477  0.989092\n",
      "49087  N10305  0.997826\n",
      "39027   N2242  1.002437\n",
      "49688   N9846  1.003759\n",
      "49079  N33653  1.015535\n",
      "\n",
      "[51273 rows x 2 columns]\n",
      "0.4463454433497537\n",
      "0.5975\n"
     ]
    }
   ],
   "source": [
    "precision_and_recall(users_list, \"hybrid\")"
   ]
  },
  {
   "cell_type": "code",
   "execution_count": 40,
   "metadata": {},
   "outputs": [],
   "source": [
    "from tqdm import tqdm  # Import tqdm for progress bar\n",
    "\n",
    "def precision_and_recall(list_name, recommender_type):\n",
    "    all_precision = []\n",
    "    all_recall = []\n",
    "    user_df = list_name\n",
    "    \n",
    "    for i in tqdm(users_list, desc='Processing users'):  # Progress bar added\n",
    "        if recommender_type == 'content':\n",
    "            column = 'Distance'\n",
    "            path = \"content_recommendations/\" + i + \"_content.csv\"\n",
    "        if recommender_type == 'collab':\n",
    "            column = 'article_distance'\n",
    "            path = \"collaborative_recommendations/\" + i + \"_collab.csv\"\n",
    "        if recommender_type == 'hybrid':\n",
    "            column = 'hybrid'\n",
    "            path = \"hybrid_recommendations/\" + i + \"_hybrid.csv\"\n",
    "        \n",
    "        user_df = create_user_df(interactions, i)\n",
    "        news = pd.read_csv(path) \n",
    "        news = news.sort_values(by='hybrid')\n",
    "        \n",
    "        id_to_new_column = news.set_index('ID')[column].to_dict()\n",
    "        user_df[column] = user_df['ID'].map(id_to_new_column)\n",
    "        \n",
    "        three_percent = np.percentile(news[column], 4)\n",
    "        \n",
    "        user_df['predicted_value'] = user_df[column].apply(lambda x: 0 if x >= three_percent else 1)\n",
    "        \n",
    "        true_values = user_df['true_value']\n",
    "        predicted_values = user_df['predicted_value']\n",
    "\n",
    "        precision = precision_score(true_values, predicted_values, average='macro')\n",
    "        recall = recall_score(true_values, predicted_values, average='macro')\n",
    "        \n",
    "        all_precision.append(precision)\n",
    "        all_recall.append(recall)\n",
    "    \n",
    "    print(\"Average Precision:\", np.mean(all_precision))\n",
    "    print(\"Average Recall:\", np.mean(all_recall))\n"
   ]
  },
  {
   "cell_type": "code",
   "execution_count": 41,
   "metadata": {},
   "outputs": [
    {
     "name": "stderr",
     "output_type": "stream",
     "text": [
      "Processing users:   0%|          | 0/49052 [00:00<?, ?it/s]"
     ]
    },
    {
     "name": "stderr",
     "output_type": "stream",
     "text": [
      "Processing users: 100%|██████████| 49052/49052 [4:49:43<00:00,  2.82it/s]  "
     ]
    },
    {
     "name": "stdout",
     "output_type": "stream",
     "text": [
      "Average Precision: 0.4549958606944153\n",
      "Average Recall: 0.5094872228816011\n"
     ]
    },
    {
     "name": "stderr",
     "output_type": "stream",
     "text": [
      "\n"
     ]
    }
   ],
   "source": [
    "precision_and_recall(users_list, \"hybrid\")"
   ]
  }
 ],
 "metadata": {
  "kernelspec": {
   "display_name": "Python 3",
   "language": "python",
   "name": "python3"
  },
  "language_info": {
   "codemirror_mode": {
    "name": "ipython",
    "version": 3
   },
   "file_extension": ".py",
   "mimetype": "text/x-python",
   "name": "python",
   "nbconvert_exporter": "python",
   "pygments_lexer": "ipython3",
   "version": "3.10.7"
  },
  "orig_nbformat": 4
 },
 "nbformat": 4,
 "nbformat_minor": 2
}
