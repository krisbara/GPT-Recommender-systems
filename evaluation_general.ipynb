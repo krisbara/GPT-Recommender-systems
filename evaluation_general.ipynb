{
 "cells": [
  {
   "attachments": {},
   "cell_type": "markdown",
   "metadata": {},
   "source": [
    "Precision and recall\n",
    "https://insidelearningmachines.com/precisionk_and_recallk/#:~:text=Precision%40k%20and%20Recall%40k%20are%20metrics%20used%20to%20evaluate,end%20user%20by%20the%20model."
   ]
  },
  {
   "cell_type": "code",
   "execution_count": 1,
   "metadata": {},
   "outputs": [],
   "source": [
    "# imports\n",
    "import pandas as pd\n",
    "import numpy as np\n",
    "from typing import List\n",
    "import os\n",
    "from sklearn.metrics import precision_score\n",
    "from sklearn.metrics import recall_score\n",
    "import warnings\n"
   ]
  },
  {
   "cell_type": "code",
   "execution_count": 17,
   "metadata": {},
   "outputs": [
    {
     "data": {
      "text/html": [
       "<div>\n",
       "<style scoped>\n",
       "    .dataframe tbody tr th:only-of-type {\n",
       "        vertical-align: middle;\n",
       "    }\n",
       "\n",
       "    .dataframe tbody tr th {\n",
       "        vertical-align: top;\n",
       "    }\n",
       "\n",
       "    .dataframe thead th {\n",
       "        text-align: right;\n",
       "    }\n",
       "</style>\n",
       "<table border=\"1\" class=\"dataframe\">\n",
       "  <thead>\n",
       "    <tr style=\"text-align: right;\">\n",
       "      <th></th>\n",
       "      <th>User</th>\n",
       "      <th>ID</th>\n",
       "      <th>Impressions</th>\n",
       "    </tr>\n",
       "  </thead>\n",
       "  <tbody>\n",
       "    <tr>\n",
       "      <th>0</th>\n",
       "      <td>U111</td>\n",
       "      <td>N61837 N39237 N9786 N43620 N61409</td>\n",
       "      <td>N7482-1 N6379-0</td>\n",
       "    </tr>\n",
       "    <tr>\n",
       "      <th>1</th>\n",
       "      <td>U222</td>\n",
       "      <td>N13861 N41051 N40272 N24967 N14962</td>\n",
       "      <td>N55689-1 N35729-0</td>\n",
       "    </tr>\n",
       "    <tr>\n",
       "      <th>2</th>\n",
       "      <td>U333</td>\n",
       "      <td>N9786 N47214 N24905 N56618 N34406</td>\n",
       "      <td>N20678-0 N39317-0 N58114-0 N20495-0</td>\n",
       "    </tr>\n",
       "    <tr>\n",
       "      <th>3</th>\n",
       "      <td>U444</td>\n",
       "      <td>N20336 N30961 N61765 N40969 N11472</td>\n",
       "      <td>N50014-0</td>\n",
       "    </tr>\n",
       "    <tr>\n",
       "      <th>4</th>\n",
       "      <td>U555</td>\n",
       "      <td>N59295 N9721 N3574 N43620 N22028</td>\n",
       "      <td>N35729-0 N33632-0 N49685-1 N27581-0</td>\n",
       "    </tr>\n",
       "  </tbody>\n",
       "</table>\n",
       "</div>"
      ],
      "text/plain": [
       "   User                                  ID  \\\n",
       "0  U111   N61837 N39237 N9786 N43620 N61409   \n",
       "1  U222  N13861 N41051 N40272 N24967 N14962   \n",
       "2  U333  N9786 N47214 N24905 N56618 N34406    \n",
       "3  U444  N20336 N30961 N61765 N40969 N11472   \n",
       "4  U555    N59295 N9721 N3574 N43620 N22028   \n",
       "\n",
       "                           Impressions  \n",
       "0                      N7482-1 N6379-0  \n",
       "1                    N55689-1 N35729-0  \n",
       "2  N20678-0 N39317-0 N58114-0 N20495-0  \n",
       "3                            N50014-0   \n",
       "4  N35729-0 N33632-0 N49685-1 N27581-0  "
      ]
     },
     "execution_count": 17,
     "metadata": {},
     "output_type": "execute_result"
    }
   ],
   "source": [
    "interactions = pd.read_csv(\"MIND/behaviors_extra.tsv\",sep='\\t',  header=None)\n",
    "interactions.columns =['User', 'Time', 'ID', 'Impressions'] \n",
    "interactions = interactions.drop(['Time'], axis=1)\n",
    "interactions.head()"
   ]
  },
  {
   "cell_type": "code",
   "execution_count": 16,
   "metadata": {},
   "outputs": [
    {
     "data": {
      "text/html": [
       "<div>\n",
       "<style scoped>\n",
       "    .dataframe tbody tr th:only-of-type {\n",
       "        vertical-align: middle;\n",
       "    }\n",
       "\n",
       "    .dataframe tbody tr th {\n",
       "        vertical-align: top;\n",
       "    }\n",
       "\n",
       "    .dataframe thead th {\n",
       "        text-align: right;\n",
       "    }\n",
       "</style>\n",
       "<table border=\"1\" class=\"dataframe\">\n",
       "  <thead>\n",
       "    <tr style=\"text-align: right;\">\n",
       "      <th></th>\n",
       "      <th>User</th>\n",
       "      <th>ID</th>\n",
       "      <th>Content</th>\n",
       "    </tr>\n",
       "  </thead>\n",
       "  <tbody>\n",
       "    <tr>\n",
       "      <th>0</th>\n",
       "      <td>U111</td>\n",
       "      <td>N61837 N39237 N9786 N43620 N61409</td>\n",
       "      <td>[-0.011852237349376082, -0.015658087749034166,...</td>\n",
       "    </tr>\n",
       "    <tr>\n",
       "      <th>1</th>\n",
       "      <td>U222</td>\n",
       "      <td>N13861 N41051 N40272 N24967 N14962</td>\n",
       "      <td>[0.010383155662566423, -0.0077624950557947155,...</td>\n",
       "    </tr>\n",
       "    <tr>\n",
       "      <th>2</th>\n",
       "      <td>U333</td>\n",
       "      <td>N9786 N47214 N24905 N56618 N34406</td>\n",
       "      <td>[-0.021996299363672735, -0.010908919479697942,...</td>\n",
       "    </tr>\n",
       "    <tr>\n",
       "      <th>3</th>\n",
       "      <td>U444</td>\n",
       "      <td>N20336 N30961 N61765 N40969 N11472</td>\n",
       "      <td>[-0.014395372092258185, -0.007225491013377905,...</td>\n",
       "    </tr>\n",
       "    <tr>\n",
       "      <th>4</th>\n",
       "      <td>U555</td>\n",
       "      <td>N59295 N9721 N3574 N43620 N22028</td>\n",
       "      <td>[-0.006499886885285378, -0.010832596011459828,...</td>\n",
       "    </tr>\n",
       "  </tbody>\n",
       "</table>\n",
       "</div>"
      ],
      "text/plain": [
       "   User                                  ID  \\\n",
       "0  U111   N61837 N39237 N9786 N43620 N61409   \n",
       "1  U222  N13861 N41051 N40272 N24967 N14962   \n",
       "2  U333  N9786 N47214 N24905 N56618 N34406    \n",
       "3  U444  N20336 N30961 N61765 N40969 N11472   \n",
       "4  U555    N59295 N9721 N3574 N43620 N22028   \n",
       "\n",
       "                                             Content  \n",
       "0  [-0.011852237349376082, -0.015658087749034166,...  \n",
       "1  [0.010383155662566423, -0.0077624950557947155,...  \n",
       "2  [-0.021996299363672735, -0.010908919479697942,...  \n",
       "3  [-0.014395372092258185, -0.007225491013377905,...  \n",
       "4  [-0.006499886885285378, -0.010832596011459828,...  "
      ]
     },
     "execution_count": 16,
     "metadata": {},
     "output_type": "execute_result"
    }
   ],
   "source": [
    "#users = interactions_emb\n",
    "interactions_emb = pd.read_csv(\"embeddings/users_emb_extra.csv\") #document with user interactions\n",
    "interactions_emb.head()"
   ]
  },
  {
   "cell_type": "code",
   "execution_count": 8,
   "metadata": {},
   "outputs": [
    {
     "data": {
      "text/html": [
       "<div>\n",
       "<style scoped>\n",
       "    .dataframe tbody tr th:only-of-type {\n",
       "        vertical-align: middle;\n",
       "    }\n",
       "\n",
       "    .dataframe tbody tr th {\n",
       "        vertical-align: top;\n",
       "    }\n",
       "\n",
       "    .dataframe thead th {\n",
       "        text-align: right;\n",
       "    }\n",
       "</style>\n",
       "<table border=\"1\" class=\"dataframe\">\n",
       "  <thead>\n",
       "    <tr style=\"text-align: right;\">\n",
       "      <th></th>\n",
       "      <th>ID</th>\n",
       "      <th>Category</th>\n",
       "      <th>SubCategory</th>\n",
       "      <th>Content</th>\n",
       "      <th>Content_emb</th>\n",
       "    </tr>\n",
       "  </thead>\n",
       "  <tbody>\n",
       "    <tr>\n",
       "      <th>0</th>\n",
       "      <td>N55528</td>\n",
       "      <td>lifestyle</td>\n",
       "      <td>lifestyleroyals</td>\n",
       "      <td>The Brands Queen Elizabeth, Prince Charles, an...</td>\n",
       "      <td>[0.005885085556656122, -0.007782096974551678, ...</td>\n",
       "    </tr>\n",
       "    <tr>\n",
       "      <th>1</th>\n",
       "      <td>N19639</td>\n",
       "      <td>health</td>\n",
       "      <td>weightloss</td>\n",
       "      <td>50 Worst Habits For Belly Fat These seemingly ...</td>\n",
       "      <td>[-0.004876355174928904, -0.007969613187015057,...</td>\n",
       "    </tr>\n",
       "    <tr>\n",
       "      <th>2</th>\n",
       "      <td>N61837</td>\n",
       "      <td>news</td>\n",
       "      <td>newsworld</td>\n",
       "      <td>The Cost of Trump's Aid Freeze in the Trenches...</td>\n",
       "      <td>[-0.02760046347975731, -0.013719998300075531, ...</td>\n",
       "    </tr>\n",
       "    <tr>\n",
       "      <th>3</th>\n",
       "      <td>N53526</td>\n",
       "      <td>health</td>\n",
       "      <td>voices</td>\n",
       "      <td>I Was An NBA Wife. Here's How It Affected My M...</td>\n",
       "      <td>[-0.0297758337110281, -0.014837449416518211, 0...</td>\n",
       "    </tr>\n",
       "    <tr>\n",
       "      <th>4</th>\n",
       "      <td>N38324</td>\n",
       "      <td>health</td>\n",
       "      <td>medical</td>\n",
       "      <td>How to Get Rid of Skin Tags, According to a De...</td>\n",
       "      <td>[0.005073545966297388, 0.004160495940595865, 0...</td>\n",
       "    </tr>\n",
       "  </tbody>\n",
       "</table>\n",
       "</div>"
      ],
      "text/plain": [
       "       ID   Category      SubCategory  \\\n",
       "0  N55528  lifestyle  lifestyleroyals   \n",
       "1  N19639     health       weightloss   \n",
       "2  N61837       news        newsworld   \n",
       "3  N53526     health           voices   \n",
       "4  N38324     health          medical   \n",
       "\n",
       "                                             Content  \\\n",
       "0  The Brands Queen Elizabeth, Prince Charles, an...   \n",
       "1  50 Worst Habits For Belly Fat These seemingly ...   \n",
       "2  The Cost of Trump's Aid Freeze in the Trenches...   \n",
       "3  I Was An NBA Wife. Here's How It Affected My M...   \n",
       "4  How to Get Rid of Skin Tags, According to a De...   \n",
       "\n",
       "                                         Content_emb  \n",
       "0  [0.005885085556656122, -0.007782096974551678, ...  \n",
       "1  [-0.004876355174928904, -0.007969613187015057,...  \n",
       "2  [-0.02760046347975731, -0.013719998300075531, ...  \n",
       "3  [-0.0297758337110281, -0.014837449416518211, 0...  \n",
       "4  [0.005073545966297388, 0.004160495940595865, 0...  "
      ]
     },
     "execution_count": 8,
     "metadata": {},
     "output_type": "execute_result"
    }
   ],
   "source": [
    "#load the data with news articles\n",
    "news = pd.read_csv(\"embeddings/news_emb_final.csv\") #document with news content\n",
    "news.head()"
   ]
  },
  {
   "attachments": {},
   "cell_type": "markdown",
   "metadata": {},
   "source": [
    "Calculate the proportion of -1 and 0 in 'Impressions' "
   ]
  },
  {
   "cell_type": "code",
   "execution_count": 14,
   "metadata": {},
   "outputs": [],
   "source": [
    "# Function to count the number of suffixes\n",
    "def count_suffixes(row, suffix):\n",
    "    impressions = row['Impressions'].split()\n",
    "    count = sum(1 for imp in impressions if imp.endswith(suffix))\n",
    "    return count"
   ]
  },
  {
   "cell_type": "code",
   "execution_count": 19,
   "metadata": {},
   "outputs": [
    {
     "name": "stdout",
     "output_type": "stream",
     "text": [
      "Total -1 count: 3\n",
      "Total -0 count: 11\n"
     ]
    }
   ],
   "source": [
    "# Counting \"-1\" and \"-0\" suffixes\n",
    "interactions['-1 Count'] = interactions.apply(lambda row: count_suffixes(row, '-1'), axis=1)\n",
    "interactions['-0 Count'] = interactions.apply(lambda row: count_suffixes(row, '-0'), axis=1)\n",
    "\n",
    "# Total count across all users\n",
    "total_minus_1 = interactions['-1 Count'].sum()\n",
    "total_minus_0 = interactions['-0 Count'].sum()\n",
    "\n",
    "print(\"Total -1 count:\", total_minus_1)\n",
    "print(\"Total -0 count:\", total_minus_0)"
   ]
  },
  {
   "cell_type": "code",
   "execution_count": 20,
   "metadata": {},
   "outputs": [
    {
     "data": {
      "text/plain": [
       "0.2727272727272727"
      ]
     },
     "execution_count": 20,
     "metadata": {},
     "output_type": "execute_result"
    }
   ],
   "source": [
    "total_minus_1/total_minus_0"
   ]
  },
  {
   "attachments": {},
   "cell_type": "markdown",
   "metadata": {},
   "source": [
    "Calculate precision and recall"
   ]
  },
  {
   "cell_type": "code",
   "execution_count": 21,
   "metadata": {},
   "outputs": [],
   "source": [
    "def create_user_df(input_df, user):\n",
    "    user_row = input_df[input_df['User'] == user]\n",
    "\n",
    "    if user_row.empty:\n",
    "        return None\n",
    "\n",
    "    impressions = user_row['Impressions'].values[0].split()\n",
    "\n",
    "    news_ids = []\n",
    "    true_values = []\n",
    "\n",
    "    for impression in impressions:\n",
    "        news_id, true_value = impression.split('-')\n",
    "        news_ids.append(news_id)\n",
    "        true_values.append(int(true_value))\n",
    "\n",
    "    user_df = pd.DataFrame({'ID': news_ids, 'true_value': true_values})\n",
    "    return user_df"
   ]
  },
  {
   "cell_type": "code",
   "execution_count": 22,
   "metadata": {},
   "outputs": [
    {
     "name": "stdout",
     "output_type": "stream",
     "text": [
      "['U111', 'U222', 'U333', 'U444', 'U555', 'U666']\n"
     ]
    }
   ],
   "source": [
    "# Assuming you have a DataFrame named 'users' with a 'User' column\n",
    "users_list = interactions_emb['User'].unique().tolist()\n",
    "\n",
    "# Print the resulting list\n",
    "print(users_list)"
   ]
  },
  {
   "cell_type": "code",
   "execution_count": 28,
   "metadata": {},
   "outputs": [],
   "source": [
    "#recommder_type = [content, collab, hybrid]\n",
    "def precision_and_recall (list_name, recommender_type):\n",
    "    if recommender_type == 'content':\n",
    "        column = 'distance'\n",
    "    if recommender_type == 'collab':\n",
    "        column = 'collaborative_rec'\n",
    "    if recommender_type == 'hybrid':\n",
    "        column = 'mean'\n",
    "    \n",
    "    all_precision = []\n",
    "    all_recall = []\n",
    "    \n",
    "    user_df = list_name\n",
    "    \n",
    "    for i in users_list:\n",
    "        \n",
    "        user_df = create_user_df(interactions, i)\n",
    "        news = pd.read_csv(\"content_recommendations/\" + i + \"_V2_cont.csv\") \n",
    "        \n",
    "        id_to_new_column = news.set_index('ID')[column].to_dict()\n",
    "        user_df[column] = user_df['ID'].map(id_to_new_column)\n",
    "        \n",
    "        three_percent = np.percentile(news[column], 3)\n",
    "        \n",
    "        user_df['predicted_value'] = user_df[column].apply(lambda x: 0 if x >= three_percent else 1)\n",
    "        \n",
    "        # Assuming df is your DataFrame\n",
    "        true_values = user_df['true_value']\n",
    "        predicted_values = user_df['predicted_value']\n",
    "\n",
    "        # Calculate precision\n",
    "        precision = precision_score(true_values, predicted_values, average='weighted') #'weighted' or 'macro'\n",
    "        recall =recall_score(true_values, predicted_values, average='weighted') #'weighted' or 'macro'\n",
    "        \n",
    "        all_precision.append(precision)\n",
    "        all_recall.append(recall)\n",
    "        #print(user_df)\n",
    "    print(np.mean(all_precision))\n",
    "    print(np.mean(all_recall))"
   ]
  },
  {
   "cell_type": "code",
   "execution_count": 29,
   "metadata": {},
   "outputs": [],
   "source": [
    "warnings.filterwarnings(\"ignore\")"
   ]
  },
  {
   "cell_type": "code",
   "execution_count": 30,
   "metadata": {},
   "outputs": [
    {
     "name": "stdout",
     "output_type": "stream",
     "text": [
      "0.6770833333333334\n",
      "0.7916666666666666\n"
     ]
    }
   ],
   "source": [
    "precision_and_recall(users_list, 'content')"
   ]
  },
  {
   "cell_type": "code",
   "execution_count": null,
   "metadata": {},
   "outputs": [],
   "source": [
    "precision_and_recall(users_list, 'collab')"
   ]
  }
 ],
 "metadata": {
  "kernelspec": {
   "display_name": "Python 3",
   "language": "python",
   "name": "python3"
  },
  "language_info": {
   "codemirror_mode": {
    "name": "ipython",
    "version": 3
   },
   "file_extension": ".py",
   "mimetype": "text/x-python",
   "name": "python",
   "nbconvert_exporter": "python",
   "pygments_lexer": "ipython3",
   "version": "3.10.7"
  },
  "orig_nbformat": 4
 },
 "nbformat": 4,
 "nbformat_minor": 2
}
