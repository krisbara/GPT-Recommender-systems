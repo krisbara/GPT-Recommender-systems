{
 "cells": [
  {
   "attachments": {},
   "cell_type": "markdown",
   "metadata": {},
   "source": [
    "Precision and recall\n",
    "https://insidelearningmachines.com/precisionk_and_recallk/#:~:text=Precision%40k%20and%20Recall%40k%20are%20metrics%20used%20to%20evaluate,end%20user%20by%20the%20model."
   ]
  },
  {
   "cell_type": "code",
   "execution_count": 1,
   "metadata": {},
   "outputs": [],
   "source": [
    "# imports\n",
    "import pandas as pd\n",
    "import numpy as np\n",
    "from typing import List\n",
    "import os\n",
    "from sklearn.metrics import precision_score\n",
    "from sklearn.metrics import recall_score\n",
    "import warnings\n"
   ]
  },
  {
   "cell_type": "code",
   "execution_count": 2,
   "metadata": {},
   "outputs": [
    {
     "data": {
      "text/html": [
       "<div>\n",
       "<style scoped>\n",
       "    .dataframe tbody tr th:only-of-type {\n",
       "        vertical-align: middle;\n",
       "    }\n",
       "\n",
       "    .dataframe tbody tr th {\n",
       "        vertical-align: top;\n",
       "    }\n",
       "\n",
       "    .dataframe thead th {\n",
       "        text-align: right;\n",
       "    }\n",
       "</style>\n",
       "<table border=\"1\" class=\"dataframe\">\n",
       "  <thead>\n",
       "    <tr style=\"text-align: right;\">\n",
       "      <th></th>\n",
       "      <th>User</th>\n",
       "      <th>ID</th>\n",
       "      <th>Impressions</th>\n",
       "    </tr>\n",
       "  </thead>\n",
       "  <tbody>\n",
       "    <tr>\n",
       "      <th>0</th>\n",
       "      <td>U13740</td>\n",
       "      <td>N55189 N42782 N34694 N45794 N18445 N63302 N104...</td>\n",
       "      <td>N55689-1 N35729-0</td>\n",
       "    </tr>\n",
       "    <tr>\n",
       "      <th>1</th>\n",
       "      <td>U91836</td>\n",
       "      <td>N31739 N6072 N63045 N23979 N35656 N43353 N8129...</td>\n",
       "      <td>N20678-0 N39317-0 N58114-0 N20495-0 N42977-0 N...</td>\n",
       "    </tr>\n",
       "    <tr>\n",
       "      <th>2</th>\n",
       "      <td>U73700</td>\n",
       "      <td>N10732 N25792 N7563 N21087 N41087 N5445 N60384...</td>\n",
       "      <td>N50014-0 N23877-0 N35389-0 N49712-0 N16844-0 N...</td>\n",
       "    </tr>\n",
       "    <tr>\n",
       "      <th>3</th>\n",
       "      <td>U34670</td>\n",
       "      <td>N45729 N2203 N871 N53880 N41375 N43142 N33013 ...</td>\n",
       "      <td>N35729-0 N33632-0 N49685-1 N27581-0</td>\n",
       "    </tr>\n",
       "    <tr>\n",
       "      <th>4</th>\n",
       "      <td>U8125</td>\n",
       "      <td>N10078 N56514 N14904 N33740</td>\n",
       "      <td>N39985-0 N36050-0 N16096-0 N8400-1 N22407-0 N6...</td>\n",
       "    </tr>\n",
       "  </tbody>\n",
       "</table>\n",
       "</div>"
      ],
      "text/plain": [
       "     User                                                 ID  \\\n",
       "0  U13740  N55189 N42782 N34694 N45794 N18445 N63302 N104...   \n",
       "1  U91836  N31739 N6072 N63045 N23979 N35656 N43353 N8129...   \n",
       "2  U73700  N10732 N25792 N7563 N21087 N41087 N5445 N60384...   \n",
       "3  U34670  N45729 N2203 N871 N53880 N41375 N43142 N33013 ...   \n",
       "4   U8125                        N10078 N56514 N14904 N33740   \n",
       "\n",
       "                                         Impressions  \n",
       "0                                  N55689-1 N35729-0  \n",
       "1  N20678-0 N39317-0 N58114-0 N20495-0 N42977-0 N...  \n",
       "2  N50014-0 N23877-0 N35389-0 N49712-0 N16844-0 N...  \n",
       "3                N35729-0 N33632-0 N49685-1 N27581-0  \n",
       "4  N39985-0 N36050-0 N16096-0 N8400-1 N22407-0 N6...  "
      ]
     },
     "execution_count": 2,
     "metadata": {},
     "output_type": "execute_result"
    }
   ],
   "source": [
    "interactions = pd.read_csv(\"MIND/behaviors.tsv\",sep='\\t',  header=None)\n",
    "interactions.columns =['User', 'Time', 'ID', 'Impressions'] \n",
    "interactions = interactions.drop(['Time'], axis=1)\n",
    "interactions.head()"
   ]
  },
  {
   "cell_type": "code",
   "execution_count": 3,
   "metadata": {},
   "outputs": [
    {
     "data": {
      "text/html": [
       "<div>\n",
       "<style scoped>\n",
       "    .dataframe tbody tr th:only-of-type {\n",
       "        vertical-align: middle;\n",
       "    }\n",
       "\n",
       "    .dataframe tbody tr th {\n",
       "        vertical-align: top;\n",
       "    }\n",
       "\n",
       "    .dataframe thead th {\n",
       "        text-align: right;\n",
       "    }\n",
       "</style>\n",
       "<table border=\"1\" class=\"dataframe\">\n",
       "  <thead>\n",
       "    <tr style=\"text-align: right;\">\n",
       "      <th></th>\n",
       "      <th>User</th>\n",
       "      <th>ID</th>\n",
       "      <th>Interactions_emb</th>\n",
       "    </tr>\n",
       "  </thead>\n",
       "  <tbody>\n",
       "    <tr>\n",
       "      <th>0</th>\n",
       "      <td>U244</td>\n",
       "      <td>N17157 N38621 N35022 N50578 N264 N9120 N23907 ...</td>\n",
       "      <td>[-0.005149974951877837, -0.013250857458654631,...</td>\n",
       "    </tr>\n",
       "    <tr>\n",
       "      <th>1</th>\n",
       "      <td>U68369</td>\n",
       "      <td>N19381 N54536</td>\n",
       "      <td>[0.0025621717686590273, 0.004183989018201828, ...</td>\n",
       "    </tr>\n",
       "    <tr>\n",
       "      <th>2</th>\n",
       "      <td>U50236</td>\n",
       "      <td>N4020 N44292 N50292 N40772 N57737 N33969 N4054...</td>\n",
       "      <td>[-0.010138329240492436, -0.01179651383115145, ...</td>\n",
       "    </tr>\n",
       "    <tr>\n",
       "      <th>3</th>\n",
       "      <td>U77060</td>\n",
       "      <td>N23105 N41375</td>\n",
       "      <td>[-0.005568941123783588, -0.025914330035448074,...</td>\n",
       "    </tr>\n",
       "    <tr>\n",
       "      <th>4</th>\n",
       "      <td>U5596</td>\n",
       "      <td>N459 N56253 N62931 N55846 N29849 N45729 N62834...</td>\n",
       "      <td>[-0.012533644353970886, -0.011675744312297967,...</td>\n",
       "    </tr>\n",
       "  </tbody>\n",
       "</table>\n",
       "</div>"
      ],
      "text/plain": [
       "     User                                                 ID  \\\n",
       "0    U244  N17157 N38621 N35022 N50578 N264 N9120 N23907 ...   \n",
       "1  U68369                                      N19381 N54536   \n",
       "2  U50236  N4020 N44292 N50292 N40772 N57737 N33969 N4054...   \n",
       "3  U77060                                      N23105 N41375   \n",
       "4   U5596  N459 N56253 N62931 N55846 N29849 N45729 N62834...   \n",
       "\n",
       "                                    Interactions_emb  \n",
       "0  [-0.005149974951877837, -0.013250857458654631,...  \n",
       "1  [0.0025621717686590273, 0.004183989018201828, ...  \n",
       "2  [-0.010138329240492436, -0.01179651383115145, ...  \n",
       "3  [-0.005568941123783588, -0.025914330035448074,...  \n",
       "4  [-0.012533644353970886, -0.011675744312297967,...  "
      ]
     },
     "execution_count": 3,
     "metadata": {},
     "output_type": "execute_result"
    }
   ],
   "source": [
    "#users = interactions_emb\n",
    "interactions_emb = pd.read_csv(\"embeddings/users_filtered_final.csv\") #document with user interactions\n",
    "interactions_emb.head()"
   ]
  },
  {
   "cell_type": "code",
   "execution_count": 4,
   "metadata": {},
   "outputs": [
    {
     "data": {
      "text/html": [
       "<div>\n",
       "<style scoped>\n",
       "    .dataframe tbody tr th:only-of-type {\n",
       "        vertical-align: middle;\n",
       "    }\n",
       "\n",
       "    .dataframe tbody tr th {\n",
       "        vertical-align: top;\n",
       "    }\n",
       "\n",
       "    .dataframe thead th {\n",
       "        text-align: right;\n",
       "    }\n",
       "</style>\n",
       "<table border=\"1\" class=\"dataframe\">\n",
       "  <thead>\n",
       "    <tr style=\"text-align: right;\">\n",
       "      <th></th>\n",
       "      <th>ID</th>\n",
       "      <th>Category</th>\n",
       "      <th>SubCategory</th>\n",
       "      <th>Content</th>\n",
       "      <th>Content_emb</th>\n",
       "    </tr>\n",
       "  </thead>\n",
       "  <tbody>\n",
       "    <tr>\n",
       "      <th>0</th>\n",
       "      <td>N55528</td>\n",
       "      <td>lifestyle</td>\n",
       "      <td>lifestyleroyals</td>\n",
       "      <td>The Brands Queen Elizabeth, Prince Charles, an...</td>\n",
       "      <td>[0.005885085556656122, -0.007782096974551678, ...</td>\n",
       "    </tr>\n",
       "    <tr>\n",
       "      <th>1</th>\n",
       "      <td>N19639</td>\n",
       "      <td>health</td>\n",
       "      <td>weightloss</td>\n",
       "      <td>50 Worst Habits For Belly Fat These seemingly ...</td>\n",
       "      <td>[-0.004876355174928904, -0.007969613187015057,...</td>\n",
       "    </tr>\n",
       "    <tr>\n",
       "      <th>2</th>\n",
       "      <td>N61837</td>\n",
       "      <td>news</td>\n",
       "      <td>newsworld</td>\n",
       "      <td>The Cost of Trump's Aid Freeze in the Trenches...</td>\n",
       "      <td>[-0.02760046347975731, -0.013719998300075531, ...</td>\n",
       "    </tr>\n",
       "    <tr>\n",
       "      <th>3</th>\n",
       "      <td>N53526</td>\n",
       "      <td>health</td>\n",
       "      <td>voices</td>\n",
       "      <td>I Was An NBA Wife. Here's How It Affected My M...</td>\n",
       "      <td>[-0.0297758337110281, -0.014837449416518211, 0...</td>\n",
       "    </tr>\n",
       "    <tr>\n",
       "      <th>4</th>\n",
       "      <td>N38324</td>\n",
       "      <td>health</td>\n",
       "      <td>medical</td>\n",
       "      <td>How to Get Rid of Skin Tags, According to a De...</td>\n",
       "      <td>[0.005073545966297388, 0.004160495940595865, 0...</td>\n",
       "    </tr>\n",
       "  </tbody>\n",
       "</table>\n",
       "</div>"
      ],
      "text/plain": [
       "       ID   Category      SubCategory  \\\n",
       "0  N55528  lifestyle  lifestyleroyals   \n",
       "1  N19639     health       weightloss   \n",
       "2  N61837       news        newsworld   \n",
       "3  N53526     health           voices   \n",
       "4  N38324     health          medical   \n",
       "\n",
       "                                             Content  \\\n",
       "0  The Brands Queen Elizabeth, Prince Charles, an...   \n",
       "1  50 Worst Habits For Belly Fat These seemingly ...   \n",
       "2  The Cost of Trump's Aid Freeze in the Trenches...   \n",
       "3  I Was An NBA Wife. Here's How It Affected My M...   \n",
       "4  How to Get Rid of Skin Tags, According to a De...   \n",
       "\n",
       "                                         Content_emb  \n",
       "0  [0.005885085556656122, -0.007782096974551678, ...  \n",
       "1  [-0.004876355174928904, -0.007969613187015057,...  \n",
       "2  [-0.02760046347975731, -0.013719998300075531, ...  \n",
       "3  [-0.0297758337110281, -0.014837449416518211, 0...  \n",
       "4  [0.005073545966297388, 0.004160495940595865, 0...  "
      ]
     },
     "execution_count": 4,
     "metadata": {},
     "output_type": "execute_result"
    }
   ],
   "source": [
    "#load the data with news articles\n",
    "news = pd.read_csv(\"embeddings/news_emb_final.csv\") #document with news content\n",
    "news.head()"
   ]
  },
  {
   "attachments": {},
   "cell_type": "markdown",
   "metadata": {},
   "source": [
    "Calculate the proportion of -1 and 0 in 'Impressions' "
   ]
  },
  {
   "cell_type": "code",
   "execution_count": 15,
   "metadata": {},
   "outputs": [],
   "source": [
    "# Function to count the number of suffixes\n",
    "def count_suffixes(row, suffix):\n",
    "    impressions = row['Impressions'].split()\n",
    "    count = sum(1 for imp in impressions if imp.endswith(suffix))\n",
    "    return count"
   ]
  },
  {
   "cell_type": "code",
   "execution_count": 16,
   "metadata": {},
   "outputs": [
    {
     "name": "stdout",
     "output_type": "stream",
     "text": [
      "Total -1 count: 236344\n",
      "Total -0 count: 5607100\n"
     ]
    }
   ],
   "source": [
    "# Counting \"-1\" and \"-0\" suffixes\n",
    "interactions['-1 Count'] = interactions.apply(lambda row: count_suffixes(row, '-1'), axis=1)\n",
    "interactions['-0 Count'] = interactions.apply(lambda row: count_suffixes(row, '-0'), axis=1)\n",
    "\n",
    "# Total count across all users\n",
    "total_minus_1 = interactions['-1 Count'].sum()\n",
    "total_minus_0 = interactions['-0 Count'].sum()\n",
    "\n",
    "print(\"Total -1 count:\", total_minus_1)\n",
    "print(\"Total -0 count:\", total_minus_0)"
   ]
  },
  {
   "cell_type": "code",
   "execution_count": 17,
   "metadata": {},
   "outputs": [
    {
     "data": {
      "text/plain": [
       "0.04215084446505324"
      ]
     },
     "execution_count": 17,
     "metadata": {},
     "output_type": "execute_result"
    }
   ],
   "source": [
    "total_minus_1/total_minus_0"
   ]
  },
  {
   "attachments": {},
   "cell_type": "markdown",
   "metadata": {},
   "source": [
    "Calculate precision and recall"
   ]
  },
  {
   "cell_type": "code",
   "execution_count": 5,
   "metadata": {},
   "outputs": [],
   "source": [
    "def create_user_df(input_df, user):\n",
    "    user_row = input_df[input_df['User'] == user]\n",
    "\n",
    "    if user_row.empty:\n",
    "        return None\n",
    "\n",
    "    impressions = user_row['Impressions'].values[0].split()\n",
    "\n",
    "    news_ids = []\n",
    "    true_values = []\n",
    "\n",
    "    for impression in impressions:\n",
    "        news_id, true_value = impression.split('-')\n",
    "        news_ids.append(news_id)\n",
    "        true_values.append(int(true_value))\n",
    "\n",
    "    user_df = pd.DataFrame({'ID': news_ids, 'true_value': true_values})\n",
    "    return user_df"
   ]
  },
  {
   "cell_type": "code",
   "execution_count": 6,
   "metadata": {},
   "outputs": [],
   "source": [
    "def list_ids_in_folder(folder_path):\n",
    "    ids = set()\n",
    "    \n",
    "    for filename in os.listdir(folder_path):\n",
    "        if filename.endswith(\".csv\"):\n",
    "            # Extracting the ID from the filename\n",
    "            file_id = filename.split(\"_\")[0][1:]\n",
    "            ids.add(file_id)\n",
    "    \n",
    "    return list(ids)"
   ]
  },
  {
   "cell_type": "code",
   "execution_count": 7,
   "metadata": {},
   "outputs": [
    {
     "data": {
      "text/plain": [
       "49053"
      ]
     },
     "execution_count": 7,
     "metadata": {},
     "output_type": "execute_result"
    }
   ],
   "source": [
    "folder_path = 'hybrid_recommendations'\n",
    "users_list = list_ids_in_folder(folder_path)\n",
    "users_list = ['U' + num for num in users_list]\n",
    "len(users_list)"
   ]
  },
  {
   "cell_type": "code",
   "execution_count": 29,
   "metadata": {},
   "outputs": [],
   "source": [
    "#recommder_type = [content, collab, hybrid]\n",
    "def precision_and_recall (list_name, recommender_type):\n",
    "\n",
    "    \n",
    "    all_precision = []\n",
    "    all_recall = []\n",
    "    \n",
    "    user_df = list_name\n",
    "    \n",
    "    for i in users_list:\n",
    "        if recommender_type == 'content':\n",
    "            column = 'Distance'\n",
    "            path = \"content_recommendations/\" + i + \"_content.csv\"\n",
    "        if recommender_type == 'collab':\n",
    "            column = 'article_distance'\n",
    "            path = \"collaborative_recommendations/\" + i + \"_collab.csv\"\n",
    "        if recommender_type == 'hybrid':\n",
    "            column = 'hybrid'\n",
    "            path = \"hybrid_recommendations/\" + i + \"_hybrid.csv\"\n",
    "        \n",
    "        user_df = create_user_df(interactions, i)\n",
    "        news = pd.read_csv(path) \n",
    "        \n",
    "        id_to_new_column = news.set_index('ID')[column].to_dict()\n",
    "        user_df[column] = user_df['ID'].map(id_to_new_column)\n",
    "        \n",
    "        three_percent = np.percentile(news[column], 4)\n",
    "        \n",
    "        user_df['predicted_value'] = user_df[column].apply(lambda x: 0 if x >= three_percent else 1)\n",
    "        \n",
    "        # Assuming df is your DataFrame\n",
    "        true_values = user_df['true_value']\n",
    "        predicted_values = user_df['predicted_value']\n",
    "\n",
    "        # Calculate precision\n",
    "        precision = precision_score(true_values, predicted_values, average='macro') #'weighted' or 'macro'\n",
    "        recall =recall_score(true_values, predicted_values, average='macro') #'weighted' or 'macro'\n",
    "        \n",
    "        all_precision.append(precision)\n",
    "        all_recall.append(recall)\n",
    "        #print(user_df)\n",
    "    print(np.mean(all_precision))\n",
    "    print(np.mean(all_recall))"
   ]
  },
  {
   "cell_type": "code",
   "execution_count": 9,
   "metadata": {},
   "outputs": [],
   "source": [
    "warnings.filterwarnings(\"ignore\")"
   ]
  }
 ],
 "metadata": {
  "kernelspec": {
   "display_name": "Python 3",
   "language": "python",
   "name": "python3"
  },
  "language_info": {
   "codemirror_mode": {
    "name": "ipython",
    "version": 3
   },
   "file_extension": ".py",
   "mimetype": "text/x-python",
   "name": "python",
   "nbconvert_exporter": "python",
   "pygments_lexer": "ipython3",
   "version": "3.10.7"
  },
  "orig_nbformat": 4
 },
 "nbformat": 4,
 "nbformat_minor": 2
}
