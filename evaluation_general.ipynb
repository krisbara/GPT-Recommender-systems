{
 "cells": [
  {
   "attachments": {},
   "cell_type": "markdown",
   "metadata": {},
   "source": [
    "Precision and recall\n",
    "https://insidelearningmachines.com/precisionk_and_recallk/#:~:text=Precision%40k%20and%20Recall%40k%20are%20metrics%20used%20to%20evaluate,end%20user%20by%20the%20model."
   ]
  },
  {
   "cell_type": "code",
   "execution_count": 1,
   "metadata": {},
   "outputs": [],
   "source": [
    "# imports\n",
    "import pandas as pd\n",
    "import numpy as np\n",
    "from typing import List\n",
    "import os\n",
    "from sklearn.metrics import precision_score\n",
    "from sklearn.metrics import recall_score\n",
    "import warnings\n"
   ]
  },
  {
   "cell_type": "code",
   "execution_count": 2,
   "metadata": {},
   "outputs": [
    {
     "data": {
      "text/html": [
       "<div>\n",
       "<style scoped>\n",
       "    .dataframe tbody tr th:only-of-type {\n",
       "        vertical-align: middle;\n",
       "    }\n",
       "\n",
       "    .dataframe tbody tr th {\n",
       "        vertical-align: top;\n",
       "    }\n",
       "\n",
       "    .dataframe thead th {\n",
       "        text-align: right;\n",
       "    }\n",
       "</style>\n",
       "<table border=\"1\" class=\"dataframe\">\n",
       "  <thead>\n",
       "    <tr style=\"text-align: right;\">\n",
       "      <th></th>\n",
       "      <th>User</th>\n",
       "      <th>Impressions</th>\n",
       "    </tr>\n",
       "  </thead>\n",
       "  <tbody>\n",
       "    <tr>\n",
       "      <th>0</th>\n",
       "      <td>U13000</td>\n",
       "      <td>N7482-1 N6379-0</td>\n",
       "    </tr>\n",
       "    <tr>\n",
       "      <th>1</th>\n",
       "      <td>U14000</td>\n",
       "      <td>N1145-1 N34930-1 N53526-0 N3574-0 N751-0 N2202...</td>\n",
       "    </tr>\n",
       "    <tr>\n",
       "      <th>2</th>\n",
       "      <td>U15000</td>\n",
       "      <td>N4303-1 N58730-0 N64130-0 N38064-0 N49210-0 N92-0</td>\n",
       "    </tr>\n",
       "    <tr>\n",
       "      <th>3</th>\n",
       "      <td>U13740</td>\n",
       "      <td>N55689-1 N35729-0</td>\n",
       "    </tr>\n",
       "    <tr>\n",
       "      <th>4</th>\n",
       "      <td>U91836</td>\n",
       "      <td>N20678-0 N39317-0 N58114-0 N20495-0 N42977-0 N...</td>\n",
       "    </tr>\n",
       "  </tbody>\n",
       "</table>\n",
       "</div>"
      ],
      "text/plain": [
       "     User                                        Impressions\n",
       "0  U13000                                    N7482-1 N6379-0\n",
       "1  U14000  N1145-1 N34930-1 N53526-0 N3574-0 N751-0 N2202...\n",
       "2  U15000  N4303-1 N58730-0 N64130-0 N38064-0 N49210-0 N92-0\n",
       "3  U13740                                  N55689-1 N35729-0\n",
       "4  U91836  N20678-0 N39317-0 N58114-0 N20495-0 N42977-0 N..."
      ]
     },
     "execution_count": 2,
     "metadata": {},
     "output_type": "execute_result"
    }
   ],
   "source": [
    "behaviors = pd.read_csv(\"MIND/behaviors_testdataset.csv\", sep=';', header=None)\n",
    "behaviors.columns =['User', 'Time', 'ID', 'Impressions'] \n",
    "behaviors = behaviors.drop(['Time', 'ID'], axis=1)\n",
    "behaviors.head()"
   ]
  },
  {
   "cell_type": "code",
   "execution_count": 3,
   "metadata": {},
   "outputs": [
    {
     "data": {
      "text/html": [
       "<div>\n",
       "<style scoped>\n",
       "    .dataframe tbody tr th:only-of-type {\n",
       "        vertical-align: middle;\n",
       "    }\n",
       "\n",
       "    .dataframe tbody tr th {\n",
       "        vertical-align: top;\n",
       "    }\n",
       "\n",
       "    .dataframe thead th {\n",
       "        text-align: right;\n",
       "    }\n",
       "</style>\n",
       "<table border=\"1\" class=\"dataframe\">\n",
       "  <thead>\n",
       "    <tr style=\"text-align: right;\">\n",
       "      <th></th>\n",
       "      <th>User</th>\n",
       "      <th>ID</th>\n",
       "      <th>Interactions_emb</th>\n",
       "    </tr>\n",
       "  </thead>\n",
       "  <tbody>\n",
       "    <tr>\n",
       "      <th>0</th>\n",
       "      <td>U10045</td>\n",
       "      <td>N52865 N22570 N37481 N55189 N16158 N63276 N150...</td>\n",
       "      <td>[-0.016629040241241455, -0.011621594429016113,...</td>\n",
       "    </tr>\n",
       "    <tr>\n",
       "      <th>1</th>\n",
       "      <td>U11306</td>\n",
       "      <td>N18064 N38868 N60340 N31801 N39778 N54842 N110...</td>\n",
       "      <td>[-0.03462968394160271, -0.024745389819145203, ...</td>\n",
       "    </tr>\n",
       "    <tr>\n",
       "      <th>2</th>\n",
       "      <td>U13000</td>\n",
       "      <td>N42782 N18445 N49749</td>\n",
       "      <td>[-0.018553022295236588, -0.008284046314656734,...</td>\n",
       "    </tr>\n",
       "    <tr>\n",
       "      <th>3</th>\n",
       "      <td>U13740</td>\n",
       "      <td>N55189 N42782 N34694 N45794 N18445 N63302 N104...</td>\n",
       "      <td>[-0.020748168230056763, -0.02500385232269764, ...</td>\n",
       "    </tr>\n",
       "    <tr>\n",
       "      <th>4</th>\n",
       "      <td>U14000</td>\n",
       "      <td>N9721 N61358 N11360 N64593 N9900 N46688</td>\n",
       "      <td>[0.016509052366018295, 0.002539730630815029, 0...</td>\n",
       "    </tr>\n",
       "  </tbody>\n",
       "</table>\n",
       "</div>"
      ],
      "text/plain": [
       "     User                                                 ID  \\\n",
       "0  U10045  N52865 N22570 N37481 N55189 N16158 N63276 N150...   \n",
       "1  U11306  N18064 N38868 N60340 N31801 N39778 N54842 N110...   \n",
       "2  U13000                               N42782 N18445 N49749   \n",
       "3  U13740  N55189 N42782 N34694 N45794 N18445 N63302 N104...   \n",
       "4  U14000            N9721 N61358 N11360 N64593 N9900 N46688   \n",
       "\n",
       "                                    Interactions_emb  \n",
       "0  [-0.016629040241241455, -0.011621594429016113,...  \n",
       "1  [-0.03462968394160271, -0.024745389819145203, ...  \n",
       "2  [-0.018553022295236588, -0.008284046314656734,...  \n",
       "3  [-0.020748168230056763, -0.02500385232269764, ...  \n",
       "4  [0.016509052366018295, 0.002539730630815029, 0...  "
      ]
     },
     "execution_count": 3,
     "metadata": {},
     "output_type": "execute_result"
    }
   ],
   "source": [
    "users = pd.read_csv(\"data_embeddings/users_emb_test.csv\") #document with user interactions\n",
    "users.head()"
   ]
  },
  {
   "cell_type": "code",
   "execution_count": 4,
   "metadata": {},
   "outputs": [
    {
     "data": {
      "text/html": [
       "<div>\n",
       "<style scoped>\n",
       "    .dataframe tbody tr th:only-of-type {\n",
       "        vertical-align: middle;\n",
       "    }\n",
       "\n",
       "    .dataframe tbody tr th {\n",
       "        vertical-align: top;\n",
       "    }\n",
       "\n",
       "    .dataframe thead th {\n",
       "        text-align: right;\n",
       "    }\n",
       "</style>\n",
       "<table border=\"1\" class=\"dataframe\">\n",
       "  <thead>\n",
       "    <tr style=\"text-align: right;\">\n",
       "      <th></th>\n",
       "      <th>ID</th>\n",
       "      <th>category</th>\n",
       "      <th>sub_category</th>\n",
       "      <th>content</th>\n",
       "      <th>collaborative_rec</th>\n",
       "      <th>content_rec</th>\n",
       "      <th>mean</th>\n",
       "      <th>two_one</th>\n",
       "    </tr>\n",
       "  </thead>\n",
       "  <tbody>\n",
       "    <tr>\n",
       "      <th>0</th>\n",
       "      <td>N52865</td>\n",
       "      <td>news</td>\n",
       "      <td>newspolitics</td>\n",
       "      <td>Ohio's Reputation As a Must-Win State May No L...</td>\n",
       "      <td>0.16384</td>\n",
       "      <td>0.205185</td>\n",
       "      <td>0.184513</td>\n",
       "      <td>0.191403</td>\n",
       "    </tr>\n",
       "    <tr>\n",
       "      <th>1</th>\n",
       "      <td>N10270</td>\n",
       "      <td>autos</td>\n",
       "      <td>autossports</td>\n",
       "      <td>What Do Old-School Mustang Guys Think of the K...</td>\n",
       "      <td>0.16384</td>\n",
       "      <td>0.253155</td>\n",
       "      <td>0.208497</td>\n",
       "      <td>0.223383</td>\n",
       "    </tr>\n",
       "    <tr>\n",
       "      <th>2</th>\n",
       "      <td>N21428</td>\n",
       "      <td>autos</td>\n",
       "      <td>autosnews</td>\n",
       "      <td>Ford's Mach E Electric SUV Spied Looking...Int...</td>\n",
       "      <td>0.16384</td>\n",
       "      <td>0.267140</td>\n",
       "      <td>0.215490</td>\n",
       "      <td>0.232706</td>\n",
       "    </tr>\n",
       "    <tr>\n",
       "      <th>3</th>\n",
       "      <td>N1406</td>\n",
       "      <td>sports</td>\n",
       "      <td>football_nfl</td>\n",
       "      <td>NFL Films signed off on airing of Sam Darnold'...</td>\n",
       "      <td>0.16384</td>\n",
       "      <td>0.231320</td>\n",
       "      <td>0.197580</td>\n",
       "      <td>0.208827</td>\n",
       "    </tr>\n",
       "    <tr>\n",
       "      <th>4</th>\n",
       "      <td>N32027</td>\n",
       "      <td>sports</td>\n",
       "      <td>football_nfl</td>\n",
       "      <td>Payton declines to name Saints starting QB for...</td>\n",
       "      <td>0.16384</td>\n",
       "      <td>0.235284</td>\n",
       "      <td>0.199562</td>\n",
       "      <td>0.211469</td>\n",
       "    </tr>\n",
       "  </tbody>\n",
       "</table>\n",
       "</div>"
      ],
      "text/plain": [
       "       ID category  sub_category  \\\n",
       "0  N52865     news  newspolitics   \n",
       "1  N10270    autos   autossports   \n",
       "2  N21428    autos     autosnews   \n",
       "3   N1406   sports  football_nfl   \n",
       "4  N32027   sports  football_nfl   \n",
       "\n",
       "                                             content  collaborative_rec  \\\n",
       "0  Ohio's Reputation As a Must-Win State May No L...            0.16384   \n",
       "1  What Do Old-School Mustang Guys Think of the K...            0.16384   \n",
       "2  Ford's Mach E Electric SUV Spied Looking...Int...            0.16384   \n",
       "3  NFL Films signed off on airing of Sam Darnold'...            0.16384   \n",
       "4  Payton declines to name Saints starting QB for...            0.16384   \n",
       "\n",
       "   content_rec      mean   two_one  \n",
       "0     0.205185  0.184513  0.191403  \n",
       "1     0.253155  0.208497  0.223383  \n",
       "2     0.267140  0.215490  0.232706  \n",
       "3     0.231320  0.197580  0.208827  \n",
       "4     0.235284  0.199562  0.211469  "
      ]
     },
     "execution_count": 4,
     "metadata": {},
     "output_type": "execute_result"
    }
   ],
   "source": [
    "news = pd.read_csv(\"hybrid_test.csv\") \n",
    "news.head()"
   ]
  },
  {
   "attachments": {},
   "cell_type": "markdown",
   "metadata": {},
   "source": [
    "Calculate the proportion of -1 and 0 in 'Impressions' "
   ]
  },
  {
   "cell_type": "code",
   "execution_count": 5,
   "metadata": {},
   "outputs": [],
   "source": [
    "# Function to count the number of suffixes\n",
    "def count_suffixes(row, suffix):\n",
    "    impressions = row['Impressions'].split()\n",
    "    count = sum(1 for imp in impressions if imp.endswith(suffix))\n",
    "    return count"
   ]
  },
  {
   "cell_type": "code",
   "execution_count": 6,
   "metadata": {},
   "outputs": [
    {
     "name": "stdout",
     "output_type": "stream",
     "text": [
      "Total -1 count: 29\n",
      "Total -0 count: 1018\n"
     ]
    }
   ],
   "source": [
    "# Counting \"-1\" and \"-0\" suffixes\n",
    "behaviors['-1 Count'] = behaviors.apply(lambda row: count_suffixes(row, '-1'), axis=1)\n",
    "behaviors['-0 Count'] = behaviors.apply(lambda row: count_suffixes(row, '-0'), axis=1)\n",
    "\n",
    "# Total count across all users\n",
    "total_minus_1 = behaviors['-1 Count'].sum()\n",
    "total_minus_0 = behaviors['-0 Count'].sum()\n",
    "\n",
    "print(\"Total -1 count:\", total_minus_1)\n",
    "print(\"Total -0 count:\", total_minus_0)"
   ]
  },
  {
   "cell_type": "code",
   "execution_count": 7,
   "metadata": {},
   "outputs": [
    {
     "data": {
      "text/plain": [
       "0.02848722986247544"
      ]
     },
     "execution_count": 7,
     "metadata": {},
     "output_type": "execute_result"
    }
   ],
   "source": [
    "total_minus_1/total_minus_0"
   ]
  },
  {
   "attachments": {},
   "cell_type": "markdown",
   "metadata": {},
   "source": [
    "Calculate precision and recall"
   ]
  },
  {
   "cell_type": "code",
   "execution_count": 8,
   "metadata": {},
   "outputs": [],
   "source": [
    "def create_user_df(input_df, user):\n",
    "    user_row = input_df[input_df['User'] == user]\n",
    "\n",
    "    if user_row.empty:\n",
    "        return None\n",
    "\n",
    "    impressions = user_row['Impressions'].values[0].split()\n",
    "\n",
    "    news_ids = []\n",
    "    true_values = []\n",
    "\n",
    "    for impression in impressions:\n",
    "        news_id, true_value = impression.split('-')\n",
    "        news_ids.append(news_id)\n",
    "        true_values.append(int(true_value))\n",
    "\n",
    "    user_df = pd.DataFrame({'ID': news_ids, 'true_value': true_values})\n",
    "    return user_df"
   ]
  },
  {
   "cell_type": "code",
   "execution_count": 9,
   "metadata": {},
   "outputs": [
    {
     "name": "stdout",
     "output_type": "stream",
     "text": [
      "['U10045', 'U11306', 'U13000', 'U13740', 'U14000', 'U15000', 'U17841', 'U19739', 'U29155', 'U34670', 'U38627', 'U46596', 'U53231', 'U63162', 'U73700', 'U79199', 'U8125', 'U8312', 'U8355', 'U89744', 'U91836', 'U92486']\n"
     ]
    }
   ],
   "source": [
    "# Assuming you have a DataFrame named 'users' with a 'User' column\n",
    "users_list = users['User'].unique().tolist()\n",
    "\n",
    "# Print the resulting list\n",
    "print(users_list)"
   ]
  },
  {
   "cell_type": "code",
   "execution_count": 14,
   "metadata": {},
   "outputs": [],
   "source": [
    "#recommder_type = [content, collab, hybrid]\n",
    "def precision_and_recall (list_name, recommender_type):\n",
    "    if recommender_type == 'content':\n",
    "        column = 'content_rec'\n",
    "    if recommender_type == 'collab':\n",
    "        column = 'collaborative_rec'\n",
    "    if recommender_type == 'hybrid':\n",
    "        column = 'mean'\n",
    "    \n",
    "    all_precision = []\n",
    "    all_recall = []\n",
    "    \n",
    "    user_df = list_name\n",
    "    \n",
    "    for i in users_list:\n",
    "        \n",
    "        user_df = create_user_df(behaviors, i)\n",
    "        news = pd.read_csv(\"hybrid_recommendations/\" + i + \"_hybr.csv\") \n",
    "        \n",
    "        id_to_new_column = news.set_index('ID')[column].to_dict()\n",
    "        user_df[column] = user_df['ID'].map(id_to_new_column)\n",
    "        \n",
    "        three_percent = np.percentile(news[column], 3)\n",
    "        \n",
    "        user_df['predicted_value'] = user_df[column].apply(lambda x: 0 if x >= three_percent else 1)\n",
    "        \n",
    "        # Assuming df is your DataFrame\n",
    "        true_values = user_df['true_value']\n",
    "        predicted_values = user_df['predicted_value']\n",
    "\n",
    "        # Calculate precision\n",
    "        precision = precision_score(true_values, predicted_values, average='weighted') #'weighted' or 'macro'\n",
    "        recall =recall_score(true_values, predicted_values, average='weighted') #'weighted' or 'macro'\n",
    "        \n",
    "        all_precision.append(precision)\n",
    "        all_recall.append(recall)\n",
    "        #print(user_df)\n",
    "    print(np.mean(all_precision))\n",
    "    print(np.mean(all_recall))"
   ]
  },
  {
   "cell_type": "code",
   "execution_count": 15,
   "metadata": {},
   "outputs": [],
   "source": [
    "warnings.filterwarnings(\"ignore\")"
   ]
  },
  {
   "cell_type": "code",
   "execution_count": 16,
   "metadata": {},
   "outputs": [
    {
     "name": "stdout",
     "output_type": "stream",
     "text": [
      "0.7409592462454685\n",
      "0.7879524267752245\n"
     ]
    }
   ],
   "source": [
    "precision_and_recall(users_list, 'content')"
   ]
  },
  {
   "cell_type": "code",
   "execution_count": 17,
   "metadata": {},
   "outputs": [
    {
     "name": "stdout",
     "output_type": "stream",
     "text": [
      "0.7281155800806737\n",
      "0.8360542291069512\n"
     ]
    }
   ],
   "source": [
    "precision_and_recall(users_list, 'collab')"
   ]
  }
 ],
 "metadata": {
  "kernelspec": {
   "display_name": "Python 3",
   "language": "python",
   "name": "python3"
  },
  "language_info": {
   "codemirror_mode": {
    "name": "ipython",
    "version": 3
   },
   "file_extension": ".py",
   "mimetype": "text/x-python",
   "name": "python",
   "nbconvert_exporter": "python",
   "pygments_lexer": "ipython3",
   "version": "3.10.7"
  },
  "orig_nbformat": 4
 },
 "nbformat": 4,
 "nbformat_minor": 2
}
