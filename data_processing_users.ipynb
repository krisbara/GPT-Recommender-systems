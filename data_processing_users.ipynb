{
 "cells": [
  {
   "cell_type": "code",
   "execution_count": null,
   "metadata": {},
   "outputs": [],
   "source": [
    "import pandas as pd\n",
    "import os"
   ]
  },
  {
   "cell_type": "code",
   "execution_count": null,
   "metadata": {},
   "outputs": [],
   "source": [
    "news = pd.read_csv(\"embeddings/news_emb_final.csv\") #document with news content\n",
    "news.head()"
   ]
  },
  {
   "cell_type": "code",
   "execution_count": null,
   "metadata": {},
   "outputs": [],
   "source": [
    "#load the data with user behaviors\n",
    "interactions = pd.read_csv(\"MIND/behaviors.tsv\",sep='\\t',  header=None)\n",
    "interactions.columns =['User', 'Time', 'ID', 'Impressions'] \n",
    "interactions = interactions.drop(['Time', 'Impressions'], axis=1)\n",
    "interactions.head()"
   ]
  },
  {
   "cell_type": "code",
   "execution_count": null,
   "metadata": {},
   "outputs": [],
   "source": [
    "# Determine the number of parts you want to divide it into\n",
    "num_parts = 500  # Adjust this number based on your system's capacity\n",
    "\n",
    "# Calculate the approximate size of each part\n",
    "part_size = len(interactions) // num_parts\n",
    "\n",
    "\n",
    "# Create a folder to save the parts\n",
    "output_folder = 'interactions_parts'\n",
    "os.makedirs(output_folder, exist_ok=True)\n",
    "\n",
    "# Divide the DataFrame into parts and save each part in the folder\n",
    "for i, part in enumerate(range(num_parts)):\n",
    "    start_index = i * part_size\n",
    "    end_index = (i + 1) * part_size\n",
    "\n",
    "    # Extract the part of the DataFrame\n",
    "    df_part = interactions.iloc[start_index:end_index]\n",
    "\n",
    "    # Save the part to a CSV file in the output folder\n",
    "    output_file = os.path.join(output_folder, f'part_{i+1}.csv')\n",
    "    df_part.to_csv(output_file, index=False)"
   ]
  },
  {
   "cell_type": "code",
   "execution_count": null,
   "metadata": {},
   "outputs": [],
   "source": [
    "#load the data with user behaviors\n",
    "interactions = pd.read_csv(\"interactions_parts/part_1.csv\")\n",
    "interactions"
   ]
  },
  {
   "cell_type": "code",
   "execution_count": null,
   "metadata": {},
   "outputs": [],
   "source": [
    "# Create a dictionary with users and related articles \n",
    "users_dict = {}\n",
    "\n",
    "# Iterate over each row in df1\n",
    "for _, row in interactions.iterrows():\n",
    "    user = row['User']\n",
    "    article_ids = str(row['ID']).split()  # Convert to string before splitting\n",
    "    articles_dict = {}\n",
    "\n",
    "    # Iterate over each article ID\n",
    "    for article_id in article_ids:\n",
    "        # Filter df2 to retrieve the content, topic, and subtopic based on the ID\n",
    "        article_data = news[news['ID'] == article_id]\n",
    "\n",
    "        if not article_data.empty:\n",
    "            content = article_data['Content_emb'].values[0]\n",
    "            topic = article_data['Category'].values[0]\n",
    "            subtopic = article_data['SubCategory'].values[0]\n",
    "\n",
    "            # Store the ID, topic, subtopic, and content in a dictionary\n",
    "            article_dict = {'ID': article_id, 'topic': topic, 'subtopic': subtopic, 'Content_emb': content}\n",
    "\n",
    "            # Add the article dictionary to the user's articles dictionary\n",
    "            articles_dict[article_id] = article_dict\n",
    "\n",
    "    # Add the user's articles dictionary to the result dictionary\n",
    "    users_dict[user] = articles_dict\n",
    "\n",
    "# Print the resulting dictionary\n",
    "print(users_dict)"
   ]
  },
  {
   "cell_type": "code",
   "execution_count": null,
   "metadata": {},
   "outputs": [],
   "source": [
    "# Create a dictionary with users and combined content\n",
    "dictionary_combined = {}\n",
    "\n",
    "for user, content_dict in users_dict.items():\n",
    "    combined_content_list = [eval(sub_dict['Content_emb']) for sub_dict in content_dict.values()]\n",
    "    mean_content_emb = [sum(i) / len(i) for i in zip(*combined_content_list)]\n",
    "    dictionary_combined[user] = {'Content_emb_mean': mean_content_emb}\n",
    "\n",
    "print(dictionary_combined)"
   ]
  },
  {
   "cell_type": "code",
   "execution_count": null,
   "metadata": {},
   "outputs": [],
   "source": [
    "# Assuming 'dictionary_combined' is the dictionary you created\n",
    "df_combined = pd.DataFrame(list(dictionary_combined.items()), columns=['User', 'Content'])\n",
    "\n",
    "# Expand the 'Content' column into separate columns\n",
    "df_combined = pd.concat([df_combined['User'], pd.DataFrame(df_combined['Content'].to_dict()).T], axis=1)\n",
    "\n",
    "# Print the resulting DataFrame\n",
    "print(df_combined)"
   ]
  },
  {
   "cell_type": "code",
   "execution_count": null,
   "metadata": {},
   "outputs": [],
   "source": [
    "# Assuming 'dictionary_combined' is the dictionary you created\n",
    "df_combined = pd.DataFrame(list(dictionary_combined.items()), columns=['User', 'Content'])\n",
    "\n",
    "# Convert the 'Content' column values to lists\n",
    "df_combined['Content'] = df_combined['Content'].apply(lambda x: x['Content_emb_mean'])\n",
    "\n",
    "# Merge with the original DataFrame to get the 'ID' column\n",
    "df_combined = pd.merge(df_combined, interactions[['User', 'ID']], on='User')\n",
    "\n",
    "# Reorder columns for better readability (if needed)\n",
    "df_combined = df_combined[['User', 'ID', 'Content']]\n",
    "\n",
    "# Print the resulting DataFrame\n",
    "print(df_combined)"
   ]
  },
  {
   "cell_type": "code",
   "execution_count": null,
   "metadata": {},
   "outputs": [],
   "source": [
    "df_combined.to_csv('embeddings/users_emb_extra.csv', index= False)"
   ]
  }
 ],
 "metadata": {
  "language_info": {
   "name": "python"
  },
  "orig_nbformat": 4
 },
 "nbformat": 4,
 "nbformat_minor": 2
}
