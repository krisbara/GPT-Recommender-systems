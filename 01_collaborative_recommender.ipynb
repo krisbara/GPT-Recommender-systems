{
 "cells": [
  {
   "cell_type": "code",
   "execution_count": 1,
   "metadata": {},
   "outputs": [],
   "source": [
    "# imports\n",
    "import pandas as pd\n",
    "import numpy as np\n",
    "from openai.embeddings_utils import distances_from_embeddings, indices_of_nearest_neighbors_from_distances\n",
    "import os"
   ]
  },
  {
   "cell_type": "code",
   "execution_count": 2,
   "metadata": {},
   "outputs": [
    {
     "data": {
      "text/html": [
       "<div>\n",
       "<style scoped>\n",
       "    .dataframe tbody tr th:only-of-type {\n",
       "        vertical-align: middle;\n",
       "    }\n",
       "\n",
       "    .dataframe tbody tr th {\n",
       "        vertical-align: top;\n",
       "    }\n",
       "\n",
       "    .dataframe thead th {\n",
       "        text-align: right;\n",
       "    }\n",
       "</style>\n",
       "<table border=\"1\" class=\"dataframe\">\n",
       "  <thead>\n",
       "    <tr style=\"text-align: right;\">\n",
       "      <th></th>\n",
       "      <th>User</th>\n",
       "      <th>ID</th>\n",
       "      <th>Interactions_emb</th>\n",
       "    </tr>\n",
       "  </thead>\n",
       "  <tbody>\n",
       "    <tr>\n",
       "      <th>0</th>\n",
       "      <td>U13740</td>\n",
       "      <td>N55189 N42782 N34694 N45794 N18445 N63302 N104...</td>\n",
       "      <td>[-0.015360403599010574, -0.022621901123784482,...</td>\n",
       "    </tr>\n",
       "    <tr>\n",
       "      <th>1</th>\n",
       "      <td>U91836</td>\n",
       "      <td>N31739 N6072 N63045 N23979 N35656 N43353 N8129...</td>\n",
       "      <td>[-0.005392600822233362, -0.004443325935426401,...</td>\n",
       "    </tr>\n",
       "    <tr>\n",
       "      <th>2</th>\n",
       "      <td>U73700</td>\n",
       "      <td>N10732 N25792 N7563 N21087 N41087 N5445 N60384...</td>\n",
       "      <td>[-0.004993118400064608, -0.008147992255787054,...</td>\n",
       "    </tr>\n",
       "  </tbody>\n",
       "</table>\n",
       "</div>"
      ],
      "text/plain": [
       "     User                                                 ID  \\\n",
       "0  U13740  N55189 N42782 N34694 N45794 N18445 N63302 N104...   \n",
       "1  U91836  N31739 N6072 N63045 N23979 N35656 N43353 N8129...   \n",
       "2  U73700  N10732 N25792 N7563 N21087 N41087 N5445 N60384...   \n",
       "\n",
       "                                    Interactions_emb  \n",
       "0  [-0.015360403599010574, -0.022621901123784482,...  \n",
       "1  [-0.005392600822233362, -0.004443325935426401,...  \n",
       "2  [-0.004993118400064608, -0.008147992255787054,...  "
      ]
     },
     "execution_count": 2,
     "metadata": {},
     "output_type": "execute_result"
    }
   ],
   "source": [
    "users = pd.read_csv(\"embeddings/users_emb_TEST.csv\") #document with user interactions\n",
    "users.columns =['User', 'ID', 'Interactions_emb']\n",
    "users.head()"
   ]
  },
  {
   "cell_type": "code",
   "execution_count": 3,
   "metadata": {},
   "outputs": [
    {
     "data": {
      "text/html": [
       "<div>\n",
       "<style scoped>\n",
       "    .dataframe tbody tr th:only-of-type {\n",
       "        vertical-align: middle;\n",
       "    }\n",
       "\n",
       "    .dataframe tbody tr th {\n",
       "        vertical-align: top;\n",
       "    }\n",
       "\n",
       "    .dataframe thead th {\n",
       "        text-align: right;\n",
       "    }\n",
       "</style>\n",
       "<table border=\"1\" class=\"dataframe\">\n",
       "  <thead>\n",
       "    <tr style=\"text-align: right;\">\n",
       "      <th></th>\n",
       "      <th>ID</th>\n",
       "      <th>Category</th>\n",
       "      <th>SubCategory</th>\n",
       "      <th>Content</th>\n",
       "      <th>Content_emb</th>\n",
       "    </tr>\n",
       "  </thead>\n",
       "  <tbody>\n",
       "    <tr>\n",
       "      <th>0</th>\n",
       "      <td>N55189</td>\n",
       "      <td>tv</td>\n",
       "      <td>tvnews</td>\n",
       "      <td>'Wheel Of Fortune' Guest Delivers Hilarious, O...</td>\n",
       "      <td>[-0.020967688411474228, -0.020634232088923454,...</td>\n",
       "    </tr>\n",
       "    <tr>\n",
       "      <th>1</th>\n",
       "      <td>N42782</td>\n",
       "      <td>sports</td>\n",
       "      <td>baseball_mlb</td>\n",
       "      <td>Three takeaways from Yankees' ALCS Game 5 vict...</td>\n",
       "      <td>[-0.008319429121911526, 0.0013667173916473985,...</td>\n",
       "    </tr>\n",
       "    <tr>\n",
       "      <th>2</th>\n",
       "      <td>N34694</td>\n",
       "      <td>tv</td>\n",
       "      <td>tvnews</td>\n",
       "      <td>Rosie O'Donnell: Barbara Walters Isn't 'Up to ...</td>\n",
       "      <td>[-0.042908210307359695, -0.018993420526385307,...</td>\n",
       "    </tr>\n",
       "    <tr>\n",
       "      <th>3</th>\n",
       "      <td>N45794</td>\n",
       "      <td>news</td>\n",
       "      <td>newscrime</td>\n",
       "      <td>Four flight attendants were arrested in Miami'...</td>\n",
       "      <td>[-0.007930373772978783, -0.0221870094537735, 0...</td>\n",
       "    </tr>\n",
       "    <tr>\n",
       "      <th>4</th>\n",
       "      <td>N18445</td>\n",
       "      <td>sports</td>\n",
       "      <td>football_ncaa</td>\n",
       "      <td>Michigan sends breakup tweet to Notre Dame as ...</td>\n",
       "      <td>[-0.020153459161520004, -0.044797133654356, 0....</td>\n",
       "    </tr>\n",
       "  </tbody>\n",
       "</table>\n",
       "</div>"
      ],
      "text/plain": [
       "       ID Category    SubCategory  \\\n",
       "0  N55189       tv         tvnews   \n",
       "1  N42782   sports   baseball_mlb   \n",
       "2  N34694       tv         tvnews   \n",
       "3  N45794     news      newscrime   \n",
       "4  N18445   sports  football_ncaa   \n",
       "\n",
       "                                             Content  \\\n",
       "0  'Wheel Of Fortune' Guest Delivers Hilarious, O...   \n",
       "1  Three takeaways from Yankees' ALCS Game 5 vict...   \n",
       "2  Rosie O'Donnell: Barbara Walters Isn't 'Up to ...   \n",
       "3  Four flight attendants were arrested in Miami'...   \n",
       "4  Michigan sends breakup tweet to Notre Dame as ...   \n",
       "\n",
       "                                         Content_emb  \n",
       "0  [-0.020967688411474228, -0.020634232088923454,...  \n",
       "1  [-0.008319429121911526, 0.0013667173916473985,...  \n",
       "2  [-0.042908210307359695, -0.018993420526385307,...  \n",
       "3  [-0.007930373772978783, -0.0221870094537735, 0...  \n",
       "4  [-0.020153459161520004, -0.044797133654356, 0....  "
      ]
     },
     "execution_count": 3,
     "metadata": {},
     "output_type": "execute_result"
    }
   ],
   "source": [
    "news = pd.read_csv(\"embeddings/news_emb_TEST.csv\") #document with user interactions\n",
    "news.head()"
   ]
  },
  {
   "cell_type": "code",
   "execution_count": 4,
   "metadata": {},
   "outputs": [],
   "source": [
    "# Create a dictionary with user interactions\n",
    "user_dict = {}\n",
    "for index, row in users.iterrows():\n",
    "    user = row['User']\n",
    "    interactions = row['Interactions_emb']\n",
    "    user_dict[user] = ('Content', interactions)\n",
    "\n",
    "for user, (content, embeddings_str) in user_dict.items():\n",
    "    # Check for empty string before converting to float\n",
    "    embeddings_list = [float(value) if value.strip() else 0.0 for value in embeddings_str.strip('[]').split(',')]\n",
    "    user_dict[user] = (content, embeddings_list)\n"
   ]
  },
  {
   "cell_type": "code",
   "execution_count": 5,
   "metadata": {},
   "outputs": [],
   "source": [
    "def print_recommendations_for_user(\n",
    "    user_id: str,\n",
    "    users_dict: dict,\n",
    ") -> pd.DataFrame:\n",
    "    user_embeddings = []\n",
    "    user_articles_embeddings = users_dict[user_id][1]\n",
    "    user_embeddings_np = np.array(user_articles_embeddings)\n",
    "    user_embeddings = user_embeddings_np.tolist()\n",
    "\n",
    "    content_dictionary = []\n",
    "    for key in users_dict.keys():\n",
    "        content_dictionary.append(users_dict[key][1])\n",
    "\n",
    "    # Assume you have the following functions imported from embeddings_utils.py\n",
    "    distances = distances_from_embeddings(user_embeddings, content_dictionary, distance_metric=\"cosine\")\n",
    "    indices_of_nearest_neighbors = indices_of_nearest_neighbors_from_distances(distances)\n",
    "\n",
    "    user_keys = list(users_dict.keys())  # Fixed a typo: users_dict instead of user_dict\n",
    "    selected_user_keys = []\n",
    "    selected_distances = []\n",
    "\n",
    "    for i in indices_of_nearest_neighbors:\n",
    "        if 0 <= i < len(user_keys) and distances[i] != 0:\n",
    "            user_key = user_keys[i]\n",
    "            selected_user_keys.append(user_key)\n",
    "            selected_distances.append(distances[i])\n",
    "\n",
    "    # Creating a DataFrame\n",
    "    result_df = pd.DataFrame({\n",
    "        'User': selected_user_keys,\n",
    "        'distance': selected_distances\n",
    "    })\n",
    "\n",
    "    return result_df"
   ]
  },
  {
   "cell_type": "code",
   "execution_count": 6,
   "metadata": {},
   "outputs": [],
   "source": [
    "#create list with interacted items for a particular user\n",
    "def user_list(user_id, df):\n",
    "    user_list = df.loc[df['User'] == user_id, 'ID'].tolist()\n",
    "    if len(user_list) > 0:\n",
    "        return user_list[0].split()\n",
    "    else:\n",
    "        return []"
   ]
  },
  {
   "cell_type": "code",
   "execution_count": 7,
   "metadata": {},
   "outputs": [],
   "source": [
    "def print_article_recommendations(user_id):\n",
    "    recommendations = print_recommendations_for_user(user_id, user_dict)\n",
    "    collab_recommender = pd.merge(recommendations, users, on='User', how='left')\n",
    "    collab_recommender = collab_recommender.drop(['Interactions_emb'], axis=1)\n",
    "    \n",
    "    collab_recommender['ID'] = collab_recommender['ID'].str.split()\n",
    "    collab_recommender = collab_recommender.explode('ID')\n",
    "\n",
    "    article_distances = collab_recommender.groupby('ID').agg({'distance': np.sum}).reset_index()\n",
    "    article_users = collab_recommender.groupby('ID')['User'].apply(list).reset_index()\n",
    "\n",
    "    article_distances_users = pd.merge(article_distances, article_users, on='ID', how='left')\n",
    "    article_distances_users['N_users'] = article_distances_users['User'].apply(len)\n",
    "    article_distances_users['article_distance'] = article_distances_users['distance'] / article_distances_users['N_users']\n",
    "\n",
    "    collab_final = pd.merge(news, article_distances_users[['ID', 'article_distance']], on='ID', how='left')\n",
    "    collab_final = collab_final.drop(['Content_emb', 'Category', 'SubCategory', 'Content'], axis=1)\n",
    "    \n",
    "    collab_final['article_distance'].fillna(1, inplace=True)  # Replace NaN with 1\n",
    "    collab_final = collab_final.sort_values(by='article_distance', ascending=True, na_position='last')\n",
    "    \n",
    "    # Delete the rows with articles read by the considered user \n",
    "    mask = collab_final['ID'].isin(user_list(user_id, users))\n",
    "\n",
    "    # Invert the mask to keep the rows that are not in the list\n",
    "    collab_rec = collab_final[~mask]\n",
    "    \n",
    "    return collab_rec\n"
   ]
  },
  {
   "attachments": {},
   "cell_type": "markdown",
   "metadata": {},
   "source": [
    "Saving recommendations for each user"
   ]
  },
  {
   "cell_type": "code",
   "execution_count": 8,
   "metadata": {},
   "outputs": [],
   "source": [
    "# Assuming you have a DataFrame named 'users' with a 'User' column\n",
    "users_list = users['User'].tolist()"
   ]
  },
  {
   "cell_type": "code",
   "execution_count": 11,
   "metadata": {},
   "outputs": [],
   "source": [
    "def user_list(user_id, df):\n",
    "    user_list = df.loc[df['User'] == user_id, 'ID'].tolist()\n",
    "    if len(user_list) > 0:\n",
    "        user_id_str = str(user_list[0])  # Convert to string\n",
    "        return user_id_str.split()\n",
    "    else:\n",
    "        return []\n"
   ]
  },
  {
   "cell_type": "code",
   "execution_count": 13,
   "metadata": {},
   "outputs": [
    {
     "name": "stderr",
     "output_type": "stream",
     "text": [
      "/var/folders/h4/f5hd6zx11cx06rjlqc74y84r0000gn/T/ipykernel_26254/3277011525.py:9: FutureWarning: The provided callable <function sum at 0x10d5acb80> is currently using SeriesGroupBy.sum. In a future version of pandas, the provided callable will be used directly. To keep current behavior pass the string \"sum\" instead.\n",
      "  article_distances = collab_recommender.groupby('ID').agg({'distance': np.sum}).reset_index()\n",
      "/var/folders/h4/f5hd6zx11cx06rjlqc74y84r0000gn/T/ipykernel_26254/3277011525.py:19: FutureWarning: A value is trying to be set on a copy of a DataFrame or Series through chained assignment using an inplace method.\n",
      "The behavior will change in pandas 3.0. This inplace method will never work because the intermediate object on which we are setting values always behaves as a copy.\n",
      "\n",
      "For example, when doing 'df[col].method(value, inplace=True)', try using 'df.method({col: value}, inplace=True)' or df[col] = df[col].method(value) instead, to perform the operation inplace on the original object.\n",
      "\n",
      "\n",
      "  collab_final['article_distance'].fillna(1, inplace=True)  # Replace NaN with 1\n",
      "/var/folders/h4/f5hd6zx11cx06rjlqc74y84r0000gn/T/ipykernel_26254/3277011525.py:9: FutureWarning: The provided callable <function sum at 0x10d5acb80> is currently using SeriesGroupBy.sum. In a future version of pandas, the provided callable will be used directly. To keep current behavior pass the string \"sum\" instead.\n",
      "  article_distances = collab_recommender.groupby('ID').agg({'distance': np.sum}).reset_index()\n",
      "/var/folders/h4/f5hd6zx11cx06rjlqc74y84r0000gn/T/ipykernel_26254/3277011525.py:19: FutureWarning: A value is trying to be set on a copy of a DataFrame or Series through chained assignment using an inplace method.\n",
      "The behavior will change in pandas 3.0. This inplace method will never work because the intermediate object on which we are setting values always behaves as a copy.\n",
      "\n",
      "For example, when doing 'df[col].method(value, inplace=True)', try using 'df.method({col: value}, inplace=True)' or df[col] = df[col].method(value) instead, to perform the operation inplace on the original object.\n",
      "\n",
      "\n",
      "  collab_final['article_distance'].fillna(1, inplace=True)  # Replace NaN with 1\n",
      "/var/folders/h4/f5hd6zx11cx06rjlqc74y84r0000gn/T/ipykernel_26254/3277011525.py:9: FutureWarning: The provided callable <function sum at 0x10d5acb80> is currently using SeriesGroupBy.sum. In a future version of pandas, the provided callable will be used directly. To keep current behavior pass the string \"sum\" instead.\n",
      "  article_distances = collab_recommender.groupby('ID').agg({'distance': np.sum}).reset_index()\n",
      "/var/folders/h4/f5hd6zx11cx06rjlqc74y84r0000gn/T/ipykernel_26254/3277011525.py:19: FutureWarning: A value is trying to be set on a copy of a DataFrame or Series through chained assignment using an inplace method.\n",
      "The behavior will change in pandas 3.0. This inplace method will never work because the intermediate object on which we are setting values always behaves as a copy.\n",
      "\n",
      "For example, when doing 'df[col].method(value, inplace=True)', try using 'df.method({col: value}, inplace=True)' or df[col] = df[col].method(value) instead, to perform the operation inplace on the original object.\n",
      "\n",
      "\n",
      "  collab_final['article_distance'].fillna(1, inplace=True)  # Replace NaN with 1\n"
     ]
    }
   ],
   "source": [
    "for i in users_list:\n",
    "    #Example usage\n",
    "    recommendations = print_article_recommendations(user_id=i)\n",
    "    recommendations.to_csv('collaborative_recommendations' + i + '_collab.csv', index=False)"
   ]
  }
 ],
 "metadata": {
  "kernelspec": {
   "display_name": "Python 3",
   "language": "python",
   "name": "python3"
  },
  "language_info": {
   "codemirror_mode": {
    "name": "ipython",
    "version": 3
   },
   "file_extension": ".py",
   "mimetype": "text/x-python",
   "name": "python",
   "nbconvert_exporter": "python",
   "pygments_lexer": "ipython3",
   "version": "3.10.10"
  },
  "orig_nbformat": 4
 },
 "nbformat": 4,
 "nbformat_minor": 2
}
