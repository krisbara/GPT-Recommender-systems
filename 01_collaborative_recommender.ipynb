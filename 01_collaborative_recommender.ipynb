{
 "cells": [
  {
   "cell_type": "code",
   "execution_count": 1,
   "metadata": {},
   "outputs": [],
   "source": [
    "# imports\n",
    "import pandas as pd\n",
    "import openai\n",
    "from typing import List\n",
    "import numpy as np\n",
    "from openai.embeddings_utils import distances_from_embeddings, indices_of_nearest_neighbors_from_distances\n",
    "from collections import Counter\n",
    "import os"
   ]
  },
  {
   "cell_type": "code",
   "execution_count": 18,
   "metadata": {},
   "outputs": [
    {
     "data": {
      "text/html": [
       "<div>\n",
       "<style scoped>\n",
       "    .dataframe tbody tr th:only-of-type {\n",
       "        vertical-align: middle;\n",
       "    }\n",
       "\n",
       "    .dataframe tbody tr th {\n",
       "        vertical-align: top;\n",
       "    }\n",
       "\n",
       "    .dataframe thead th {\n",
       "        text-align: right;\n",
       "    }\n",
       "</style>\n",
       "<table border=\"1\" class=\"dataframe\">\n",
       "  <thead>\n",
       "    <tr style=\"text-align: right;\">\n",
       "      <th></th>\n",
       "      <th>User</th>\n",
       "      <th>ID</th>\n",
       "      <th>Interactions_emb</th>\n",
       "    </tr>\n",
       "  </thead>\n",
       "  <tbody>\n",
       "    <tr>\n",
       "      <th>0</th>\n",
       "      <td>U244</td>\n",
       "      <td>N17157 N38621 N35022 N50578 N264 N9120 N23907 ...</td>\n",
       "      <td>[-0.005149974951877837, -0.013250857458654631,...</td>\n",
       "    </tr>\n",
       "    <tr>\n",
       "      <th>1</th>\n",
       "      <td>U68369</td>\n",
       "      <td>N19381 N54536</td>\n",
       "      <td>[0.0025621717686590273, 0.004183989018201828, ...</td>\n",
       "    </tr>\n",
       "    <tr>\n",
       "      <th>2</th>\n",
       "      <td>U50236</td>\n",
       "      <td>N4020 N44292 N50292 N40772 N57737 N33969 N4054...</td>\n",
       "      <td>[-0.010138329240492436, -0.01179651383115145, ...</td>\n",
       "    </tr>\n",
       "    <tr>\n",
       "      <th>3</th>\n",
       "      <td>U77060</td>\n",
       "      <td>N23105 N41375</td>\n",
       "      <td>[-0.005568941123783588, -0.025914330035448074,...</td>\n",
       "    </tr>\n",
       "    <tr>\n",
       "      <th>4</th>\n",
       "      <td>U5596</td>\n",
       "      <td>N459 N56253 N62931 N55846 N29849 N45729 N62834...</td>\n",
       "      <td>[-0.012533644353970886, -0.011675744312297967,...</td>\n",
       "    </tr>\n",
       "  </tbody>\n",
       "</table>\n",
       "</div>"
      ],
      "text/plain": [
       "     User                                                 ID  \\\n",
       "0    U244  N17157 N38621 N35022 N50578 N264 N9120 N23907 ...   \n",
       "1  U68369                                      N19381 N54536   \n",
       "2  U50236  N4020 N44292 N50292 N40772 N57737 N33969 N4054...   \n",
       "3  U77060                                      N23105 N41375   \n",
       "4   U5596  N459 N56253 N62931 N55846 N29849 N45729 N62834...   \n",
       "\n",
       "                                    Interactions_emb  \n",
       "0  [-0.005149974951877837, -0.013250857458654631,...  \n",
       "1  [0.0025621717686590273, 0.004183989018201828, ...  \n",
       "2  [-0.010138329240492436, -0.01179651383115145, ...  \n",
       "3  [-0.005568941123783588, -0.025914330035448074,...  \n",
       "4  [-0.012533644353970886, -0.011675744312297967,...  "
      ]
     },
     "execution_count": 18,
     "metadata": {},
     "output_type": "execute_result"
    }
   ],
   "source": [
    "users = pd.read_csv(\"embeddings/users_filtered_final.csv\") #document with user interactions\n",
    "users.head()"
   ]
  },
  {
   "cell_type": "code",
   "execution_count": 19,
   "metadata": {},
   "outputs": [
    {
     "data": {
      "text/html": [
       "<div>\n",
       "<style scoped>\n",
       "    .dataframe tbody tr th:only-of-type {\n",
       "        vertical-align: middle;\n",
       "    }\n",
       "\n",
       "    .dataframe tbody tr th {\n",
       "        vertical-align: top;\n",
       "    }\n",
       "\n",
       "    .dataframe thead th {\n",
       "        text-align: right;\n",
       "    }\n",
       "</style>\n",
       "<table border=\"1\" class=\"dataframe\">\n",
       "  <thead>\n",
       "    <tr style=\"text-align: right;\">\n",
       "      <th></th>\n",
       "      <th>ID</th>\n",
       "      <th>Category</th>\n",
       "      <th>SubCategory</th>\n",
       "      <th>Content</th>\n",
       "      <th>Content_emb</th>\n",
       "    </tr>\n",
       "  </thead>\n",
       "  <tbody>\n",
       "    <tr>\n",
       "      <th>0</th>\n",
       "      <td>N55528</td>\n",
       "      <td>lifestyle</td>\n",
       "      <td>lifestyleroyals</td>\n",
       "      <td>The Brands Queen Elizabeth, Prince Charles, an...</td>\n",
       "      <td>[0.005885085556656122, -0.007782096974551678, ...</td>\n",
       "    </tr>\n",
       "    <tr>\n",
       "      <th>1</th>\n",
       "      <td>N19639</td>\n",
       "      <td>health</td>\n",
       "      <td>weightloss</td>\n",
       "      <td>50 Worst Habits For Belly Fat These seemingly ...</td>\n",
       "      <td>[-0.004876355174928904, -0.007969613187015057,...</td>\n",
       "    </tr>\n",
       "    <tr>\n",
       "      <th>2</th>\n",
       "      <td>N61837</td>\n",
       "      <td>news</td>\n",
       "      <td>newsworld</td>\n",
       "      <td>The Cost of Trump's Aid Freeze in the Trenches...</td>\n",
       "      <td>[-0.02760046347975731, -0.013719998300075531, ...</td>\n",
       "    </tr>\n",
       "    <tr>\n",
       "      <th>3</th>\n",
       "      <td>N53526</td>\n",
       "      <td>health</td>\n",
       "      <td>voices</td>\n",
       "      <td>I Was An NBA Wife. Here's How It Affected My M...</td>\n",
       "      <td>[-0.0297758337110281, -0.014837449416518211, 0...</td>\n",
       "    </tr>\n",
       "    <tr>\n",
       "      <th>4</th>\n",
       "      <td>N38324</td>\n",
       "      <td>health</td>\n",
       "      <td>medical</td>\n",
       "      <td>How to Get Rid of Skin Tags, According to a De...</td>\n",
       "      <td>[0.005073545966297388, 0.004160495940595865, 0...</td>\n",
       "    </tr>\n",
       "  </tbody>\n",
       "</table>\n",
       "</div>"
      ],
      "text/plain": [
       "       ID   Category      SubCategory  \\\n",
       "0  N55528  lifestyle  lifestyleroyals   \n",
       "1  N19639     health       weightloss   \n",
       "2  N61837       news        newsworld   \n",
       "3  N53526     health           voices   \n",
       "4  N38324     health          medical   \n",
       "\n",
       "                                             Content  \\\n",
       "0  The Brands Queen Elizabeth, Prince Charles, an...   \n",
       "1  50 Worst Habits For Belly Fat These seemingly ...   \n",
       "2  The Cost of Trump's Aid Freeze in the Trenches...   \n",
       "3  I Was An NBA Wife. Here's How It Affected My M...   \n",
       "4  How to Get Rid of Skin Tags, According to a De...   \n",
       "\n",
       "                                         Content_emb  \n",
       "0  [0.005885085556656122, -0.007782096974551678, ...  \n",
       "1  [-0.004876355174928904, -0.007969613187015057,...  \n",
       "2  [-0.02760046347975731, -0.013719998300075531, ...  \n",
       "3  [-0.0297758337110281, -0.014837449416518211, 0...  \n",
       "4  [0.005073545966297388, 0.004160495940595865, 0...  "
      ]
     },
     "execution_count": 19,
     "metadata": {},
     "output_type": "execute_result"
    }
   ],
   "source": [
    "news = pd.read_csv(\"embeddings/news_emb_final.csv\") #document with user interactions\n",
    "news.head()"
   ]
  },
  {
   "cell_type": "code",
   "execution_count": 20,
   "metadata": {},
   "outputs": [],
   "source": [
    "# Create a dictionary with user interactions\n",
    "user_dict = {}\n",
    "for index, row in users.iterrows():\n",
    "    user = row['User']\n",
    "    interactions = row['Interactions_emb']\n",
    "    user_dict[user] = ('Content', interactions)\n",
    "\n",
    "for user, (content, embeddings_str) in user_dict.items():\n",
    "    # Check for empty string before converting to float\n",
    "    embeddings_list = [float(value) if value.strip() else 0.0 for value in embeddings_str.strip('[]').split(',')]\n",
    "    user_dict[user] = (content, embeddings_list)\n"
   ]
  },
  {
   "cell_type": "code",
   "execution_count": 21,
   "metadata": {},
   "outputs": [],
   "source": [
    "def print_recommendations_for_user(\n",
    "    user_id: str,\n",
    "    users_dict: dict,\n",
    ") -> pd.DataFrame:\n",
    "    user_embeddings = []\n",
    "    user_articles_embeddings = users_dict[user_id][1]\n",
    "    user_embeddings_np = np.array(user_articles_embeddings)\n",
    "    user_embeddings = user_embeddings_np.tolist()\n",
    "\n",
    "    content_dictionary = []\n",
    "    for key in users_dict.keys():\n",
    "        content_dictionary.append(users_dict[key][1])\n",
    "\n",
    "    # Assume you have the following functions imported from embeddings_utils.py\n",
    "    distances = distances_from_embeddings(user_embeddings, content_dictionary, distance_metric=\"cosine\")\n",
    "    indices_of_nearest_neighbors = indices_of_nearest_neighbors_from_distances(distances)\n",
    "\n",
    "    user_keys = list(users_dict.keys())  # Fixed a typo: users_dict instead of user_dict\n",
    "    selected_user_keys = []\n",
    "    selected_distances = []\n",
    "\n",
    "    for i in indices_of_nearest_neighbors:\n",
    "        if 0 <= i < len(user_keys) and distances[i] != 0:\n",
    "            user_key = user_keys[i]\n",
    "            selected_user_keys.append(user_key)\n",
    "            selected_distances.append(distances[i])\n",
    "\n",
    "    # Creating a DataFrame\n",
    "    result_df = pd.DataFrame({\n",
    "        'User': selected_user_keys,\n",
    "        'distance': selected_distances\n",
    "    })\n",
    "\n",
    "    return result_df"
   ]
  },
  {
   "cell_type": "code",
   "execution_count": 22,
   "metadata": {},
   "outputs": [],
   "source": [
    "#create list with interacted items for a particular user\n",
    "def user_list(user_id, df):\n",
    "    user_list = df.loc[df['User'] == user_id, 'ID'].tolist()\n",
    "    if len(user_list) > 0:\n",
    "        return user_list[0].split()\n",
    "    else:\n",
    "        return []"
   ]
  },
  {
   "cell_type": "code",
   "execution_count": 23,
   "metadata": {},
   "outputs": [],
   "source": [
    "def print_article_recommendations(user_id):\n",
    "    recommendations = print_recommendations_for_user(user_id, user_dict)\n",
    "    collab_recommender = pd.merge(recommendations, users, on='User', how='left')\n",
    "    collab_recommender = collab_recommender.drop(['Interactions_emb'], axis=1)\n",
    "    \n",
    "    collab_recommender['ID'] = collab_recommender['ID'].str.split()\n",
    "    collab_recommender = collab_recommender.explode('ID')\n",
    "\n",
    "    article_distances = collab_recommender.groupby('ID').agg({'distance': np.sum}).reset_index()\n",
    "    article_users = collab_recommender.groupby('ID')['User'].apply(list).reset_index()\n",
    "\n",
    "    article_distances_users = pd.merge(article_distances, article_users, on='ID', how='left')\n",
    "    article_distances_users['N_users'] = article_distances_users['User'].apply(len)\n",
    "    article_distances_users['article_distance'] = article_distances_users['distance'] / article_distances_users['N_users']\n",
    "\n",
    "    collab_final = pd.merge(news, article_distances_users[['ID', 'article_distance']], on='ID', how='left')\n",
    "    collab_final = collab_final.drop(['Content_emb', 'Category', 'SubCategory', 'Content'], axis=1)\n",
    "    \n",
    "    collab_final['article_distance'].fillna(1, inplace=True)  # Replace NaN with 1\n",
    "    collab_final = collab_final.sort_values(by='article_distance', ascending=True, na_position='last')\n",
    "    \n",
    "    # Delete the rows with articles read by the considered user \n",
    "    mask = collab_final['ID'].isin(user_list(user_id, users))\n",
    "\n",
    "    # Invert the mask to keep the rows that are not in the list\n",
    "    collab_rec = collab_final[~mask]\n",
    "    \n",
    "    return collab_rec\n"
   ]
  },
  {
   "attachments": {},
   "cell_type": "markdown",
   "metadata": {},
   "source": [
    "Saving recommendations for each user"
   ]
  },
  {
   "cell_type": "code",
   "execution_count": 24,
   "metadata": {},
   "outputs": [
    {
     "data": {
      "text/plain": [
       "49945"
      ]
     },
     "execution_count": 24,
     "metadata": {},
     "output_type": "execute_result"
    }
   ],
   "source": [
    "# Assuming you have a DataFrame named 'users' with a 'User' column\n",
    "users_list = users['User'].tolist()\n",
    "len(users_list)"
   ]
  },
  {
   "cell_type": "code",
   "execution_count": 25,
   "metadata": {},
   "outputs": [],
   "source": [
    "# Calculate the size of each part\n",
    "part_size = len(users_list) // 3\n",
    "\n",
    "# Divide the list into three parts\n",
    "part1 = users_list[:part_size]\n",
    "part2 = users_list[part_size:2*part_size]\n",
    "part3 = users_list[2*part_size:]"
   ]
  },
  {
   "cell_type": "code",
   "execution_count": 26,
   "metadata": {},
   "outputs": [],
   "source": [
    "mypart = part1"
   ]
  },
  {
   "cell_type": "code",
   "execution_count": 27,
   "metadata": {},
   "outputs": [],
   "source": [
    "# # Calculate the number of unique users in df\n",
    "# num_unique_users = users['User'].nunique()\n",
    "\n",
    "# print(\"Number of unique users:\", num_unique_users)"
   ]
  },
  {
   "cell_type": "code",
   "execution_count": 3,
   "metadata": {},
   "outputs": [],
   "source": [
    "def list_ids_in_folder(folder_path):\n",
    "    ids = set()\n",
    "    \n",
    "    for filename in os.listdir(folder_path):\n",
    "        if filename.endswith(\".csv\"):\n",
    "            # Extracting the ID from the filename\n",
    "            file_id = filename.split(\"_\")[0][1:]\n",
    "            ids.add(file_id)\n",
    "    \n",
    "    return list(ids)\n"
   ]
  },
  {
   "cell_type": "code",
   "execution_count": 4,
   "metadata": {},
   "outputs": [
    {
     "data": {
      "text/plain": [
       "33296"
      ]
     },
     "execution_count": 4,
     "metadata": {},
     "output_type": "execute_result"
    }
   ],
   "source": [
    "folder_path = 'collaborative_recommendations'\n",
    "ids_list = list_ids_in_folder(folder_path)\n",
    "ids_list = ['U' + num for num in ids_list]\n",
    "len(ids_list)"
   ]
  },
  {
   "cell_type": "code",
   "execution_count": 30,
   "metadata": {},
   "outputs": [
    {
     "data": {
      "text/plain": [
       "0"
      ]
     },
     "execution_count": 30,
     "metadata": {},
     "output_type": "execute_result"
    }
   ],
   "source": [
    "set2 = set(ids_list)\n",
    "rest_users = [item for item in mypart if item.strip() not in set2]\n",
    "len(rest_users)"
   ]
  },
  {
   "cell_type": "code",
   "execution_count": 31,
   "metadata": {},
   "outputs": [],
   "source": [
    "def user_list(user_id, df):\n",
    "    user_list = df.loc[df['User'] == user_id, 'ID'].tolist()\n",
    "    if len(user_list) > 0:\n",
    "        user_id_str = str(user_list[0])  # Convert to string\n",
    "        return user_id_str.split()\n",
    "    else:\n",
    "        return []\n"
   ]
  },
  {
   "cell_type": "code",
   "execution_count": 32,
   "metadata": {},
   "outputs": [],
   "source": [
    "for i in rest_users:\n",
    "    #Example usage\n",
    "    recommendations = print_article_recommendations(user_id=i)\n",
    "    recommendations.to_csv('collaborative_recommendations/' + i + '_collab.csv', index=False)"
   ]
  }
 ],
 "metadata": {
  "kernelspec": {
   "display_name": "Python 3",
   "language": "python",
   "name": "python3"
  },
  "language_info": {
   "codemirror_mode": {
    "name": "ipython",
    "version": 3
   },
   "file_extension": ".py",
   "mimetype": "text/x-python",
   "name": "python",
   "nbconvert_exporter": "python",
   "pygments_lexer": "ipython3",
   "version": "3.10.7"
  },
  "orig_nbformat": 4
 },
 "nbformat": 4,
 "nbformat_minor": 2
}
