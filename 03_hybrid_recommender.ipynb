{
 "cells": [
  {
   "cell_type": "code",
   "execution_count": 28,
   "metadata": {},
   "outputs": [],
   "source": [
    "# imports\n",
    "import pandas as pd\n",
    "import os\n",
    "import numpy as np\n",
    "from collections import Counter"
   ]
  },
  {
   "cell_type": "code",
   "execution_count": 24,
   "metadata": {},
   "outputs": [],
   "source": [
    "def print_hybrid_recommendations (user_id):\n",
    "    collab_rec = pd.read_csv(\"collaborative_recommendations/\" + user_id + \"_collab.csv\")\n",
    "    content_rec = pd.read_csv(\"content_recommendations/\" + user_id + \"_content.csv\")\n",
    "    # Create a dictionary mapping IDs to new column values from df2\n",
    "    \n",
    "    merged_df = pd.merge(collab_rec, content_rec, on='ID', how='inner')\n",
    "    merged_df['hybrid'] = merged_df[['article_distance', 'Distance']].mean(axis=1)\n",
    "\n",
    "    hybrid_df = merged_df.drop(['article_distance', 'Distance'], axis=1)\n",
    "    \n",
    "    return hybrid_df"
   ]
  },
  {
   "cell_type": "code",
   "execution_count": 25,
   "metadata": {},
   "outputs": [
    {
     "data": {
      "text/html": [
       "<div>\n",
       "<style scoped>\n",
       "    .dataframe tbody tr th:only-of-type {\n",
       "        vertical-align: middle;\n",
       "    }\n",
       "\n",
       "    .dataframe tbody tr th {\n",
       "        vertical-align: top;\n",
       "    }\n",
       "\n",
       "    .dataframe thead th {\n",
       "        text-align: right;\n",
       "    }\n",
       "</style>\n",
       "<table border=\"1\" class=\"dataframe\">\n",
       "  <thead>\n",
       "    <tr style=\"text-align: right;\">\n",
       "      <th></th>\n",
       "      <th>ID</th>\n",
       "      <th>hybrid</th>\n",
       "    </tr>\n",
       "  </thead>\n",
       "  <tbody>\n",
       "    <tr>\n",
       "      <th>0</th>\n",
       "      <td>N24371</td>\n",
       "      <td>0.092464</td>\n",
       "    </tr>\n",
       "    <tr>\n",
       "      <th>1</th>\n",
       "      <td>N168</td>\n",
       "      <td>0.095686</td>\n",
       "    </tr>\n",
       "    <tr>\n",
       "      <th>2</th>\n",
       "      <td>N39296</td>\n",
       "      <td>0.092266</td>\n",
       "    </tr>\n",
       "    <tr>\n",
       "      <th>3</th>\n",
       "      <td>N30688</td>\n",
       "      <td>0.083575</td>\n",
       "    </tr>\n",
       "    <tr>\n",
       "      <th>4</th>\n",
       "      <td>N64022</td>\n",
       "      <td>0.087623</td>\n",
       "    </tr>\n",
       "    <tr>\n",
       "      <th>...</th>\n",
       "      <td>...</td>\n",
       "      <td>...</td>\n",
       "    </tr>\n",
       "    <tr>\n",
       "      <th>51266</th>\n",
       "      <td>N29448</td>\n",
       "      <td>0.588102</td>\n",
       "    </tr>\n",
       "    <tr>\n",
       "      <th>51267</th>\n",
       "      <td>N60365</td>\n",
       "      <td>0.579945</td>\n",
       "    </tr>\n",
       "    <tr>\n",
       "      <th>51268</th>\n",
       "      <td>N6538</td>\n",
       "      <td>0.583331</td>\n",
       "    </tr>\n",
       "    <tr>\n",
       "      <th>51269</th>\n",
       "      <td>N18399</td>\n",
       "      <td>0.590628</td>\n",
       "    </tr>\n",
       "    <tr>\n",
       "      <th>51270</th>\n",
       "      <td>N44276</td>\n",
       "      <td>0.577998</td>\n",
       "    </tr>\n",
       "  </tbody>\n",
       "</table>\n",
       "<p>51271 rows × 2 columns</p>\n",
       "</div>"
      ],
      "text/plain": [
       "           ID    hybrid\n",
       "0      N24371  0.092464\n",
       "1        N168  0.095686\n",
       "2      N39296  0.092266\n",
       "3      N30688  0.083575\n",
       "4      N64022  0.087623\n",
       "...       ...       ...\n",
       "51266  N29448  0.588102\n",
       "51267  N60365  0.579945\n",
       "51268   N6538  0.583331\n",
       "51269  N18399  0.590628\n",
       "51270  N44276  0.577998\n",
       "\n",
       "[51271 rows x 2 columns]"
      ]
     },
     "execution_count": 25,
     "metadata": {},
     "output_type": "execute_result"
    }
   ],
   "source": [
    "print_hybrid_recommendations(\"U2\")"
   ]
  },
  {
   "attachments": {},
   "cell_type": "markdown",
   "metadata": {},
   "source": [
    "Saving recommendations for each user"
   ]
  },
  {
   "cell_type": "code",
   "execution_count": 29,
   "metadata": {},
   "outputs": [],
   "source": [
    "def list_ids_in_folder(folder_path):\n",
    "    ids = set()\n",
    "    \n",
    "    for filename in os.listdir(folder_path):\n",
    "        if filename.endswith(\".csv\"):\n",
    "            # Extracting the ID from the filename\n",
    "            file_id = filename.split(\"_\")[0][1:]\n",
    "            ids.add(file_id)\n",
    "    \n",
    "    ids = ['U' + num for num in ids]       \n",
    "    \n",
    "    return list(ids)"
   ]
  },
  {
   "cell_type": "code",
   "execution_count": 40,
   "metadata": {},
   "outputs": [],
   "source": [
    "folder_path = 'content_recommendations'\n",
    "users_list = list_ids_in_folder(folder_path)\n",
    "ready_list = list_ids_in_folder(\"hybrid_recommendations\")"
   ]
  },
  {
   "cell_type": "code",
   "execution_count": 41,
   "metadata": {},
   "outputs": [
    {
     "data": {
      "text/plain": [
       "10058"
      ]
     },
     "execution_count": 41,
     "metadata": {},
     "output_type": "execute_result"
    }
   ],
   "source": [
    "rest_users = [item for item in users_list if item.strip() not in ready_list]\n",
    "len(rest_users)"
   ]
  },
  {
   "cell_type": "code",
   "execution_count": 42,
   "metadata": {},
   "outputs": [],
   "source": [
    "for i in rest_users:\n",
    "    try:\n",
    "        recommendations = print_hybrid_recommendations(user_id=i)\n",
    "        recommendations.to_csv('hybrid_recommendations/' + i + '_hybrid.csv', index=False)\n",
    "    except pd.errors.EmptyDataError:\n",
    "        print(f\"No data found for user {i}. Skipping...\")\n"
   ]
  }
 ],
 "metadata": {
  "kernelspec": {
   "display_name": "Python 3",
   "language": "python",
   "name": "python3"
  },
  "language_info": {
   "codemirror_mode": {
    "name": "ipython",
    "version": 3
   },
   "file_extension": ".py",
   "mimetype": "text/x-python",
   "name": "python",
   "nbconvert_exporter": "python",
   "pygments_lexer": "ipython3",
   "version": "3.10.7"
  },
  "orig_nbformat": 4
 },
 "nbformat": 4,
 "nbformat_minor": 2
}
