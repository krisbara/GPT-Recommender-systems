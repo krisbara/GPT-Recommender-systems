{
 "cells": [
  {
   "cell_type": "code",
   "execution_count": 11,
   "metadata": {},
   "outputs": [],
   "source": [
    "import pandas as pd\n",
    "import openai\n",
    "from openai.embeddings_utils import get_embedding\n",
    "import os"
   ]
  },
  {
   "cell_type": "code",
   "execution_count": 12,
   "metadata": {},
   "outputs": [],
   "source": [
    "openai.api_key = \"key\""
   ]
  },
  {
   "cell_type": "code",
   "execution_count": null,
   "metadata": {},
   "outputs": [],
   "source": [
    "#load the data with news articles\n",
    "news = pd.read_csv(\"MIND/news.tsv\", sep='\\t', header=None) #document with news description\n",
    "news.columns =['ID', 'Category', 'SubCategory', 'Title', 'Abstract', 'URL', 'Title Entities', 'Abstract Entities']\n",
    "news['Content'] = news['Title'].fillna('') + ' ' + news['Abstract'].fillna('')\n",
    "news = news.drop(['URL', 'Title Entities', 'Abstract Entities', 'Title', 'Abstract'], axis=1)\n",
    "news.head()"
   ]
  },
  {
   "cell_type": "code",
   "execution_count": null,
   "metadata": {},
   "outputs": [],
   "source": [
    "#function transforms the values of column from text into embeddings\n",
    "def hashable_column(column_value):\n",
    "    if isinstance(column_value, dict):\n",
    "        hashable_items = []\n",
    "        \n",
    "        for key, value in column_value.items():\n",
    "            if key == 'Content':\n",
    "                # Convert 'Content' value to embedding\n",
    "                value = get_embedding(value, engine=\"text-embedding-ada-002\")\n",
    "            elif isinstance(value, dict):\n",
    "                value = hashable_column(value)\n",
    "            elif isinstance(value, list):\n",
    "                print(\"Unhashable list value at key:\", key, \"with value:\", value)\n",
    "            elif isinstance(value, str):\n",
    "                value = value.replace(\"\\n\", \" \")\n",
    "            hashable_items.append((key, value))\n",
    "        return tuple(sorted(hashable_items))\n",
    "    else:\n",
    "        if isinstance(column_value, str):\n",
    "            return get_embedding(column_value, engine=\"text-embedding-ada-002\")\n",
    "        else:\n",
    "            return column_value"
   ]
  },
  {
   "cell_type": "code",
   "execution_count": null,
   "metadata": {},
   "outputs": [],
   "source": [
    "#save news embeddings \n",
    "news['Content_emb'] = news['Content'].apply(hashable_column)\n",
    "news.to_csv('embeddings/news_emb_final.csv', index=False)"
   ]
  },
  {
   "cell_type": "code",
   "execution_count": null,
   "metadata": {},
   "outputs": [],
   "source": [
    "news = pd.read_csv(\"embeddings/news_emb_final.csv\") #document with news content\n",
    "news.head()"
   ]
  }
 ],
 "metadata": {
  "kernelspec": {
   "display_name": "Python 3",
   "language": "python",
   "name": "python3"
  },
  "language_info": {
   "codemirror_mode": {
    "name": "ipython",
    "version": 3
   },
   "file_extension": ".py",
   "mimetype": "text/x-python",
   "name": "python",
   "nbconvert_exporter": "python",
   "pygments_lexer": "ipython3",
   "version": "3.10.10"
  },
  "orig_nbformat": 4
 },
 "nbformat": 4,
 "nbformat_minor": 2
}
