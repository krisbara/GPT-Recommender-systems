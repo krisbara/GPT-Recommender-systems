{
 "cells": [
  {
   "attachments": {},
   "cell_type": "markdown",
   "metadata": {},
   "source": [
    "---Sentiment analysis---\n",
    "The script conducts sentiment analysis of news articles in the MIND dataset. It takes the PerSenT dataset for training, where articles are marked as postive, negative, or neutral, and applies this classification to the MIND articles. The classification is based on OpenAI's embeddings (text-embedding-ada-002). \n"
   ]
  },
  {
   "cell_type": "code",
   "execution_count": 2,
   "metadata": {},
   "outputs": [],
   "source": [
    "# imports\n",
    "import pandas as pd\n",
    "import openai\n",
    "import numpy as np\n",
    "from sklearn.ensemble import RandomForestClassifier\n",
    "from sklearn.model_selection import train_test_split\n",
    "from sklearn.metrics import classification_report, accuracy_score\n",
    "from ast import literal_eval"
   ]
  },
  {
   "cell_type": "code",
   "execution_count": 159,
   "metadata": {},
   "outputs": [
    {
     "data": {
      "text/html": [
       "<div>\n",
       "<style scoped>\n",
       "    .dataframe tbody tr th:only-of-type {\n",
       "        vertical-align: middle;\n",
       "    }\n",
       "\n",
       "    .dataframe tbody tr th {\n",
       "        vertical-align: top;\n",
       "    }\n",
       "\n",
       "    .dataframe thead th {\n",
       "        text-align: right;\n",
       "    }\n",
       "</style>\n",
       "<table border=\"1\" class=\"dataframe\">\n",
       "  <thead>\n",
       "    <tr style=\"text-align: right;\">\n",
       "      <th></th>\n",
       "      <th>DOCUMENT</th>\n",
       "      <th>TRUE_SENTIMENT</th>\n",
       "    </tr>\n",
       "  </thead>\n",
       "  <tbody>\n",
       "    <tr>\n",
       "      <th>0</th>\n",
       "      <td>Germany's Landesbank Baden Wuertemberg won EU ...</td>\n",
       "      <td>Negative</td>\n",
       "    </tr>\n",
       "    <tr>\n",
       "      <th>1</th>\n",
       "      <td>The Philippine National Police (PNP) identifie...</td>\n",
       "      <td>Neutral</td>\n",
       "    </tr>\n",
       "    <tr>\n",
       "      <th>2</th>\n",
       "      <td>Sirleaf  70  acknowledged before the commissio...</td>\n",
       "      <td>Negative</td>\n",
       "    </tr>\n",
       "    <tr>\n",
       "      <th>3</th>\n",
       "      <td>Sawyer logged off and asked her sister  Mari  ...</td>\n",
       "      <td>Neutral</td>\n",
       "    </tr>\n",
       "    <tr>\n",
       "      <th>4</th>\n",
       "      <td>Candi Holyfield said in the protective order t...</td>\n",
       "      <td>Neutral</td>\n",
       "    </tr>\n",
       "  </tbody>\n",
       "</table>\n",
       "</div>"
      ],
      "text/plain": [
       "                                            DOCUMENT TRUE_SENTIMENT\n",
       "0  Germany's Landesbank Baden Wuertemberg won EU ...       Negative\n",
       "1  The Philippine National Police (PNP) identifie...        Neutral\n",
       "2  Sirleaf  70  acknowledged before the commissio...       Negative\n",
       "3  Sawyer logged off and asked her sister  Mari  ...        Neutral\n",
       "4  Candi Holyfield said in the protective order t...        Neutral"
      ]
     },
     "execution_count": 159,
     "metadata": {},
     "output_type": "execute_result"
    }
   ],
   "source": [
    "# load data \n",
    "sent_train = pd.read_csv(\"sentiment_analysis/PerSenT/train.csv\")\n",
    "df = sent_train.drop(['DOCUMENT_INDEX', 'TARGET_ENTITY', 'TITLE', 'MASKED_DOCUMENT', 'Paragraph0', 'Paragraph1', 'Paragraph2', 'Paragraph3', 'Paragraph4', 'Paragraph5', 'Paragraph6', 'Paragraph7', 'Paragraph8', 'Paragraph9', 'Paragraph10', 'Paragraph11', 'Paragraph12', 'Paragraph13', 'Paragraph14', 'Paragraph15'], axis=1)\n",
    "df.head()"
   ]
  },
  {
   "cell_type": "code",
   "execution_count": 173,
   "metadata": {},
   "outputs": [
    {
     "name": "stdout",
     "output_type": "stream",
     "text": [
      "                                               DOCUMENT TRUE_SENTIMENT\n",
      "0     Germany's Landesbank Baden Wuertemberg won EU ...       Negative\n",
      "2     Sirleaf  70  acknowledged before the commissio...       Negative\n",
      "10    But could it be that U.S. Sen. Ted Cruz of Tex...       Negative\n",
      "11    Soldiers will stop and check all motorists pas...       Negative\n",
      "14    The cartoon caused a storm when the Times publ...       Negative\n",
      "...                                                 ...            ...\n",
      "3408  4. Geert Wilders Hate Speech Trials\\nThe most ...       Negative\n",
      "3409  Meanwhile  the city is still dealing with the ...       Negative\n",
      "3410  Weâll get to the merits of the charges and c...       Negative\n",
      "3411  Russia âs president Vladimir Putin  wanted t...       Negative\n",
      "3412  All five living former US presidents are teami...       Negative\n",
      "\n",
      "[409 rows x 2 columns]\n"
     ]
    }
   ],
   "source": [
    "negative_rows = df[df['TRUE_SENTIMENT'] == 'Negative']\n",
    "print(negative_rows)"
   ]
  },
  {
   "cell_type": "code",
   "execution_count": 174,
   "metadata": {},
   "outputs": [
    {
     "name": "stdout",
     "output_type": "stream",
     "text": [
      "                                               DOCUMENT TRUE_SENTIMENT\n",
      "8     Rukodelnikova is fond of a lot things from Chi...       Positive\n",
      "13    The first team of women who summit Mt. Qomolan...       Positive\n",
      "18    The funding would subsidize tourist agencies o...       Positive\n",
      "23    Sheikh Ahmad  who is tasked with implementing ...       Positive\n",
      "26    This week actor Paul McGann stood amid the dir...       Positive\n",
      "...                                                 ...            ...\n",
      "3338  A complicated era is over.  Carmelo Anthony  f...       Positive\n",
      "3342  Kara Alaimo  an assistant professor of public ...       Positive\n",
      "3345  Carmelo Anthony  stepped off a private jet Sun...       Positive\n",
      "3347  Pittsburgh Steelers offensive tackle Alejandro...       Positive\n",
      "3353  What is known for sure about  American militar...       Positive\n",
      "\n",
      "[1758 rows x 2 columns]\n"
     ]
    }
   ],
   "source": [
    "positive_rows = df[df['TRUE_SENTIMENT'] == 'Positive']\n",
    "print(positive_rows)"
   ]
  },
  {
   "cell_type": "code",
   "execution_count": 190,
   "metadata": {},
   "outputs": [
    {
     "data": {
      "text/html": [
       "<div>\n",
       "<style scoped>\n",
       "    .dataframe tbody tr th:only-of-type {\n",
       "        vertical-align: middle;\n",
       "    }\n",
       "\n",
       "    .dataframe tbody tr th {\n",
       "        vertical-align: top;\n",
       "    }\n",
       "\n",
       "    .dataframe thead th {\n",
       "        text-align: right;\n",
       "    }\n",
       "</style>\n",
       "<table border=\"1\" class=\"dataframe\">\n",
       "  <thead>\n",
       "    <tr style=\"text-align: right;\">\n",
       "      <th></th>\n",
       "      <th>DOCUMENT</th>\n",
       "      <th>TRUE_SENTIMENT</th>\n",
       "    </tr>\n",
       "  </thead>\n",
       "  <tbody>\n",
       "    <tr>\n",
       "      <th>0</th>\n",
       "      <td>Germany's Landesbank Baden Wuertemberg won EU ...</td>\n",
       "      <td>Negative</td>\n",
       "    </tr>\n",
       "    <tr>\n",
       "      <th>1</th>\n",
       "      <td>The Philippine National Police (PNP) identifie...</td>\n",
       "      <td>Neutral</td>\n",
       "    </tr>\n",
       "    <tr>\n",
       "      <th>2</th>\n",
       "      <td>Sirleaf  70  acknowledged before the commissio...</td>\n",
       "      <td>Negative</td>\n",
       "    </tr>\n",
       "    <tr>\n",
       "      <th>3</th>\n",
       "      <td>Sawyer logged off and asked her sister  Mari  ...</td>\n",
       "      <td>Neutral</td>\n",
       "    </tr>\n",
       "    <tr>\n",
       "      <th>4</th>\n",
       "      <td>Candi Holyfield said in the protective order t...</td>\n",
       "      <td>Neutral</td>\n",
       "    </tr>\n",
       "  </tbody>\n",
       "</table>\n",
       "</div>"
      ],
      "text/plain": [
       "                                            DOCUMENT TRUE_SENTIMENT\n",
       "0  Germany's Landesbank Baden Wuertemberg won EU ...       Negative\n",
       "1  The Philippine National Police (PNP) identifie...        Neutral\n",
       "2  Sirleaf  70  acknowledged before the commissio...       Negative\n",
       "3  Sawyer logged off and asked her sister  Mari  ...        Neutral\n",
       "4  Candi Holyfield said in the protective order t...        Neutral"
      ]
     },
     "execution_count": 190,
     "metadata": {},
     "output_type": "execute_result"
    }
   ],
   "source": [
    "sent_train = pd.read_csv(\"sentiment_analysis/PerSenT/train_bal.csv\", sep = ';')\n",
    "df = sent_train.drop(['DOCUMENT_INDEX', 'TARGET_ENTITY', 'TITLE', 'MASKED_DOCUMENT', 'Paragraph0', 'Paragraph1', 'Paragraph2', 'Paragraph3', 'Paragraph4', 'Paragraph5', 'Paragraph6', 'Paragraph7', 'Paragraph8', 'Paragraph9', 'Paragraph10', 'Paragraph11', 'Paragraph12', 'Paragraph13', 'Paragraph14', 'Paragraph15'], axis=1)\n",
    "df.head()"
   ]
  },
  {
   "cell_type": "code",
   "execution_count": 191,
   "metadata": {},
   "outputs": [
    {
     "name": "stdout",
     "output_type": "stream",
     "text": [
      "                                               DOCUMENT TRUE_SENTIMENT\n",
      "8     Rukodelnikova is fond of a lot things from Chi...       Positive\n",
      "13    The first team of women who summit Mt. Qomolan...       Positive\n",
      "18    The funding would subsidize tourist agencies o...       Positive\n",
      "23    Sheikh Ahmad  who is tasked with implementing ...       Positive\n",
      "26    This week actor Paul McGann stood amid the dir...       Positive\n",
      "...                                                 ...            ...\n",
      "3408  4. Geert Wilders Hate Speech Trials\\nThe most ...       Negative\n",
      "3409  Meanwhile  the city is still dealing with the ...       Negative\n",
      "3410  Weâll get to the merits of the charges and c...       Negative\n",
      "3411  Russia âs president Vladimir Putin  wanted t...       Negative\n",
      "3412  All five living former US presidents are teami...       Negative\n",
      "\n",
      "[2155 rows x 2 columns]\n"
     ]
    }
   ],
   "source": [
    "# Keep only 500 rows where TRUE_SENTIMENT is \"Positive\"\n",
    "positive_rows = df[df['TRUE_SENTIMENT'] == 'Positive'].head(500)\n",
    "\n",
    "# Keep the rest of the DataFrame unchanged\n",
    "other_rows = df[df['TRUE_SENTIMENT'] != 'Positive']\n",
    "\n",
    "# Concatenate the two parts to get the final DataFrame\n",
    "df = pd.concat([positive_rows, other_rows])\n",
    "\n",
    "# Display the final DataFrame\n",
    "print(df)"
   ]
  },
  {
   "cell_type": "code",
   "execution_count": 193,
   "metadata": {},
   "outputs": [
    {
     "name": "stdout",
     "output_type": "stream",
     "text": [
      "Classification Report:\n",
      "               precision    recall  f1-score   support\n",
      "\n",
      "    Negative       0.43      0.03      0.06        88\n",
      "     Neutral       0.56      0.98      0.71       237\n",
      "    Positive       0.83      0.05      0.09       106\n",
      "\n",
      "    accuracy                           0.56       431\n",
      "   macro avg       0.61      0.35      0.29       431\n",
      "weighted avg       0.60      0.56      0.42       431\n",
      "\n"
     ]
    }
   ],
   "source": [
    "import pandas as pd\n",
    "from sklearn.model_selection import train_test_split\n",
    "from sklearn.feature_extraction.text import TfidfVectorizer\n",
    "from sklearn.svm import SVC\n",
    "from sklearn.metrics import classification_report\n",
    "\n",
    "# Vectorize the text using TF-IDF\n",
    "vectorizer = TfidfVectorizer()\n",
    "X = vectorizer.fit_transform(df['DOCUMENT'])\n",
    "\n",
    "# Encode labels\n",
    "y = df['TRUE_SENTIMENT']\n",
    "\n",
    "# Split the data into training and testing sets\n",
    "X_train, X_test, y_train, y_test = train_test_split(X, y, test_size=0.2, random_state=8)\n",
    "\n",
    "\n",
    "# Initialize the SVM classifier with class weights\n",
    "classifier = SVC(kernel='sigmoid')\n",
    "\n",
    "# Train the classifier\n",
    "classifier.fit(X_train, y_train)\n",
    "\n",
    "# Make predictions on the test set\n",
    "predictions = classifier.predict(X_test)\n",
    "\n",
    "# Evaluate the classifier\n",
    "report = classification_report(y_test, predictions)\n",
    "\n",
    "print(\"Classification Report:\\n\", report)\n"
   ]
  }
 ],
 "metadata": {
  "kernelspec": {
   "display_name": "Python 3",
   "language": "python",
   "name": "python3"
  },
  "language_info": {
   "codemirror_mode": {
    "name": "ipython",
    "version": 3
   },
   "file_extension": ".py",
   "mimetype": "text/x-python",
   "name": "python",
   "nbconvert_exporter": "python",
   "pygments_lexer": "ipython3",
   "version": "3.10.7"
  },
  "orig_nbformat": 4
 },
 "nbformat": 4,
 "nbformat_minor": 2
}
